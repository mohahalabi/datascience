{
 "cells": [
  {
   "cell_type": "code",
   "execution_count": 1,
   "metadata": {},
   "outputs": [
    {
     "data": {
      "text/html": [
       "        <script type=\"text/javascript\">\n",
       "        window.PlotlyConfig = {MathJaxConfig: 'local'};\n",
       "        if (window.MathJax) {MathJax.Hub.Config({SVG: {font: \"STIX-Web\"}});}\n",
       "        if (typeof require !== 'undefined') {\n",
       "        require.undef(\"plotly\");\n",
       "        requirejs.config({\n",
       "            paths: {\n",
       "                'plotly': ['https://cdn.plot.ly/plotly-latest.min']\n",
       "            }\n",
       "        });\n",
       "        require(['plotly'], function(Plotly) {\n",
       "            window._Plotly = Plotly;\n",
       "        });\n",
       "        }\n",
       "        </script>\n",
       "        "
      ]
     },
     "metadata": {},
     "output_type": "display_data"
    },
    {
     "name": "stdout",
     "output_type": "stream",
     "text": [
      "4967 osservazioni (crashes) e 17 attributi\n"
     ]
    }
   ],
   "source": [
    "# Carichiamo il dataset e visualizziamo qualcosa\n",
    "import pandas as pd\n",
    "import numpy as np\n",
    "import plotly.offline as py\n",
    "import plotly.graph_objs as go\n",
    "from matplotlib import pyplot as plt\n",
    "import datetime\n",
    "\n",
    "import warnings\n",
    "warnings.filterwarnings(\"ignore\", category=UserWarning)\n",
    "\n",
    "py.init_notebook_mode(connected=True)\n",
    "\n",
    "dataset = pd.read_csv(\"Airplane_Crashes_and_Fatalities_Since_1908_20190820105639.csv\")\n",
    "np.random.seed(42) \n",
    "obs, feat = dataset.shape\n",
    "dataset.sample(5)\n",
    "print(str(str(obs) + \" osservazioni (crashes) e \" + str(feat) + \" attributi\"))"
   ]
  },
  {
   "cell_type": "code",
   "execution_count": 2,
   "metadata": {},
   "outputs": [
    {
     "data": {
      "text/html": [
       "<div>\n",
       "<style scoped>\n",
       "    .dataframe tbody tr th:only-of-type {\n",
       "        vertical-align: middle;\n",
       "    }\n",
       "\n",
       "    .dataframe tbody tr th {\n",
       "        vertical-align: top;\n",
       "    }\n",
       "\n",
       "    .dataframe thead th {\n",
       "        text-align: right;\n",
       "    }\n",
       "</style>\n",
       "<table border=\"1\" class=\"dataframe\">\n",
       "  <thead>\n",
       "    <tr style=\"text-align: right;\">\n",
       "      <th></th>\n",
       "      <th>Aboard</th>\n",
       "      <th>Aboard Passangers</th>\n",
       "      <th>Aboard Crew</th>\n",
       "      <th>Fatalities</th>\n",
       "      <th>Fatalities Passangers</th>\n",
       "      <th>Fatalities Crew</th>\n",
       "      <th>Ground</th>\n",
       "    </tr>\n",
       "  </thead>\n",
       "  <tbody>\n",
       "    <tr>\n",
       "      <th>count</th>\n",
       "      <td>4950.000000</td>\n",
       "      <td>4739.000000</td>\n",
       "      <td>4742.000000</td>\n",
       "      <td>4959.000000</td>\n",
       "      <td>4725.000000</td>\n",
       "      <td>4726.000000</td>\n",
       "      <td>4926.000000</td>\n",
       "    </tr>\n",
       "    <tr>\n",
       "      <th>mean</th>\n",
       "      <td>31.082626</td>\n",
       "      <td>26.893437</td>\n",
       "      <td>4.478912</td>\n",
       "      <td>22.338173</td>\n",
       "      <td>19.017566</td>\n",
       "      <td>3.579348</td>\n",
       "      <td>1.728177</td>\n",
       "    </tr>\n",
       "    <tr>\n",
       "      <th>std</th>\n",
       "      <td>45.435446</td>\n",
       "      <td>44.007432</td>\n",
       "      <td>3.489019</td>\n",
       "      <td>35.026176</td>\n",
       "      <td>34.114849</td>\n",
       "      <td>3.170223</td>\n",
       "      <td>55.708966</td>\n",
       "    </tr>\n",
       "    <tr>\n",
       "      <th>min</th>\n",
       "      <td>0.000000</td>\n",
       "      <td>0.000000</td>\n",
       "      <td>0.000000</td>\n",
       "      <td>0.000000</td>\n",
       "      <td>0.000000</td>\n",
       "      <td>0.000000</td>\n",
       "      <td>0.000000</td>\n",
       "    </tr>\n",
       "    <tr>\n",
       "      <th>25%</th>\n",
       "      <td>7.000000</td>\n",
       "      <td>3.000000</td>\n",
       "      <td>2.000000</td>\n",
       "      <td>4.000000</td>\n",
       "      <td>1.000000</td>\n",
       "      <td>2.000000</td>\n",
       "      <td>0.000000</td>\n",
       "    </tr>\n",
       "    <tr>\n",
       "      <th>50%</th>\n",
       "      <td>16.000000</td>\n",
       "      <td>12.000000</td>\n",
       "      <td>4.000000</td>\n",
       "      <td>11.000000</td>\n",
       "      <td>8.000000</td>\n",
       "      <td>3.000000</td>\n",
       "      <td>0.000000</td>\n",
       "    </tr>\n",
       "    <tr>\n",
       "      <th>75%</th>\n",
       "      <td>35.000000</td>\n",
       "      <td>30.000000</td>\n",
       "      <td>6.000000</td>\n",
       "      <td>25.000000</td>\n",
       "      <td>21.000000</td>\n",
       "      <td>5.000000</td>\n",
       "      <td>0.000000</td>\n",
       "    </tr>\n",
       "    <tr>\n",
       "      <th>max</th>\n",
       "      <td>644.000000</td>\n",
       "      <td>614.000000</td>\n",
       "      <td>61.000000</td>\n",
       "      <td>583.000000</td>\n",
       "      <td>560.000000</td>\n",
       "      <td>46.000000</td>\n",
       "      <td>2750.000000</td>\n",
       "    </tr>\n",
       "  </tbody>\n",
       "</table>\n",
       "</div>"
      ],
      "text/plain": [
       "            Aboard  Aboard Passangers  Aboard Crew   Fatalities  \\\n",
       "count  4950.000000        4739.000000  4742.000000  4959.000000   \n",
       "mean     31.082626          26.893437     4.478912    22.338173   \n",
       "std      45.435446          44.007432     3.489019    35.026176   \n",
       "min       0.000000           0.000000     0.000000     0.000000   \n",
       "25%       7.000000           3.000000     2.000000     4.000000   \n",
       "50%      16.000000          12.000000     4.000000    11.000000   \n",
       "75%      35.000000          30.000000     6.000000    25.000000   \n",
       "max     644.000000         614.000000    61.000000   583.000000   \n",
       "\n",
       "       Fatalities Passangers  Fatalities Crew       Ground  \n",
       "count            4725.000000      4726.000000  4926.000000  \n",
       "mean               19.017566         3.579348     1.728177  \n",
       "std                34.114849         3.170223    55.708966  \n",
       "min                 0.000000         0.000000     0.000000  \n",
       "25%                 1.000000         2.000000     0.000000  \n",
       "50%                 8.000000         3.000000     0.000000  \n",
       "75%                21.000000         5.000000     0.000000  \n",
       "max               560.000000        46.000000  2750.000000  "
      ]
     },
     "execution_count": 2,
     "metadata": {},
     "output_type": "execute_result"
    }
   ],
   "source": [
    "dataset.describe()"
   ]
  },
  {
   "cell_type": "code",
   "execution_count": 3,
   "metadata": {},
   "outputs": [],
   "source": [
    "# changing the datatype of \"Date\" column from string type to datetime datatype\n",
    "dataset[\"Date\"]= pd.to_datetime(dataset[\"Date\"])\n",
    "\n",
    "#changing the datatype of \"Time\" column from string to datetime format\n",
    "def make_datetime(x):\n",
    "    try: \n",
    "        return datetime.datetime.strptime(x, '%H:%M').time()\n",
    "    except:\n",
    "        return np.nan\n",
    "\n",
    "dataset[\"Time\"] = dataset[\"Time\"].apply(make_datetime)"
   ]
  },
  {
   "cell_type": "code",
   "execution_count": 4,
   "metadata": {},
   "outputs": [
    {
     "name": "stderr",
     "output_type": "stream",
     "text": [
      "C:\\Program Files\\Anaconda3\\lib\\site-packages\\ipykernel_launcher.py:10: SettingWithCopyWarning:\n",
      "\n",
      "\n",
      "A value is trying to be set on a copy of a slice from a DataFrame.\n",
      "Try using .loc[row_indexer,col_indexer] = value instead\n",
      "\n",
      "See the caveats in the documentation: http://pandas.pydata.org/pandas-docs/stable/indexing.html#indexing-view-versus-copy\n",
      "\n"
     ]
    }
   ],
   "source": [
    "# Extracting the year, month and day out of the Date column\n",
    "dataset[\"Year\"] = dataset[\"Date\"].apply(lambda x: x.year)\n",
    "dataset[\"Month\"] = dataset[\"Date\"].apply(lambda x: x.month)\n",
    "dataset[\"Day\"] = dataset[\"Date\"].apply(lambda x: x.day)\n",
    "\n",
    "# dropping null columns for this analysis\n",
    "dataset_time = dataset.dropna(subset=[\"Time\"])\n",
    "\n",
    "# Extracting the hour out of the time column\n",
    "dataset_time[\"Hour\"] = dataset_time[\"Time\"].apply(lambda x: x.hour)\n"
   ]
  },
  {
   "cell_type": "markdown",
   "metadata": {},
   "source": [
    "## 1.1  Incidenti aerei per anno, mese e giorno"
   ]
  },
  {
   "cell_type": "code",
   "execution_count": 5,
   "metadata": {},
   "outputs": [
    {
     "data": {
      "image/png": "[encoded data removed]",
      "text/plain": [
       "<Figure size 1080x1080 with 3 Axes>"
      ]
     },
     "metadata": {},
     "output_type": "display_data"
    }
   ],
   "source": [
    "import seaborn as sns\n",
    "sns.set(style=\"whitegrid\")\n",
    "sns.set_color_codes(\"pastel\")\n",
    "\n",
    "crashes_year = dataset[\"Year\"].value_counts().sort_index()\n",
    "crashes_hour = dataset_time[\"Hour\"].value_counts().sort_index()\n",
    "crashes_month = dataset[\"Month\"].value_counts().sort_index()\n",
    "\n",
    "#Crashes per year\n",
    "fig = plt.figure(figsize=(15,15))\n",
    "ax1 = fig.add_subplot(3,1,1)\n",
    "sns.barplot(x=crashes_year.index,y=crashes_year.values,ax=ax1,color='#1E90FF')\n",
    "ax1.set(ylabel=\"Crashes\",xlabel=\"Years\")\n",
    "ax1.set_title(\"Crashes per year\",fontsize=15)\n",
    "ax1.set_xticklabels(crashes_year.index,rotation=75,fontsize=9)\n",
    "\n",
    "#Crashes per month\n",
    "months = [\"January\",\"February\",\"March\",\"April\",\"May\", \"June\", \"July\",\"August\",\"September\",\"October\",\"November\",\"December\"]\n",
    "\n",
    "ax2 = fig.add_subplot(3,1,2)\n",
    "sns.barplot(x=crashes_month.index,y=crashes_month.values,ax=ax2,color='#1E90FF')\n",
    "ax2.set(ylabel=\"Crashes\",xlabel=\"Month\")\n",
    "ax2.set_title(\"Crashes in a month\",fontsize=15)\n",
    "ax2.set_xticklabels(months,fontsize=12)\n",
    "\n",
    "#Crashes per hour\n",
    "ax3 = fig.add_subplot(3,1,3)\n",
    "sns.barplot(x=crashes_hour.index,y=crashes_hour.values,ax=ax3,color='#1E90FF')\n",
    "ax3.set(ylabel=\"Crashes\",xlabel=\"Hour\")\n",
    "ax3.set_title(\"Crashes in a 24 hour day\",fontsize=15)\n",
    "ax3.set_xticklabels(crashes_hour.index,rotation=75,fontsize=9)\n",
    "\n",
    "\n",
    "plt.tight_layout(w_pad=4, h_pad=3)\n",
    "plt.show()"
   ]
  },
  {
   "cell_type": "markdown",
   "metadata": {},
   "source": [
    "#### Osservazioni\n",
    "\n",
    "* Declino del numero di incidenti a partire dall'anno 1990.\n",
    "\n",
    "* Dicembre è il mese con il più numero di incidenti verificati, seguito da gennaio.\n",
    "\n",
    "*  C'è un aumento del numero di incidenti man mano che il sole sorge e durante la giornata ed un calo del numero di incidenti al tramonto. Questo è un fenomeno molto interessante. La causa di questo potrebbe essere che c'è più traffico aereo durante il giorno rispetto alle ore serali e notturne?\n",
    "\n",
    "\n",
    "\n"
   ]
  },
  {
   "cell_type": "code",
   "execution_count": 6,
   "metadata": {},
   "outputs": [
    {
     "data": {
      "application/vnd.plotly.v1+json": {
       "config": {
        "linkText": "Export to plot.ly",
        "plotlyServerURL": "https://plot.ly",
        "showLink": false
       },
       "data": [
        {
         "mode": "lines+markers",
         "type": "scatter",
         "x": [
          1908,
          1909,
          1912,
          1913,
          1915,
          1916,
          1917,
          1918,
          1919,
          1920,
          1921,
          1922,
          1923,
          1924,
          1925,
          1926,
          1927,
          1928,
          1929,
          1930,
          1931,
          1932,
          1933,
          1934,
          1935,
          1936,
          1937,
          1938,
          1939,
          1940,
          1941,
          1942,
          1943,
          1944,
          1945,
          1946,
          1947,
          1948,
          1949,
          1950,
          1951,
          1952,
          1953,
          1954,
          1955,
          1956,
          1957,
          1958,
          1959,
          1960,
          1961,
          1962,
          1963,
          1964,
          1965,
          1966,
          1967,
          1968,
          1969,
          1970,
          1971,
          1972,
          1973,
          1974,
          1975,
          1976,
          1977,
          1978,
          1979,
          1980,
          1981,
          1982,
          1983,
          1984,
          1985,
          1986,
          1987,
          1988,
          1989,
          1990,
          1991,
          1992,
          1993,
          1994,
          1995,
          1996,
          1997,
          1998,
          1999,
          2000,
          2001,
          2002,
          2003,
          2004,
          2005,
          2006,
          2007,
          2008,
          2009,
          2010,
          2011,
          2012,
          2013,
          2014,
          2015,
          2016,
          2017,
          2018,
          2019
         ],
         "y": [
          1,
          1,
          1,
          3,
          2,
          5,
          7,
          4,
          9,
          18,
          12,
          13,
          13,
          7,
          11,
          13,
          20,
          36,
          39,
          26,
          33,
          28,
          28,
          31,
          41,
          50,
          34,
          56,
          30,
          25,
          27,
          38,
          44,
          56,
          74,
          88,
          82,
          77,
          67,
          69,
          75,
          65,
          69,
          61,
          57,
          53,
          66,
          68,
          66,
          70,
          60,
          77,
          61,
          55,
          62,
          59,
          58,
          65,
          69,
          73,
          58,
          77,
          64,
          58,
          51,
          57,
          63,
          51,
          60,
          45,
          50,
          54,
          48,
          48,
          56,
          50,
          54,
          64,
          83,
          61,
          69,
          66,
          56,
          74,
          60,
          68,
          56,
          59,
          62,
          63,
          58,
          55,
          62,
          46,
          45,
          38,
          43,
          50,
          46,
          40,
          36,
          26,
          25,
          23,
          18,
          23,
          15,
          16,
          9
         ]
        }
       ],
       "layout": {
        "font": {
         "size": 16
        },
        "template": {
         "data": {
          "bar": [
           {
            "error_x": {
             "color": "#2a3f5f"
            },
            "error_y": {
             "color": "#2a3f5f"
            },
            "marker": {
             "line": {
              "color": "#E5ECF6",
              "width": 0.5
             }
            },
            "type": "bar"
           }
          ],
          "barpolar": [
           {
            "marker": {
             "line": {
              "color": "#E5ECF6",
              "width": 0.5
             }
            },
            "type": "barpolar"
           }
          ],
          "carpet": [
           {
            "aaxis": {
             "endlinecolor": "#2a3f5f",
             "gridcolor": "white",
             "linecolor": "white",
             "minorgridcolor": "white",
             "startlinecolor": "#2a3f5f"
            },
            "baxis": {
             "endlinecolor": "#2a3f5f",
             "gridcolor": "white",
             "linecolor": "white",
             "minorgridcolor": "white",
             "startlinecolor": "#2a3f5f"
            },
            "type": "carpet"
           }
          ],
          "choropleth": [
           {
            "colorbar": {
             "outlinewidth": 0,
             "ticks": ""
            },
            "type": "choropleth"
           }
          ],
          "contour": [
           {
            "colorbar": {
             "outlinewidth": 0,
             "ticks": ""
            },
            "colorscale": [
             [
              0,
              "#0d0887"
             ],
             [
              0.1111111111111111,
              "#46039f"
             ],
             [
              0.2222222222222222,
              "#7201a8"
             ],
             [
              0.3333333333333333,
              "#9c179e"
             ],
             [
              0.4444444444444444,
              "#bd3786"
             ],
             [
              0.5555555555555556,
              "#d8576b"
             ],
             [
              0.6666666666666666,
              "#ed7953"
             ],
             [
              0.7777777777777778,
              "#fb9f3a"
             ],
             [
              0.8888888888888888,
              "#fdca26"
             ],
             [
              1,
              "#f0f921"
             ]
            ],
            "type": "contour"
           }
          ],
          "contourcarpet": [
           {
            "colorbar": {
             "outlinewidth": 0,
             "ticks": ""
            },
            "type": "contourcarpet"
           }
          ],
          "heatmap": [
           {
            "colorbar": {
             "outlinewidth": 0,
             "ticks": ""
            },
            "colorscale": [
             [
              0,
              "#0d0887"
             ],
             [
              0.1111111111111111,
              "#46039f"
             ],
             [
              0.2222222222222222,
              "#7201a8"
             ],
             [
              0.3333333333333333,
              "#9c179e"
             ],
             [
              0.4444444444444444,
              "#bd3786"
             ],
             [
              0.5555555555555556,
              "#d8576b"
             ],
             [
              0.6666666666666666,
              "#ed7953"
             ],
             [
              0.7777777777777778,
              "#fb9f3a"
             ],
             [
              0.8888888888888888,
              "#fdca26"
             ],
             [
              1,
              "#f0f921"
             ]
            ],
            "type": "heatmap"
           }
          ],
          "heatmapgl": [
           {
            "colorbar": {
             "outlinewidth": 0,
             "ticks": ""
            },
            "colorscale": [
             [
              0,
              "#0d0887"
             ],
             [
              0.1111111111111111,
              "#46039f"
             ],
             [
              0.2222222222222222,
              "#7201a8"
             ],
             [
              0.3333333333333333,
              "#9c179e"
             ],
             [
              0.4444444444444444,
              "#bd3786"
             ],
             [
              0.5555555555555556,
              "#d8576b"
             ],
             [
              0.6666666666666666,
              "#ed7953"
             ],
             [
              0.7777777777777778,
              "#fb9f3a"
             ],
             [
              0.8888888888888888,
              "#fdca26"
             ],
             [
              1,
              "#f0f921"
             ]
            ],
            "type": "heatmapgl"
           }
          ],
          "histogram": [
           {
            "marker": {
             "colorbar": {
              "outlinewidth": 0,
              "ticks": ""
             }
            },
            "type": "histogram"
           }
          ],
          "histogram2d": [
           {
            "colorbar": {
             "outlinewidth": 0,
             "ticks": ""
            },
            "colorscale": [
             [
              0,
              "#0d0887"
             ],
             [
              0.1111111111111111,
              "#46039f"
             ],
             [
              0.2222222222222222,
              "#7201a8"
             ],
             [
              0.3333333333333333,
              "#9c179e"
             ],
             [
              0.4444444444444444,
              "#bd3786"
             ],
             [
              0.5555555555555556,
              "#d8576b"
             ],
             [
              0.6666666666666666,
              "#ed7953"
             ],
             [
              0.7777777777777778,
              "#fb9f3a"
             ],
             [
              0.8888888888888888,
              "#fdca26"
             ],
             [
              1,
              "#f0f921"
             ]
            ],
            "type": "histogram2d"
           }
          ],
          "histogram2dcontour": [
           {
            "colorbar": {
             "outlinewidth": 0,
             "ticks": ""
            },
            "colorscale": [
             [
              0,
              "#0d0887"
             ],
             [
              0.1111111111111111,
              "#46039f"
             ],
             [
              0.2222222222222222,
              "#7201a8"
             ],
             [
              0.3333333333333333,
              "#9c179e"
             ],
             [
              0.4444444444444444,
              "#bd3786"
             ],
             [
              0.5555555555555556,
              "#d8576b"
             ],
             [
              0.6666666666666666,
              "#ed7953"
             ],
             [
              0.7777777777777778,
              "#fb9f3a"
             ],
             [
              0.8888888888888888,
              "#fdca26"
             ],
             [
              1,
              "#f0f921"
             ]
            ],
            "type": "histogram2dcontour"
           }
          ],
          "mesh3d": [
           {
            "colorbar": {
             "outlinewidth": 0,
             "ticks": ""
            },
            "type": "mesh3d"
           }
          ],
          "parcoords": [
           {
            "line": {
             "colorbar": {
              "outlinewidth": 0,
              "ticks": ""
             }
            },
            "type": "parcoords"
           }
          ],
          "scatter": [
           {
            "marker": {
             "colorbar": {
              "outlinewidth": 0,
              "ticks": ""
             }
            },
            "type": "scatter"
           }
          ],
          "scatter3d": [
           {
            "line": {
             "colorbar": {
              "outlinewidth": 0,
              "ticks": ""
             }
            },
            "marker": {
             "colorbar": {
              "outlinewidth": 0,
              "ticks": ""
             }
            },
            "type": "scatter3d"
           }
          ],
          "scattercarpet": [
           {
            "marker": {
             "colorbar": {
              "outlinewidth": 0,
              "ticks": ""
             }
            },
            "type": "scattercarpet"
           }
          ],
          "scattergeo": [
           {
            "marker": {
             "colorbar": {
              "outlinewidth": 0,
              "ticks": ""
             }
            },
            "type": "scattergeo"
           }
          ],
          "scattergl": [
           {
            "marker": {
             "colorbar": {
              "outlinewidth": 0,
              "ticks": ""
             }
            },
            "type": "scattergl"
           }
          ],
          "scattermapbox": [
           {
            "marker": {
             "colorbar": {
              "outlinewidth": 0,
              "ticks": ""
             }
            },
            "type": "scattermapbox"
           }
          ],
          "scatterpolar": [
           {
            "marker": {
             "colorbar": {
              "outlinewidth": 0,
              "ticks": ""
             }
            },
            "type": "scatterpolar"
           }
          ],
          "scatterpolargl": [
           {
            "marker": {
             "colorbar": {
              "outlinewidth": 0,
              "ticks": ""
             }
            },
            "type": "scatterpolargl"
           }
          ],
          "scatterternary": [
           {
            "marker": {
             "colorbar": {
              "outlinewidth": 0,
              "ticks": ""
             }
            },
            "type": "scatterternary"
           }
          ],
          "surface": [
           {
            "colorbar": {
             "outlinewidth": 0,
             "ticks": ""
            },
            "colorscale": [
             [
              0,
              "#0d0887"
             ],
             [
              0.1111111111111111,
              "#46039f"
             ],
             [
              0.2222222222222222,
              "#7201a8"
             ],
             [
              0.3333333333333333,
              "#9c179e"
             ],
             [
              0.4444444444444444,
              "#bd3786"
             ],
             [
              0.5555555555555556,
              "#d8576b"
             ],
             [
              0.6666666666666666,
              "#ed7953"
             ],
             [
              0.7777777777777778,
              "#fb9f3a"
             ],
             [
              0.8888888888888888,
              "#fdca26"
             ],
             [
              1,
              "#f0f921"
             ]
            ],
            "type": "surface"
           }
          ],
          "table": [
           {
            "cells": {
             "fill": {
              "color": "#EBF0F8"
             },
             "line": {
              "color": "white"
             }
            },
            "header": {
             "fill": {
              "color": "#C8D4E3"
             },
             "line": {
              "color": "white"
             }
            },
            "type": "table"
           }
          ]
         },
         "layout": {
          "annotationdefaults": {
           "arrowcolor": "#2a3f5f",
           "arrowhead": 0,
           "arrowwidth": 1
          },
          "colorscale": {
           "diverging": [
            [
             0,
             "#8e0152"
            ],
            [
             0.1,
             "#c51b7d"
            ],
            [
             0.2,
             "#de77ae"
            ],
            [
             0.3,
             "#f1b6da"
            ],
            [
             0.4,
             "#fde0ef"
            ],
            [
             0.5,
             "#f7f7f7"
            ],
            [
             0.6,
             "#e6f5d0"
            ],
            [
             0.7,
             "#b8e186"
            ],
            [
             0.8,
             "#7fbc41"
            ],
            [
             0.9,
             "#4d9221"
            ],
            [
             1,
             "#276419"
            ]
           ],
           "sequential": [
            [
             0,
             "#0d0887"
            ],
            [
             0.1111111111111111,
             "#46039f"
            ],
            [
             0.2222222222222222,
             "#7201a8"
            ],
            [
             0.3333333333333333,
             "#9c179e"
            ],
            [
             0.4444444444444444,
             "#bd3786"
            ],
            [
             0.5555555555555556,
             "#d8576b"
            ],
            [
             0.6666666666666666,
             "#ed7953"
            ],
            [
             0.7777777777777778,
             "#fb9f3a"
            ],
            [
             0.8888888888888888,
             "#fdca26"
            ],
            [
             1,
             "#f0f921"
            ]
           ],
           "sequentialminus": [
            [
             0,
             "#0d0887"
            ],
            [
             0.1111111111111111,
             "#46039f"
            ],
            [
             0.2222222222222222,
             "#7201a8"
            ],
            [
             0.3333333333333333,
             "#9c179e"
            ],
            [
             0.4444444444444444,
             "#bd3786"
            ],
            [
             0.5555555555555556,
             "#d8576b"
            ],
            [
             0.6666666666666666,
             "#ed7953"
            ],
            [
             0.7777777777777778,
             "#fb9f3a"
            ],
            [
             0.8888888888888888,
             "#fdca26"
            ],
            [
             1,
             "#f0f921"
            ]
           ]
          },
          "colorway": [
           "#636efa",
           "#EF553B",
           "#00cc96",
           "#ab63fa",
           "#FFA15A",
           "#19d3f3",
           "#FF6692",
           "#B6E880",
           "#FF97FF",
           "#FECB52"
          ],
          "font": {
           "color": "#2a3f5f"
          },
          "geo": {
           "bgcolor": "white",
           "lakecolor": "white",
           "landcolor": "#E5ECF6",
           "showlakes": true,
           "showland": true,
           "subunitcolor": "white"
          },
          "hoverlabel": {
           "align": "left"
          },
          "hovermode": "closest",
          "mapbox": {
           "style": "light"
          },
          "paper_bgcolor": "white",
          "plot_bgcolor": "#E5ECF6",
          "polar": {
           "angularaxis": {
            "gridcolor": "white",
            "linecolor": "white",
            "ticks": ""
           },
           "bgcolor": "#E5ECF6",
           "radialaxis": {
            "gridcolor": "white",
            "linecolor": "white",
            "ticks": ""
           }
          },
          "scene": {
           "xaxis": {
            "backgroundcolor": "#E5ECF6",
            "gridcolor": "white",
            "gridwidth": 2,
            "linecolor": "white",
            "showbackground": true,
            "ticks": "",
            "zerolinecolor": "white"
           },
           "yaxis": {
            "backgroundcolor": "#E5ECF6",
            "gridcolor": "white",
            "gridwidth": 2,
            "linecolor": "white",
            "showbackground": true,
            "ticks": "",
            "zerolinecolor": "white"
           },
           "zaxis": {
            "backgroundcolor": "#E5ECF6",
            "gridcolor": "white",
            "gridwidth": 2,
            "linecolor": "white",
            "showbackground": true,
            "ticks": "",
            "zerolinecolor": "white"
           }
          },
          "shapedefaults": {
           "line": {
            "color": "#2a3f5f"
           }
          },
          "ternary": {
           "aaxis": {
            "gridcolor": "white",
            "linecolor": "white",
            "ticks": ""
           },
           "baxis": {
            "gridcolor": "white",
            "linecolor": "white",
            "ticks": ""
           },
           "bgcolor": "#E5ECF6",
           "caxis": {
            "gridcolor": "white",
            "linecolor": "white",
            "ticks": ""
           }
          },
          "title": {
           "x": 0.05
          },
          "xaxis": {
           "automargin": true,
           "gridcolor": "white",
           "linecolor": "white",
           "ticks": "",
           "zerolinecolor": "white",
           "zerolinewidth": 2
          },
          "yaxis": {
           "automargin": true,
           "gridcolor": "white",
           "linecolor": "white",
           "ticks": "",
           "zerolinecolor": "white",
           "zerolinewidth": 2
          }
         }
        },
        "title": {
         "text": "Airplanes Crashes 1908 to 30-07-2019"
        },
        "xaxis": {
         "title": {
          "text": "Year"
         }
        },
        "yaxis": {
         "title": {
          "text": "Crashes"
         }
        }
       }
      },
      "text/html": [
       "<div>\n",
       "        \n",
       "        \n",
       "            <div id=\"eef8ea87-af55-419d-8364-8193f2109d60\" class=\"plotly-graph-div\" style=\"height:525px; width:100%;\"></div>\n",
       "            <script type=\"text/javascript\">\n",
       "                require([\"plotly\"], function(Plotly) {\n",
       "                    window.PLOTLYENV=window.PLOTLYENV || {};\n",
       "                    \n",
       "                if (document.getElementById(\"eef8ea87-af55-419d-8364-8193f2109d60\")) {\n",
       "                    Plotly.newPlot(\n",
       "                        'eef8ea87-af55-419d-8364-8193f2109d60',\n",
       "                        [{\"mode\": \"lines+markers\", \"type\": \"scatter\", \"x\": [1908, 1909, 1912, 1913, 1915, 1916, 1917, 1918, 1919, 1920, 1921, 1922, 1923, 1924, 1925, 1926, 1927, 1928, 1929, 1930, 1931, 1932, 1933, 1934, 1935, 1936, 1937, 1938, 1939, 1940, 1941, 1942, 1943, 1944, 1945, 1946, 1947, 1948, 1949, 1950, 1951, 1952, 1953, 1954, 1955, 1956, 1957, 1958, 1959, 1960, 1961, 1962, 1963, 1964, 1965, 1966, 1967, 1968, 1969, 1970, 1971, 1972, 1973, 1974, 1975, 1976, 1977, 1978, 1979, 1980, 1981, 1982, 1983, 1984, 1985, 1986, 1987, 1988, 1989, 1990, 1991, 1992, 1993, 1994, 1995, 1996, 1997, 1998, 1999, 2000, 2001, 2002, 2003, 2004, 2005, 2006, 2007, 2008, 2009, 2010, 2011, 2012, 2013, 2014, 2015, 2016, 2017, 2018, 2019], \"y\": [1, 1, 1, 3, 2, 5, 7, 4, 9, 18, 12, 13, 13, 7, 11, 13, 20, 36, 39, 26, 33, 28, 28, 31, 41, 50, 34, 56, 30, 25, 27, 38, 44, 56, 74, 88, 82, 77, 67, 69, 75, 65, 69, 61, 57, 53, 66, 68, 66, 70, 60, 77, 61, 55, 62, 59, 58, 65, 69, 73, 58, 77, 64, 58, 51, 57, 63, 51, 60, 45, 50, 54, 48, 48, 56, 50, 54, 64, 83, 61, 69, 66, 56, 74, 60, 68, 56, 59, 62, 63, 58, 55, 62, 46, 45, 38, 43, 50, 46, 40, 36, 26, 25, 23, 18, 23, 15, 16, 9]}],\n",
       "                        {\"font\": {\"size\": 16}, \"template\": {\"data\": {\"bar\": [{\"error_x\": {\"color\": \"#2a3f5f\"}, \"error_y\": {\"color\": \"#2a3f5f\"}, \"marker\": {\"line\": {\"color\": \"#E5ECF6\", \"width\": 0.5}}, \"type\": \"bar\"}], \"barpolar\": [{\"marker\": {\"line\": {\"color\": \"#E5ECF6\", \"width\": 0.5}}, \"type\": \"barpolar\"}], \"carpet\": [{\"aaxis\": {\"endlinecolor\": \"#2a3f5f\", \"gridcolor\": \"white\", \"linecolor\": \"white\", \"minorgridcolor\": \"white\", \"startlinecolor\": \"#2a3f5f\"}, \"baxis\": {\"endlinecolor\": \"#2a3f5f\", \"gridcolor\": \"white\", \"linecolor\": \"white\", \"minorgridcolor\": \"white\", \"startlinecolor\": \"#2a3f5f\"}, \"type\": \"carpet\"}], \"choropleth\": [{\"colorbar\": {\"outlinewidth\": 0, \"ticks\": \"\"}, \"type\": \"choropleth\"}], \"contour\": [{\"colorbar\": {\"outlinewidth\": 0, \"ticks\": \"\"}, \"colorscale\": [[0.0, \"#0d0887\"], [0.1111111111111111, \"#46039f\"], [0.2222222222222222, \"#7201a8\"], [0.3333333333333333, \"#9c179e\"], [0.4444444444444444, \"#bd3786\"], [0.5555555555555556, \"#d8576b\"], [0.6666666666666666, \"#ed7953\"], [0.7777777777777778, \"#fb9f3a\"], [0.8888888888888888, \"#fdca26\"], [1.0, \"#f0f921\"]], \"type\": \"contour\"}], \"contourcarpet\": [{\"colorbar\": {\"outlinewidth\": 0, \"ticks\": \"\"}, \"type\": \"contourcarpet\"}], \"heatmap\": [{\"colorbar\": {\"outlinewidth\": 0, \"ticks\": \"\"}, \"colorscale\": [[0.0, \"#0d0887\"], [0.1111111111111111, \"#46039f\"], [0.2222222222222222, \"#7201a8\"], [0.3333333333333333, \"#9c179e\"], [0.4444444444444444, \"#bd3786\"], [0.5555555555555556, \"#d8576b\"], [0.6666666666666666, \"#ed7953\"], [0.7777777777777778, \"#fb9f3a\"], [0.8888888888888888, \"#fdca26\"], [1.0, \"#f0f921\"]], \"type\": \"heatmap\"}], \"heatmapgl\": [{\"colorbar\": {\"outlinewidth\": 0, \"ticks\": \"\"}, \"colorscale\": [[0.0, \"#0d0887\"], [0.1111111111111111, \"#46039f\"], [0.2222222222222222, \"#7201a8\"], [0.3333333333333333, \"#9c179e\"], [0.4444444444444444, \"#bd3786\"], [0.5555555555555556, \"#d8576b\"], [0.6666666666666666, \"#ed7953\"], [0.7777777777777778, \"#fb9f3a\"], [0.8888888888888888, \"#fdca26\"], [1.0, \"#f0f921\"]], \"type\": \"heatmapgl\"}], \"histogram\": [{\"marker\": {\"colorbar\": {\"outlinewidth\": 0, \"ticks\": \"\"}}, \"type\": \"histogram\"}], \"histogram2d\": [{\"colorbar\": {\"outlinewidth\": 0, \"ticks\": \"\"}, \"colorscale\": [[0.0, \"#0d0887\"], [0.1111111111111111, \"#46039f\"], [0.2222222222222222, \"#7201a8\"], [0.3333333333333333, \"#9c179e\"], [0.4444444444444444, \"#bd3786\"], [0.5555555555555556, \"#d8576b\"], [0.6666666666666666, \"#ed7953\"], [0.7777777777777778, \"#fb9f3a\"], [0.8888888888888888, \"#fdca26\"], [1.0, \"#f0f921\"]], \"type\": \"histogram2d\"}], \"histogram2dcontour\": [{\"colorbar\": {\"outlinewidth\": 0, \"ticks\": \"\"}, \"colorscale\": [[0.0, \"#0d0887\"], [0.1111111111111111, \"#46039f\"], [0.2222222222222222, \"#7201a8\"], [0.3333333333333333, \"#9c179e\"], [0.4444444444444444, \"#bd3786\"], [0.5555555555555556, \"#d8576b\"], [0.6666666666666666, \"#ed7953\"], [0.7777777777777778, \"#fb9f3a\"], [0.8888888888888888, \"#fdca26\"], [1.0, \"#f0f921\"]], \"type\": \"histogram2dcontour\"}], \"mesh3d\": [{\"colorbar\": {\"outlinewidth\": 0, \"ticks\": \"\"}, \"type\": \"mesh3d\"}], \"parcoords\": [{\"line\": {\"colorbar\": {\"outlinewidth\": 0, \"ticks\": \"\"}}, \"type\": \"parcoords\"}], \"scatter\": [{\"marker\": {\"colorbar\": {\"outlinewidth\": 0, \"ticks\": \"\"}}, \"type\": \"scatter\"}], \"scatter3d\": [{\"line\": {\"colorbar\": {\"outlinewidth\": 0, \"ticks\": \"\"}}, \"marker\": {\"colorbar\": {\"outlinewidth\": 0, \"ticks\": \"\"}}, \"type\": \"scatter3d\"}], \"scattercarpet\": [{\"marker\": {\"colorbar\": {\"outlinewidth\": 0, \"ticks\": \"\"}}, \"type\": \"scattercarpet\"}], \"scattergeo\": [{\"marker\": {\"colorbar\": {\"outlinewidth\": 0, \"ticks\": \"\"}}, \"type\": \"scattergeo\"}], \"scattergl\": [{\"marker\": {\"colorbar\": {\"outlinewidth\": 0, \"ticks\": \"\"}}, \"type\": \"scattergl\"}], \"scattermapbox\": [{\"marker\": {\"colorbar\": {\"outlinewidth\": 0, \"ticks\": \"\"}}, \"type\": \"scattermapbox\"}], \"scatterpolar\": [{\"marker\": {\"colorbar\": {\"outlinewidth\": 0, \"ticks\": \"\"}}, \"type\": \"scatterpolar\"}], \"scatterpolargl\": [{\"marker\": {\"colorbar\": {\"outlinewidth\": 0, \"ticks\": \"\"}}, \"type\": \"scatterpolargl\"}], \"scatterternary\": [{\"marker\": {\"colorbar\": {\"outlinewidth\": 0, \"ticks\": \"\"}}, \"type\": \"scatterternary\"}], \"surface\": [{\"colorbar\": {\"outlinewidth\": 0, \"ticks\": \"\"}, \"colorscale\": [[0.0, \"#0d0887\"], [0.1111111111111111, \"#46039f\"], [0.2222222222222222, \"#7201a8\"], [0.3333333333333333, \"#9c179e\"], [0.4444444444444444, \"#bd3786\"], [0.5555555555555556, \"#d8576b\"], [0.6666666666666666, \"#ed7953\"], [0.7777777777777778, \"#fb9f3a\"], [0.8888888888888888, \"#fdca26\"], [1.0, \"#f0f921\"]], \"type\": \"surface\"}], \"table\": [{\"cells\": {\"fill\": {\"color\": \"#EBF0F8\"}, \"line\": {\"color\": \"white\"}}, \"header\": {\"fill\": {\"color\": \"#C8D4E3\"}, \"line\": {\"color\": \"white\"}}, \"type\": \"table\"}]}, \"layout\": {\"annotationdefaults\": {\"arrowcolor\": \"#2a3f5f\", \"arrowhead\": 0, \"arrowwidth\": 1}, \"colorscale\": {\"diverging\": [[0, \"#8e0152\"], [0.1, \"#c51b7d\"], [0.2, \"#de77ae\"], [0.3, \"#f1b6da\"], [0.4, \"#fde0ef\"], [0.5, \"#f7f7f7\"], [0.6, \"#e6f5d0\"], [0.7, \"#b8e186\"], [0.8, \"#7fbc41\"], [0.9, \"#4d9221\"], [1, \"#276419\"]], \"sequential\": [[0.0, \"#0d0887\"], [0.1111111111111111, \"#46039f\"], [0.2222222222222222, \"#7201a8\"], [0.3333333333333333, \"#9c179e\"], [0.4444444444444444, \"#bd3786\"], [0.5555555555555556, \"#d8576b\"], [0.6666666666666666, \"#ed7953\"], [0.7777777777777778, \"#fb9f3a\"], [0.8888888888888888, \"#fdca26\"], [1.0, \"#f0f921\"]], \"sequentialminus\": [[0.0, \"#0d0887\"], [0.1111111111111111, \"#46039f\"], [0.2222222222222222, \"#7201a8\"], [0.3333333333333333, \"#9c179e\"], [0.4444444444444444, \"#bd3786\"], [0.5555555555555556, \"#d8576b\"], [0.6666666666666666, \"#ed7953\"], [0.7777777777777778, \"#fb9f3a\"], [0.8888888888888888, \"#fdca26\"], [1.0, \"#f0f921\"]]}, \"colorway\": [\"#636efa\", \"#EF553B\", \"#00cc96\", \"#ab63fa\", \"#FFA15A\", \"#19d3f3\", \"#FF6692\", \"#B6E880\", \"#FF97FF\", \"#FECB52\"], \"font\": {\"color\": \"#2a3f5f\"}, \"geo\": {\"bgcolor\": \"white\", \"lakecolor\": \"white\", \"landcolor\": \"#E5ECF6\", \"showlakes\": true, \"showland\": true, \"subunitcolor\": \"white\"}, \"hoverlabel\": {\"align\": \"left\"}, \"hovermode\": \"closest\", \"mapbox\": {\"style\": \"light\"}, \"paper_bgcolor\": \"white\", \"plot_bgcolor\": \"#E5ECF6\", \"polar\": {\"angularaxis\": {\"gridcolor\": \"white\", \"linecolor\": \"white\", \"ticks\": \"\"}, \"bgcolor\": \"#E5ECF6\", \"radialaxis\": {\"gridcolor\": \"white\", \"linecolor\": \"white\", \"ticks\": \"\"}}, \"scene\": {\"xaxis\": {\"backgroundcolor\": \"#E5ECF6\", \"gridcolor\": \"white\", \"gridwidth\": 2, \"linecolor\": \"white\", \"showbackground\": true, \"ticks\": \"\", \"zerolinecolor\": \"white\"}, \"yaxis\": {\"backgroundcolor\": \"#E5ECF6\", \"gridcolor\": \"white\", \"gridwidth\": 2, \"linecolor\": \"white\", \"showbackground\": true, \"ticks\": \"\", \"zerolinecolor\": \"white\"}, \"zaxis\": {\"backgroundcolor\": \"#E5ECF6\", \"gridcolor\": \"white\", \"gridwidth\": 2, \"linecolor\": \"white\", \"showbackground\": true, \"ticks\": \"\", \"zerolinecolor\": \"white\"}}, \"shapedefaults\": {\"line\": {\"color\": \"#2a3f5f\"}}, \"ternary\": {\"aaxis\": {\"gridcolor\": \"white\", \"linecolor\": \"white\", \"ticks\": \"\"}, \"baxis\": {\"gridcolor\": \"white\", \"linecolor\": \"white\", \"ticks\": \"\"}, \"bgcolor\": \"#E5ECF6\", \"caxis\": {\"gridcolor\": \"white\", \"linecolor\": \"white\", \"ticks\": \"\"}}, \"title\": {\"x\": 0.05}, \"xaxis\": {\"automargin\": true, \"gridcolor\": \"white\", \"linecolor\": \"white\", \"ticks\": \"\", \"zerolinecolor\": \"white\", \"zerolinewidth\": 2}, \"yaxis\": {\"automargin\": true, \"gridcolor\": \"white\", \"linecolor\": \"white\", \"ticks\": \"\", \"zerolinecolor\": \"white\", \"zerolinewidth\": 2}}}, \"title\": {\"text\": \"Airplanes Crashes 1908 to 30-07-2019\"}, \"xaxis\": {\"title\": {\"text\": \"Year\"}}, \"yaxis\": {\"title\": {\"text\": \"Crashes\"}}},\n",
       "                        {\"responsive\": true}\n",
       "                    ).then(function(){\n",
       "                            \n",
       "var gd = document.getElementById('eef8ea87-af55-419d-8364-8193f2109d60');\n",
       "var x = new MutationObserver(function (mutations, observer) {{\n",
       "        var display = window.getComputedStyle(gd).display;\n",
       "        if (!display || display === 'none') {{\n",
       "            console.log([gd, 'removed!']);\n",
       "            Plotly.purge(gd);\n",
       "            observer.disconnect();\n",
       "        }}\n",
       "}});\n",
       "\n",
       "// Listen for the removal of the full notebook cells\n",
       "var notebookContainer = gd.closest('#notebook-container');\n",
       "if (notebookContainer) {{\n",
       "    x.observe(notebookContainer, {childList: true});\n",
       "}}\n",
       "\n",
       "// Listen for the clearing of the current output cell\n",
       "var outputEl = gd.closest('.output');\n",
       "if (outputEl) {{\n",
       "    x.observe(outputEl, {childList: true});\n",
       "}}\n",
       "\n",
       "                        })\n",
       "                };\n",
       "                });\n",
       "            </script>\n",
       "        </div>"
      ]
     },
     "metadata": {},
     "output_type": "display_data"
    }
   ],
   "source": [
    "data = [go.Scatter(x=crashes_year.index,\n",
    "                   y=crashes_year.values, \n",
    "                   mode = 'lines+markers'\n",
    "                   )]\n",
    "layout = go.Layout(title=\"Airplanes Crashes 1908 to 30-07-2019\",\n",
    "                   xaxis=dict(title=\"Year\",),\n",
    "                   yaxis=dict(title=\"Crashes\"),\n",
    "                   font=dict(size=16))\n",
    "fig = go.Figure(data, layout)\n",
    "py.iplot(fig)"
   ]
  },
  {
   "cell_type": "markdown",
   "metadata": {},
   "source": [
    "## 1.2 Incidenti aerei per anno, separati per incidenti militari e civili"
   ]
  },
  {
   "cell_type": "code",
   "execution_count": 7,
   "metadata": {
    "slideshow": {
     "slide_type": "-"
    }
   },
   "outputs": [
    {
     "data": {
      "application/vnd.plotly.v1+json": {
       "config": {
        "linkText": "Export to plot.ly",
        "plotlyServerURL": "https://plot.ly",
        "showLink": false
       },
       "data": [
        {
         "name": "Military",
         "type": "bar",
         "x": [
          1908,
          1912,
          1913,
          1915,
          1916,
          1917,
          1918,
          1921,
          1922,
          1923,
          1925,
          1929,
          1930,
          1933,
          1936,
          1938,
          1939,
          1940,
          1941,
          1942,
          1943,
          1944,
          1945,
          1946,
          1947,
          1948,
          1949,
          1950,
          1951,
          1952,
          1953,
          1954,
          1955,
          1956,
          1957,
          1958,
          1959,
          1960,
          1961,
          1962,
          1963,
          1964,
          1965,
          1966,
          1967,
          1968,
          1969,
          1970,
          1971,
          1972,
          1973,
          1974,
          1975,
          1976,
          1977,
          1978,
          1979,
          1980,
          1981,
          1982,
          1983,
          1984,
          1985,
          1986,
          1987,
          1988,
          1989,
          1990,
          1991,
          1992,
          1993,
          1994,
          1995,
          1996,
          1997,
          1998,
          1999,
          2000,
          2001,
          2002,
          2003,
          2004,
          2005,
          2006,
          2007,
          2008,
          2009,
          2010,
          2011,
          2012,
          2013,
          2014,
          2015,
          2016,
          2017,
          2018,
          2019
         ],
         "y": [
          1,
          1,
          2,
          2,
          5,
          6,
          3,
          2,
          1,
          1,
          1,
          1,
          1,
          1,
          1,
          1,
          1,
          1,
          2,
          9,
          16,
          20,
          46,
          26,
          13,
          3,
          7,
          13,
          14,
          16,
          9,
          11,
          7,
          7,
          7,
          15,
          1,
          11,
          9,
          11,
          8,
          7,
          13,
          7,
          7,
          11,
          6,
          11,
          8,
          9,
          3,
          3,
          7,
          6,
          12,
          3,
          3,
          10,
          12,
          12,
          8,
          9,
          10,
          13,
          10,
          11,
          13,
          11,
          11,
          13,
          7,
          9,
          10,
          13,
          10,
          8,
          8,
          11,
          7,
          12,
          8,
          4,
          8,
          12,
          5,
          7,
          7,
          7,
          3,
          7,
          2,
          3,
          3,
          1,
          1,
          3,
          2
         ]
        },
        {
         "name": "Civilian",
         "type": "bar",
         "x": [
          1913,
          1918,
          1919,
          1920,
          1921,
          1922,
          1923,
          1924,
          1925,
          1926,
          1927,
          1928,
          1929,
          1930,
          1931,
          1932,
          1933,
          1934,
          1935,
          1936,
          1937,
          1938,
          1939,
          1940,
          1941,
          1942,
          1943,
          1944,
          1945,
          1946,
          1947,
          1948,
          1949,
          1950,
          1951,
          1952,
          1953,
          1954,
          1955,
          1956,
          1957,
          1958,
          1959,
          1960,
          1961,
          1962,
          1963,
          1964,
          1965,
          1966,
          1967,
          1968,
          1969,
          1970,
          1971,
          1972,
          1973,
          1974,
          1975,
          1976,
          1977,
          1978,
          1979,
          1980,
          1981,
          1982,
          1983,
          1984,
          1985,
          1986,
          1987,
          1988,
          1989,
          1990,
          1991,
          1992,
          1993,
          1994,
          1995,
          1996,
          1997,
          1998,
          1999,
          2000,
          2001,
          2002,
          2003,
          2004,
          2005,
          2006,
          2007,
          2008,
          2009,
          2010,
          2011,
          2012,
          2013,
          2014,
          2015,
          2016,
          2017,
          2018,
          2019
         ],
         "y": [
          1,
          1,
          9,
          18,
          10,
          10,
          12,
          7,
          10,
          12,
          20,
          36,
          38,
          25,
          33,
          28,
          27,
          31,
          40,
          49,
          34,
          55,
          29,
          24,
          25,
          29,
          27,
          36,
          28,
          61,
          69,
          74,
          60,
          56,
          61,
          49,
          60,
          50,
          50,
          46,
          59,
          53,
          65,
          59,
          51,
          66,
          52,
          48,
          49,
          52,
          51,
          54,
          63,
          62,
          50,
          68,
          61,
          55,
          44,
          51,
          51,
          48,
          57,
          35,
          38,
          42,
          40,
          39,
          46,
          37,
          44,
          53,
          70,
          50,
          58,
          53,
          49,
          65,
          50,
          55,
          46,
          51,
          54,
          52,
          51,
          43,
          54,
          42,
          37,
          26,
          38,
          43,
          39,
          33,
          32,
          19,
          23,
          20,
          15,
          22,
          14,
          13,
          7
         ]
        }
       ],
       "layout": {
        "barmode": "stack",
        "font": {
         "size": 16
        },
        "template": {
         "data": {
          "bar": [
           {
            "error_x": {
             "color": "#2a3f5f"
            },
            "error_y": {
             "color": "#2a3f5f"
            },
            "marker": {
             "line": {
              "color": "#E5ECF6",
              "width": 0.5
             }
            },
            "type": "bar"
           }
          ],
          "barpolar": [
           {
            "marker": {
             "line": {
              "color": "#E5ECF6",
              "width": 0.5
             }
            },
            "type": "barpolar"
           }
          ],
          "carpet": [
           {
            "aaxis": {
             "endlinecolor": "#2a3f5f",
             "gridcolor": "white",
             "linecolor": "white",
             "minorgridcolor": "white",
             "startlinecolor": "#2a3f5f"
            },
            "baxis": {
             "endlinecolor": "#2a3f5f",
             "gridcolor": "white",
             "linecolor": "white",
             "minorgridcolor": "white",
             "startlinecolor": "#2a3f5f"
            },
            "type": "carpet"
           }
          ],
          "choropleth": [
           {
            "colorbar": {
             "outlinewidth": 0,
             "ticks": ""
            },
            "type": "choropleth"
           }
          ],
          "contour": [
           {
            "colorbar": {
             "outlinewidth": 0,
             "ticks": ""
            },
            "colorscale": [
             [
              0,
              "#0d0887"
             ],
             [
              0.1111111111111111,
              "#46039f"
             ],
             [
              0.2222222222222222,
              "#7201a8"
             ],
             [
              0.3333333333333333,
              "#9c179e"
             ],
             [
              0.4444444444444444,
              "#bd3786"
             ],
             [
              0.5555555555555556,
              "#d8576b"
             ],
             [
              0.6666666666666666,
              "#ed7953"
             ],
             [
              0.7777777777777778,
              "#fb9f3a"
             ],
             [
              0.8888888888888888,
              "#fdca26"
             ],
             [
              1,
              "#f0f921"
             ]
            ],
            "type": "contour"
           }
          ],
          "contourcarpet": [
           {
            "colorbar": {
             "outlinewidth": 0,
             "ticks": ""
            },
            "type": "contourcarpet"
           }
          ],
          "heatmap": [
           {
            "colorbar": {
             "outlinewidth": 0,
             "ticks": ""
            },
            "colorscale": [
             [
              0,
              "#0d0887"
             ],
             [
              0.1111111111111111,
              "#46039f"
             ],
             [
              0.2222222222222222,
              "#7201a8"
             ],
             [
              0.3333333333333333,
              "#9c179e"
             ],
             [
              0.4444444444444444,
              "#bd3786"
             ],
             [
              0.5555555555555556,
              "#d8576b"
             ],
             [
              0.6666666666666666,
              "#ed7953"
             ],
             [
              0.7777777777777778,
              "#fb9f3a"
             ],
             [
              0.8888888888888888,
              "#fdca26"
             ],
             [
              1,
              "#f0f921"
             ]
            ],
            "type": "heatmap"
           }
          ],
          "heatmapgl": [
           {
            "colorbar": {
             "outlinewidth": 0,
             "ticks": ""
            },
            "colorscale": [
             [
              0,
              "#0d0887"
             ],
             [
              0.1111111111111111,
              "#46039f"
             ],
             [
              0.2222222222222222,
              "#7201a8"
             ],
             [
              0.3333333333333333,
              "#9c179e"
             ],
             [
              0.4444444444444444,
              "#bd3786"
             ],
             [
              0.5555555555555556,
              "#d8576b"
             ],
             [
              0.6666666666666666,
              "#ed7953"
             ],
             [
              0.7777777777777778,
              "#fb9f3a"
             ],
             [
              0.8888888888888888,
              "#fdca26"
             ],
             [
              1,
              "#f0f921"
             ]
            ],
            "type": "heatmapgl"
           }
          ],
          "histogram": [
           {
            "marker": {
             "colorbar": {
              "outlinewidth": 0,
              "ticks": ""
             }
            },
            "type": "histogram"
           }
          ],
          "histogram2d": [
           {
            "colorbar": {
             "outlinewidth": 0,
             "ticks": ""
            },
            "colorscale": [
             [
              0,
              "#0d0887"
             ],
             [
              0.1111111111111111,
              "#46039f"
             ],
             [
              0.2222222222222222,
              "#7201a8"
             ],
             [
              0.3333333333333333,
              "#9c179e"
             ],
             [
              0.4444444444444444,
              "#bd3786"
             ],
             [
              0.5555555555555556,
              "#d8576b"
             ],
             [
              0.6666666666666666,
              "#ed7953"
             ],
             [
              0.7777777777777778,
              "#fb9f3a"
             ],
             [
              0.8888888888888888,
              "#fdca26"
             ],
             [
              1,
              "#f0f921"
             ]
            ],
            "type": "histogram2d"
           }
          ],
          "histogram2dcontour": [
           {
            "colorbar": {
             "outlinewidth": 0,
             "ticks": ""
            },
            "colorscale": [
             [
              0,
              "#0d0887"
             ],
             [
              0.1111111111111111,
              "#46039f"
             ],
             [
              0.2222222222222222,
              "#7201a8"
             ],
             [
              0.3333333333333333,
              "#9c179e"
             ],
             [
              0.4444444444444444,
              "#bd3786"
             ],
             [
              0.5555555555555556,
              "#d8576b"
             ],
             [
              0.6666666666666666,
              "#ed7953"
             ],
             [
              0.7777777777777778,
              "#fb9f3a"
             ],
             [
              0.8888888888888888,
              "#fdca26"
             ],
             [
              1,
              "#f0f921"
             ]
            ],
            "type": "histogram2dcontour"
           }
          ],
          "mesh3d": [
           {
            "colorbar": {
             "outlinewidth": 0,
             "ticks": ""
            },
            "type": "mesh3d"
           }
          ],
          "parcoords": [
           {
            "line": {
             "colorbar": {
              "outlinewidth": 0,
              "ticks": ""
             }
            },
            "type": "parcoords"
           }
          ],
          "scatter": [
           {
            "marker": {
             "colorbar": {
              "outlinewidth": 0,
              "ticks": ""
             }
            },
            "type": "scatter"
           }
          ],
          "scatter3d": [
           {
            "line": {
             "colorbar": {
              "outlinewidth": 0,
              "ticks": ""
             }
            },
            "marker": {
             "colorbar": {
              "outlinewidth": 0,
              "ticks": ""
             }
            },
            "type": "scatter3d"
           }
          ],
          "scattercarpet": [
           {
            "marker": {
             "colorbar": {
              "outlinewidth": 0,
              "ticks": ""
             }
            },
            "type": "scattercarpet"
           }
          ],
          "scattergeo": [
           {
            "marker": {
             "colorbar": {
              "outlinewidth": 0,
              "ticks": ""
             }
            },
            "type": "scattergeo"
           }
          ],
          "scattergl": [
           {
            "marker": {
             "colorbar": {
              "outlinewidth": 0,
              "ticks": ""
             }
            },
            "type": "scattergl"
           }
          ],
          "scattermapbox": [
           {
            "marker": {
             "colorbar": {
              "outlinewidth": 0,
              "ticks": ""
             }
            },
            "type": "scattermapbox"
           }
          ],
          "scatterpolar": [
           {
            "marker": {
             "colorbar": {
              "outlinewidth": 0,
              "ticks": ""
             }
            },
            "type": "scatterpolar"
           }
          ],
          "scatterpolargl": [
           {
            "marker": {
             "colorbar": {
              "outlinewidth": 0,
              "ticks": ""
             }
            },
            "type": "scatterpolargl"
           }
          ],
          "scatterternary": [
           {
            "marker": {
             "colorbar": {
              "outlinewidth": 0,
              "ticks": ""
             }
            },
            "type": "scatterternary"
           }
          ],
          "surface": [
           {
            "colorbar": {
             "outlinewidth": 0,
             "ticks": ""
            },
            "colorscale": [
             [
              0,
              "#0d0887"
             ],
             [
              0.1111111111111111,
              "#46039f"
             ],
             [
              0.2222222222222222,
              "#7201a8"
             ],
             [
              0.3333333333333333,
              "#9c179e"
             ],
             [
              0.4444444444444444,
              "#bd3786"
             ],
             [
              0.5555555555555556,
              "#d8576b"
             ],
             [
              0.6666666666666666,
              "#ed7953"
             ],
             [
              0.7777777777777778,
              "#fb9f3a"
             ],
             [
              0.8888888888888888,
              "#fdca26"
             ],
             [
              1,
              "#f0f921"
             ]
            ],
            "type": "surface"
           }
          ],
          "table": [
           {
            "cells": {
             "fill": {
              "color": "#EBF0F8"
             },
             "line": {
              "color": "white"
             }
            },
            "header": {
             "fill": {
              "color": "#C8D4E3"
             },
             "line": {
              "color": "white"
             }
            },
            "type": "table"
           }
          ]
         },
         "layout": {
          "annotationdefaults": {
           "arrowcolor": "#2a3f5f",
           "arrowhead": 0,
           "arrowwidth": 1
          },
          "colorscale": {
           "diverging": [
            [
             0,
             "#8e0152"
            ],
            [
             0.1,
             "#c51b7d"
            ],
            [
             0.2,
             "#de77ae"
            ],
            [
             0.3,
             "#f1b6da"
            ],
            [
             0.4,
             "#fde0ef"
            ],
            [
             0.5,
             "#f7f7f7"
            ],
            [
             0.6,
             "#e6f5d0"
            ],
            [
             0.7,
             "#b8e186"
            ],
            [
             0.8,
             "#7fbc41"
            ],
            [
             0.9,
             "#4d9221"
            ],
            [
             1,
             "#276419"
            ]
           ],
           "sequential": [
            [
             0,
             "#0d0887"
            ],
            [
             0.1111111111111111,
             "#46039f"
            ],
            [
             0.2222222222222222,
             "#7201a8"
            ],
            [
             0.3333333333333333,
             "#9c179e"
            ],
            [
             0.4444444444444444,
             "#bd3786"
            ],
            [
             0.5555555555555556,
             "#d8576b"
            ],
            [
             0.6666666666666666,
             "#ed7953"
            ],
            [
             0.7777777777777778,
             "#fb9f3a"
            ],
            [
             0.8888888888888888,
             "#fdca26"
            ],
            [
             1,
             "#f0f921"
            ]
           ],
           "sequentialminus": [
            [
             0,
             "#0d0887"
            ],
            [
             0.1111111111111111,
             "#46039f"
            ],
            [
             0.2222222222222222,
             "#7201a8"
            ],
            [
             0.3333333333333333,
             "#9c179e"
            ],
            [
             0.4444444444444444,
             "#bd3786"
            ],
            [
             0.5555555555555556,
             "#d8576b"
            ],
            [
             0.6666666666666666,
             "#ed7953"
            ],
            [
             0.7777777777777778,
             "#fb9f3a"
            ],
            [
             0.8888888888888888,
             "#fdca26"
            ],
            [
             1,
             "#f0f921"
            ]
           ]
          },
          "colorway": [
           "#636efa",
           "#EF553B",
           "#00cc96",
           "#ab63fa",
           "#FFA15A",
           "#19d3f3",
           "#FF6692",
           "#B6E880",
           "#FF97FF",
           "#FECB52"
          ],
          "font": {
           "color": "#2a3f5f"
          },
          "geo": {
           "bgcolor": "white",
           "lakecolor": "white",
           "landcolor": "#E5ECF6",
           "showlakes": true,
           "showland": true,
           "subunitcolor": "white"
          },
          "hoverlabel": {
           "align": "left"
          },
          "hovermode": "closest",
          "mapbox": {
           "style": "light"
          },
          "paper_bgcolor": "white",
          "plot_bgcolor": "#E5ECF6",
          "polar": {
           "angularaxis": {
            "gridcolor": "white",
            "linecolor": "white",
            "ticks": ""
           },
           "bgcolor": "#E5ECF6",
           "radialaxis": {
            "gridcolor": "white",
            "linecolor": "white",
            "ticks": ""
           }
          },
          "scene": {
           "xaxis": {
            "backgroundcolor": "#E5ECF6",
            "gridcolor": "white",
            "gridwidth": 2,
            "linecolor": "white",
            "showbackground": true,
            "ticks": "",
            "zerolinecolor": "white"
           },
           "yaxis": {
            "backgroundcolor": "#E5ECF6",
            "gridcolor": "white",
            "gridwidth": 2,
            "linecolor": "white",
            "showbackground": true,
            "ticks": "",
            "zerolinecolor": "white"
           },
           "zaxis": {
            "backgroundcolor": "#E5ECF6",
            "gridcolor": "white",
            "gridwidth": 2,
            "linecolor": "white",
            "showbackground": true,
            "ticks": "",
            "zerolinecolor": "white"
           }
          },
          "shapedefaults": {
           "line": {
            "color": "#2a3f5f"
           }
          },
          "ternary": {
           "aaxis": {
            "gridcolor": "white",
            "linecolor": "white",
            "ticks": ""
           },
           "baxis": {
            "gridcolor": "white",
            "linecolor": "white",
            "ticks": ""
           },
           "bgcolor": "#E5ECF6",
           "caxis": {
            "gridcolor": "white",
            "linecolor": "white",
            "ticks": ""
           }
          },
          "title": {
           "x": 0.05
          },
          "xaxis": {
           "automargin": true,
           "gridcolor": "white",
           "linecolor": "white",
           "ticks": "",
           "zerolinecolor": "white",
           "zerolinewidth": 2
          },
          "yaxis": {
           "automargin": true,
           "gridcolor": "white",
           "linecolor": "white",
           "ticks": "",
           "zerolinecolor": "white",
           "zerolinewidth": 2
          }
         }
        },
        "title": {
         "text": "Airplanes Crashes from 1908 to 30-07-2019"
        },
        "xaxis": {
         "title": {
          "text": "Year"
         }
        },
        "yaxis": {
         "title": {
          "text": "Crashes"
         }
        }
       }
      },
      "text/html": [
       "<div>\n",
       "        \n",
       "        \n",
       "            <div id=\"d70e3c22-3fe0-4b98-955a-5d772f96701b\" class=\"plotly-graph-div\" style=\"height:525px; width:100%;\"></div>\n",
       "            <script type=\"text/javascript\">\n",
       "                require([\"plotly\"], function(Plotly) {\n",
       "                    window.PLOTLYENV=window.PLOTLYENV || {};\n",
       "                    \n",
       "                if (document.getElementById(\"d70e3c22-3fe0-4b98-955a-5d772f96701b\")) {\n",
       "                    Plotly.newPlot(\n",
       "                        'd70e3c22-3fe0-4b98-955a-5d772f96701b',\n",
       "                        [{\"name\": \"Military\", \"type\": \"bar\", \"x\": [1908, 1912, 1913, 1915, 1916, 1917, 1918, 1921, 1922, 1923, 1925, 1929, 1930, 1933, 1936, 1938, 1939, 1940, 1941, 1942, 1943, 1944, 1945, 1946, 1947, 1948, 1949, 1950, 1951, 1952, 1953, 1954, 1955, 1956, 1957, 1958, 1959, 1960, 1961, 1962, 1963, 1964, 1965, 1966, 1967, 1968, 1969, 1970, 1971, 1972, 1973, 1974, 1975, 1976, 1977, 1978, 1979, 1980, 1981, 1982, 1983, 1984, 1985, 1986, 1987, 1988, 1989, 1990, 1991, 1992, 1993, 1994, 1995, 1996, 1997, 1998, 1999, 2000, 2001, 2002, 2003, 2004, 2005, 2006, 2007, 2008, 2009, 2010, 2011, 2012, 2013, 2014, 2015, 2016, 2017, 2018, 2019], \"y\": [1, 1, 2, 2, 5, 6, 3, 2, 1, 1, 1, 1, 1, 1, 1, 1, 1, 1, 2, 9, 16, 20, 46, 26, 13, 3, 7, 13, 14, 16, 9, 11, 7, 7, 7, 15, 1, 11, 9, 11, 8, 7, 13, 7, 7, 11, 6, 11, 8, 9, 3, 3, 7, 6, 12, 3, 3, 10, 12, 12, 8, 9, 10, 13, 10, 11, 13, 11, 11, 13, 7, 9, 10, 13, 10, 8, 8, 11, 7, 12, 8, 4, 8, 12, 5, 7, 7, 7, 3, 7, 2, 3, 3, 1, 1, 3, 2]}, {\"name\": \"Civilian\", \"type\": \"bar\", \"x\": [1913, 1918, 1919, 1920, 1921, 1922, 1923, 1924, 1925, 1926, 1927, 1928, 1929, 1930, 1931, 1932, 1933, 1934, 1935, 1936, 1937, 1938, 1939, 1940, 1941, 1942, 1943, 1944, 1945, 1946, 1947, 1948, 1949, 1950, 1951, 1952, 1953, 1954, 1955, 1956, 1957, 1958, 1959, 1960, 1961, 1962, 1963, 1964, 1965, 1966, 1967, 1968, 1969, 1970, 1971, 1972, 1973, 1974, 1975, 1976, 1977, 1978, 1979, 1980, 1981, 1982, 1983, 1984, 1985, 1986, 1987, 1988, 1989, 1990, 1991, 1992, 1993, 1994, 1995, 1996, 1997, 1998, 1999, 2000, 2001, 2002, 2003, 2004, 2005, 2006, 2007, 2008, 2009, 2010, 2011, 2012, 2013, 2014, 2015, 2016, 2017, 2018, 2019], \"y\": [1, 1, 9, 18, 10, 10, 12, 7, 10, 12, 20, 36, 38, 25, 33, 28, 27, 31, 40, 49, 34, 55, 29, 24, 25, 29, 27, 36, 28, 61, 69, 74, 60, 56, 61, 49, 60, 50, 50, 46, 59, 53, 65, 59, 51, 66, 52, 48, 49, 52, 51, 54, 63, 62, 50, 68, 61, 55, 44, 51, 51, 48, 57, 35, 38, 42, 40, 39, 46, 37, 44, 53, 70, 50, 58, 53, 49, 65, 50, 55, 46, 51, 54, 52, 51, 43, 54, 42, 37, 26, 38, 43, 39, 33, 32, 19, 23, 20, 15, 22, 14, 13, 7]}],\n",
       "                        {\"barmode\": \"stack\", \"font\": {\"size\": 16}, \"template\": {\"data\": {\"bar\": [{\"error_x\": {\"color\": \"#2a3f5f\"}, \"error_y\": {\"color\": \"#2a3f5f\"}, \"marker\": {\"line\": {\"color\": \"#E5ECF6\", \"width\": 0.5}}, \"type\": \"bar\"}], \"barpolar\": [{\"marker\": {\"line\": {\"color\": \"#E5ECF6\", \"width\": 0.5}}, \"type\": \"barpolar\"}], \"carpet\": [{\"aaxis\": {\"endlinecolor\": \"#2a3f5f\", \"gridcolor\": \"white\", \"linecolor\": \"white\", \"minorgridcolor\": \"white\", \"startlinecolor\": \"#2a3f5f\"}, \"baxis\": {\"endlinecolor\": \"#2a3f5f\", \"gridcolor\": \"white\", \"linecolor\": \"white\", \"minorgridcolor\": \"white\", \"startlinecolor\": \"#2a3f5f\"}, \"type\": \"carpet\"}], \"choropleth\": [{\"colorbar\": {\"outlinewidth\": 0, \"ticks\": \"\"}, \"type\": \"choropleth\"}], \"contour\": [{\"colorbar\": {\"outlinewidth\": 0, \"ticks\": \"\"}, \"colorscale\": [[0.0, \"#0d0887\"], [0.1111111111111111, \"#46039f\"], [0.2222222222222222, \"#7201a8\"], [0.3333333333333333, \"#9c179e\"], [0.4444444444444444, \"#bd3786\"], [0.5555555555555556, \"#d8576b\"], [0.6666666666666666, \"#ed7953\"], [0.7777777777777778, \"#fb9f3a\"], [0.8888888888888888, \"#fdca26\"], [1.0, \"#f0f921\"]], \"type\": \"contour\"}], \"contourcarpet\": [{\"colorbar\": {\"outlinewidth\": 0, \"ticks\": \"\"}, \"type\": \"contourcarpet\"}], \"heatmap\": [{\"colorbar\": {\"outlinewidth\": 0, \"ticks\": \"\"}, \"colorscale\": [[0.0, \"#0d0887\"], [0.1111111111111111, \"#46039f\"], [0.2222222222222222, \"#7201a8\"], [0.3333333333333333, \"#9c179e\"], [0.4444444444444444, \"#bd3786\"], [0.5555555555555556, \"#d8576b\"], [0.6666666666666666, \"#ed7953\"], [0.7777777777777778, \"#fb9f3a\"], [0.8888888888888888, \"#fdca26\"], [1.0, \"#f0f921\"]], \"type\": \"heatmap\"}], \"heatmapgl\": [{\"colorbar\": {\"outlinewidth\": 0, \"ticks\": \"\"}, \"colorscale\": [[0.0, \"#0d0887\"], [0.1111111111111111, \"#46039f\"], [0.2222222222222222, \"#7201a8\"], [0.3333333333333333, \"#9c179e\"], [0.4444444444444444, \"#bd3786\"], [0.5555555555555556, \"#d8576b\"], [0.6666666666666666, \"#ed7953\"], [0.7777777777777778, \"#fb9f3a\"], [0.8888888888888888, \"#fdca26\"], [1.0, \"#f0f921\"]], \"type\": \"heatmapgl\"}], \"histogram\": [{\"marker\": {\"colorbar\": {\"outlinewidth\": 0, \"ticks\": \"\"}}, \"type\": \"histogram\"}], \"histogram2d\": [{\"colorbar\": {\"outlinewidth\": 0, \"ticks\": \"\"}, \"colorscale\": [[0.0, \"#0d0887\"], [0.1111111111111111, \"#46039f\"], [0.2222222222222222, \"#7201a8\"], [0.3333333333333333, \"#9c179e\"], [0.4444444444444444, \"#bd3786\"], [0.5555555555555556, \"#d8576b\"], [0.6666666666666666, \"#ed7953\"], [0.7777777777777778, \"#fb9f3a\"], [0.8888888888888888, \"#fdca26\"], [1.0, \"#f0f921\"]], \"type\": \"histogram2d\"}], \"histogram2dcontour\": [{\"colorbar\": {\"outlinewidth\": 0, \"ticks\": \"\"}, \"colorscale\": [[0.0, \"#0d0887\"], [0.1111111111111111, \"#46039f\"], [0.2222222222222222, \"#7201a8\"], [0.3333333333333333, \"#9c179e\"], [0.4444444444444444, \"#bd3786\"], [0.5555555555555556, \"#d8576b\"], [0.6666666666666666, \"#ed7953\"], [0.7777777777777778, \"#fb9f3a\"], [0.8888888888888888, \"#fdca26\"], [1.0, \"#f0f921\"]], \"type\": \"histogram2dcontour\"}], \"mesh3d\": [{\"colorbar\": {\"outlinewidth\": 0, \"ticks\": \"\"}, \"type\": \"mesh3d\"}], \"parcoords\": [{\"line\": {\"colorbar\": {\"outlinewidth\": 0, \"ticks\": \"\"}}, \"type\": \"parcoords\"}], \"scatter\": [{\"marker\": {\"colorbar\": {\"outlinewidth\": 0, \"ticks\": \"\"}}, \"type\": \"scatter\"}], \"scatter3d\": [{\"line\": {\"colorbar\": {\"outlinewidth\": 0, \"ticks\": \"\"}}, \"marker\": {\"colorbar\": {\"outlinewidth\": 0, \"ticks\": \"\"}}, \"type\": \"scatter3d\"}], \"scattercarpet\": [{\"marker\": {\"colorbar\": {\"outlinewidth\": 0, \"ticks\": \"\"}}, \"type\": \"scattercarpet\"}], \"scattergeo\": [{\"marker\": {\"colorbar\": {\"outlinewidth\": 0, \"ticks\": \"\"}}, \"type\": \"scattergeo\"}], \"scattergl\": [{\"marker\": {\"colorbar\": {\"outlinewidth\": 0, \"ticks\": \"\"}}, \"type\": \"scattergl\"}], \"scattermapbox\": [{\"marker\": {\"colorbar\": {\"outlinewidth\": 0, \"ticks\": \"\"}}, \"type\": \"scattermapbox\"}], \"scatterpolar\": [{\"marker\": {\"colorbar\": {\"outlinewidth\": 0, \"ticks\": \"\"}}, \"type\": \"scatterpolar\"}], \"scatterpolargl\": [{\"marker\": {\"colorbar\": {\"outlinewidth\": 0, \"ticks\": \"\"}}, \"type\": \"scatterpolargl\"}], \"scatterternary\": [{\"marker\": {\"colorbar\": {\"outlinewidth\": 0, \"ticks\": \"\"}}, \"type\": \"scatterternary\"}], \"surface\": [{\"colorbar\": {\"outlinewidth\": 0, \"ticks\": \"\"}, \"colorscale\": [[0.0, \"#0d0887\"], [0.1111111111111111, \"#46039f\"], [0.2222222222222222, \"#7201a8\"], [0.3333333333333333, \"#9c179e\"], [0.4444444444444444, \"#bd3786\"], [0.5555555555555556, \"#d8576b\"], [0.6666666666666666, \"#ed7953\"], [0.7777777777777778, \"#fb9f3a\"], [0.8888888888888888, \"#fdca26\"], [1.0, \"#f0f921\"]], \"type\": \"surface\"}], \"table\": [{\"cells\": {\"fill\": {\"color\": \"#EBF0F8\"}, \"line\": {\"color\": \"white\"}}, \"header\": {\"fill\": {\"color\": \"#C8D4E3\"}, \"line\": {\"color\": \"white\"}}, \"type\": \"table\"}]}, \"layout\": {\"annotationdefaults\": {\"arrowcolor\": \"#2a3f5f\", \"arrowhead\": 0, \"arrowwidth\": 1}, \"colorscale\": {\"diverging\": [[0, \"#8e0152\"], [0.1, \"#c51b7d\"], [0.2, \"#de77ae\"], [0.3, \"#f1b6da\"], [0.4, \"#fde0ef\"], [0.5, \"#f7f7f7\"], [0.6, \"#e6f5d0\"], [0.7, \"#b8e186\"], [0.8, \"#7fbc41\"], [0.9, \"#4d9221\"], [1, \"#276419\"]], \"sequential\": [[0.0, \"#0d0887\"], [0.1111111111111111, \"#46039f\"], [0.2222222222222222, \"#7201a8\"], [0.3333333333333333, \"#9c179e\"], [0.4444444444444444, \"#bd3786\"], [0.5555555555555556, \"#d8576b\"], [0.6666666666666666, \"#ed7953\"], [0.7777777777777778, \"#fb9f3a\"], [0.8888888888888888, \"#fdca26\"], [1.0, \"#f0f921\"]], \"sequentialminus\": [[0.0, \"#0d0887\"], [0.1111111111111111, \"#46039f\"], [0.2222222222222222, \"#7201a8\"], [0.3333333333333333, \"#9c179e\"], [0.4444444444444444, \"#bd3786\"], [0.5555555555555556, \"#d8576b\"], [0.6666666666666666, \"#ed7953\"], [0.7777777777777778, \"#fb9f3a\"], [0.8888888888888888, \"#fdca26\"], [1.0, \"#f0f921\"]]}, \"colorway\": [\"#636efa\", \"#EF553B\", \"#00cc96\", \"#ab63fa\", \"#FFA15A\", \"#19d3f3\", \"#FF6692\", \"#B6E880\", \"#FF97FF\", \"#FECB52\"], \"font\": {\"color\": \"#2a3f5f\"}, \"geo\": {\"bgcolor\": \"white\", \"lakecolor\": \"white\", \"landcolor\": \"#E5ECF6\", \"showlakes\": true, \"showland\": true, \"subunitcolor\": \"white\"}, \"hoverlabel\": {\"align\": \"left\"}, \"hovermode\": \"closest\", \"mapbox\": {\"style\": \"light\"}, \"paper_bgcolor\": \"white\", \"plot_bgcolor\": \"#E5ECF6\", \"polar\": {\"angularaxis\": {\"gridcolor\": \"white\", \"linecolor\": \"white\", \"ticks\": \"\"}, \"bgcolor\": \"#E5ECF6\", \"radialaxis\": {\"gridcolor\": \"white\", \"linecolor\": \"white\", \"ticks\": \"\"}}, \"scene\": {\"xaxis\": {\"backgroundcolor\": \"#E5ECF6\", \"gridcolor\": \"white\", \"gridwidth\": 2, \"linecolor\": \"white\", \"showbackground\": true, \"ticks\": \"\", \"zerolinecolor\": \"white\"}, \"yaxis\": {\"backgroundcolor\": \"#E5ECF6\", \"gridcolor\": \"white\", \"gridwidth\": 2, \"linecolor\": \"white\", \"showbackground\": true, \"ticks\": \"\", \"zerolinecolor\": \"white\"}, \"zaxis\": {\"backgroundcolor\": \"#E5ECF6\", \"gridcolor\": \"white\", \"gridwidth\": 2, \"linecolor\": \"white\", \"showbackground\": true, \"ticks\": \"\", \"zerolinecolor\": \"white\"}}, \"shapedefaults\": {\"line\": {\"color\": \"#2a3f5f\"}}, \"ternary\": {\"aaxis\": {\"gridcolor\": \"white\", \"linecolor\": \"white\", \"ticks\": \"\"}, \"baxis\": {\"gridcolor\": \"white\", \"linecolor\": \"white\", \"ticks\": \"\"}, \"bgcolor\": \"#E5ECF6\", \"caxis\": {\"gridcolor\": \"white\", \"linecolor\": \"white\", \"ticks\": \"\"}}, \"title\": {\"x\": 0.05}, \"xaxis\": {\"automargin\": true, \"gridcolor\": \"white\", \"linecolor\": \"white\", \"ticks\": \"\", \"zerolinecolor\": \"white\", \"zerolinewidth\": 2}, \"yaxis\": {\"automargin\": true, \"gridcolor\": \"white\", \"linecolor\": \"white\", \"ticks\": \"\", \"zerolinecolor\": \"white\", \"zerolinewidth\": 2}}}, \"title\": {\"text\": \"Airplanes Crashes from 1908 to 30-07-2019\"}, \"xaxis\": {\"title\": {\"text\": \"Year\"}}, \"yaxis\": {\"title\": {\"text\": \"Crashes\"}}},\n",
       "                        {\"responsive\": true}\n",
       "                    ).then(function(){\n",
       "                            \n",
       "var gd = document.getElementById('d70e3c22-3fe0-4b98-955a-5d772f96701b');\n",
       "var x = new MutationObserver(function (mutations, observer) {{\n",
       "        var display = window.getComputedStyle(gd).display;\n",
       "        if (!display || display === 'none') {{\n",
       "            console.log([gd, 'removed!']);\n",
       "            Plotly.purge(gd);\n",
       "            observer.disconnect();\n",
       "        }}\n",
       "}});\n",
       "\n",
       "// Listen for the removal of the full notebook cells\n",
       "var notebookContainer = gd.closest('#notebook-container');\n",
       "if (notebookContainer) {{\n",
       "    x.observe(notebookContainer, {childList: true});\n",
       "}}\n",
       "\n",
       "// Listen for the clearing of the current output cell\n",
       "var outputEl = gd.closest('.output');\n",
       "if (outputEl) {{\n",
       "    x.observe(outputEl, {childList: true});\n",
       "}}\n",
       "\n",
       "                        })\n",
       "                };\n",
       "                });\n",
       "            </script>\n",
       "        </div>"
      ]
     },
     "metadata": {},
     "output_type": "display_data"
    },
    {
     "data": {
      "application/vnd.plotly.v1+json": {
       "config": {
        "linkText": "Export to plot.ly",
        "plotlyServerURL": "https://plot.ly",
        "showLink": false
       },
       "data": [
        {
         "mode": "lines+markers",
         "name": "Military",
         "type": "scatter",
         "x": [
          1908,
          1912,
          1913,
          1915,
          1916,
          1917,
          1918,
          1921,
          1922,
          1923,
          1925,
          1929,
          1930,
          1933,
          1936,
          1938,
          1939,
          1940,
          1941,
          1942,
          1943,
          1944,
          1945,
          1946,
          1947,
          1948,
          1949,
          1950,
          1951,
          1952,
          1953,
          1954,
          1955,
          1956,
          1957,
          1958,
          1959,
          1960,
          1961,
          1962,
          1963,
          1964,
          1965,
          1966,
          1967,
          1968,
          1969,
          1970,
          1971,
          1972,
          1973,
          1974,
          1975,
          1976,
          1977,
          1978,
          1979,
          1980,
          1981,
          1982,
          1983,
          1984,
          1985,
          1986,
          1987,
          1988,
          1989,
          1990,
          1991,
          1992,
          1993,
          1994,
          1995,
          1996,
          1997,
          1998,
          1999,
          2000,
          2001,
          2002,
          2003,
          2004,
          2005,
          2006,
          2007,
          2008,
          2009,
          2010,
          2011,
          2012,
          2013,
          2014,
          2015,
          2016,
          2017,
          2018,
          2019
         ],
         "y": [
          1,
          1,
          2,
          2,
          5,
          6,
          3,
          2,
          1,
          1,
          1,
          1,
          1,
          1,
          1,
          1,
          1,
          1,
          2,
          9,
          16,
          20,
          46,
          26,
          13,
          3,
          7,
          13,
          14,
          16,
          9,
          11,
          7,
          7,
          7,
          15,
          1,
          11,
          9,
          11,
          8,
          7,
          13,
          7,
          7,
          11,
          6,
          11,
          8,
          9,
          3,
          3,
          7,
          6,
          12,
          3,
          3,
          10,
          12,
          12,
          8,
          9,
          10,
          13,
          10,
          11,
          13,
          11,
          11,
          13,
          7,
          9,
          10,
          13,
          10,
          8,
          8,
          11,
          7,
          12,
          8,
          4,
          8,
          12,
          5,
          7,
          7,
          7,
          3,
          7,
          2,
          3,
          3,
          1,
          1,
          3,
          2
         ]
        },
        {
         "mode": "lines+markers",
         "name": "Civilian",
         "type": "scatter",
         "x": [
          1913,
          1918,
          1919,
          1920,
          1921,
          1922,
          1923,
          1924,
          1925,
          1926,
          1927,
          1928,
          1929,
          1930,
          1931,
          1932,
          1933,
          1934,
          1935,
          1936,
          1937,
          1938,
          1939,
          1940,
          1941,
          1942,
          1943,
          1944,
          1945,
          1946,
          1947,
          1948,
          1949,
          1950,
          1951,
          1952,
          1953,
          1954,
          1955,
          1956,
          1957,
          1958,
          1959,
          1960,
          1961,
          1962,
          1963,
          1964,
          1965,
          1966,
          1967,
          1968,
          1969,
          1970,
          1971,
          1972,
          1973,
          1974,
          1975,
          1976,
          1977,
          1978,
          1979,
          1980,
          1981,
          1982,
          1983,
          1984,
          1985,
          1986,
          1987,
          1988,
          1989,
          1990,
          1991,
          1992,
          1993,
          1994,
          1995,
          1996,
          1997,
          1998,
          1999,
          2000,
          2001,
          2002,
          2003,
          2004,
          2005,
          2006,
          2007,
          2008,
          2009,
          2010,
          2011,
          2012,
          2013,
          2014,
          2015,
          2016,
          2017,
          2018,
          2019
         ],
         "y": [
          1,
          1,
          9,
          18,
          10,
          10,
          12,
          7,
          10,
          12,
          20,
          36,
          38,
          25,
          33,
          28,
          27,
          31,
          40,
          49,
          34,
          55,
          29,
          24,
          25,
          29,
          27,
          36,
          28,
          61,
          69,
          74,
          60,
          56,
          61,
          49,
          60,
          50,
          50,
          46,
          59,
          53,
          65,
          59,
          51,
          66,
          52,
          48,
          49,
          52,
          51,
          54,
          63,
          62,
          50,
          68,
          61,
          55,
          44,
          51,
          51,
          48,
          57,
          35,
          38,
          42,
          40,
          39,
          46,
          37,
          44,
          53,
          70,
          50,
          58,
          53,
          49,
          65,
          50,
          55,
          46,
          51,
          54,
          52,
          51,
          43,
          54,
          42,
          37,
          26,
          38,
          43,
          39,
          33,
          32,
          19,
          23,
          20,
          15,
          22,
          14,
          13,
          7
         ]
        }
       ],
       "layout": {
        "font": {
         "size": 16
        },
        "template": {
         "data": {
          "bar": [
           {
            "error_x": {
             "color": "#2a3f5f"
            },
            "error_y": {
             "color": "#2a3f5f"
            },
            "marker": {
             "line": {
              "color": "#E5ECF6",
              "width": 0.5
             }
            },
            "type": "bar"
           }
          ],
          "barpolar": [
           {
            "marker": {
             "line": {
              "color": "#E5ECF6",
              "width": 0.5
             }
            },
            "type": "barpolar"
           }
          ],
          "carpet": [
           {
            "aaxis": {
             "endlinecolor": "#2a3f5f",
             "gridcolor": "white",
             "linecolor": "white",
             "minorgridcolor": "white",
             "startlinecolor": "#2a3f5f"
            },
            "baxis": {
             "endlinecolor": "#2a3f5f",
             "gridcolor": "white",
             "linecolor": "white",
             "minorgridcolor": "white",
             "startlinecolor": "#2a3f5f"
            },
            "type": "carpet"
           }
          ],
          "choropleth": [
           {
            "colorbar": {
             "outlinewidth": 0,
             "ticks": ""
            },
            "type": "choropleth"
           }
          ],
          "contour": [
           {
            "colorbar": {
             "outlinewidth": 0,
             "ticks": ""
            },
            "colorscale": [
             [
              0,
              "#0d0887"
             ],
             [
              0.1111111111111111,
              "#46039f"
             ],
             [
              0.2222222222222222,
              "#7201a8"
             ],
             [
              0.3333333333333333,
              "#9c179e"
             ],
             [
              0.4444444444444444,
              "#bd3786"
             ],
             [
              0.5555555555555556,
              "#d8576b"
             ],
             [
              0.6666666666666666,
              "#ed7953"
             ],
             [
              0.7777777777777778,
              "#fb9f3a"
             ],
             [
              0.8888888888888888,
              "#fdca26"
             ],
             [
              1,
              "#f0f921"
             ]
            ],
            "type": "contour"
           }
          ],
          "contourcarpet": [
           {
            "colorbar": {
             "outlinewidth": 0,
             "ticks": ""
            },
            "type": "contourcarpet"
           }
          ],
          "heatmap": [
           {
            "colorbar": {
             "outlinewidth": 0,
             "ticks": ""
            },
            "colorscale": [
             [
              0,
              "#0d0887"
             ],
             [
              0.1111111111111111,
              "#46039f"
             ],
             [
              0.2222222222222222,
              "#7201a8"
             ],
             [
              0.3333333333333333,
              "#9c179e"
             ],
             [
              0.4444444444444444,
              "#bd3786"
             ],
             [
              0.5555555555555556,
              "#d8576b"
             ],
             [
              0.6666666666666666,
              "#ed7953"
             ],
             [
              0.7777777777777778,
              "#fb9f3a"
             ],
             [
              0.8888888888888888,
              "#fdca26"
             ],
             [
              1,
              "#f0f921"
             ]
            ],
            "type": "heatmap"
           }
          ],
          "heatmapgl": [
           {
            "colorbar": {
             "outlinewidth": 0,
             "ticks": ""
            },
            "colorscale": [
             [
              0,
              "#0d0887"
             ],
             [
              0.1111111111111111,
              "#46039f"
             ],
             [
              0.2222222222222222,
              "#7201a8"
             ],
             [
              0.3333333333333333,
              "#9c179e"
             ],
             [
              0.4444444444444444,
              "#bd3786"
             ],
             [
              0.5555555555555556,
              "#d8576b"
             ],
             [
              0.6666666666666666,
              "#ed7953"
             ],
             [
              0.7777777777777778,
              "#fb9f3a"
             ],
             [
              0.8888888888888888,
              "#fdca26"
             ],
             [
              1,
              "#f0f921"
             ]
            ],
            "type": "heatmapgl"
           }
          ],
          "histogram": [
           {
            "marker": {
             "colorbar": {
              "outlinewidth": 0,
              "ticks": ""
             }
            },
            "type": "histogram"
           }
          ],
          "histogram2d": [
           {
            "colorbar": {
             "outlinewidth": 0,
             "ticks": ""
            },
            "colorscale": [
             [
              0,
              "#0d0887"
             ],
             [
              0.1111111111111111,
              "#46039f"
             ],
             [
              0.2222222222222222,
              "#7201a8"
             ],
             [
              0.3333333333333333,
              "#9c179e"
             ],
             [
              0.4444444444444444,
              "#bd3786"
             ],
             [
              0.5555555555555556,
              "#d8576b"
             ],
             [
              0.6666666666666666,
              "#ed7953"
             ],
             [
              0.7777777777777778,
              "#fb9f3a"
             ],
             [
              0.8888888888888888,
              "#fdca26"
             ],
             [
              1,
              "#f0f921"
             ]
            ],
            "type": "histogram2d"
           }
          ],
          "histogram2dcontour": [
           {
            "colorbar": {
             "outlinewidth": 0,
             "ticks": ""
            },
            "colorscale": [
             [
              0,
              "#0d0887"
             ],
             [
              0.1111111111111111,
              "#46039f"
             ],
             [
              0.2222222222222222,
              "#7201a8"
             ],
             [
              0.3333333333333333,
              "#9c179e"
             ],
             [
              0.4444444444444444,
              "#bd3786"
             ],
             [
              0.5555555555555556,
              "#d8576b"
             ],
             [
              0.6666666666666666,
              "#ed7953"
             ],
             [
              0.7777777777777778,
              "#fb9f3a"
             ],
             [
              0.8888888888888888,
              "#fdca26"
             ],
             [
              1,
              "#f0f921"
             ]
            ],
            "type": "histogram2dcontour"
           }
          ],
          "mesh3d": [
           {
            "colorbar": {
             "outlinewidth": 0,
             "ticks": ""
            },
            "type": "mesh3d"
           }
          ],
          "parcoords": [
           {
            "line": {
             "colorbar": {
              "outlinewidth": 0,
              "ticks": ""
             }
            },
            "type": "parcoords"
           }
          ],
          "scatter": [
           {
            "marker": {
             "colorbar": {
              "outlinewidth": 0,
              "ticks": ""
             }
            },
            "type": "scatter"
           }
          ],
          "scatter3d": [
           {
            "line": {
             "colorbar": {
              "outlinewidth": 0,
              "ticks": ""
             }
            },
            "marker": {
             "colorbar": {
              "outlinewidth": 0,
              "ticks": ""
             }
            },
            "type": "scatter3d"
           }
          ],
          "scattercarpet": [
           {
            "marker": {
             "colorbar": {
              "outlinewidth": 0,
              "ticks": ""
             }
            },
            "type": "scattercarpet"
           }
          ],
          "scattergeo": [
           {
            "marker": {
             "colorbar": {
              "outlinewidth": 0,
              "ticks": ""
             }
            },
            "type": "scattergeo"
           }
          ],
          "scattergl": [
           {
            "marker": {
             "colorbar": {
              "outlinewidth": 0,
              "ticks": ""
             }
            },
            "type": "scattergl"
           }
          ],
          "scattermapbox": [
           {
            "marker": {
             "colorbar": {
              "outlinewidth": 0,
              "ticks": ""
             }
            },
            "type": "scattermapbox"
           }
          ],
          "scatterpolar": [
           {
            "marker": {
             "colorbar": {
              "outlinewidth": 0,
              "ticks": ""
             }
            },
            "type": "scatterpolar"
           }
          ],
          "scatterpolargl": [
           {
            "marker": {
             "colorbar": {
              "outlinewidth": 0,
              "ticks": ""
             }
            },
            "type": "scatterpolargl"
           }
          ],
          "scatterternary": [
           {
            "marker": {
             "colorbar": {
              "outlinewidth": 0,
              "ticks": ""
             }
            },
            "type": "scatterternary"
           }
          ],
          "surface": [
           {
            "colorbar": {
             "outlinewidth": 0,
             "ticks": ""
            },
            "colorscale": [
             [
              0,
              "#0d0887"
             ],
             [
              0.1111111111111111,
              "#46039f"
             ],
             [
              0.2222222222222222,
              "#7201a8"
             ],
             [
              0.3333333333333333,
              "#9c179e"
             ],
             [
              0.4444444444444444,
              "#bd3786"
             ],
             [
              0.5555555555555556,
              "#d8576b"
             ],
             [
              0.6666666666666666,
              "#ed7953"
             ],
             [
              0.7777777777777778,
              "#fb9f3a"
             ],
             [
              0.8888888888888888,
              "#fdca26"
             ],
             [
              1,
              "#f0f921"
             ]
            ],
            "type": "surface"
           }
          ],
          "table": [
           {
            "cells": {
             "fill": {
              "color": "#EBF0F8"
             },
             "line": {
              "color": "white"
             }
            },
            "header": {
             "fill": {
              "color": "#C8D4E3"
             },
             "line": {
              "color": "white"
             }
            },
            "type": "table"
           }
          ]
         },
         "layout": {
          "annotationdefaults": {
           "arrowcolor": "#2a3f5f",
           "arrowhead": 0,
           "arrowwidth": 1
          },
          "colorscale": {
           "diverging": [
            [
             0,
             "#8e0152"
            ],
            [
             0.1,
             "#c51b7d"
            ],
            [
             0.2,
             "#de77ae"
            ],
            [
             0.3,
             "#f1b6da"
            ],
            [
             0.4,
             "#fde0ef"
            ],
            [
             0.5,
             "#f7f7f7"
            ],
            [
             0.6,
             "#e6f5d0"
            ],
            [
             0.7,
             "#b8e186"
            ],
            [
             0.8,
             "#7fbc41"
            ],
            [
             0.9,
             "#4d9221"
            ],
            [
             1,
             "#276419"
            ]
           ],
           "sequential": [
            [
             0,
             "#0d0887"
            ],
            [
             0.1111111111111111,
             "#46039f"
            ],
            [
             0.2222222222222222,
             "#7201a8"
            ],
            [
             0.3333333333333333,
             "#9c179e"
            ],
            [
             0.4444444444444444,
             "#bd3786"
            ],
            [
             0.5555555555555556,
             "#d8576b"
            ],
            [
             0.6666666666666666,
             "#ed7953"
            ],
            [
             0.7777777777777778,
             "#fb9f3a"
            ],
            [
             0.8888888888888888,
             "#fdca26"
            ],
            [
             1,
             "#f0f921"
            ]
           ],
           "sequentialminus": [
            [
             0,
             "#0d0887"
            ],
            [
             0.1111111111111111,
             "#46039f"
            ],
            [
             0.2222222222222222,
             "#7201a8"
            ],
            [
             0.3333333333333333,
             "#9c179e"
            ],
            [
             0.4444444444444444,
             "#bd3786"
            ],
            [
             0.5555555555555556,
             "#d8576b"
            ],
            [
             0.6666666666666666,
             "#ed7953"
            ],
            [
             0.7777777777777778,
             "#fb9f3a"
            ],
            [
             0.8888888888888888,
             "#fdca26"
            ],
            [
             1,
             "#f0f921"
            ]
           ]
          },
          "colorway": [
           "#636efa",
           "#EF553B",
           "#00cc96",
           "#ab63fa",
           "#FFA15A",
           "#19d3f3",
           "#FF6692",
           "#B6E880",
           "#FF97FF",
           "#FECB52"
          ],
          "font": {
           "color": "#2a3f5f"
          },
          "geo": {
           "bgcolor": "white",
           "lakecolor": "white",
           "landcolor": "#E5ECF6",
           "showlakes": true,
           "showland": true,
           "subunitcolor": "white"
          },
          "hoverlabel": {
           "align": "left"
          },
          "hovermode": "closest",
          "mapbox": {
           "style": "light"
          },
          "paper_bgcolor": "white",
          "plot_bgcolor": "#E5ECF6",
          "polar": {
           "angularaxis": {
            "gridcolor": "white",
            "linecolor": "white",
            "ticks": ""
           },
           "bgcolor": "#E5ECF6",
           "radialaxis": {
            "gridcolor": "white",
            "linecolor": "white",
            "ticks": ""
           }
          },
          "scene": {
           "xaxis": {
            "backgroundcolor": "#E5ECF6",
            "gridcolor": "white",
            "gridwidth": 2,
            "linecolor": "white",
            "showbackground": true,
            "ticks": "",
            "zerolinecolor": "white"
           },
           "yaxis": {
            "backgroundcolor": "#E5ECF6",
            "gridcolor": "white",
            "gridwidth": 2,
            "linecolor": "white",
            "showbackground": true,
            "ticks": "",
            "zerolinecolor": "white"
           },
           "zaxis": {
            "backgroundcolor": "#E5ECF6",
            "gridcolor": "white",
            "gridwidth": 2,
            "linecolor": "white",
            "showbackground": true,
            "ticks": "",
            "zerolinecolor": "white"
           }
          },
          "shapedefaults": {
           "line": {
            "color": "#2a3f5f"
           }
          },
          "ternary": {
           "aaxis": {
            "gridcolor": "white",
            "linecolor": "white",
            "ticks": ""
           },
           "baxis": {
            "gridcolor": "white",
            "linecolor": "white",
            "ticks": ""
           },
           "bgcolor": "#E5ECF6",
           "caxis": {
            "gridcolor": "white",
            "linecolor": "white",
            "ticks": ""
           }
          },
          "title": {
           "x": 0.05
          },
          "xaxis": {
           "automargin": true,
           "gridcolor": "white",
           "linecolor": "white",
           "ticks": "",
           "zerolinecolor": "white",
           "zerolinewidth": 2
          },
          "yaxis": {
           "automargin": true,
           "gridcolor": "white",
           "linecolor": "white",
           "ticks": "",
           "zerolinecolor": "white",
           "zerolinewidth": 2
          }
         }
        },
        "title": {
         "text": "Airplanes Crashes from 1908 to 30-07-2019"
        },
        "xaxis": {
         "title": {
          "text": "Year"
         }
        },
        "yaxis": {
         "title": {
          "text": "Crashes"
         }
        }
       }
      },
      "text/html": [
       "<div>\n",
       "        \n",
       "        \n",
       "            <div id=\"7d1fc8a0-2654-4b52-86bd-d73579245505\" class=\"plotly-graph-div\" style=\"height:525px; width:100%;\"></div>\n",
       "            <script type=\"text/javascript\">\n",
       "                require([\"plotly\"], function(Plotly) {\n",
       "                    window.PLOTLYENV=window.PLOTLYENV || {};\n",
       "                    \n",
       "                if (document.getElementById(\"7d1fc8a0-2654-4b52-86bd-d73579245505\")) {\n",
       "                    Plotly.newPlot(\n",
       "                        '7d1fc8a0-2654-4b52-86bd-d73579245505',\n",
       "                        [{\"mode\": \"lines+markers\", \"name\": \"Military\", \"type\": \"scatter\", \"x\": [1908, 1912, 1913, 1915, 1916, 1917, 1918, 1921, 1922, 1923, 1925, 1929, 1930, 1933, 1936, 1938, 1939, 1940, 1941, 1942, 1943, 1944, 1945, 1946, 1947, 1948, 1949, 1950, 1951, 1952, 1953, 1954, 1955, 1956, 1957, 1958, 1959, 1960, 1961, 1962, 1963, 1964, 1965, 1966, 1967, 1968, 1969, 1970, 1971, 1972, 1973, 1974, 1975, 1976, 1977, 1978, 1979, 1980, 1981, 1982, 1983, 1984, 1985, 1986, 1987, 1988, 1989, 1990, 1991, 1992, 1993, 1994, 1995, 1996, 1997, 1998, 1999, 2000, 2001, 2002, 2003, 2004, 2005, 2006, 2007, 2008, 2009, 2010, 2011, 2012, 2013, 2014, 2015, 2016, 2017, 2018, 2019], \"y\": [1, 1, 2, 2, 5, 6, 3, 2, 1, 1, 1, 1, 1, 1, 1, 1, 1, 1, 2, 9, 16, 20, 46, 26, 13, 3, 7, 13, 14, 16, 9, 11, 7, 7, 7, 15, 1, 11, 9, 11, 8, 7, 13, 7, 7, 11, 6, 11, 8, 9, 3, 3, 7, 6, 12, 3, 3, 10, 12, 12, 8, 9, 10, 13, 10, 11, 13, 11, 11, 13, 7, 9, 10, 13, 10, 8, 8, 11, 7, 12, 8, 4, 8, 12, 5, 7, 7, 7, 3, 7, 2, 3, 3, 1, 1, 3, 2]}, {\"mode\": \"lines+markers\", \"name\": \"Civilian\", \"type\": \"scatter\", \"x\": [1913, 1918, 1919, 1920, 1921, 1922, 1923, 1924, 1925, 1926, 1927, 1928, 1929, 1930, 1931, 1932, 1933, 1934, 1935, 1936, 1937, 1938, 1939, 1940, 1941, 1942, 1943, 1944, 1945, 1946, 1947, 1948, 1949, 1950, 1951, 1952, 1953, 1954, 1955, 1956, 1957, 1958, 1959, 1960, 1961, 1962, 1963, 1964, 1965, 1966, 1967, 1968, 1969, 1970, 1971, 1972, 1973, 1974, 1975, 1976, 1977, 1978, 1979, 1980, 1981, 1982, 1983, 1984, 1985, 1986, 1987, 1988, 1989, 1990, 1991, 1992, 1993, 1994, 1995, 1996, 1997, 1998, 1999, 2000, 2001, 2002, 2003, 2004, 2005, 2006, 2007, 2008, 2009, 2010, 2011, 2012, 2013, 2014, 2015, 2016, 2017, 2018, 2019], \"y\": [1, 1, 9, 18, 10, 10, 12, 7, 10, 12, 20, 36, 38, 25, 33, 28, 27, 31, 40, 49, 34, 55, 29, 24, 25, 29, 27, 36, 28, 61, 69, 74, 60, 56, 61, 49, 60, 50, 50, 46, 59, 53, 65, 59, 51, 66, 52, 48, 49, 52, 51, 54, 63, 62, 50, 68, 61, 55, 44, 51, 51, 48, 57, 35, 38, 42, 40, 39, 46, 37, 44, 53, 70, 50, 58, 53, 49, 65, 50, 55, 46, 51, 54, 52, 51, 43, 54, 42, 37, 26, 38, 43, 39, 33, 32, 19, 23, 20, 15, 22, 14, 13, 7]}],\n",
       "                        {\"font\": {\"size\": 16}, \"template\": {\"data\": {\"bar\": [{\"error_x\": {\"color\": \"#2a3f5f\"}, \"error_y\": {\"color\": \"#2a3f5f\"}, \"marker\": {\"line\": {\"color\": \"#E5ECF6\", \"width\": 0.5}}, \"type\": \"bar\"}], \"barpolar\": [{\"marker\": {\"line\": {\"color\": \"#E5ECF6\", \"width\": 0.5}}, \"type\": \"barpolar\"}], \"carpet\": [{\"aaxis\": {\"endlinecolor\": \"#2a3f5f\", \"gridcolor\": \"white\", \"linecolor\": \"white\", \"minorgridcolor\": \"white\", \"startlinecolor\": \"#2a3f5f\"}, \"baxis\": {\"endlinecolor\": \"#2a3f5f\", \"gridcolor\": \"white\", \"linecolor\": \"white\", \"minorgridcolor\": \"white\", \"startlinecolor\": \"#2a3f5f\"}, \"type\": \"carpet\"}], \"choropleth\": [{\"colorbar\": {\"outlinewidth\": 0, \"ticks\": \"\"}, \"type\": \"choropleth\"}], \"contour\": [{\"colorbar\": {\"outlinewidth\": 0, \"ticks\": \"\"}, \"colorscale\": [[0.0, \"#0d0887\"], [0.1111111111111111, \"#46039f\"], [0.2222222222222222, \"#7201a8\"], [0.3333333333333333, \"#9c179e\"], [0.4444444444444444, \"#bd3786\"], [0.5555555555555556, \"#d8576b\"], [0.6666666666666666, \"#ed7953\"], [0.7777777777777778, \"#fb9f3a\"], [0.8888888888888888, \"#fdca26\"], [1.0, \"#f0f921\"]], \"type\": \"contour\"}], \"contourcarpet\": [{\"colorbar\": {\"outlinewidth\": 0, \"ticks\": \"\"}, \"type\": \"contourcarpet\"}], \"heatmap\": [{\"colorbar\": {\"outlinewidth\": 0, \"ticks\": \"\"}, \"colorscale\": [[0.0, \"#0d0887\"], [0.1111111111111111, \"#46039f\"], [0.2222222222222222, \"#7201a8\"], [0.3333333333333333, \"#9c179e\"], [0.4444444444444444, \"#bd3786\"], [0.5555555555555556, \"#d8576b\"], [0.6666666666666666, \"#ed7953\"], [0.7777777777777778, \"#fb9f3a\"], [0.8888888888888888, \"#fdca26\"], [1.0, \"#f0f921\"]], \"type\": \"heatmap\"}], \"heatmapgl\": [{\"colorbar\": {\"outlinewidth\": 0, \"ticks\": \"\"}, \"colorscale\": [[0.0, \"#0d0887\"], [0.1111111111111111, \"#46039f\"], [0.2222222222222222, \"#7201a8\"], [0.3333333333333333, \"#9c179e\"], [0.4444444444444444, \"#bd3786\"], [0.5555555555555556, \"#d8576b\"], [0.6666666666666666, \"#ed7953\"], [0.7777777777777778, \"#fb9f3a\"], [0.8888888888888888, \"#fdca26\"], [1.0, \"#f0f921\"]], \"type\": \"heatmapgl\"}], \"histogram\": [{\"marker\": {\"colorbar\": {\"outlinewidth\": 0, \"ticks\": \"\"}}, \"type\": \"histogram\"}], \"histogram2d\": [{\"colorbar\": {\"outlinewidth\": 0, \"ticks\": \"\"}, \"colorscale\": [[0.0, \"#0d0887\"], [0.1111111111111111, \"#46039f\"], [0.2222222222222222, \"#7201a8\"], [0.3333333333333333, \"#9c179e\"], [0.4444444444444444, \"#bd3786\"], [0.5555555555555556, \"#d8576b\"], [0.6666666666666666, \"#ed7953\"], [0.7777777777777778, \"#fb9f3a\"], [0.8888888888888888, \"#fdca26\"], [1.0, \"#f0f921\"]], \"type\": \"histogram2d\"}], \"histogram2dcontour\": [{\"colorbar\": {\"outlinewidth\": 0, \"ticks\": \"\"}, \"colorscale\": [[0.0, \"#0d0887\"], [0.1111111111111111, \"#46039f\"], [0.2222222222222222, \"#7201a8\"], [0.3333333333333333, \"#9c179e\"], [0.4444444444444444, \"#bd3786\"], [0.5555555555555556, \"#d8576b\"], [0.6666666666666666, \"#ed7953\"], [0.7777777777777778, \"#fb9f3a\"], [0.8888888888888888, \"#fdca26\"], [1.0, \"#f0f921\"]], \"type\": \"histogram2dcontour\"}], \"mesh3d\": [{\"colorbar\": {\"outlinewidth\": 0, \"ticks\": \"\"}, \"type\": \"mesh3d\"}], \"parcoords\": [{\"line\": {\"colorbar\": {\"outlinewidth\": 0, \"ticks\": \"\"}}, \"type\": \"parcoords\"}], \"scatter\": [{\"marker\": {\"colorbar\": {\"outlinewidth\": 0, \"ticks\": \"\"}}, \"type\": \"scatter\"}], \"scatter3d\": [{\"line\": {\"colorbar\": {\"outlinewidth\": 0, \"ticks\": \"\"}}, \"marker\": {\"colorbar\": {\"outlinewidth\": 0, \"ticks\": \"\"}}, \"type\": \"scatter3d\"}], \"scattercarpet\": [{\"marker\": {\"colorbar\": {\"outlinewidth\": 0, \"ticks\": \"\"}}, \"type\": \"scattercarpet\"}], \"scattergeo\": [{\"marker\": {\"colorbar\": {\"outlinewidth\": 0, \"ticks\": \"\"}}, \"type\": \"scattergeo\"}], \"scattergl\": [{\"marker\": {\"colorbar\": {\"outlinewidth\": 0, \"ticks\": \"\"}}, \"type\": \"scattergl\"}], \"scattermapbox\": [{\"marker\": {\"colorbar\": {\"outlinewidth\": 0, \"ticks\": \"\"}}, \"type\": \"scattermapbox\"}], \"scatterpolar\": [{\"marker\": {\"colorbar\": {\"outlinewidth\": 0, \"ticks\": \"\"}}, \"type\": \"scatterpolar\"}], \"scatterpolargl\": [{\"marker\": {\"colorbar\": {\"outlinewidth\": 0, \"ticks\": \"\"}}, \"type\": \"scatterpolargl\"}], \"scatterternary\": [{\"marker\": {\"colorbar\": {\"outlinewidth\": 0, \"ticks\": \"\"}}, \"type\": \"scatterternary\"}], \"surface\": [{\"colorbar\": {\"outlinewidth\": 0, \"ticks\": \"\"}, \"colorscale\": [[0.0, \"#0d0887\"], [0.1111111111111111, \"#46039f\"], [0.2222222222222222, \"#7201a8\"], [0.3333333333333333, \"#9c179e\"], [0.4444444444444444, \"#bd3786\"], [0.5555555555555556, \"#d8576b\"], [0.6666666666666666, \"#ed7953\"], [0.7777777777777778, \"#fb9f3a\"], [0.8888888888888888, \"#fdca26\"], [1.0, \"#f0f921\"]], \"type\": \"surface\"}], \"table\": [{\"cells\": {\"fill\": {\"color\": \"#EBF0F8\"}, \"line\": {\"color\": \"white\"}}, \"header\": {\"fill\": {\"color\": \"#C8D4E3\"}, \"line\": {\"color\": \"white\"}}, \"type\": \"table\"}]}, \"layout\": {\"annotationdefaults\": {\"arrowcolor\": \"#2a3f5f\", \"arrowhead\": 0, \"arrowwidth\": 1}, \"colorscale\": {\"diverging\": [[0, \"#8e0152\"], [0.1, \"#c51b7d\"], [0.2, \"#de77ae\"], [0.3, \"#f1b6da\"], [0.4, \"#fde0ef\"], [0.5, \"#f7f7f7\"], [0.6, \"#e6f5d0\"], [0.7, \"#b8e186\"], [0.8, \"#7fbc41\"], [0.9, \"#4d9221\"], [1, \"#276419\"]], \"sequential\": [[0.0, \"#0d0887\"], [0.1111111111111111, \"#46039f\"], [0.2222222222222222, \"#7201a8\"], [0.3333333333333333, \"#9c179e\"], [0.4444444444444444, \"#bd3786\"], [0.5555555555555556, \"#d8576b\"], [0.6666666666666666, \"#ed7953\"], [0.7777777777777778, \"#fb9f3a\"], [0.8888888888888888, \"#fdca26\"], [1.0, \"#f0f921\"]], \"sequentialminus\": [[0.0, \"#0d0887\"], [0.1111111111111111, \"#46039f\"], [0.2222222222222222, \"#7201a8\"], [0.3333333333333333, \"#9c179e\"], [0.4444444444444444, \"#bd3786\"], [0.5555555555555556, \"#d8576b\"], [0.6666666666666666, \"#ed7953\"], [0.7777777777777778, \"#fb9f3a\"], [0.8888888888888888, \"#fdca26\"], [1.0, \"#f0f921\"]]}, \"colorway\": [\"#636efa\", \"#EF553B\", \"#00cc96\", \"#ab63fa\", \"#FFA15A\", \"#19d3f3\", \"#FF6692\", \"#B6E880\", \"#FF97FF\", \"#FECB52\"], \"font\": {\"color\": \"#2a3f5f\"}, \"geo\": {\"bgcolor\": \"white\", \"lakecolor\": \"white\", \"landcolor\": \"#E5ECF6\", \"showlakes\": true, \"showland\": true, \"subunitcolor\": \"white\"}, \"hoverlabel\": {\"align\": \"left\"}, \"hovermode\": \"closest\", \"mapbox\": {\"style\": \"light\"}, \"paper_bgcolor\": \"white\", \"plot_bgcolor\": \"#E5ECF6\", \"polar\": {\"angularaxis\": {\"gridcolor\": \"white\", \"linecolor\": \"white\", \"ticks\": \"\"}, \"bgcolor\": \"#E5ECF6\", \"radialaxis\": {\"gridcolor\": \"white\", \"linecolor\": \"white\", \"ticks\": \"\"}}, \"scene\": {\"xaxis\": {\"backgroundcolor\": \"#E5ECF6\", \"gridcolor\": \"white\", \"gridwidth\": 2, \"linecolor\": \"white\", \"showbackground\": true, \"ticks\": \"\", \"zerolinecolor\": \"white\"}, \"yaxis\": {\"backgroundcolor\": \"#E5ECF6\", \"gridcolor\": \"white\", \"gridwidth\": 2, \"linecolor\": \"white\", \"showbackground\": true, \"ticks\": \"\", \"zerolinecolor\": \"white\"}, \"zaxis\": {\"backgroundcolor\": \"#E5ECF6\", \"gridcolor\": \"white\", \"gridwidth\": 2, \"linecolor\": \"white\", \"showbackground\": true, \"ticks\": \"\", \"zerolinecolor\": \"white\"}}, \"shapedefaults\": {\"line\": {\"color\": \"#2a3f5f\"}}, \"ternary\": {\"aaxis\": {\"gridcolor\": \"white\", \"linecolor\": \"white\", \"ticks\": \"\"}, \"baxis\": {\"gridcolor\": \"white\", \"linecolor\": \"white\", \"ticks\": \"\"}, \"bgcolor\": \"#E5ECF6\", \"caxis\": {\"gridcolor\": \"white\", \"linecolor\": \"white\", \"ticks\": \"\"}}, \"title\": {\"x\": 0.05}, \"xaxis\": {\"automargin\": true, \"gridcolor\": \"white\", \"linecolor\": \"white\", \"ticks\": \"\", \"zerolinecolor\": \"white\", \"zerolinewidth\": 2}, \"yaxis\": {\"automargin\": true, \"gridcolor\": \"white\", \"linecolor\": \"white\", \"ticks\": \"\", \"zerolinecolor\": \"white\", \"zerolinewidth\": 2}}}, \"title\": {\"text\": \"Airplanes Crashes from 1908 to 30-07-2019\"}, \"xaxis\": {\"title\": {\"text\": \"Year\"}}, \"yaxis\": {\"title\": {\"text\": \"Crashes\"}}},\n",
       "                        {\"responsive\": true}\n",
       "                    ).then(function(){\n",
       "                            \n",
       "var gd = document.getElementById('7d1fc8a0-2654-4b52-86bd-d73579245505');\n",
       "var x = new MutationObserver(function (mutations, observer) {{\n",
       "        var display = window.getComputedStyle(gd).display;\n",
       "        if (!display || display === 'none') {{\n",
       "            console.log([gd, 'removed!']);\n",
       "            Plotly.purge(gd);\n",
       "            observer.disconnect();\n",
       "        }}\n",
       "}});\n",
       "\n",
       "// Listen for the removal of the full notebook cells\n",
       "var notebookContainer = gd.closest('#notebook-container');\n",
       "if (notebookContainer) {{\n",
       "    x.observe(notebookContainer, {childList: true});\n",
       "}}\n",
       "\n",
       "// Listen for the clearing of the current output cell\n",
       "var outputEl = gd.closest('.output');\n",
       "if (outputEl) {{\n",
       "    x.observe(outputEl, {childList: true});\n",
       "}}\n",
       "\n",
       "                        })\n",
       "                };\n",
       "                });\n",
       "            </script>\n",
       "        </div>"
      ]
     },
     "metadata": {},
     "output_type": "display_data"
    }
   ],
   "source": [
    "#incidenti per anno,separati per incidenti militari e civili\n",
    "crashes_year_military = dataset[dataset['Operator'].str.contains('Military', regex=False, na=False)]\n",
    "crashes_year_civilian = dataset[dataset['Operator'].str.contains('Military')==False]\n",
    "crashes_year_military = crashes_year_military['Year'].value_counts().sort_index()\n",
    "crashes_year_civilian = crashes_year_civilian['Year'].value_counts().sort_index()\n",
    "\n",
    "data = [\n",
    "    go.Bar(name='Military', x=crashes_year_military.index, y = crashes_year_military.values),\n",
    "    go.Bar(name='Civilian', x=crashes_year_civilian.index, y = crashes_year_civilian.values)\n",
    "]\n",
    "\n",
    "layout = go.Layout(title=\"Airplanes Crashes from 1908 to 30-07-2019\",xaxis=dict(title=\"Year\",),yaxis=dict(title=\"Crashes\"), font=dict(size=16))\n",
    "fig = go.Figure(data, layout)\n",
    "fig.update_layout(barmode='stack')                      \n",
    "py.iplot(fig)\n",
    "\n",
    "data = [\n",
    "    go.Scatter(name='Military', x=crashes_year_military.index,y=crashes_year_military.values, mode = 'lines+markers'),\n",
    "    go.Scatter(name='Civilian', x=crashes_year_civilian.index,y=crashes_year_civilian.values, mode = 'lines+markers')\n",
    "]\n",
    "\n",
    "layout = go.Layout(title=\"Airplanes Crashes from 1908 to 30-07-2019\",xaxis=dict(title=\"Year\",),yaxis=dict(title=\"Crashes\"),font=dict(size=16))\n",
    "fig = go.Figure(data, layout)\n",
    "py.iplot(fig)"
   ]
  },
  {
   "cell_type": "markdown",
   "metadata": {},
   "source": [
    "Gli incidenti di aerei militari risultano verificati meno di quelli civili, gli aerei militari sono più robusti e crashano di meno? Oppure non tutti gli incidenti militari vengono annunciati"
   ]
  },
  {
   "cell_type": "markdown",
   "metadata": {
    "slideshow": {
     "slide_type": "slide"
    }
   },
   "source": [
    " ## 2.1 Numero di morti a causa degli incidenti aerei per anno"
   ]
  },
  {
   "cell_type": "markdown",
   "metadata": {},
   "source": [
    "Partendo dai dati delle vittime e di quelli che erano a bordo, possiamo calcolare il numero di persone sopravissute per ogni incidente.\n",
    "Sostituisco anche i valori non numerici nella colonna creata 'Survived' con il valore 0."
   ]
  },
  {
   "cell_type": "code",
   "execution_count": 8,
   "metadata": {},
   "outputs": [],
   "source": [
    "# dropping null values from Aboard and Fatalities columns and see if there are any outliers (like Fatalities being\n",
    "# greater than Aboard)\n",
    "dataset[[\"Aboard\",\"Fatalities\"]].dropna()[dataset[\"Fatalities\"] > dataset[\"Aboard\"]]\n",
    "dataset['Survived'] = dataset['Aboard'] - dataset['Fatalities']\n",
    "dataset['Survived'].fillna(0, inplace = True)"
   ]
  },
  {
   "cell_type": "code",
   "execution_count": 9,
   "metadata": {},
   "outputs": [
    {
     "data": {
      "application/vnd.plotly.v1+json": {
       "config": {
        "linkText": "Export to plot.ly",
        "plotlyServerURL": "https://plot.ly",
        "showLink": false
       },
       "data": [
        {
         "name": "Survived",
         "type": "bar",
         "x": [
          1908,
          1909,
          1912,
          1913,
          1915,
          1916,
          1917,
          1918,
          1919,
          1920,
          1921,
          1922,
          1923,
          1924,
          1925,
          1926,
          1927,
          1928,
          1929,
          1930,
          1931,
          1932,
          1933,
          1934,
          1935,
          1936,
          1937,
          1938,
          1939,
          1940,
          1941,
          1942,
          1943,
          1944,
          1945,
          1946,
          1947,
          1948,
          1949,
          1950,
          1951,
          1952,
          1953,
          1954,
          1955,
          1956,
          1957,
          1958,
          1959,
          1960,
          1961,
          1962,
          1963,
          1964,
          1965,
          1966,
          1967,
          1968,
          1969,
          1970,
          1971,
          1972,
          1973,
          1974,
          1975,
          1976,
          1977,
          1978,
          1979,
          1980,
          1981,
          1982,
          1983,
          1984,
          1985,
          1986,
          1987,
          1988,
          1989,
          1990,
          1991,
          1992,
          1993,
          1994,
          1995,
          1996,
          1997,
          1998,
          1999,
          2000,
          2001,
          2002,
          2003,
          2004,
          2005,
          2006,
          2007,
          2008,
          2009,
          2010,
          2011,
          2012,
          2013,
          2014,
          2015,
          2016,
          2017,
          2018,
          2019
         ],
         "y": [
          1,
          0,
          0,
          6,
          20,
          1,
          2,
          0,
          0,
          7,
          0,
          13,
          13,
          0,
          29,
          27,
          17,
          21,
          45,
          42,
          19,
          13,
          31,
          35,
          63,
          107,
          161,
          89,
          57,
          41,
          129,
          77,
          62,
          113,
          125,
          322,
          448,
          286,
          463,
          261,
          168,
          307,
          328,
          188,
          346,
          507,
          495,
          390,
          221,
          396,
          570,
          457,
          295,
          359,
          569,
          332,
          542,
          711,
          607,
          698,
          638,
          675,
          1002,
          636,
          707,
          645,
          538,
          1142,
          486,
          915,
          334,
          1656,
          750,
          458,
          797,
          1028,
          354,
          992,
          1359,
          1079,
          612,
          835,
          821,
          1218,
          447,
          669,
          806,
          465,
          2017,
          913,
          704,
          344,
          231,
          215,
          857,
          256,
          577,
          635,
          534,
          425,
          264,
          108,
          495,
          34,
          37,
          388,
          31,
          365,
          38
         ]
        },
        {
         "name": "Fatalities",
         "type": "bar",
         "x": [
          1908,
          1909,
          1912,
          1913,
          1915,
          1916,
          1917,
          1918,
          1919,
          1920,
          1921,
          1922,
          1923,
          1924,
          1925,
          1926,
          1927,
          1928,
          1929,
          1930,
          1931,
          1932,
          1933,
          1934,
          1935,
          1936,
          1937,
          1938,
          1939,
          1940,
          1941,
          1942,
          1943,
          1944,
          1945,
          1946,
          1947,
          1948,
          1949,
          1950,
          1951,
          1952,
          1953,
          1954,
          1955,
          1956,
          1957,
          1958,
          1959,
          1960,
          1961,
          1962,
          1963,
          1964,
          1965,
          1966,
          1967,
          1968,
          1969,
          1970,
          1971,
          1972,
          1973,
          1974,
          1975,
          1976,
          1977,
          1978,
          1979,
          1980,
          1981,
          1982,
          1983,
          1984,
          1985,
          1986,
          1987,
          1988,
          1989,
          1990,
          1991,
          1992,
          1993,
          1994,
          1995,
          1996,
          1997,
          1998,
          1999,
          2000,
          2001,
          2002,
          2003,
          2004,
          2005,
          2006,
          2007,
          2008,
          2009,
          2010,
          2011,
          2012,
          2013,
          2014,
          2015,
          2016,
          2017,
          2018,
          2019
         ],
         "y": [
          1,
          1,
          5,
          45,
          40,
          108,
          138,
          65,
          23,
          25,
          67,
          89,
          78,
          20,
          34,
          36,
          52,
          113,
          133,
          147,
          102,
          73,
          206,
          140,
          242,
          271,
          240,
          444,
          168,
          253,
          277,
          497,
          716,
          710,
          1360,
          1327,
          1314,
          1264,
          1163,
          1438,
          1258,
          1274,
          1307,
          958,
          913,
          991,
          1115,
          1384,
          1141,
          1684,
          1564,
          2125,
          1381,
          1306,
          1775,
          1672,
          1568,
          1881,
          1928,
          1920,
          1784,
          2796,
          2323,
          2242,
          1460,
          1842,
          2102,
          1444,
          1838,
          1717,
          1168,
          1708,
          1564,
          921,
          2590,
          1392,
          1632,
          1945,
          2210,
          1125,
          1725,
          2012,
          1508,
          1806,
          1491,
          2314,
          1632,
          1508,
          863,
          1430,
          1336,
          1371,
          1279,
          662,
          1294,
          1118,
          888,
          713,
          1083,
          1044,
          720,
          587,
          287,
          1142,
          759,
          515,
          210,
          838,
          267
         ]
        }
       ],
       "layout": {
        "barmode": "stack",
        "font": {
         "size": 14
        },
        "template": {
         "data": {
          "bar": [
           {
            "error_x": {
             "color": "#2a3f5f"
            },
            "error_y": {
             "color": "#2a3f5f"
            },
            "marker": {
             "line": {
              "color": "#E5ECF6",
              "width": 0.5
             }
            },
            "type": "bar"
           }
          ],
          "barpolar": [
           {
            "marker": {
             "line": {
              "color": "#E5ECF6",
              "width": 0.5
             }
            },
            "type": "barpolar"
           }
          ],
          "carpet": [
           {
            "aaxis": {
             "endlinecolor": "#2a3f5f",
             "gridcolor": "white",
             "linecolor": "white",
             "minorgridcolor": "white",
             "startlinecolor": "#2a3f5f"
            },
            "baxis": {
             "endlinecolor": "#2a3f5f",
             "gridcolor": "white",
             "linecolor": "white",
             "minorgridcolor": "white",
             "startlinecolor": "#2a3f5f"
            },
            "type": "carpet"
           }
          ],
          "choropleth": [
           {
            "colorbar": {
             "outlinewidth": 0,
             "ticks": ""
            },
            "type": "choropleth"
           }
          ],
          "contour": [
           {
            "colorbar": {
             "outlinewidth": 0,
             "ticks": ""
            },
            "colorscale": [
             [
              0,
              "#0d0887"
             ],
             [
              0.1111111111111111,
              "#46039f"
             ],
             [
              0.2222222222222222,
              "#7201a8"
             ],
             [
              0.3333333333333333,
              "#9c179e"
             ],
             [
              0.4444444444444444,
              "#bd3786"
             ],
             [
              0.5555555555555556,
              "#d8576b"
             ],
             [
              0.6666666666666666,
              "#ed7953"
             ],
             [
              0.7777777777777778,
              "#fb9f3a"
             ],
             [
              0.8888888888888888,
              "#fdca26"
             ],
             [
              1,
              "#f0f921"
             ]
            ],
            "type": "contour"
           }
          ],
          "contourcarpet": [
           {
            "colorbar": {
             "outlinewidth": 0,
             "ticks": ""
            },
            "type": "contourcarpet"
           }
          ],
          "heatmap": [
           {
            "colorbar": {
             "outlinewidth": 0,
             "ticks": ""
            },
            "colorscale": [
             [
              0,
              "#0d0887"
             ],
             [
              0.1111111111111111,
              "#46039f"
             ],
             [
              0.2222222222222222,
              "#7201a8"
             ],
             [
              0.3333333333333333,
              "#9c179e"
             ],
             [
              0.4444444444444444,
              "#bd3786"
             ],
             [
              0.5555555555555556,
              "#d8576b"
             ],
             [
              0.6666666666666666,
              "#ed7953"
             ],
             [
              0.7777777777777778,
              "#fb9f3a"
             ],
             [
              0.8888888888888888,
              "#fdca26"
             ],
             [
              1,
              "#f0f921"
             ]
            ],
            "type": "heatmap"
           }
          ],
          "heatmapgl": [
           {
            "colorbar": {
             "outlinewidth": 0,
             "ticks": ""
            },
            "colorscale": [
             [
              0,
              "#0d0887"
             ],
             [
              0.1111111111111111,
              "#46039f"
             ],
             [
              0.2222222222222222,
              "#7201a8"
             ],
             [
              0.3333333333333333,
              "#9c179e"
             ],
             [
              0.4444444444444444,
              "#bd3786"
             ],
             [
              0.5555555555555556,
              "#d8576b"
             ],
             [
              0.6666666666666666,
              "#ed7953"
             ],
             [
              0.7777777777777778,
              "#fb9f3a"
             ],
             [
              0.8888888888888888,
              "#fdca26"
             ],
             [
              1,
              "#f0f921"
             ]
            ],
            "type": "heatmapgl"
           }
          ],
          "histogram": [
           {
            "marker": {
             "colorbar": {
              "outlinewidth": 0,
              "ticks": ""
             }
            },
            "type": "histogram"
           }
          ],
          "histogram2d": [
           {
            "colorbar": {
             "outlinewidth": 0,
             "ticks": ""
            },
            "colorscale": [
             [
              0,
              "#0d0887"
             ],
             [
              0.1111111111111111,
              "#46039f"
             ],
             [
              0.2222222222222222,
              "#7201a8"
             ],
             [
              0.3333333333333333,
              "#9c179e"
             ],
             [
              0.4444444444444444,
              "#bd3786"
             ],
             [
              0.5555555555555556,
              "#d8576b"
             ],
             [
              0.6666666666666666,
              "#ed7953"
             ],
             [
              0.7777777777777778,
              "#fb9f3a"
             ],
             [
              0.8888888888888888,
              "#fdca26"
             ],
             [
              1,
              "#f0f921"
             ]
            ],
            "type": "histogram2d"
           }
          ],
          "histogram2dcontour": [
           {
            "colorbar": {
             "outlinewidth": 0,
             "ticks": ""
            },
            "colorscale": [
             [
              0,
              "#0d0887"
             ],
             [
              0.1111111111111111,
              "#46039f"
             ],
             [
              0.2222222222222222,
              "#7201a8"
             ],
             [
              0.3333333333333333,
              "#9c179e"
             ],
             [
              0.4444444444444444,
              "#bd3786"
             ],
             [
              0.5555555555555556,
              "#d8576b"
             ],
             [
              0.6666666666666666,
              "#ed7953"
             ],
             [
              0.7777777777777778,
              "#fb9f3a"
             ],
             [
              0.8888888888888888,
              "#fdca26"
             ],
             [
              1,
              "#f0f921"
             ]
            ],
            "type": "histogram2dcontour"
           }
          ],
          "mesh3d": [
           {
            "colorbar": {
             "outlinewidth": 0,
             "ticks": ""
            },
            "type": "mesh3d"
           }
          ],
          "parcoords": [
           {
            "line": {
             "colorbar": {
              "outlinewidth": 0,
              "ticks": ""
             }
            },
            "type": "parcoords"
           }
          ],
          "scatter": [
           {
            "marker": {
             "colorbar": {
              "outlinewidth": 0,
              "ticks": ""
             }
            },
            "type": "scatter"
           }
          ],
          "scatter3d": [
           {
            "line": {
             "colorbar": {
              "outlinewidth": 0,
              "ticks": ""
             }
            },
            "marker": {
             "colorbar": {
              "outlinewidth": 0,
              "ticks": ""
             }
            },
            "type": "scatter3d"
           }
          ],
          "scattercarpet": [
           {
            "marker": {
             "colorbar": {
              "outlinewidth": 0,
              "ticks": ""
             }
            },
            "type": "scattercarpet"
           }
          ],
          "scattergeo": [
           {
            "marker": {
             "colorbar": {
              "outlinewidth": 0,
              "ticks": ""
             }
            },
            "type": "scattergeo"
           }
          ],
          "scattergl": [
           {
            "marker": {
             "colorbar": {
              "outlinewidth": 0,
              "ticks": ""
             }
            },
            "type": "scattergl"
           }
          ],
          "scattermapbox": [
           {
            "marker": {
             "colorbar": {
              "outlinewidth": 0,
              "ticks": ""
             }
            },
            "type": "scattermapbox"
           }
          ],
          "scatterpolar": [
           {
            "marker": {
             "colorbar": {
              "outlinewidth": 0,
              "ticks": ""
             }
            },
            "type": "scatterpolar"
           }
          ],
          "scatterpolargl": [
           {
            "marker": {
             "colorbar": {
              "outlinewidth": 0,
              "ticks": ""
             }
            },
            "type": "scatterpolargl"
           }
          ],
          "scatterternary": [
           {
            "marker": {
             "colorbar": {
              "outlinewidth": 0,
              "ticks": ""
             }
            },
            "type": "scatterternary"
           }
          ],
          "surface": [
           {
            "colorbar": {
             "outlinewidth": 0,
             "ticks": ""
            },
            "colorscale": [
             [
              0,
              "#0d0887"
             ],
             [
              0.1111111111111111,
              "#46039f"
             ],
             [
              0.2222222222222222,
              "#7201a8"
             ],
             [
              0.3333333333333333,
              "#9c179e"
             ],
             [
              0.4444444444444444,
              "#bd3786"
             ],
             [
              0.5555555555555556,
              "#d8576b"
             ],
             [
              0.6666666666666666,
              "#ed7953"
             ],
             [
              0.7777777777777778,
              "#fb9f3a"
             ],
             [
              0.8888888888888888,
              "#fdca26"
             ],
             [
              1,
              "#f0f921"
             ]
            ],
            "type": "surface"
           }
          ],
          "table": [
           {
            "cells": {
             "fill": {
              "color": "#EBF0F8"
             },
             "line": {
              "color": "white"
             }
            },
            "header": {
             "fill": {
              "color": "#C8D4E3"
             },
             "line": {
              "color": "white"
             }
            },
            "type": "table"
           }
          ]
         },
         "layout": {
          "annotationdefaults": {
           "arrowcolor": "#2a3f5f",
           "arrowhead": 0,
           "arrowwidth": 1
          },
          "colorscale": {
           "diverging": [
            [
             0,
             "#8e0152"
            ],
            [
             0.1,
             "#c51b7d"
            ],
            [
             0.2,
             "#de77ae"
            ],
            [
             0.3,
             "#f1b6da"
            ],
            [
             0.4,
             "#fde0ef"
            ],
            [
             0.5,
             "#f7f7f7"
            ],
            [
             0.6,
             "#e6f5d0"
            ],
            [
             0.7,
             "#b8e186"
            ],
            [
             0.8,
             "#7fbc41"
            ],
            [
             0.9,
             "#4d9221"
            ],
            [
             1,
             "#276419"
            ]
           ],
           "sequential": [
            [
             0,
             "#0d0887"
            ],
            [
             0.1111111111111111,
             "#46039f"
            ],
            [
             0.2222222222222222,
             "#7201a8"
            ],
            [
             0.3333333333333333,
             "#9c179e"
            ],
            [
             0.4444444444444444,
             "#bd3786"
            ],
            [
             0.5555555555555556,
             "#d8576b"
            ],
            [
             0.6666666666666666,
             "#ed7953"
            ],
            [
             0.7777777777777778,
             "#fb9f3a"
            ],
            [
             0.8888888888888888,
             "#fdca26"
            ],
            [
             1,
             "#f0f921"
            ]
           ],
           "sequentialminus": [
            [
             0,
             "#0d0887"
            ],
            [
             0.1111111111111111,
             "#46039f"
            ],
            [
             0.2222222222222222,
             "#7201a8"
            ],
            [
             0.3333333333333333,
             "#9c179e"
            ],
            [
             0.4444444444444444,
             "#bd3786"
            ],
            [
             0.5555555555555556,
             "#d8576b"
            ],
            [
             0.6666666666666666,
             "#ed7953"
            ],
            [
             0.7777777777777778,
             "#fb9f3a"
            ],
            [
             0.8888888888888888,
             "#fdca26"
            ],
            [
             1,
             "#f0f921"
            ]
           ]
          },
          "colorway": [
           "#636efa",
           "#EF553B",
           "#00cc96",
           "#ab63fa",
           "#FFA15A",
           "#19d3f3",
           "#FF6692",
           "#B6E880",
           "#FF97FF",
           "#FECB52"
          ],
          "font": {
           "color": "#2a3f5f"
          },
          "geo": {
           "bgcolor": "white",
           "lakecolor": "white",
           "landcolor": "#E5ECF6",
           "showlakes": true,
           "showland": true,
           "subunitcolor": "white"
          },
          "hoverlabel": {
           "align": "left"
          },
          "hovermode": "closest",
          "mapbox": {
           "style": "light"
          },
          "paper_bgcolor": "white",
          "plot_bgcolor": "#E5ECF6",
          "polar": {
           "angularaxis": {
            "gridcolor": "white",
            "linecolor": "white",
            "ticks": ""
           },
           "bgcolor": "#E5ECF6",
           "radialaxis": {
            "gridcolor": "white",
            "linecolor": "white",
            "ticks": ""
           }
          },
          "scene": {
           "xaxis": {
            "backgroundcolor": "#E5ECF6",
            "gridcolor": "white",
            "gridwidth": 2,
            "linecolor": "white",
            "showbackground": true,
            "ticks": "",
            "zerolinecolor": "white"
           },
           "yaxis": {
            "backgroundcolor": "#E5ECF6",
            "gridcolor": "white",
            "gridwidth": 2,
            "linecolor": "white",
            "showbackground": true,
            "ticks": "",
            "zerolinecolor": "white"
           },
           "zaxis": {
            "backgroundcolor": "#E5ECF6",
            "gridcolor": "white",
            "gridwidth": 2,
            "linecolor": "white",
            "showbackground": true,
            "ticks": "",
            "zerolinecolor": "white"
           }
          },
          "shapedefaults": {
           "line": {
            "color": "#2a3f5f"
           }
          },
          "ternary": {
           "aaxis": {
            "gridcolor": "white",
            "linecolor": "white",
            "ticks": ""
           },
           "baxis": {
            "gridcolor": "white",
            "linecolor": "white",
            "ticks": ""
           },
           "bgcolor": "#E5ECF6",
           "caxis": {
            "gridcolor": "white",
            "linecolor": "white",
            "ticks": ""
           }
          },
          "title": {
           "x": 0.05
          },
          "xaxis": {
           "automargin": true,
           "gridcolor": "white",
           "linecolor": "white",
           "ticks": "",
           "zerolinecolor": "white",
           "zerolinewidth": 2
          },
          "yaxis": {
           "automargin": true,
           "gridcolor": "white",
           "linecolor": "white",
           "ticks": "",
           "zerolinecolor": "white",
           "zerolinewidth": 2
          }
         }
        },
        "title": {
         "text": "Fatalities and survived in the crashes by year"
        },
        "xaxis": {
         "title": {
          "text": "Year"
         }
        },
        "yaxis": {
         "title": {
          "text": "Survived - Fatalities"
         }
        }
       }
      },
      "text/html": [
       "<div>\n",
       "        \n",
       "        \n",
       "            <div id=\"042b7b3d-0f8d-46a2-8a42-3b54458b6713\" class=\"plotly-graph-div\" style=\"height:525px; width:100%;\"></div>\n",
       "            <script type=\"text/javascript\">\n",
       "                require([\"plotly\"], function(Plotly) {\n",
       "                    window.PLOTLYENV=window.PLOTLYENV || {};\n",
       "                    \n",
       "                if (document.getElementById(\"042b7b3d-0f8d-46a2-8a42-3b54458b6713\")) {\n",
       "                    Plotly.newPlot(\n",
       "                        '042b7b3d-0f8d-46a2-8a42-3b54458b6713',\n",
       "                        [{\"name\": \"Survived\", \"type\": \"bar\", \"x\": [1908, 1909, 1912, 1913, 1915, 1916, 1917, 1918, 1919, 1920, 1921, 1922, 1923, 1924, 1925, 1926, 1927, 1928, 1929, 1930, 1931, 1932, 1933, 1934, 1935, 1936, 1937, 1938, 1939, 1940, 1941, 1942, 1943, 1944, 1945, 1946, 1947, 1948, 1949, 1950, 1951, 1952, 1953, 1954, 1955, 1956, 1957, 1958, 1959, 1960, 1961, 1962, 1963, 1964, 1965, 1966, 1967, 1968, 1969, 1970, 1971, 1972, 1973, 1974, 1975, 1976, 1977, 1978, 1979, 1980, 1981, 1982, 1983, 1984, 1985, 1986, 1987, 1988, 1989, 1990, 1991, 1992, 1993, 1994, 1995, 1996, 1997, 1998, 1999, 2000, 2001, 2002, 2003, 2004, 2005, 2006, 2007, 2008, 2009, 2010, 2011, 2012, 2013, 2014, 2015, 2016, 2017, 2018, 2019], \"y\": [1.0, 0.0, 0.0, 6.0, 20.0, 1.0, 2.0, 0.0, 0.0, 7.0, 0.0, 13.0, 13.0, 0.0, 29.0, 27.0, 17.0, 21.0, 45.0, 42.0, 19.0, 13.0, 31.0, 35.0, 63.0, 107.0, 161.0, 89.0, 57.0, 41.0, 129.0, 77.0, 62.0, 113.0, 125.0, 322.0, 448.0, 286.0, 463.0, 261.0, 168.0, 307.0, 328.0, 188.0, 346.0, 507.0, 495.0, 390.0, 221.0, 396.0, 570.0, 457.0, 295.0, 359.0, 569.0, 332.0, 542.0, 711.0, 607.0, 698.0, 638.0, 675.0, 1002.0, 636.0, 707.0, 645.0, 538.0, 1142.0, 486.0, 915.0, 334.0, 1656.0, 750.0, 458.0, 797.0, 1028.0, 354.0, 992.0, 1359.0, 1079.0, 612.0, 835.0, 821.0, 1218.0, 447.0, 669.0, 806.0, 465.0, 2017.0, 913.0, 704.0, 344.0, 231.0, 215.0, 857.0, 256.0, 577.0, 635.0, 534.0, 425.0, 264.0, 108.0, 495.0, 34.0, 37.0, 388.0, 31.0, 365.0, 38.0]}, {\"name\": \"Fatalities\", \"type\": \"bar\", \"x\": [1908, 1909, 1912, 1913, 1915, 1916, 1917, 1918, 1919, 1920, 1921, 1922, 1923, 1924, 1925, 1926, 1927, 1928, 1929, 1930, 1931, 1932, 1933, 1934, 1935, 1936, 1937, 1938, 1939, 1940, 1941, 1942, 1943, 1944, 1945, 1946, 1947, 1948, 1949, 1950, 1951, 1952, 1953, 1954, 1955, 1956, 1957, 1958, 1959, 1960, 1961, 1962, 1963, 1964, 1965, 1966, 1967, 1968, 1969, 1970, 1971, 1972, 1973, 1974, 1975, 1976, 1977, 1978, 1979, 1980, 1981, 1982, 1983, 1984, 1985, 1986, 1987, 1988, 1989, 1990, 1991, 1992, 1993, 1994, 1995, 1996, 1997, 1998, 1999, 2000, 2001, 2002, 2003, 2004, 2005, 2006, 2007, 2008, 2009, 2010, 2011, 2012, 2013, 2014, 2015, 2016, 2017, 2018, 2019], \"y\": [1.0, 1.0, 5.0, 45.0, 40.0, 108.0, 138.0, 65.0, 23.0, 25.0, 67.0, 89.0, 78.0, 20.0, 34.0, 36.0, 52.0, 113.0, 133.0, 147.0, 102.0, 73.0, 206.0, 140.0, 242.0, 271.0, 240.0, 444.0, 168.0, 253.0, 277.0, 497.0, 716.0, 710.0, 1360.0, 1327.0, 1314.0, 1264.0, 1163.0, 1438.0, 1258.0, 1274.0, 1307.0, 958.0, 913.0, 991.0, 1115.0, 1384.0, 1141.0, 1684.0, 1564.0, 2125.0, 1381.0, 1306.0, 1775.0, 1672.0, 1568.0, 1881.0, 1928.0, 1920.0, 1784.0, 2796.0, 2323.0, 2242.0, 1460.0, 1842.0, 2102.0, 1444.0, 1838.0, 1717.0, 1168.0, 1708.0, 1564.0, 921.0, 2590.0, 1392.0, 1632.0, 1945.0, 2210.0, 1125.0, 1725.0, 2012.0, 1508.0, 1806.0, 1491.0, 2314.0, 1632.0, 1508.0, 863.0, 1430.0, 1336.0, 1371.0, 1279.0, 662.0, 1294.0, 1118.0, 888.0, 713.0, 1083.0, 1044.0, 720.0, 587.0, 287.0, 1142.0, 759.0, 515.0, 210.0, 838.0, 267.0]}],\n",
       "                        {\"barmode\": \"stack\", \"font\": {\"size\": 14}, \"template\": {\"data\": {\"bar\": [{\"error_x\": {\"color\": \"#2a3f5f\"}, \"error_y\": {\"color\": \"#2a3f5f\"}, \"marker\": {\"line\": {\"color\": \"#E5ECF6\", \"width\": 0.5}}, \"type\": \"bar\"}], \"barpolar\": [{\"marker\": {\"line\": {\"color\": \"#E5ECF6\", \"width\": 0.5}}, \"type\": \"barpolar\"}], \"carpet\": [{\"aaxis\": {\"endlinecolor\": \"#2a3f5f\", \"gridcolor\": \"white\", \"linecolor\": \"white\", \"minorgridcolor\": \"white\", \"startlinecolor\": \"#2a3f5f\"}, \"baxis\": {\"endlinecolor\": \"#2a3f5f\", \"gridcolor\": \"white\", \"linecolor\": \"white\", \"minorgridcolor\": \"white\", \"startlinecolor\": \"#2a3f5f\"}, \"type\": \"carpet\"}], \"choropleth\": [{\"colorbar\": {\"outlinewidth\": 0, \"ticks\": \"\"}, \"type\": \"choropleth\"}], \"contour\": [{\"colorbar\": {\"outlinewidth\": 0, \"ticks\": \"\"}, \"colorscale\": [[0.0, \"#0d0887\"], [0.1111111111111111, \"#46039f\"], [0.2222222222222222, \"#7201a8\"], [0.3333333333333333, \"#9c179e\"], [0.4444444444444444, \"#bd3786\"], [0.5555555555555556, \"#d8576b\"], [0.6666666666666666, \"#ed7953\"], [0.7777777777777778, \"#fb9f3a\"], [0.8888888888888888, \"#fdca26\"], [1.0, \"#f0f921\"]], \"type\": \"contour\"}], \"contourcarpet\": [{\"colorbar\": {\"outlinewidth\": 0, \"ticks\": \"\"}, \"type\": \"contourcarpet\"}], \"heatmap\": [{\"colorbar\": {\"outlinewidth\": 0, \"ticks\": \"\"}, \"colorscale\": [[0.0, \"#0d0887\"], [0.1111111111111111, \"#46039f\"], [0.2222222222222222, \"#7201a8\"], [0.3333333333333333, \"#9c179e\"], [0.4444444444444444, \"#bd3786\"], [0.5555555555555556, \"#d8576b\"], [0.6666666666666666, \"#ed7953\"], [0.7777777777777778, \"#fb9f3a\"], [0.8888888888888888, \"#fdca26\"], [1.0, \"#f0f921\"]], \"type\": \"heatmap\"}], \"heatmapgl\": [{\"colorbar\": {\"outlinewidth\": 0, \"ticks\": \"\"}, \"colorscale\": [[0.0, \"#0d0887\"], [0.1111111111111111, \"#46039f\"], [0.2222222222222222, \"#7201a8\"], [0.3333333333333333, \"#9c179e\"], [0.4444444444444444, \"#bd3786\"], [0.5555555555555556, \"#d8576b\"], [0.6666666666666666, \"#ed7953\"], [0.7777777777777778, \"#fb9f3a\"], [0.8888888888888888, \"#fdca26\"], [1.0, \"#f0f921\"]], \"type\": \"heatmapgl\"}], \"histogram\": [{\"marker\": {\"colorbar\": {\"outlinewidth\": 0, \"ticks\": \"\"}}, \"type\": \"histogram\"}], \"histogram2d\": [{\"colorbar\": {\"outlinewidth\": 0, \"ticks\": \"\"}, \"colorscale\": [[0.0, \"#0d0887\"], [0.1111111111111111, \"#46039f\"], [0.2222222222222222, \"#7201a8\"], [0.3333333333333333, \"#9c179e\"], [0.4444444444444444, \"#bd3786\"], [0.5555555555555556, \"#d8576b\"], [0.6666666666666666, \"#ed7953\"], [0.7777777777777778, \"#fb9f3a\"], [0.8888888888888888, \"#fdca26\"], [1.0, \"#f0f921\"]], \"type\": \"histogram2d\"}], \"histogram2dcontour\": [{\"colorbar\": {\"outlinewidth\": 0, \"ticks\": \"\"}, \"colorscale\": [[0.0, \"#0d0887\"], [0.1111111111111111, \"#46039f\"], [0.2222222222222222, \"#7201a8\"], [0.3333333333333333, \"#9c179e\"], [0.4444444444444444, \"#bd3786\"], [0.5555555555555556, \"#d8576b\"], [0.6666666666666666, \"#ed7953\"], [0.7777777777777778, \"#fb9f3a\"], [0.8888888888888888, \"#fdca26\"], [1.0, \"#f0f921\"]], \"type\": \"histogram2dcontour\"}], \"mesh3d\": [{\"colorbar\": {\"outlinewidth\": 0, \"ticks\": \"\"}, \"type\": \"mesh3d\"}], \"parcoords\": [{\"line\": {\"colorbar\": {\"outlinewidth\": 0, \"ticks\": \"\"}}, \"type\": \"parcoords\"}], \"scatter\": [{\"marker\": {\"colorbar\": {\"outlinewidth\": 0, \"ticks\": \"\"}}, \"type\": \"scatter\"}], \"scatter3d\": [{\"line\": {\"colorbar\": {\"outlinewidth\": 0, \"ticks\": \"\"}}, \"marker\": {\"colorbar\": {\"outlinewidth\": 0, \"ticks\": \"\"}}, \"type\": \"scatter3d\"}], \"scattercarpet\": [{\"marker\": {\"colorbar\": {\"outlinewidth\": 0, \"ticks\": \"\"}}, \"type\": \"scattercarpet\"}], \"scattergeo\": [{\"marker\": {\"colorbar\": {\"outlinewidth\": 0, \"ticks\": \"\"}}, \"type\": \"scattergeo\"}], \"scattergl\": [{\"marker\": {\"colorbar\": {\"outlinewidth\": 0, \"ticks\": \"\"}}, \"type\": \"scattergl\"}], \"scattermapbox\": [{\"marker\": {\"colorbar\": {\"outlinewidth\": 0, \"ticks\": \"\"}}, \"type\": \"scattermapbox\"}], \"scatterpolar\": [{\"marker\": {\"colorbar\": {\"outlinewidth\": 0, \"ticks\": \"\"}}, \"type\": \"scatterpolar\"}], \"scatterpolargl\": [{\"marker\": {\"colorbar\": {\"outlinewidth\": 0, \"ticks\": \"\"}}, \"type\": \"scatterpolargl\"}], \"scatterternary\": [{\"marker\": {\"colorbar\": {\"outlinewidth\": 0, \"ticks\": \"\"}}, \"type\": \"scatterternary\"}], \"surface\": [{\"colorbar\": {\"outlinewidth\": 0, \"ticks\": \"\"}, \"colorscale\": [[0.0, \"#0d0887\"], [0.1111111111111111, \"#46039f\"], [0.2222222222222222, \"#7201a8\"], [0.3333333333333333, \"#9c179e\"], [0.4444444444444444, \"#bd3786\"], [0.5555555555555556, \"#d8576b\"], [0.6666666666666666, \"#ed7953\"], [0.7777777777777778, \"#fb9f3a\"], [0.8888888888888888, \"#fdca26\"], [1.0, \"#f0f921\"]], \"type\": \"surface\"}], \"table\": [{\"cells\": {\"fill\": {\"color\": \"#EBF0F8\"}, \"line\": {\"color\": \"white\"}}, \"header\": {\"fill\": {\"color\": \"#C8D4E3\"}, \"line\": {\"color\": \"white\"}}, \"type\": \"table\"}]}, \"layout\": {\"annotationdefaults\": {\"arrowcolor\": \"#2a3f5f\", \"arrowhead\": 0, \"arrowwidth\": 1}, \"colorscale\": {\"diverging\": [[0, \"#8e0152\"], [0.1, \"#c51b7d\"], [0.2, \"#de77ae\"], [0.3, \"#f1b6da\"], [0.4, \"#fde0ef\"], [0.5, \"#f7f7f7\"], [0.6, \"#e6f5d0\"], [0.7, \"#b8e186\"], [0.8, \"#7fbc41\"], [0.9, \"#4d9221\"], [1, \"#276419\"]], \"sequential\": [[0.0, \"#0d0887\"], [0.1111111111111111, \"#46039f\"], [0.2222222222222222, \"#7201a8\"], [0.3333333333333333, \"#9c179e\"], [0.4444444444444444, \"#bd3786\"], [0.5555555555555556, \"#d8576b\"], [0.6666666666666666, \"#ed7953\"], [0.7777777777777778, \"#fb9f3a\"], [0.8888888888888888, \"#fdca26\"], [1.0, \"#f0f921\"]], \"sequentialminus\": [[0.0, \"#0d0887\"], [0.1111111111111111, \"#46039f\"], [0.2222222222222222, \"#7201a8\"], [0.3333333333333333, \"#9c179e\"], [0.4444444444444444, \"#bd3786\"], [0.5555555555555556, \"#d8576b\"], [0.6666666666666666, \"#ed7953\"], [0.7777777777777778, \"#fb9f3a\"], [0.8888888888888888, \"#fdca26\"], [1.0, \"#f0f921\"]]}, \"colorway\": [\"#636efa\", \"#EF553B\", \"#00cc96\", \"#ab63fa\", \"#FFA15A\", \"#19d3f3\", \"#FF6692\", \"#B6E880\", \"#FF97FF\", \"#FECB52\"], \"font\": {\"color\": \"#2a3f5f\"}, \"geo\": {\"bgcolor\": \"white\", \"lakecolor\": \"white\", \"landcolor\": \"#E5ECF6\", \"showlakes\": true, \"showland\": true, \"subunitcolor\": \"white\"}, \"hoverlabel\": {\"align\": \"left\"}, \"hovermode\": \"closest\", \"mapbox\": {\"style\": \"light\"}, \"paper_bgcolor\": \"white\", \"plot_bgcolor\": \"#E5ECF6\", \"polar\": {\"angularaxis\": {\"gridcolor\": \"white\", \"linecolor\": \"white\", \"ticks\": \"\"}, \"bgcolor\": \"#E5ECF6\", \"radialaxis\": {\"gridcolor\": \"white\", \"linecolor\": \"white\", \"ticks\": \"\"}}, \"scene\": {\"xaxis\": {\"backgroundcolor\": \"#E5ECF6\", \"gridcolor\": \"white\", \"gridwidth\": 2, \"linecolor\": \"white\", \"showbackground\": true, \"ticks\": \"\", \"zerolinecolor\": \"white\"}, \"yaxis\": {\"backgroundcolor\": \"#E5ECF6\", \"gridcolor\": \"white\", \"gridwidth\": 2, \"linecolor\": \"white\", \"showbackground\": true, \"ticks\": \"\", \"zerolinecolor\": \"white\"}, \"zaxis\": {\"backgroundcolor\": \"#E5ECF6\", \"gridcolor\": \"white\", \"gridwidth\": 2, \"linecolor\": \"white\", \"showbackground\": true, \"ticks\": \"\", \"zerolinecolor\": \"white\"}}, \"shapedefaults\": {\"line\": {\"color\": \"#2a3f5f\"}}, \"ternary\": {\"aaxis\": {\"gridcolor\": \"white\", \"linecolor\": \"white\", \"ticks\": \"\"}, \"baxis\": {\"gridcolor\": \"white\", \"linecolor\": \"white\", \"ticks\": \"\"}, \"bgcolor\": \"#E5ECF6\", \"caxis\": {\"gridcolor\": \"white\", \"linecolor\": \"white\", \"ticks\": \"\"}}, \"title\": {\"x\": 0.05}, \"xaxis\": {\"automargin\": true, \"gridcolor\": \"white\", \"linecolor\": \"white\", \"ticks\": \"\", \"zerolinecolor\": \"white\", \"zerolinewidth\": 2}, \"yaxis\": {\"automargin\": true, \"gridcolor\": \"white\", \"linecolor\": \"white\", \"ticks\": \"\", \"zerolinecolor\": \"white\", \"zerolinewidth\": 2}}}, \"title\": {\"text\": \"Fatalities and survived in the crashes by year\"}, \"xaxis\": {\"title\": {\"text\": \"Year\"}}, \"yaxis\": {\"title\": {\"text\": \"Survived - Fatalities\"}}},\n",
       "                        {\"responsive\": true}\n",
       "                    ).then(function(){\n",
       "                            \n",
       "var gd = document.getElementById('042b7b3d-0f8d-46a2-8a42-3b54458b6713');\n",
       "var x = new MutationObserver(function (mutations, observer) {{\n",
       "        var display = window.getComputedStyle(gd).display;\n",
       "        if (!display || display === 'none') {{\n",
       "            console.log([gd, 'removed!']);\n",
       "            Plotly.purge(gd);\n",
       "            observer.disconnect();\n",
       "        }}\n",
       "}});\n",
       "\n",
       "// Listen for the removal of the full notebook cells\n",
       "var notebookContainer = gd.closest('#notebook-container');\n",
       "if (notebookContainer) {{\n",
       "    x.observe(notebookContainer, {childList: true});\n",
       "}}\n",
       "\n",
       "// Listen for the clearing of the current output cell\n",
       "var outputEl = gd.closest('.output');\n",
       "if (outputEl) {{\n",
       "    x.observe(outputEl, {childList: true});\n",
       "}}\n",
       "\n",
       "                        })\n",
       "                };\n",
       "                });\n",
       "            </script>\n",
       "        </div>"
      ]
     },
     "metadata": {},
     "output_type": "display_data"
    },
    {
     "data": {
      "application/vnd.plotly.v1+json": {
       "config": {
        "linkText": "Export to plot.ly",
        "plotlyServerURL": "https://plot.ly",
        "showLink": false
       },
       "data": [
        {
         "fill": "tozeroy",
         "name": "Aboard",
         "type": "scatter",
         "x": [
          1908,
          1909,
          1912,
          1913,
          1915,
          1916,
          1917,
          1918,
          1919,
          1920,
          1921,
          1922,
          1923,
          1924,
          1925,
          1926,
          1927,
          1928,
          1929,
          1930,
          1931,
          1932,
          1933,
          1934,
          1935,
          1936,
          1937,
          1938,
          1939,
          1940,
          1941,
          1942,
          1943,
          1944,
          1945,
          1946,
          1947,
          1948,
          1949,
          1950,
          1951,
          1952,
          1953,
          1954,
          1955,
          1956,
          1957,
          1958,
          1959,
          1960,
          1961,
          1962,
          1963,
          1964,
          1965,
          1966,
          1967,
          1968,
          1969,
          1970,
          1971,
          1972,
          1973,
          1974,
          1975,
          1976,
          1977,
          1978,
          1979,
          1980,
          1981,
          1982,
          1983,
          1984,
          1985,
          1986,
          1987,
          1988,
          1989,
          1990,
          1991,
          1992,
          1993,
          1994,
          1995,
          1996,
          1997,
          1998,
          1999,
          2000,
          2001,
          2002,
          2003,
          2004,
          2005,
          2006,
          2007,
          2008,
          2009,
          2010,
          2011,
          2012,
          2013,
          2014,
          2015,
          2016,
          2017,
          2018,
          2019
         ],
         "y": [
          2,
          1,
          5,
          51,
          60,
          109,
          140,
          65,
          23,
          32,
          67,
          102,
          91,
          20,
          63,
          63,
          69,
          134,
          178,
          189,
          121,
          86,
          237,
          175,
          305,
          378,
          401,
          533,
          225,
          294,
          406,
          574,
          778,
          823,
          1485,
          1649,
          1762,
          1550,
          1626,
          1689,
          1410,
          1572,
          1609,
          1146,
          1259,
          1497,
          1603,
          1774,
          1362,
          2080,
          2134,
          2582,
          1676,
          1665,
          2344,
          2004,
          2110,
          2592,
          2535,
          2618,
          2422,
          3471,
          3325,
          2878,
          2167,
          2487,
          2640,
          2586,
          2324,
          2632,
          1502,
          3364,
          2314,
          1379,
          3387,
          2420,
          1986,
          2937,
          3559,
          2204,
          2337,
          2846,
          2329,
          3024,
          1938,
          2983,
          2438,
          1973,
          2880,
          2343,
          2040,
          1715,
          1510,
          877,
          2151,
          1374,
          1465,
          1348,
          1617,
          1469,
          984,
          695,
          782,
          1176,
          796,
          903,
          241,
          1203,
          305
         ]
        },
        {
         "fill": "tozeroy",
         "name": "Fatalities",
         "type": "scatter",
         "x": [
          1908,
          1909,
          1912,
          1913,
          1915,
          1916,
          1917,
          1918,
          1919,
          1920,
          1921,
          1922,
          1923,
          1924,
          1925,
          1926,
          1927,
          1928,
          1929,
          1930,
          1931,
          1932,
          1933,
          1934,
          1935,
          1936,
          1937,
          1938,
          1939,
          1940,
          1941,
          1942,
          1943,
          1944,
          1945,
          1946,
          1947,
          1948,
          1949,
          1950,
          1951,
          1952,
          1953,
          1954,
          1955,
          1956,
          1957,
          1958,
          1959,
          1960,
          1961,
          1962,
          1963,
          1964,
          1965,
          1966,
          1967,
          1968,
          1969,
          1970,
          1971,
          1972,
          1973,
          1974,
          1975,
          1976,
          1977,
          1978,
          1979,
          1980,
          1981,
          1982,
          1983,
          1984,
          1985,
          1986,
          1987,
          1988,
          1989,
          1990,
          1991,
          1992,
          1993,
          1994,
          1995,
          1996,
          1997,
          1998,
          1999,
          2000,
          2001,
          2002,
          2003,
          2004,
          2005,
          2006,
          2007,
          2008,
          2009,
          2010,
          2011,
          2012,
          2013,
          2014,
          2015,
          2016,
          2017,
          2018,
          2019
         ],
         "y": [
          1,
          1,
          5,
          45,
          40,
          108,
          138,
          65,
          23,
          25,
          67,
          89,
          78,
          20,
          34,
          36,
          52,
          113,
          133,
          147,
          102,
          73,
          206,
          140,
          242,
          271,
          240,
          444,
          168,
          253,
          277,
          497,
          716,
          710,
          1360,
          1327,
          1314,
          1264,
          1163,
          1438,
          1258,
          1274,
          1307,
          958,
          913,
          991,
          1115,
          1384,
          1141,
          1684,
          1564,
          2125,
          1381,
          1306,
          1775,
          1672,
          1568,
          1881,
          1928,
          1920,
          1784,
          2796,
          2323,
          2242,
          1460,
          1842,
          2102,
          1444,
          1838,
          1717,
          1168,
          1708,
          1564,
          921,
          2590,
          1392,
          1632,
          1945,
          2210,
          1125,
          1725,
          2012,
          1508,
          1806,
          1491,
          2314,
          1632,
          1508,
          863,
          1430,
          1336,
          1371,
          1279,
          662,
          1294,
          1118,
          888,
          713,
          1083,
          1044,
          720,
          587,
          287,
          1142,
          759,
          515,
          210,
          838,
          267
         ]
        }
       ],
       "layout": {
        "font": {
         "size": 14
        },
        "template": {
         "data": {
          "bar": [
           {
            "error_x": {
             "color": "#2a3f5f"
            },
            "error_y": {
             "color": "#2a3f5f"
            },
            "marker": {
             "line": {
              "color": "#E5ECF6",
              "width": 0.5
             }
            },
            "type": "bar"
           }
          ],
          "barpolar": [
           {
            "marker": {
             "line": {
              "color": "#E5ECF6",
              "width": 0.5
             }
            },
            "type": "barpolar"
           }
          ],
          "carpet": [
           {
            "aaxis": {
             "endlinecolor": "#2a3f5f",
             "gridcolor": "white",
             "linecolor": "white",
             "minorgridcolor": "white",
             "startlinecolor": "#2a3f5f"
            },
            "baxis": {
             "endlinecolor": "#2a3f5f",
             "gridcolor": "white",
             "linecolor": "white",
             "minorgridcolor": "white",
             "startlinecolor": "#2a3f5f"
            },
            "type": "carpet"
           }
          ],
          "choropleth": [
           {
            "colorbar": {
             "outlinewidth": 0,
             "ticks": ""
            },
            "type": "choropleth"
           }
          ],
          "contour": [
           {
            "colorbar": {
             "outlinewidth": 0,
             "ticks": ""
            },
            "colorscale": [
             [
              0,
              "#0d0887"
             ],
             [
              0.1111111111111111,
              "#46039f"
             ],
             [
              0.2222222222222222,
              "#7201a8"
             ],
             [
              0.3333333333333333,
              "#9c179e"
             ],
             [
              0.4444444444444444,
              "#bd3786"
             ],
             [
              0.5555555555555556,
              "#d8576b"
             ],
             [
              0.6666666666666666,
              "#ed7953"
             ],
             [
              0.7777777777777778,
              "#fb9f3a"
             ],
             [
              0.8888888888888888,
              "#fdca26"
             ],
             [
              1,
              "#f0f921"
             ]
            ],
            "type": "contour"
           }
          ],
          "contourcarpet": [
           {
            "colorbar": {
             "outlinewidth": 0,
             "ticks": ""
            },
            "type": "contourcarpet"
           }
          ],
          "heatmap": [
           {
            "colorbar": {
             "outlinewidth": 0,
             "ticks": ""
            },
            "colorscale": [
             [
              0,
              "#0d0887"
             ],
             [
              0.1111111111111111,
              "#46039f"
             ],
             [
              0.2222222222222222,
              "#7201a8"
             ],
             [
              0.3333333333333333,
              "#9c179e"
             ],
             [
              0.4444444444444444,
              "#bd3786"
             ],
             [
              0.5555555555555556,
              "#d8576b"
             ],
             [
              0.6666666666666666,
              "#ed7953"
             ],
             [
              0.7777777777777778,
              "#fb9f3a"
             ],
             [
              0.8888888888888888,
              "#fdca26"
             ],
             [
              1,
              "#f0f921"
             ]
            ],
            "type": "heatmap"
           }
          ],
          "heatmapgl": [
           {
            "colorbar": {
             "outlinewidth": 0,
             "ticks": ""
            },
            "colorscale": [
             [
              0,
              "#0d0887"
             ],
             [
              0.1111111111111111,
              "#46039f"
             ],
             [
              0.2222222222222222,
              "#7201a8"
             ],
             [
              0.3333333333333333,
              "#9c179e"
             ],
             [
              0.4444444444444444,
              "#bd3786"
             ],
             [
              0.5555555555555556,
              "#d8576b"
             ],
             [
              0.6666666666666666,
              "#ed7953"
             ],
             [
              0.7777777777777778,
              "#fb9f3a"
             ],
             [
              0.8888888888888888,
              "#fdca26"
             ],
             [
              1,
              "#f0f921"
             ]
            ],
            "type": "heatmapgl"
           }
          ],
          "histogram": [
           {
            "marker": {
             "colorbar": {
              "outlinewidth": 0,
              "ticks": ""
             }
            },
            "type": "histogram"
           }
          ],
          "histogram2d": [
           {
            "colorbar": {
             "outlinewidth": 0,
             "ticks": ""
            },
            "colorscale": [
             [
              0,
              "#0d0887"
             ],
             [
              0.1111111111111111,
              "#46039f"
             ],
             [
              0.2222222222222222,
              "#7201a8"
             ],
             [
              0.3333333333333333,
              "#9c179e"
             ],
             [
              0.4444444444444444,
              "#bd3786"
             ],
             [
              0.5555555555555556,
              "#d8576b"
             ],
             [
              0.6666666666666666,
              "#ed7953"
             ],
             [
              0.7777777777777778,
              "#fb9f3a"
             ],
             [
              0.8888888888888888,
              "#fdca26"
             ],
             [
              1,
              "#f0f921"
             ]
            ],
            "type": "histogram2d"
           }
          ],
          "histogram2dcontour": [
           {
            "colorbar": {
             "outlinewidth": 0,
             "ticks": ""
            },
            "colorscale": [
             [
              0,
              "#0d0887"
             ],
             [
              0.1111111111111111,
              "#46039f"
             ],
             [
              0.2222222222222222,
              "#7201a8"
             ],
             [
              0.3333333333333333,
              "#9c179e"
             ],
             [
              0.4444444444444444,
              "#bd3786"
             ],
             [
              0.5555555555555556,
              "#d8576b"
             ],
             [
              0.6666666666666666,
              "#ed7953"
             ],
             [
              0.7777777777777778,
              "#fb9f3a"
             ],
             [
              0.8888888888888888,
              "#fdca26"
             ],
             [
              1,
              "#f0f921"
             ]
            ],
            "type": "histogram2dcontour"
           }
          ],
          "mesh3d": [
           {
            "colorbar": {
             "outlinewidth": 0,
             "ticks": ""
            },
            "type": "mesh3d"
           }
          ],
          "parcoords": [
           {
            "line": {
             "colorbar": {
              "outlinewidth": 0,
              "ticks": ""
             }
            },
            "type": "parcoords"
           }
          ],
          "scatter": [
           {
            "marker": {
             "colorbar": {
              "outlinewidth": 0,
              "ticks": ""
             }
            },
            "type": "scatter"
           }
          ],
          "scatter3d": [
           {
            "line": {
             "colorbar": {
              "outlinewidth": 0,
              "ticks": ""
             }
            },
            "marker": {
             "colorbar": {
              "outlinewidth": 0,
              "ticks": ""
             }
            },
            "type": "scatter3d"
           }
          ],
          "scattercarpet": [
           {
            "marker": {
             "colorbar": {
              "outlinewidth": 0,
              "ticks": ""
             }
            },
            "type": "scattercarpet"
           }
          ],
          "scattergeo": [
           {
            "marker": {
             "colorbar": {
              "outlinewidth": 0,
              "ticks": ""
             }
            },
            "type": "scattergeo"
           }
          ],
          "scattergl": [
           {
            "marker": {
             "colorbar": {
              "outlinewidth": 0,
              "ticks": ""
             }
            },
            "type": "scattergl"
           }
          ],
          "scattermapbox": [
           {
            "marker": {
             "colorbar": {
              "outlinewidth": 0,
              "ticks": ""
             }
            },
            "type": "scattermapbox"
           }
          ],
          "scatterpolar": [
           {
            "marker": {
             "colorbar": {
              "outlinewidth": 0,
              "ticks": ""
             }
            },
            "type": "scatterpolar"
           }
          ],
          "scatterpolargl": [
           {
            "marker": {
             "colorbar": {
              "outlinewidth": 0,
              "ticks": ""
             }
            },
            "type": "scatterpolargl"
           }
          ],
          "scatterternary": [
           {
            "marker": {
             "colorbar": {
              "outlinewidth": 0,
              "ticks": ""
             }
            },
            "type": "scatterternary"
           }
          ],
          "surface": [
           {
            "colorbar": {
             "outlinewidth": 0,
             "ticks": ""
            },
            "colorscale": [
             [
              0,
              "#0d0887"
             ],
             [
              0.1111111111111111,
              "#46039f"
             ],
             [
              0.2222222222222222,
              "#7201a8"
             ],
             [
              0.3333333333333333,
              "#9c179e"
             ],
             [
              0.4444444444444444,
              "#bd3786"
             ],
             [
              0.5555555555555556,
              "#d8576b"
             ],
             [
              0.6666666666666666,
              "#ed7953"
             ],
             [
              0.7777777777777778,
              "#fb9f3a"
             ],
             [
              0.8888888888888888,
              "#fdca26"
             ],
             [
              1,
              "#f0f921"
             ]
            ],
            "type": "surface"
           }
          ],
          "table": [
           {
            "cells": {
             "fill": {
              "color": "#EBF0F8"
             },
             "line": {
              "color": "white"
             }
            },
            "header": {
             "fill": {
              "color": "#C8D4E3"
             },
             "line": {
              "color": "white"
             }
            },
            "type": "table"
           }
          ]
         },
         "layout": {
          "annotationdefaults": {
           "arrowcolor": "#2a3f5f",
           "arrowhead": 0,
           "arrowwidth": 1
          },
          "colorscale": {
           "diverging": [
            [
             0,
             "#8e0152"
            ],
            [
             0.1,
             "#c51b7d"
            ],
            [
             0.2,
             "#de77ae"
            ],
            [
             0.3,
             "#f1b6da"
            ],
            [
             0.4,
             "#fde0ef"
            ],
            [
             0.5,
             "#f7f7f7"
            ],
            [
             0.6,
             "#e6f5d0"
            ],
            [
             0.7,
             "#b8e186"
            ],
            [
             0.8,
             "#7fbc41"
            ],
            [
             0.9,
             "#4d9221"
            ],
            [
             1,
             "#276419"
            ]
           ],
           "sequential": [
            [
             0,
             "#0d0887"
            ],
            [
             0.1111111111111111,
             "#46039f"
            ],
            [
             0.2222222222222222,
             "#7201a8"
            ],
            [
             0.3333333333333333,
             "#9c179e"
            ],
            [
             0.4444444444444444,
             "#bd3786"
            ],
            [
             0.5555555555555556,
             "#d8576b"
            ],
            [
             0.6666666666666666,
             "#ed7953"
            ],
            [
             0.7777777777777778,
             "#fb9f3a"
            ],
            [
             0.8888888888888888,
             "#fdca26"
            ],
            [
             1,
             "#f0f921"
            ]
           ],
           "sequentialminus": [
            [
             0,
             "#0d0887"
            ],
            [
             0.1111111111111111,
             "#46039f"
            ],
            [
             0.2222222222222222,
             "#7201a8"
            ],
            [
             0.3333333333333333,
             "#9c179e"
            ],
            [
             0.4444444444444444,
             "#bd3786"
            ],
            [
             0.5555555555555556,
             "#d8576b"
            ],
            [
             0.6666666666666666,
             "#ed7953"
            ],
            [
             0.7777777777777778,
             "#fb9f3a"
            ],
            [
             0.8888888888888888,
             "#fdca26"
            ],
            [
             1,
             "#f0f921"
            ]
           ]
          },
          "colorway": [
           "#636efa",
           "#EF553B",
           "#00cc96",
           "#ab63fa",
           "#FFA15A",
           "#19d3f3",
           "#FF6692",
           "#B6E880",
           "#FF97FF",
           "#FECB52"
          ],
          "font": {
           "color": "#2a3f5f"
          },
          "geo": {
           "bgcolor": "white",
           "lakecolor": "white",
           "landcolor": "#E5ECF6",
           "showlakes": true,
           "showland": true,
           "subunitcolor": "white"
          },
          "hoverlabel": {
           "align": "left"
          },
          "hovermode": "closest",
          "mapbox": {
           "style": "light"
          },
          "paper_bgcolor": "white",
          "plot_bgcolor": "#E5ECF6",
          "polar": {
           "angularaxis": {
            "gridcolor": "white",
            "linecolor": "white",
            "ticks": ""
           },
           "bgcolor": "#E5ECF6",
           "radialaxis": {
            "gridcolor": "white",
            "linecolor": "white",
            "ticks": ""
           }
          },
          "scene": {
           "xaxis": {
            "backgroundcolor": "#E5ECF6",
            "gridcolor": "white",
            "gridwidth": 2,
            "linecolor": "white",
            "showbackground": true,
            "ticks": "",
            "zerolinecolor": "white"
           },
           "yaxis": {
            "backgroundcolor": "#E5ECF6",
            "gridcolor": "white",
            "gridwidth": 2,
            "linecolor": "white",
            "showbackground": true,
            "ticks": "",
            "zerolinecolor": "white"
           },
           "zaxis": {
            "backgroundcolor": "#E5ECF6",
            "gridcolor": "white",
            "gridwidth": 2,
            "linecolor": "white",
            "showbackground": true,
            "ticks": "",
            "zerolinecolor": "white"
           }
          },
          "shapedefaults": {
           "line": {
            "color": "#2a3f5f"
           }
          },
          "ternary": {
           "aaxis": {
            "gridcolor": "white",
            "linecolor": "white",
            "ticks": ""
           },
           "baxis": {
            "gridcolor": "white",
            "linecolor": "white",
            "ticks": ""
           },
           "bgcolor": "#E5ECF6",
           "caxis": {
            "gridcolor": "white",
            "linecolor": "white",
            "ticks": ""
           }
          },
          "title": {
           "x": 0.05
          },
          "xaxis": {
           "automargin": true,
           "gridcolor": "white",
           "linecolor": "white",
           "ticks": "",
           "zerolinecolor": "white",
           "zerolinewidth": 2
          },
          "yaxis": {
           "automargin": true,
           "gridcolor": "white",
           "linecolor": "white",
           "ticks": "",
           "zerolinecolor": "white",
           "zerolinewidth": 2
          }
         }
        },
        "title": {
         "text": "Persons involved in the crashes by year"
        },
        "xaxis": {
         "title": {
          "text": "Year"
         }
        },
        "yaxis": {
         "title": {
          "text": "Number of persons"
         }
        }
       }
      },
      "text/html": [
       "<div>\n",
       "        \n",
       "        \n",
       "            <div id=\"841f7fec-b54e-4361-9596-92179ceb2216\" class=\"plotly-graph-div\" style=\"height:525px; width:100%;\"></div>\n",
       "            <script type=\"text/javascript\">\n",
       "                require([\"plotly\"], function(Plotly) {\n",
       "                    window.PLOTLYENV=window.PLOTLYENV || {};\n",
       "                    \n",
       "                if (document.getElementById(\"841f7fec-b54e-4361-9596-92179ceb2216\")) {\n",
       "                    Plotly.newPlot(\n",
       "                        '841f7fec-b54e-4361-9596-92179ceb2216',\n",
       "                        [{\"fill\": \"tozeroy\", \"name\": \"Aboard\", \"type\": \"scatter\", \"x\": [1908, 1909, 1912, 1913, 1915, 1916, 1917, 1918, 1919, 1920, 1921, 1922, 1923, 1924, 1925, 1926, 1927, 1928, 1929, 1930, 1931, 1932, 1933, 1934, 1935, 1936, 1937, 1938, 1939, 1940, 1941, 1942, 1943, 1944, 1945, 1946, 1947, 1948, 1949, 1950, 1951, 1952, 1953, 1954, 1955, 1956, 1957, 1958, 1959, 1960, 1961, 1962, 1963, 1964, 1965, 1966, 1967, 1968, 1969, 1970, 1971, 1972, 1973, 1974, 1975, 1976, 1977, 1978, 1979, 1980, 1981, 1982, 1983, 1984, 1985, 1986, 1987, 1988, 1989, 1990, 1991, 1992, 1993, 1994, 1995, 1996, 1997, 1998, 1999, 2000, 2001, 2002, 2003, 2004, 2005, 2006, 2007, 2008, 2009, 2010, 2011, 2012, 2013, 2014, 2015, 2016, 2017, 2018, 2019], \"y\": [2.0, 1.0, 5.0, 51.0, 60.0, 109.0, 140.0, 65.0, 23.0, 32.0, 67.0, 102.0, 91.0, 20.0, 63.0, 63.0, 69.0, 134.0, 178.0, 189.0, 121.0, 86.0, 237.0, 175.0, 305.0, 378.0, 401.0, 533.0, 225.0, 294.0, 406.0, 574.0, 778.0, 823.0, 1485.0, 1649.0, 1762.0, 1550.0, 1626.0, 1689.0, 1410.0, 1572.0, 1609.0, 1146.0, 1259.0, 1497.0, 1603.0, 1774.0, 1362.0, 2080.0, 2134.0, 2582.0, 1676.0, 1665.0, 2344.0, 2004.0, 2110.0, 2592.0, 2535.0, 2618.0, 2422.0, 3471.0, 3325.0, 2878.0, 2167.0, 2487.0, 2640.0, 2586.0, 2324.0, 2632.0, 1502.0, 3364.0, 2314.0, 1379.0, 3387.0, 2420.0, 1986.0, 2937.0, 3559.0, 2204.0, 2337.0, 2846.0, 2329.0, 3024.0, 1938.0, 2983.0, 2438.0, 1973.0, 2880.0, 2343.0, 2040.0, 1715.0, 1510.0, 877.0, 2151.0, 1374.0, 1465.0, 1348.0, 1617.0, 1469.0, 984.0, 695.0, 782.0, 1176.0, 796.0, 903.0, 241.0, 1203.0, 305.0]}, {\"fill\": \"tozeroy\", \"name\": \"Fatalities\", \"type\": \"scatter\", \"x\": [1908, 1909, 1912, 1913, 1915, 1916, 1917, 1918, 1919, 1920, 1921, 1922, 1923, 1924, 1925, 1926, 1927, 1928, 1929, 1930, 1931, 1932, 1933, 1934, 1935, 1936, 1937, 1938, 1939, 1940, 1941, 1942, 1943, 1944, 1945, 1946, 1947, 1948, 1949, 1950, 1951, 1952, 1953, 1954, 1955, 1956, 1957, 1958, 1959, 1960, 1961, 1962, 1963, 1964, 1965, 1966, 1967, 1968, 1969, 1970, 1971, 1972, 1973, 1974, 1975, 1976, 1977, 1978, 1979, 1980, 1981, 1982, 1983, 1984, 1985, 1986, 1987, 1988, 1989, 1990, 1991, 1992, 1993, 1994, 1995, 1996, 1997, 1998, 1999, 2000, 2001, 2002, 2003, 2004, 2005, 2006, 2007, 2008, 2009, 2010, 2011, 2012, 2013, 2014, 2015, 2016, 2017, 2018, 2019], \"y\": [1.0, 1.0, 5.0, 45.0, 40.0, 108.0, 138.0, 65.0, 23.0, 25.0, 67.0, 89.0, 78.0, 20.0, 34.0, 36.0, 52.0, 113.0, 133.0, 147.0, 102.0, 73.0, 206.0, 140.0, 242.0, 271.0, 240.0, 444.0, 168.0, 253.0, 277.0, 497.0, 716.0, 710.0, 1360.0, 1327.0, 1314.0, 1264.0, 1163.0, 1438.0, 1258.0, 1274.0, 1307.0, 958.0, 913.0, 991.0, 1115.0, 1384.0, 1141.0, 1684.0, 1564.0, 2125.0, 1381.0, 1306.0, 1775.0, 1672.0, 1568.0, 1881.0, 1928.0, 1920.0, 1784.0, 2796.0, 2323.0, 2242.0, 1460.0, 1842.0, 2102.0, 1444.0, 1838.0, 1717.0, 1168.0, 1708.0, 1564.0, 921.0, 2590.0, 1392.0, 1632.0, 1945.0, 2210.0, 1125.0, 1725.0, 2012.0, 1508.0, 1806.0, 1491.0, 2314.0, 1632.0, 1508.0, 863.0, 1430.0, 1336.0, 1371.0, 1279.0, 662.0, 1294.0, 1118.0, 888.0, 713.0, 1083.0, 1044.0, 720.0, 587.0, 287.0, 1142.0, 759.0, 515.0, 210.0, 838.0, 267.0]}],\n",
       "                        {\"font\": {\"size\": 14}, \"template\": {\"data\": {\"bar\": [{\"error_x\": {\"color\": \"#2a3f5f\"}, \"error_y\": {\"color\": \"#2a3f5f\"}, \"marker\": {\"line\": {\"color\": \"#E5ECF6\", \"width\": 0.5}}, \"type\": \"bar\"}], \"barpolar\": [{\"marker\": {\"line\": {\"color\": \"#E5ECF6\", \"width\": 0.5}}, \"type\": \"barpolar\"}], \"carpet\": [{\"aaxis\": {\"endlinecolor\": \"#2a3f5f\", \"gridcolor\": \"white\", \"linecolor\": \"white\", \"minorgridcolor\": \"white\", \"startlinecolor\": \"#2a3f5f\"}, \"baxis\": {\"endlinecolor\": \"#2a3f5f\", \"gridcolor\": \"white\", \"linecolor\": \"white\", \"minorgridcolor\": \"white\", \"startlinecolor\": \"#2a3f5f\"}, \"type\": \"carpet\"}], \"choropleth\": [{\"colorbar\": {\"outlinewidth\": 0, \"ticks\": \"\"}, \"type\": \"choropleth\"}], \"contour\": [{\"colorbar\": {\"outlinewidth\": 0, \"ticks\": \"\"}, \"colorscale\": [[0.0, \"#0d0887\"], [0.1111111111111111, \"#46039f\"], [0.2222222222222222, \"#7201a8\"], [0.3333333333333333, \"#9c179e\"], [0.4444444444444444, \"#bd3786\"], [0.5555555555555556, \"#d8576b\"], [0.6666666666666666, \"#ed7953\"], [0.7777777777777778, \"#fb9f3a\"], [0.8888888888888888, \"#fdca26\"], [1.0, \"#f0f921\"]], \"type\": \"contour\"}], \"contourcarpet\": [{\"colorbar\": {\"outlinewidth\": 0, \"ticks\": \"\"}, \"type\": \"contourcarpet\"}], \"heatmap\": [{\"colorbar\": {\"outlinewidth\": 0, \"ticks\": \"\"}, \"colorscale\": [[0.0, \"#0d0887\"], [0.1111111111111111, \"#46039f\"], [0.2222222222222222, \"#7201a8\"], [0.3333333333333333, \"#9c179e\"], [0.4444444444444444, \"#bd3786\"], [0.5555555555555556, \"#d8576b\"], [0.6666666666666666, \"#ed7953\"], [0.7777777777777778, \"#fb9f3a\"], [0.8888888888888888, \"#fdca26\"], [1.0, \"#f0f921\"]], \"type\": \"heatmap\"}], \"heatmapgl\": [{\"colorbar\": {\"outlinewidth\": 0, \"ticks\": \"\"}, \"colorscale\": [[0.0, \"#0d0887\"], [0.1111111111111111, \"#46039f\"], [0.2222222222222222, \"#7201a8\"], [0.3333333333333333, \"#9c179e\"], [0.4444444444444444, \"#bd3786\"], [0.5555555555555556, \"#d8576b\"], [0.6666666666666666, \"#ed7953\"], [0.7777777777777778, \"#fb9f3a\"], [0.8888888888888888, \"#fdca26\"], [1.0, \"#f0f921\"]], \"type\": \"heatmapgl\"}], \"histogram\": [{\"marker\": {\"colorbar\": {\"outlinewidth\": 0, \"ticks\": \"\"}}, \"type\": \"histogram\"}], \"histogram2d\": [{\"colorbar\": {\"outlinewidth\": 0, \"ticks\": \"\"}, \"colorscale\": [[0.0, \"#0d0887\"], [0.1111111111111111, \"#46039f\"], [0.2222222222222222, \"#7201a8\"], [0.3333333333333333, \"#9c179e\"], [0.4444444444444444, \"#bd3786\"], [0.5555555555555556, \"#d8576b\"], [0.6666666666666666, \"#ed7953\"], [0.7777777777777778, \"#fb9f3a\"], [0.8888888888888888, \"#fdca26\"], [1.0, \"#f0f921\"]], \"type\": \"histogram2d\"}], \"histogram2dcontour\": [{\"colorbar\": {\"outlinewidth\": 0, \"ticks\": \"\"}, \"colorscale\": [[0.0, \"#0d0887\"], [0.1111111111111111, \"#46039f\"], [0.2222222222222222, \"#7201a8\"], [0.3333333333333333, \"#9c179e\"], [0.4444444444444444, \"#bd3786\"], [0.5555555555555556, \"#d8576b\"], [0.6666666666666666, \"#ed7953\"], [0.7777777777777778, \"#fb9f3a\"], [0.8888888888888888, \"#fdca26\"], [1.0, \"#f0f921\"]], \"type\": \"histogram2dcontour\"}], \"mesh3d\": [{\"colorbar\": {\"outlinewidth\": 0, \"ticks\": \"\"}, \"type\": \"mesh3d\"}], \"parcoords\": [{\"line\": {\"colorbar\": {\"outlinewidth\": 0, \"ticks\": \"\"}}, \"type\": \"parcoords\"}], \"scatter\": [{\"marker\": {\"colorbar\": {\"outlinewidth\": 0, \"ticks\": \"\"}}, \"type\": \"scatter\"}], \"scatter3d\": [{\"line\": {\"colorbar\": {\"outlinewidth\": 0, \"ticks\": \"\"}}, \"marker\": {\"colorbar\": {\"outlinewidth\": 0, \"ticks\": \"\"}}, \"type\": \"scatter3d\"}], \"scattercarpet\": [{\"marker\": {\"colorbar\": {\"outlinewidth\": 0, \"ticks\": \"\"}}, \"type\": \"scattercarpet\"}], \"scattergeo\": [{\"marker\": {\"colorbar\": {\"outlinewidth\": 0, \"ticks\": \"\"}}, \"type\": \"scattergeo\"}], \"scattergl\": [{\"marker\": {\"colorbar\": {\"outlinewidth\": 0, \"ticks\": \"\"}}, \"type\": \"scattergl\"}], \"scattermapbox\": [{\"marker\": {\"colorbar\": {\"outlinewidth\": 0, \"ticks\": \"\"}}, \"type\": \"scattermapbox\"}], \"scatterpolar\": [{\"marker\": {\"colorbar\": {\"outlinewidth\": 0, \"ticks\": \"\"}}, \"type\": \"scatterpolar\"}], \"scatterpolargl\": [{\"marker\": {\"colorbar\": {\"outlinewidth\": 0, \"ticks\": \"\"}}, \"type\": \"scatterpolargl\"}], \"scatterternary\": [{\"marker\": {\"colorbar\": {\"outlinewidth\": 0, \"ticks\": \"\"}}, \"type\": \"scatterternary\"}], \"surface\": [{\"colorbar\": {\"outlinewidth\": 0, \"ticks\": \"\"}, \"colorscale\": [[0.0, \"#0d0887\"], [0.1111111111111111, \"#46039f\"], [0.2222222222222222, \"#7201a8\"], [0.3333333333333333, \"#9c179e\"], [0.4444444444444444, \"#bd3786\"], [0.5555555555555556, \"#d8576b\"], [0.6666666666666666, \"#ed7953\"], [0.7777777777777778, \"#fb9f3a\"], [0.8888888888888888, \"#fdca26\"], [1.0, \"#f0f921\"]], \"type\": \"surface\"}], \"table\": [{\"cells\": {\"fill\": {\"color\": \"#EBF0F8\"}, \"line\": {\"color\": \"white\"}}, \"header\": {\"fill\": {\"color\": \"#C8D4E3\"}, \"line\": {\"color\": \"white\"}}, \"type\": \"table\"}]}, \"layout\": {\"annotationdefaults\": {\"arrowcolor\": \"#2a3f5f\", \"arrowhead\": 0, \"arrowwidth\": 1}, \"colorscale\": {\"diverging\": [[0, \"#8e0152\"], [0.1, \"#c51b7d\"], [0.2, \"#de77ae\"], [0.3, \"#f1b6da\"], [0.4, \"#fde0ef\"], [0.5, \"#f7f7f7\"], [0.6, \"#e6f5d0\"], [0.7, \"#b8e186\"], [0.8, \"#7fbc41\"], [0.9, \"#4d9221\"], [1, \"#276419\"]], \"sequential\": [[0.0, \"#0d0887\"], [0.1111111111111111, \"#46039f\"], [0.2222222222222222, \"#7201a8\"], [0.3333333333333333, \"#9c179e\"], [0.4444444444444444, \"#bd3786\"], [0.5555555555555556, \"#d8576b\"], [0.6666666666666666, \"#ed7953\"], [0.7777777777777778, \"#fb9f3a\"], [0.8888888888888888, \"#fdca26\"], [1.0, \"#f0f921\"]], \"sequentialminus\": [[0.0, \"#0d0887\"], [0.1111111111111111, \"#46039f\"], [0.2222222222222222, \"#7201a8\"], [0.3333333333333333, \"#9c179e\"], [0.4444444444444444, \"#bd3786\"], [0.5555555555555556, \"#d8576b\"], [0.6666666666666666, \"#ed7953\"], [0.7777777777777778, \"#fb9f3a\"], [0.8888888888888888, \"#fdca26\"], [1.0, \"#f0f921\"]]}, \"colorway\": [\"#636efa\", \"#EF553B\", \"#00cc96\", \"#ab63fa\", \"#FFA15A\", \"#19d3f3\", \"#FF6692\", \"#B6E880\", \"#FF97FF\", \"#FECB52\"], \"font\": {\"color\": \"#2a3f5f\"}, \"geo\": {\"bgcolor\": \"white\", \"lakecolor\": \"white\", \"landcolor\": \"#E5ECF6\", \"showlakes\": true, \"showland\": true, \"subunitcolor\": \"white\"}, \"hoverlabel\": {\"align\": \"left\"}, \"hovermode\": \"closest\", \"mapbox\": {\"style\": \"light\"}, \"paper_bgcolor\": \"white\", \"plot_bgcolor\": \"#E5ECF6\", \"polar\": {\"angularaxis\": {\"gridcolor\": \"white\", \"linecolor\": \"white\", \"ticks\": \"\"}, \"bgcolor\": \"#E5ECF6\", \"radialaxis\": {\"gridcolor\": \"white\", \"linecolor\": \"white\", \"ticks\": \"\"}}, \"scene\": {\"xaxis\": {\"backgroundcolor\": \"#E5ECF6\", \"gridcolor\": \"white\", \"gridwidth\": 2, \"linecolor\": \"white\", \"showbackground\": true, \"ticks\": \"\", \"zerolinecolor\": \"white\"}, \"yaxis\": {\"backgroundcolor\": \"#E5ECF6\", \"gridcolor\": \"white\", \"gridwidth\": 2, \"linecolor\": \"white\", \"showbackground\": true, \"ticks\": \"\", \"zerolinecolor\": \"white\"}, \"zaxis\": {\"backgroundcolor\": \"#E5ECF6\", \"gridcolor\": \"white\", \"gridwidth\": 2, \"linecolor\": \"white\", \"showbackground\": true, \"ticks\": \"\", \"zerolinecolor\": \"white\"}}, \"shapedefaults\": {\"line\": {\"color\": \"#2a3f5f\"}}, \"ternary\": {\"aaxis\": {\"gridcolor\": \"white\", \"linecolor\": \"white\", \"ticks\": \"\"}, \"baxis\": {\"gridcolor\": \"white\", \"linecolor\": \"white\", \"ticks\": \"\"}, \"bgcolor\": \"#E5ECF6\", \"caxis\": {\"gridcolor\": \"white\", \"linecolor\": \"white\", \"ticks\": \"\"}}, \"title\": {\"x\": 0.05}, \"xaxis\": {\"automargin\": true, \"gridcolor\": \"white\", \"linecolor\": \"white\", \"ticks\": \"\", \"zerolinecolor\": \"white\", \"zerolinewidth\": 2}, \"yaxis\": {\"automargin\": true, \"gridcolor\": \"white\", \"linecolor\": \"white\", \"ticks\": \"\", \"zerolinecolor\": \"white\", \"zerolinewidth\": 2}}}, \"title\": {\"text\": \"Persons involved in the crashes by year\"}, \"xaxis\": {\"title\": {\"text\": \"Year\"}}, \"yaxis\": {\"title\": {\"text\": \"Number of persons\"}}},\n",
       "                        {\"responsive\": true}\n",
       "                    ).then(function(){\n",
       "                            \n",
       "var gd = document.getElementById('841f7fec-b54e-4361-9596-92179ceb2216');\n",
       "var x = new MutationObserver(function (mutations, observer) {{\n",
       "        var display = window.getComputedStyle(gd).display;\n",
       "        if (!display || display === 'none') {{\n",
       "            console.log([gd, 'removed!']);\n",
       "            Plotly.purge(gd);\n",
       "            observer.disconnect();\n",
       "        }}\n",
       "}});\n",
       "\n",
       "// Listen for the removal of the full notebook cells\n",
       "var notebookContainer = gd.closest('#notebook-container');\n",
       "if (notebookContainer) {{\n",
       "    x.observe(notebookContainer, {childList: true});\n",
       "}}\n",
       "\n",
       "// Listen for the clearing of the current output cell\n",
       "var outputEl = gd.closest('.output');\n",
       "if (outputEl) {{\n",
       "    x.observe(outputEl, {childList: true});\n",
       "}}\n",
       "\n",
       "                        })\n",
       "                };\n",
       "                });\n",
       "            </script>\n",
       "        </div>"
      ]
     },
     "metadata": {},
     "output_type": "display_data"
    }
   ],
   "source": [
    "aboard_fatalities = dataset.pivot_table(values=[\"Aboard\",\"Fatalities\",\"Survived\"],index=\"Year\",aggfunc=np.sum)\n",
    "\n",
    "data = [\n",
    "    go.Bar(name='Survived', x=aboard_fatalities[\"Survived\"].index, y = aboard_fatalities[\"Survived\"].values),\n",
    "    go.Bar(name='Fatalities', x=aboard_fatalities[\"Fatalities\"].index, y = aboard_fatalities[\"Fatalities\"].values)\n",
    "]\n",
    "\n",
    "layout = go.Layout(title=\"Fatalities and survived in the crashes by year\",\n",
    "                   xaxis=dict(title=\"Year\"),\n",
    "                   yaxis=dict(title=\"Survived - Fatalities\"),\n",
    "                   font=dict(size=14))\n",
    "fig = go.Figure(data, layout)\n",
    "fig.update_layout(barmode='stack')\n",
    "py.iplot(fig)\n",
    "\n",
    "aboard_fatalities['Proportion'] = aboard_fatalities['Fatalities'] / aboard_fatalities['Aboard']\n",
    "\n",
    "data = [\n",
    "    go.Scatter(name='Aboard', x=aboard_fatalities[\"Aboard\"].index, y = aboard_fatalities[\"Aboard\"].values, fill='tozeroy'),\n",
    "    go.Scatter(name='Fatalities', x=aboard_fatalities[\"Fatalities\"].index, y = aboard_fatalities[\"Fatalities\"].values,fill='tozeroy')\n",
    "]\n",
    "\n",
    "layout = go.Layout(title=\"Persons involved in the crashes by year\",\n",
    "                   xaxis=dict(title=\"Year\"),\n",
    "                   yaxis=dict(title=\"Number of persons\"),\n",
    "                   font=dict(size=14))\n",
    "fig = go.Figure(data, layout)\n",
    "py.iplot(fig)"
   ]
  },
  {
   "cell_type": "markdown",
   "metadata": {},
   "source": [
    "## 2.2 Fatalities ratio\n",
    "\n",
    "Il rapporto fra il numero di vittime ed il numero complessivo di tutte le persone saliti a bordo di un aereo incidentato."
   ]
  },
  {
   "cell_type": "code",
   "execution_count": 10,
   "metadata": {},
   "outputs": [],
   "source": [
    "aboard_fatalities['Proportion'] = aboard_fatalities['Fatalities'] / aboard_fatalities['Aboard']"
   ]
  },
  {
   "cell_type": "code",
   "execution_count": 11,
   "metadata": {},
   "outputs": [
    {
     "data": {
      "application/vnd.plotly.v1+json": {
       "config": {
        "linkText": "Export to plot.ly",
        "plotlyServerURL": "https://plot.ly",
        "showLink": false
       },
       "data": [
        {
         "mode": "lines+markers",
         "type": "scatter",
         "x": [
          1908,
          1909,
          1912,
          1913,
          1915,
          1916,
          1917,
          1918,
          1919,
          1920,
          1921,
          1922,
          1923,
          1924,
          1925,
          1926,
          1927,
          1928,
          1929,
          1930,
          1931,
          1932,
          1933,
          1934,
          1935,
          1936,
          1937,
          1938,
          1939,
          1940,
          1941,
          1942,
          1943,
          1944,
          1945,
          1946,
          1947,
          1948,
          1949,
          1950,
          1951,
          1952,
          1953,
          1954,
          1955,
          1956,
          1957,
          1958,
          1959,
          1960,
          1961,
          1962,
          1963,
          1964,
          1965,
          1966,
          1967,
          1968,
          1969,
          1970,
          1971,
          1972,
          1973,
          1974,
          1975,
          1976,
          1977,
          1978,
          1979,
          1980,
          1981,
          1982,
          1983,
          1984,
          1985,
          1986,
          1987,
          1988,
          1989,
          1990,
          1991,
          1992,
          1993,
          1994,
          1995,
          1996,
          1997,
          1998,
          1999,
          2000,
          2001,
          2002,
          2003,
          2004,
          2005,
          2006,
          2007,
          2008,
          2009,
          2010,
          2011,
          2012,
          2013,
          2014,
          2015,
          2016,
          2017,
          2018,
          2019
         ],
         "y": [
          0.5,
          1,
          1,
          0.8823529411764706,
          0.6666666666666666,
          0.9908256880733946,
          0.9857142857142858,
          1,
          1,
          0.78125,
          1,
          0.8725490196078431,
          0.8571428571428571,
          1,
          0.5396825396825397,
          0.5714285714285714,
          0.7536231884057971,
          0.8432835820895522,
          0.7471910112359551,
          0.7777777777777778,
          0.8429752066115702,
          0.8488372093023255,
          0.869198312236287,
          0.8,
          0.7934426229508197,
          0.716931216931217,
          0.5985037406483791,
          0.8330206378986866,
          0.7466666666666667,
          0.8605442176870748,
          0.6822660098522167,
          0.8658536585365854,
          0.9203084832904884,
          0.8626974483596598,
          0.9158249158249159,
          0.8047301394784718,
          0.7457434733257662,
          0.8154838709677419,
          0.7152521525215252,
          0.8513913558318532,
          0.8921985815602836,
          0.8104325699745547,
          0.8123057799875699,
          0.8359511343804538,
          0.7251787132644957,
          0.6619906479625919,
          0.6955708047411104,
          0.7801578354002254,
          0.8377386196769456,
          0.8096153846153846,
          0.7328959700093721,
          0.8230054221533695,
          0.8239856801909308,
          0.7843843843843844,
          0.7572525597269625,
          0.8343313373253493,
          0.7431279620853081,
          0.7256944444444444,
          0.7605522682445759,
          0.7333842627960275,
          0.7365813377374071,
          0.8055315471045809,
          0.6986466165413534,
          0.7790132036136206,
          0.6737425011536686,
          0.7406513872135102,
          0.7962121212121213,
          0.5583913379737045,
          0.7908777969018933,
          0.6523556231003039,
          0.7776298268974701,
          0.5077288941736029,
          0.675885911840968,
          0.6678752719361857,
          0.7646885149099498,
          0.5752066115702479,
          0.8217522658610272,
          0.662240381341505,
          0.6209609440854172,
          0.5104355716878403,
          0.7381258023106547,
          0.7069571328179901,
          0.6474881923572349,
          0.5972222222222222,
          0.7693498452012384,
          0.7757291317465639,
          0.6694011484823625,
          0.76431829700963,
          0.29965277777777777,
          0.6103286384976526,
          0.6549019607843137,
          0.7994169096209912,
          0.8470198675496688,
          0.7548460661345496,
          0.601580660158066,
          0.8136826783114993,
          0.6061433447098976,
          0.5289317507418397,
          0.6697588126159555,
          0.7106875425459497,
          0.7317073170731707,
          0.8446043165467626,
          0.3670076726342711,
          0.9710884353741497,
          0.9535175879396985,
          0.5703211517165006,
          0.8713692946058091,
          0.6965918536990856,
          0.8754098360655738
         ]
        }
       ],
       "layout": {
        "font": {
         "size": 14
        },
        "template": {
         "data": {
          "bar": [
           {
            "error_x": {
             "color": "#2a3f5f"
            },
            "error_y": {
             "color": "#2a3f5f"
            },
            "marker": {
             "line": {
              "color": "#E5ECF6",
              "width": 0.5
             }
            },
            "type": "bar"
           }
          ],
          "barpolar": [
           {
            "marker": {
             "line": {
              "color": "#E5ECF6",
              "width": 0.5
             }
            },
            "type": "barpolar"
           }
          ],
          "carpet": [
           {
            "aaxis": {
             "endlinecolor": "#2a3f5f",
             "gridcolor": "white",
             "linecolor": "white",
             "minorgridcolor": "white",
             "startlinecolor": "#2a3f5f"
            },
            "baxis": {
             "endlinecolor": "#2a3f5f",
             "gridcolor": "white",
             "linecolor": "white",
             "minorgridcolor": "white",
             "startlinecolor": "#2a3f5f"
            },
            "type": "carpet"
           }
          ],
          "choropleth": [
           {
            "colorbar": {
             "outlinewidth": 0,
             "ticks": ""
            },
            "type": "choropleth"
           }
          ],
          "contour": [
           {
            "colorbar": {
             "outlinewidth": 0,
             "ticks": ""
            },
            "colorscale": [
             [
              0,
              "#0d0887"
             ],
             [
              0.1111111111111111,
              "#46039f"
             ],
             [
              0.2222222222222222,
              "#7201a8"
             ],
             [
              0.3333333333333333,
              "#9c179e"
             ],
             [
              0.4444444444444444,
              "#bd3786"
             ],
             [
              0.5555555555555556,
              "#d8576b"
             ],
             [
              0.6666666666666666,
              "#ed7953"
             ],
             [
              0.7777777777777778,
              "#fb9f3a"
             ],
             [
              0.8888888888888888,
              "#fdca26"
             ],
             [
              1,
              "#f0f921"
             ]
            ],
            "type": "contour"
           }
          ],
          "contourcarpet": [
           {
            "colorbar": {
             "outlinewidth": 0,
             "ticks": ""
            },
            "type": "contourcarpet"
           }
          ],
          "heatmap": [
           {
            "colorbar": {
             "outlinewidth": 0,
             "ticks": ""
            },
            "colorscale": [
             [
              0,
              "#0d0887"
             ],
             [
              0.1111111111111111,
              "#46039f"
             ],
             [
              0.2222222222222222,
              "#7201a8"
             ],
             [
              0.3333333333333333,
              "#9c179e"
             ],
             [
              0.4444444444444444,
              "#bd3786"
             ],
             [
              0.5555555555555556,
              "#d8576b"
             ],
             [
              0.6666666666666666,
              "#ed7953"
             ],
             [
              0.7777777777777778,
              "#fb9f3a"
             ],
             [
              0.8888888888888888,
              "#fdca26"
             ],
             [
              1,
              "#f0f921"
             ]
            ],
            "type": "heatmap"
           }
          ],
          "heatmapgl": [
           {
            "colorbar": {
             "outlinewidth": 0,
             "ticks": ""
            },
            "colorscale": [
             [
              0,
              "#0d0887"
             ],
             [
              0.1111111111111111,
              "#46039f"
             ],
             [
              0.2222222222222222,
              "#7201a8"
             ],
             [
              0.3333333333333333,
              "#9c179e"
             ],
             [
              0.4444444444444444,
              "#bd3786"
             ],
             [
              0.5555555555555556,
              "#d8576b"
             ],
             [
              0.6666666666666666,
              "#ed7953"
             ],
             [
              0.7777777777777778,
              "#fb9f3a"
             ],
             [
              0.8888888888888888,
              "#fdca26"
             ],
             [
              1,
              "#f0f921"
             ]
            ],
            "type": "heatmapgl"
           }
          ],
          "histogram": [
           {
            "marker": {
             "colorbar": {
              "outlinewidth": 0,
              "ticks": ""
             }
            },
            "type": "histogram"
           }
          ],
          "histogram2d": [
           {
            "colorbar": {
             "outlinewidth": 0,
             "ticks": ""
            },
            "colorscale": [
             [
              0,
              "#0d0887"
             ],
             [
              0.1111111111111111,
              "#46039f"
             ],
             [
              0.2222222222222222,
              "#7201a8"
             ],
             [
              0.3333333333333333,
              "#9c179e"
             ],
             [
              0.4444444444444444,
              "#bd3786"
             ],
             [
              0.5555555555555556,
              "#d8576b"
             ],
             [
              0.6666666666666666,
              "#ed7953"
             ],
             [
              0.7777777777777778,
              "#fb9f3a"
             ],
             [
              0.8888888888888888,
              "#fdca26"
             ],
             [
              1,
              "#f0f921"
             ]
            ],
            "type": "histogram2d"
           }
          ],
          "histogram2dcontour": [
           {
            "colorbar": {
             "outlinewidth": 0,
             "ticks": ""
            },
            "colorscale": [
             [
              0,
              "#0d0887"
             ],
             [
              0.1111111111111111,
              "#46039f"
             ],
             [
              0.2222222222222222,
              "#7201a8"
             ],
             [
              0.3333333333333333,
              "#9c179e"
             ],
             [
              0.4444444444444444,
              "#bd3786"
             ],
             [
              0.5555555555555556,
              "#d8576b"
             ],
             [
              0.6666666666666666,
              "#ed7953"
             ],
             [
              0.7777777777777778,
              "#fb9f3a"
             ],
             [
              0.8888888888888888,
              "#fdca26"
             ],
             [
              1,
              "#f0f921"
             ]
            ],
            "type": "histogram2dcontour"
           }
          ],
          "mesh3d": [
           {
            "colorbar": {
             "outlinewidth": 0,
             "ticks": ""
            },
            "type": "mesh3d"
           }
          ],
          "parcoords": [
           {
            "line": {
             "colorbar": {
              "outlinewidth": 0,
              "ticks": ""
             }
            },
            "type": "parcoords"
           }
          ],
          "scatter": [
           {
            "marker": {
             "colorbar": {
              "outlinewidth": 0,
              "ticks": ""
             }
            },
            "type": "scatter"
           }
          ],
          "scatter3d": [
           {
            "line": {
             "colorbar": {
              "outlinewidth": 0,
              "ticks": ""
             }
            },
            "marker": {
             "colorbar": {
              "outlinewidth": 0,
              "ticks": ""
             }
            },
            "type": "scatter3d"
           }
          ],
          "scattercarpet": [
           {
            "marker": {
             "colorbar": {
              "outlinewidth": 0,
              "ticks": ""
             }
            },
            "type": "scattercarpet"
           }
          ],
          "scattergeo": [
           {
            "marker": {
             "colorbar": {
              "outlinewidth": 0,
              "ticks": ""
             }
            },
            "type": "scattergeo"
           }
          ],
          "scattergl": [
           {
            "marker": {
             "colorbar": {
              "outlinewidth": 0,
              "ticks": ""
             }
            },
            "type": "scattergl"
           }
          ],
          "scattermapbox": [
           {
            "marker": {
             "colorbar": {
              "outlinewidth": 0,
              "ticks": ""
             }
            },
            "type": "scattermapbox"
           }
          ],
          "scatterpolar": [
           {
            "marker": {
             "colorbar": {
              "outlinewidth": 0,
              "ticks": ""
             }
            },
            "type": "scatterpolar"
           }
          ],
          "scatterpolargl": [
           {
            "marker": {
             "colorbar": {
              "outlinewidth": 0,
              "ticks": ""
             }
            },
            "type": "scatterpolargl"
           }
          ],
          "scatterternary": [
           {
            "marker": {
             "colorbar": {
              "outlinewidth": 0,
              "ticks": ""
             }
            },
            "type": "scatterternary"
           }
          ],
          "surface": [
           {
            "colorbar": {
             "outlinewidth": 0,
             "ticks": ""
            },
            "colorscale": [
             [
              0,
              "#0d0887"
             ],
             [
              0.1111111111111111,
              "#46039f"
             ],
             [
              0.2222222222222222,
              "#7201a8"
             ],
             [
              0.3333333333333333,
              "#9c179e"
             ],
             [
              0.4444444444444444,
              "#bd3786"
             ],
             [
              0.5555555555555556,
              "#d8576b"
             ],
             [
              0.6666666666666666,
              "#ed7953"
             ],
             [
              0.7777777777777778,
              "#fb9f3a"
             ],
             [
              0.8888888888888888,
              "#fdca26"
             ],
             [
              1,
              "#f0f921"
             ]
            ],
            "type": "surface"
           }
          ],
          "table": [
           {
            "cells": {
             "fill": {
              "color": "#EBF0F8"
             },
             "line": {
              "color": "white"
             }
            },
            "header": {
             "fill": {
              "color": "#C8D4E3"
             },
             "line": {
              "color": "white"
             }
            },
            "type": "table"
           }
          ]
         },
         "layout": {
          "annotationdefaults": {
           "arrowcolor": "#2a3f5f",
           "arrowhead": 0,
           "arrowwidth": 1
          },
          "colorscale": {
           "diverging": [
            [
             0,
             "#8e0152"
            ],
            [
             0.1,
             "#c51b7d"
            ],
            [
             0.2,
             "#de77ae"
            ],
            [
             0.3,
             "#f1b6da"
            ],
            [
             0.4,
             "#fde0ef"
            ],
            [
             0.5,
             "#f7f7f7"
            ],
            [
             0.6,
             "#e6f5d0"
            ],
            [
             0.7,
             "#b8e186"
            ],
            [
             0.8,
             "#7fbc41"
            ],
            [
             0.9,
             "#4d9221"
            ],
            [
             1,
             "#276419"
            ]
           ],
           "sequential": [
            [
             0,
             "#0d0887"
            ],
            [
             0.1111111111111111,
             "#46039f"
            ],
            [
             0.2222222222222222,
             "#7201a8"
            ],
            [
             0.3333333333333333,
             "#9c179e"
            ],
            [
             0.4444444444444444,
             "#bd3786"
            ],
            [
             0.5555555555555556,
             "#d8576b"
            ],
            [
             0.6666666666666666,
             "#ed7953"
            ],
            [
             0.7777777777777778,
             "#fb9f3a"
            ],
            [
             0.8888888888888888,
             "#fdca26"
            ],
            [
             1,
             "#f0f921"
            ]
           ],
           "sequentialminus": [
            [
             0,
             "#0d0887"
            ],
            [
             0.1111111111111111,
             "#46039f"
            ],
            [
             0.2222222222222222,
             "#7201a8"
            ],
            [
             0.3333333333333333,
             "#9c179e"
            ],
            [
             0.4444444444444444,
             "#bd3786"
            ],
            [
             0.5555555555555556,
             "#d8576b"
            ],
            [
             0.6666666666666666,
             "#ed7953"
            ],
            [
             0.7777777777777778,
             "#fb9f3a"
            ],
            [
             0.8888888888888888,
             "#fdca26"
            ],
            [
             1,
             "#f0f921"
            ]
           ]
          },
          "colorway": [
           "#636efa",
           "#EF553B",
           "#00cc96",
           "#ab63fa",
           "#FFA15A",
           "#19d3f3",
           "#FF6692",
           "#B6E880",
           "#FF97FF",
           "#FECB52"
          ],
          "font": {
           "color": "#2a3f5f"
          },
          "geo": {
           "bgcolor": "white",
           "lakecolor": "white",
           "landcolor": "#E5ECF6",
           "showlakes": true,
           "showland": true,
           "subunitcolor": "white"
          },
          "hoverlabel": {
           "align": "left"
          },
          "hovermode": "closest",
          "mapbox": {
           "style": "light"
          },
          "paper_bgcolor": "white",
          "plot_bgcolor": "#E5ECF6",
          "polar": {
           "angularaxis": {
            "gridcolor": "white",
            "linecolor": "white",
            "ticks": ""
           },
           "bgcolor": "#E5ECF6",
           "radialaxis": {
            "gridcolor": "white",
            "linecolor": "white",
            "ticks": ""
           }
          },
          "scene": {
           "xaxis": {
            "backgroundcolor": "#E5ECF6",
            "gridcolor": "white",
            "gridwidth": 2,
            "linecolor": "white",
            "showbackground": true,
            "ticks": "",
            "zerolinecolor": "white"
           },
           "yaxis": {
            "backgroundcolor": "#E5ECF6",
            "gridcolor": "white",
            "gridwidth": 2,
            "linecolor": "white",
            "showbackground": true,
            "ticks": "",
            "zerolinecolor": "white"
           },
           "zaxis": {
            "backgroundcolor": "#E5ECF6",
            "gridcolor": "white",
            "gridwidth": 2,
            "linecolor": "white",
            "showbackground": true,
            "ticks": "",
            "zerolinecolor": "white"
           }
          },
          "shapedefaults": {
           "line": {
            "color": "#2a3f5f"
           }
          },
          "ternary": {
           "aaxis": {
            "gridcolor": "white",
            "linecolor": "white",
            "ticks": ""
           },
           "baxis": {
            "gridcolor": "white",
            "linecolor": "white",
            "ticks": ""
           },
           "bgcolor": "#E5ECF6",
           "caxis": {
            "gridcolor": "white",
            "linecolor": "white",
            "ticks": ""
           }
          },
          "title": {
           "x": 0.05
          },
          "xaxis": {
           "automargin": true,
           "gridcolor": "white",
           "linecolor": "white",
           "ticks": "",
           "zerolinecolor": "white",
           "zerolinewidth": 2
          },
          "yaxis": {
           "automargin": true,
           "gridcolor": "white",
           "linecolor": "white",
           "ticks": "",
           "zerolinecolor": "white",
           "zerolinewidth": 2
          }
         }
        },
        "title": {
         "text": "Fatalities ratio by year"
        },
        "xaxis": {
         "title": {
          "text": "Year"
         }
        },
        "yaxis": {
         "title": {
          "text": "Ratio"
         }
        }
       }
      },
      "text/html": [
       "<div>\n",
       "        \n",
       "        \n",
       "            <div id=\"8b13e21c-b84e-4f33-a45a-3c4f93e55521\" class=\"plotly-graph-div\" style=\"height:525px; width:100%;\"></div>\n",
       "            <script type=\"text/javascript\">\n",
       "                require([\"plotly\"], function(Plotly) {\n",
       "                    window.PLOTLYENV=window.PLOTLYENV || {};\n",
       "                    \n",
       "                if (document.getElementById(\"8b13e21c-b84e-4f33-a45a-3c4f93e55521\")) {\n",
       "                    Plotly.newPlot(\n",
       "                        '8b13e21c-b84e-4f33-a45a-3c4f93e55521',\n",
       "                        [{\"mode\": \"lines+markers\", \"type\": \"scatter\", \"x\": [1908, 1909, 1912, 1913, 1915, 1916, 1917, 1918, 1919, 1920, 1921, 1922, 1923, 1924, 1925, 1926, 1927, 1928, 1929, 1930, 1931, 1932, 1933, 1934, 1935, 1936, 1937, 1938, 1939, 1940, 1941, 1942, 1943, 1944, 1945, 1946, 1947, 1948, 1949, 1950, 1951, 1952, 1953, 1954, 1955, 1956, 1957, 1958, 1959, 1960, 1961, 1962, 1963, 1964, 1965, 1966, 1967, 1968, 1969, 1970, 1971, 1972, 1973, 1974, 1975, 1976, 1977, 1978, 1979, 1980, 1981, 1982, 1983, 1984, 1985, 1986, 1987, 1988, 1989, 1990, 1991, 1992, 1993, 1994, 1995, 1996, 1997, 1998, 1999, 2000, 2001, 2002, 2003, 2004, 2005, 2006, 2007, 2008, 2009, 2010, 2011, 2012, 2013, 2014, 2015, 2016, 2017, 2018, 2019], \"y\": [0.5, 1.0, 1.0, 0.8823529411764706, 0.6666666666666666, 0.9908256880733946, 0.9857142857142858, 1.0, 1.0, 0.78125, 1.0, 0.8725490196078431, 0.8571428571428571, 1.0, 0.5396825396825397, 0.5714285714285714, 0.7536231884057971, 0.8432835820895522, 0.7471910112359551, 0.7777777777777778, 0.8429752066115702, 0.8488372093023255, 0.869198312236287, 0.8, 0.7934426229508197, 0.716931216931217, 0.5985037406483791, 0.8330206378986866, 0.7466666666666667, 0.8605442176870748, 0.6822660098522167, 0.8658536585365854, 0.9203084832904884, 0.8626974483596598, 0.9158249158249159, 0.8047301394784718, 0.7457434733257662, 0.8154838709677419, 0.7152521525215252, 0.8513913558318532, 0.8921985815602836, 0.8104325699745547, 0.8123057799875699, 0.8359511343804538, 0.7251787132644957, 0.6619906479625919, 0.6955708047411104, 0.7801578354002254, 0.8377386196769456, 0.8096153846153846, 0.7328959700093721, 0.8230054221533695, 0.8239856801909308, 0.7843843843843844, 0.7572525597269625, 0.8343313373253493, 0.7431279620853081, 0.7256944444444444, 0.7605522682445759, 0.7333842627960275, 0.7365813377374071, 0.8055315471045809, 0.6986466165413534, 0.7790132036136206, 0.6737425011536686, 0.7406513872135102, 0.7962121212121213, 0.5583913379737045, 0.7908777969018933, 0.6523556231003039, 0.7776298268974701, 0.5077288941736029, 0.675885911840968, 0.6678752719361857, 0.7646885149099498, 0.5752066115702479, 0.8217522658610272, 0.662240381341505, 0.6209609440854172, 0.5104355716878403, 0.7381258023106547, 0.7069571328179901, 0.6474881923572349, 0.5972222222222222, 0.7693498452012384, 0.7757291317465639, 0.6694011484823625, 0.76431829700963, 0.29965277777777777, 0.6103286384976526, 0.6549019607843137, 0.7994169096209912, 0.8470198675496688, 0.7548460661345496, 0.601580660158066, 0.8136826783114993, 0.6061433447098976, 0.5289317507418397, 0.6697588126159555, 0.7106875425459497, 0.7317073170731707, 0.8446043165467626, 0.3670076726342711, 0.9710884353741497, 0.9535175879396985, 0.5703211517165006, 0.8713692946058091, 0.6965918536990856, 0.8754098360655738]}],\n",
       "                        {\"font\": {\"size\": 14}, \"template\": {\"data\": {\"bar\": [{\"error_x\": {\"color\": \"#2a3f5f\"}, \"error_y\": {\"color\": \"#2a3f5f\"}, \"marker\": {\"line\": {\"color\": \"#E5ECF6\", \"width\": 0.5}}, \"type\": \"bar\"}], \"barpolar\": [{\"marker\": {\"line\": {\"color\": \"#E5ECF6\", \"width\": 0.5}}, \"type\": \"barpolar\"}], \"carpet\": [{\"aaxis\": {\"endlinecolor\": \"#2a3f5f\", \"gridcolor\": \"white\", \"linecolor\": \"white\", \"minorgridcolor\": \"white\", \"startlinecolor\": \"#2a3f5f\"}, \"baxis\": {\"endlinecolor\": \"#2a3f5f\", \"gridcolor\": \"white\", \"linecolor\": \"white\", \"minorgridcolor\": \"white\", \"startlinecolor\": \"#2a3f5f\"}, \"type\": \"carpet\"}], \"choropleth\": [{\"colorbar\": {\"outlinewidth\": 0, \"ticks\": \"\"}, \"type\": \"choropleth\"}], \"contour\": [{\"colorbar\": {\"outlinewidth\": 0, \"ticks\": \"\"}, \"colorscale\": [[0.0, \"#0d0887\"], [0.1111111111111111, \"#46039f\"], [0.2222222222222222, \"#7201a8\"], [0.3333333333333333, \"#9c179e\"], [0.4444444444444444, \"#bd3786\"], [0.5555555555555556, \"#d8576b\"], [0.6666666666666666, \"#ed7953\"], [0.7777777777777778, \"#fb9f3a\"], [0.8888888888888888, \"#fdca26\"], [1.0, \"#f0f921\"]], \"type\": \"contour\"}], \"contourcarpet\": [{\"colorbar\": {\"outlinewidth\": 0, \"ticks\": \"\"}, \"type\": \"contourcarpet\"}], \"heatmap\": [{\"colorbar\": {\"outlinewidth\": 0, \"ticks\": \"\"}, \"colorscale\": [[0.0, \"#0d0887\"], [0.1111111111111111, \"#46039f\"], [0.2222222222222222, \"#7201a8\"], [0.3333333333333333, \"#9c179e\"], [0.4444444444444444, \"#bd3786\"], [0.5555555555555556, \"#d8576b\"], [0.6666666666666666, \"#ed7953\"], [0.7777777777777778, \"#fb9f3a\"], [0.8888888888888888, \"#fdca26\"], [1.0, \"#f0f921\"]], \"type\": \"heatmap\"}], \"heatmapgl\": [{\"colorbar\": {\"outlinewidth\": 0, \"ticks\": \"\"}, \"colorscale\": [[0.0, \"#0d0887\"], [0.1111111111111111, \"#46039f\"], [0.2222222222222222, \"#7201a8\"], [0.3333333333333333, \"#9c179e\"], [0.4444444444444444, \"#bd3786\"], [0.5555555555555556, \"#d8576b\"], [0.6666666666666666, \"#ed7953\"], [0.7777777777777778, \"#fb9f3a\"], [0.8888888888888888, \"#fdca26\"], [1.0, \"#f0f921\"]], \"type\": \"heatmapgl\"}], \"histogram\": [{\"marker\": {\"colorbar\": {\"outlinewidth\": 0, \"ticks\": \"\"}}, \"type\": \"histogram\"}], \"histogram2d\": [{\"colorbar\": {\"outlinewidth\": 0, \"ticks\": \"\"}, \"colorscale\": [[0.0, \"#0d0887\"], [0.1111111111111111, \"#46039f\"], [0.2222222222222222, \"#7201a8\"], [0.3333333333333333, \"#9c179e\"], [0.4444444444444444, \"#bd3786\"], [0.5555555555555556, \"#d8576b\"], [0.6666666666666666, \"#ed7953\"], [0.7777777777777778, \"#fb9f3a\"], [0.8888888888888888, \"#fdca26\"], [1.0, \"#f0f921\"]], \"type\": \"histogram2d\"}], \"histogram2dcontour\": [{\"colorbar\": {\"outlinewidth\": 0, \"ticks\": \"\"}, \"colorscale\": [[0.0, \"#0d0887\"], [0.1111111111111111, \"#46039f\"], [0.2222222222222222, \"#7201a8\"], [0.3333333333333333, \"#9c179e\"], [0.4444444444444444, \"#bd3786\"], [0.5555555555555556, \"#d8576b\"], [0.6666666666666666, \"#ed7953\"], [0.7777777777777778, \"#fb9f3a\"], [0.8888888888888888, \"#fdca26\"], [1.0, \"#f0f921\"]], \"type\": \"histogram2dcontour\"}], \"mesh3d\": [{\"colorbar\": {\"outlinewidth\": 0, \"ticks\": \"\"}, \"type\": \"mesh3d\"}], \"parcoords\": [{\"line\": {\"colorbar\": {\"outlinewidth\": 0, \"ticks\": \"\"}}, \"type\": \"parcoords\"}], \"scatter\": [{\"marker\": {\"colorbar\": {\"outlinewidth\": 0, \"ticks\": \"\"}}, \"type\": \"scatter\"}], \"scatter3d\": [{\"line\": {\"colorbar\": {\"outlinewidth\": 0, \"ticks\": \"\"}}, \"marker\": {\"colorbar\": {\"outlinewidth\": 0, \"ticks\": \"\"}}, \"type\": \"scatter3d\"}], \"scattercarpet\": [{\"marker\": {\"colorbar\": {\"outlinewidth\": 0, \"ticks\": \"\"}}, \"type\": \"scattercarpet\"}], \"scattergeo\": [{\"marker\": {\"colorbar\": {\"outlinewidth\": 0, \"ticks\": \"\"}}, \"type\": \"scattergeo\"}], \"scattergl\": [{\"marker\": {\"colorbar\": {\"outlinewidth\": 0, \"ticks\": \"\"}}, \"type\": \"scattergl\"}], \"scattermapbox\": [{\"marker\": {\"colorbar\": {\"outlinewidth\": 0, \"ticks\": \"\"}}, \"type\": \"scattermapbox\"}], \"scatterpolar\": [{\"marker\": {\"colorbar\": {\"outlinewidth\": 0, \"ticks\": \"\"}}, \"type\": \"scatterpolar\"}], \"scatterpolargl\": [{\"marker\": {\"colorbar\": {\"outlinewidth\": 0, \"ticks\": \"\"}}, \"type\": \"scatterpolargl\"}], \"scatterternary\": [{\"marker\": {\"colorbar\": {\"outlinewidth\": 0, \"ticks\": \"\"}}, \"type\": \"scatterternary\"}], \"surface\": [{\"colorbar\": {\"outlinewidth\": 0, \"ticks\": \"\"}, \"colorscale\": [[0.0, \"#0d0887\"], [0.1111111111111111, \"#46039f\"], [0.2222222222222222, \"#7201a8\"], [0.3333333333333333, \"#9c179e\"], [0.4444444444444444, \"#bd3786\"], [0.5555555555555556, \"#d8576b\"], [0.6666666666666666, \"#ed7953\"], [0.7777777777777778, \"#fb9f3a\"], [0.8888888888888888, \"#fdca26\"], [1.0, \"#f0f921\"]], \"type\": \"surface\"}], \"table\": [{\"cells\": {\"fill\": {\"color\": \"#EBF0F8\"}, \"line\": {\"color\": \"white\"}}, \"header\": {\"fill\": {\"color\": \"#C8D4E3\"}, \"line\": {\"color\": \"white\"}}, \"type\": \"table\"}]}, \"layout\": {\"annotationdefaults\": {\"arrowcolor\": \"#2a3f5f\", \"arrowhead\": 0, \"arrowwidth\": 1}, \"colorscale\": {\"diverging\": [[0, \"#8e0152\"], [0.1, \"#c51b7d\"], [0.2, \"#de77ae\"], [0.3, \"#f1b6da\"], [0.4, \"#fde0ef\"], [0.5, \"#f7f7f7\"], [0.6, \"#e6f5d0\"], [0.7, \"#b8e186\"], [0.8, \"#7fbc41\"], [0.9, \"#4d9221\"], [1, \"#276419\"]], \"sequential\": [[0.0, \"#0d0887\"], [0.1111111111111111, \"#46039f\"], [0.2222222222222222, \"#7201a8\"], [0.3333333333333333, \"#9c179e\"], [0.4444444444444444, \"#bd3786\"], [0.5555555555555556, \"#d8576b\"], [0.6666666666666666, \"#ed7953\"], [0.7777777777777778, \"#fb9f3a\"], [0.8888888888888888, \"#fdca26\"], [1.0, \"#f0f921\"]], \"sequentialminus\": [[0.0, \"#0d0887\"], [0.1111111111111111, \"#46039f\"], [0.2222222222222222, \"#7201a8\"], [0.3333333333333333, \"#9c179e\"], [0.4444444444444444, \"#bd3786\"], [0.5555555555555556, \"#d8576b\"], [0.6666666666666666, \"#ed7953\"], [0.7777777777777778, \"#fb9f3a\"], [0.8888888888888888, \"#fdca26\"], [1.0, \"#f0f921\"]]}, \"colorway\": [\"#636efa\", \"#EF553B\", \"#00cc96\", \"#ab63fa\", \"#FFA15A\", \"#19d3f3\", \"#FF6692\", \"#B6E880\", \"#FF97FF\", \"#FECB52\"], \"font\": {\"color\": \"#2a3f5f\"}, \"geo\": {\"bgcolor\": \"white\", \"lakecolor\": \"white\", \"landcolor\": \"#E5ECF6\", \"showlakes\": true, \"showland\": true, \"subunitcolor\": \"white\"}, \"hoverlabel\": {\"align\": \"left\"}, \"hovermode\": \"closest\", \"mapbox\": {\"style\": \"light\"}, \"paper_bgcolor\": \"white\", \"plot_bgcolor\": \"#E5ECF6\", \"polar\": {\"angularaxis\": {\"gridcolor\": \"white\", \"linecolor\": \"white\", \"ticks\": \"\"}, \"bgcolor\": \"#E5ECF6\", \"radialaxis\": {\"gridcolor\": \"white\", \"linecolor\": \"white\", \"ticks\": \"\"}}, \"scene\": {\"xaxis\": {\"backgroundcolor\": \"#E5ECF6\", \"gridcolor\": \"white\", \"gridwidth\": 2, \"linecolor\": \"white\", \"showbackground\": true, \"ticks\": \"\", \"zerolinecolor\": \"white\"}, \"yaxis\": {\"backgroundcolor\": \"#E5ECF6\", \"gridcolor\": \"white\", \"gridwidth\": 2, \"linecolor\": \"white\", \"showbackground\": true, \"ticks\": \"\", \"zerolinecolor\": \"white\"}, \"zaxis\": {\"backgroundcolor\": \"#E5ECF6\", \"gridcolor\": \"white\", \"gridwidth\": 2, \"linecolor\": \"white\", \"showbackground\": true, \"ticks\": \"\", \"zerolinecolor\": \"white\"}}, \"shapedefaults\": {\"line\": {\"color\": \"#2a3f5f\"}}, \"ternary\": {\"aaxis\": {\"gridcolor\": \"white\", \"linecolor\": \"white\", \"ticks\": \"\"}, \"baxis\": {\"gridcolor\": \"white\", \"linecolor\": \"white\", \"ticks\": \"\"}, \"bgcolor\": \"#E5ECF6\", \"caxis\": {\"gridcolor\": \"white\", \"linecolor\": \"white\", \"ticks\": \"\"}}, \"title\": {\"x\": 0.05}, \"xaxis\": {\"automargin\": true, \"gridcolor\": \"white\", \"linecolor\": \"white\", \"ticks\": \"\", \"zerolinecolor\": \"white\", \"zerolinewidth\": 2}, \"yaxis\": {\"automargin\": true, \"gridcolor\": \"white\", \"linecolor\": \"white\", \"ticks\": \"\", \"zerolinecolor\": \"white\", \"zerolinewidth\": 2}}}, \"title\": {\"text\": \"Fatalities ratio by year\"}, \"xaxis\": {\"title\": {\"text\": \"Year\"}}, \"yaxis\": {\"title\": {\"text\": \"Ratio\"}}},\n",
       "                        {\"responsive\": true}\n",
       "                    ).then(function(){\n",
       "                            \n",
       "var gd = document.getElementById('8b13e21c-b84e-4f33-a45a-3c4f93e55521');\n",
       "var x = new MutationObserver(function (mutations, observer) {{\n",
       "        var display = window.getComputedStyle(gd).display;\n",
       "        if (!display || display === 'none') {{\n",
       "            console.log([gd, 'removed!']);\n",
       "            Plotly.purge(gd);\n",
       "            observer.disconnect();\n",
       "        }}\n",
       "}});\n",
       "\n",
       "// Listen for the removal of the full notebook cells\n",
       "var notebookContainer = gd.closest('#notebook-container');\n",
       "if (notebookContainer) {{\n",
       "    x.observe(notebookContainer, {childList: true});\n",
       "}}\n",
       "\n",
       "// Listen for the clearing of the current output cell\n",
       "var outputEl = gd.closest('.output');\n",
       "if (outputEl) {{\n",
       "    x.observe(outputEl, {childList: true});\n",
       "}}\n",
       "\n",
       "                        })\n",
       "                };\n",
       "                });\n",
       "            </script>\n",
       "        </div>"
      ]
     },
     "metadata": {},
     "output_type": "display_data"
    }
   ],
   "source": [
    "data = [\n",
    "    go.Scatter(x=aboard_fatalities[\"Proportion\"].index, y = aboard_fatalities[\"Proportion\"].values, mode = 'lines+markers')\n",
    "]\n",
    "\n",
    "layout = go.Layout(title=\"Fatalities ratio by year\",xaxis=dict(title=\"Year\",),yaxis=dict(title=\"Ratio\"),font=dict(size=14))\n",
    "fig = go.Figure(data, layout)\n",
    "py.iplot(fig)"
   ]
  },
  {
   "cell_type": "markdown",
   "metadata": {},
   "source": [
    "## 3.1 Correlazione fra le variabili\n"
   ]
  },
  {
   "cell_type": "code",
   "execution_count": 12,
   "metadata": {},
   "outputs": [
    {
     "data": {
      "image/png": "[encoded data removed]",
      "text/plain": [
       "<Figure size 792x792 with 2 Axes>"
      ]
     },
     "metadata": {},
     "output_type": "display_data"
    }
   ],
   "source": [
    "corr = dataset.corr()\n",
    "# Generate a mask for the upper triangle\n",
    "mask = np.zeros_like(corr, dtype=np.bool)\n",
    "mask[np.triu_indices_from(mask)] = True\n",
    "\n",
    "# Set up the matplotlib figure\n",
    "f, ax = plt.subplots(figsize=(11, 11))\n",
    "\n",
    "sns.set(style=\"white\")\n",
    "# Generate a custom diverging colormap\n",
    "cmap = sns.diverging_palette(250, 10, as_cmap=True)\n",
    "# Draw the heatmap with the mask and correct aspect ratio\n",
    "ax= sns.heatmap(corr, mask=mask, cmap=cmap, vmax=1.0,vmin=-1.0, annot = True,\n",
    "            center=0,square=True, linewidths=.5, cbar_kws={\"shrink\": .5,'label': 'Correlation factor'},\n",
    "                fmt=\".2f\", annot_kws={'size':13}\n",
    "          )\n",
    "ax.figure.axes[-1].yaxis.label.set_size(14)\n"
   ]
  },
  {
   "cell_type": "markdown",
   "metadata": {},
   "source": [
    "## 4.1 Analisi delle compagne aeree coinvolte negli incidenti"
   ]
  },
  {
   "cell_type": "code",
   "execution_count": 13,
   "metadata": {},
   "outputs": [
    {
     "name": "stderr",
     "output_type": "stream",
     "text": [
      "C:\\Program Files\\Anaconda3\\lib\\site-packages\\pandas\\core\\indexing.py:190: SettingWithCopyWarning:\n",
      "\n",
      "\n",
      "A value is trying to be set on a copy of a slice from a DataFrame\n",
      "\n",
      "See the caveats in the documentation: http://pandas.pydata.org/pandas-docs/stable/indexing.html#indexing-view-versus-copy\n",
      "\n"
     ]
    },
    {
     "data": {
      "application/vnd.plotly.v1+json": {
       "config": {
        "linkText": "Export to plot.ly",
        "plotlyServerURL": "https://plot.ly",
        "showLink": false
       },
       "data": [
        {
         "marker": {
          "color": [
           0,
           1,
           2,
           3,
           4,
           5,
           6,
           7,
           8,
           9,
           10,
           11,
           12,
           13,
           14,
           15,
           16,
           17,
           18
          ]
         },
         "orientation": "h",
         "text": [
          "24.98 %",
          "23.41 %",
          "7.05 %",
          "6.17 %",
          "4.31 %",
          "4.21 %",
          "4.02 %",
          "3.62 %",
          "3.43 %",
          "3.33 %",
          "3.33 %",
          "3.23 %",
          "3.13 %",
          "2.94 %",
          "2.84 %"
         ],
         "textposition": "auto",
         "type": "bar",
         "x": [
          255,
          239,
          72,
          63,
          44,
          43,
          41,
          37,
          35,
          34,
          34,
          33,
          32,
          30,
          29
         ],
         "y": [
          "AEROFLOT",
          "MILITARY - U.S. AIR FORCE",
          "AIR FRANCE",
          "DEUTSCHE LUFTHANSA",
          "UNITED AIR LINES",
          "CHINA NATIONAL AVIATION CORPORATION",
          "PAN AMERICAN WORLD AIRWAYS",
          "AMERICAN AIRLINES",
          "US AERIAL MAIL SERVICE",
          "KLM ROYAL DUTCH AIRLINES",
          "INDIAN AIRLINES",
          "PHILIPPINE AIR LINES",
          "MILITARY - ROYAL AIR FORCE",
          "PRIVATE",
          "BRITISH OVERSEAS AIRWAYS"
         ]
        }
       ],
       "layout": {
        "font": {
         "size": 14
        },
        "template": {
         "data": {
          "bar": [
           {
            "error_x": {
             "color": "#2a3f5f"
            },
            "error_y": {
             "color": "#2a3f5f"
            },
            "marker": {
             "line": {
              "color": "#E5ECF6",
              "width": 0.5
             }
            },
            "type": "bar"
           }
          ],
          "barpolar": [
           {
            "marker": {
             "line": {
              "color": "#E5ECF6",
              "width": 0.5
             }
            },
            "type": "barpolar"
           }
          ],
          "carpet": [
           {
            "aaxis": {
             "endlinecolor": "#2a3f5f",
             "gridcolor": "white",
             "linecolor": "white",
             "minorgridcolor": "white",
             "startlinecolor": "#2a3f5f"
            },
            "baxis": {
             "endlinecolor": "#2a3f5f",
             "gridcolor": "white",
             "linecolor": "white",
             "minorgridcolor": "white",
             "startlinecolor": "#2a3f5f"
            },
            "type": "carpet"
           }
          ],
          "choropleth": [
           {
            "colorbar": {
             "outlinewidth": 0,
             "ticks": ""
            },
            "type": "choropleth"
           }
          ],
          "contour": [
           {
            "colorbar": {
             "outlinewidth": 0,
             "ticks": ""
            },
            "colorscale": [
             [
              0,
              "#0d0887"
             ],
             [
              0.1111111111111111,
              "#46039f"
             ],
             [
              0.2222222222222222,
              "#7201a8"
             ],
             [
              0.3333333333333333,
              "#9c179e"
             ],
             [
              0.4444444444444444,
              "#bd3786"
             ],
             [
              0.5555555555555556,
              "#d8576b"
             ],
             [
              0.6666666666666666,
              "#ed7953"
             ],
             [
              0.7777777777777778,
              "#fb9f3a"
             ],
             [
              0.8888888888888888,
              "#fdca26"
             ],
             [
              1,
              "#f0f921"
             ]
            ],
            "type": "contour"
           }
          ],
          "contourcarpet": [
           {
            "colorbar": {
             "outlinewidth": 0,
             "ticks": ""
            },
            "type": "contourcarpet"
           }
          ],
          "heatmap": [
           {
            "colorbar": {
             "outlinewidth": 0,
             "ticks": ""
            },
            "colorscale": [
             [
              0,
              "#0d0887"
             ],
             [
              0.1111111111111111,
              "#46039f"
             ],
             [
              0.2222222222222222,
              "#7201a8"
             ],
             [
              0.3333333333333333,
              "#9c179e"
             ],
             [
              0.4444444444444444,
              "#bd3786"
             ],
             [
              0.5555555555555556,
              "#d8576b"
             ],
             [
              0.6666666666666666,
              "#ed7953"
             ],
             [
              0.7777777777777778,
              "#fb9f3a"
             ],
             [
              0.8888888888888888,
              "#fdca26"
             ],
             [
              1,
              "#f0f921"
             ]
            ],
            "type": "heatmap"
           }
          ],
          "heatmapgl": [
           {
            "colorbar": {
             "outlinewidth": 0,
             "ticks": ""
            },
            "colorscale": [
             [
              0,
              "#0d0887"
             ],
             [
              0.1111111111111111,
              "#46039f"
             ],
             [
              0.2222222222222222,
              "#7201a8"
             ],
             [
              0.3333333333333333,
              "#9c179e"
             ],
             [
              0.4444444444444444,
              "#bd3786"
             ],
             [
              0.5555555555555556,
              "#d8576b"
             ],
             [
              0.6666666666666666,
              "#ed7953"
             ],
             [
              0.7777777777777778,
              "#fb9f3a"
             ],
             [
              0.8888888888888888,
              "#fdca26"
             ],
             [
              1,
              "#f0f921"
             ]
            ],
            "type": "heatmapgl"
           }
          ],
          "histogram": [
           {
            "marker": {
             "colorbar": {
              "outlinewidth": 0,
              "ticks": ""
             }
            },
            "type": "histogram"
           }
          ],
          "histogram2d": [
           {
            "colorbar": {
             "outlinewidth": 0,
             "ticks": ""
            },
            "colorscale": [
             [
              0,
              "#0d0887"
             ],
             [
              0.1111111111111111,
              "#46039f"
             ],
             [
              0.2222222222222222,
              "#7201a8"
             ],
             [
              0.3333333333333333,
              "#9c179e"
             ],
             [
              0.4444444444444444,
              "#bd3786"
             ],
             [
              0.5555555555555556,
              "#d8576b"
             ],
             [
              0.6666666666666666,
              "#ed7953"
             ],
             [
              0.7777777777777778,
              "#fb9f3a"
             ],
             [
              0.8888888888888888,
              "#fdca26"
             ],
             [
              1,
              "#f0f921"
             ]
            ],
            "type": "histogram2d"
           }
          ],
          "histogram2dcontour": [
           {
            "colorbar": {
             "outlinewidth": 0,
             "ticks": ""
            },
            "colorscale": [
             [
              0,
              "#0d0887"
             ],
             [
              0.1111111111111111,
              "#46039f"
             ],
             [
              0.2222222222222222,
              "#7201a8"
             ],
             [
              0.3333333333333333,
              "#9c179e"
             ],
             [
              0.4444444444444444,
              "#bd3786"
             ],
             [
              0.5555555555555556,
              "#d8576b"
             ],
             [
              0.6666666666666666,
              "#ed7953"
             ],
             [
              0.7777777777777778,
              "#fb9f3a"
             ],
             [
              0.8888888888888888,
              "#fdca26"
             ],
             [
              1,
              "#f0f921"
             ]
            ],
            "type": "histogram2dcontour"
           }
          ],
          "mesh3d": [
           {
            "colorbar": {
             "outlinewidth": 0,
             "ticks": ""
            },
            "type": "mesh3d"
           }
          ],
          "parcoords": [
           {
            "line": {
             "colorbar": {
              "outlinewidth": 0,
              "ticks": ""
             }
            },
            "type": "parcoords"
           }
          ],
          "scatter": [
           {
            "marker": {
             "colorbar": {
              "outlinewidth": 0,
              "ticks": ""
             }
            },
            "type": "scatter"
           }
          ],
          "scatter3d": [
           {
            "line": {
             "colorbar": {
              "outlinewidth": 0,
              "ticks": ""
             }
            },
            "marker": {
             "colorbar": {
              "outlinewidth": 0,
              "ticks": ""
             }
            },
            "type": "scatter3d"
           }
          ],
          "scattercarpet": [
           {
            "marker": {
             "colorbar": {
              "outlinewidth": 0,
              "ticks": ""
             }
            },
            "type": "scattercarpet"
           }
          ],
          "scattergeo": [
           {
            "marker": {
             "colorbar": {
              "outlinewidth": 0,
              "ticks": ""
             }
            },
            "type": "scattergeo"
           }
          ],
          "scattergl": [
           {
            "marker": {
             "colorbar": {
              "outlinewidth": 0,
              "ticks": ""
             }
            },
            "type": "scattergl"
           }
          ],
          "scattermapbox": [
           {
            "marker": {
             "colorbar": {
              "outlinewidth": 0,
              "ticks": ""
             }
            },
            "type": "scattermapbox"
           }
          ],
          "scatterpolar": [
           {
            "marker": {
             "colorbar": {
              "outlinewidth": 0,
              "ticks": ""
             }
            },
            "type": "scatterpolar"
           }
          ],
          "scatterpolargl": [
           {
            "marker": {
             "colorbar": {
              "outlinewidth": 0,
              "ticks": ""
             }
            },
            "type": "scatterpolargl"
           }
          ],
          "scatterternary": [
           {
            "marker": {
             "colorbar": {
              "outlinewidth": 0,
              "ticks": ""
             }
            },
            "type": "scatterternary"
           }
          ],
          "surface": [
           {
            "colorbar": {
             "outlinewidth": 0,
             "ticks": ""
            },
            "colorscale": [
             [
              0,
              "#0d0887"
             ],
             [
              0.1111111111111111,
              "#46039f"
             ],
             [
              0.2222222222222222,
              "#7201a8"
             ],
             [
              0.3333333333333333,
              "#9c179e"
             ],
             [
              0.4444444444444444,
              "#bd3786"
             ],
             [
              0.5555555555555556,
              "#d8576b"
             ],
             [
              0.6666666666666666,
              "#ed7953"
             ],
             [
              0.7777777777777778,
              "#fb9f3a"
             ],
             [
              0.8888888888888888,
              "#fdca26"
             ],
             [
              1,
              "#f0f921"
             ]
            ],
            "type": "surface"
           }
          ],
          "table": [
           {
            "cells": {
             "fill": {
              "color": "#EBF0F8"
             },
             "line": {
              "color": "white"
             }
            },
            "header": {
             "fill": {
              "color": "#C8D4E3"
             },
             "line": {
              "color": "white"
             }
            },
            "type": "table"
           }
          ]
         },
         "layout": {
          "annotationdefaults": {
           "arrowcolor": "#2a3f5f",
           "arrowhead": 0,
           "arrowwidth": 1
          },
          "colorscale": {
           "diverging": [
            [
             0,
             "#8e0152"
            ],
            [
             0.1,
             "#c51b7d"
            ],
            [
             0.2,
             "#de77ae"
            ],
            [
             0.3,
             "#f1b6da"
            ],
            [
             0.4,
             "#fde0ef"
            ],
            [
             0.5,
             "#f7f7f7"
            ],
            [
             0.6,
             "#e6f5d0"
            ],
            [
             0.7,
             "#b8e186"
            ],
            [
             0.8,
             "#7fbc41"
            ],
            [
             0.9,
             "#4d9221"
            ],
            [
             1,
             "#276419"
            ]
           ],
           "sequential": [
            [
             0,
             "#0d0887"
            ],
            [
             0.1111111111111111,
             "#46039f"
            ],
            [
             0.2222222222222222,
             "#7201a8"
            ],
            [
             0.3333333333333333,
             "#9c179e"
            ],
            [
             0.4444444444444444,
             "#bd3786"
            ],
            [
             0.5555555555555556,
             "#d8576b"
            ],
            [
             0.6666666666666666,
             "#ed7953"
            ],
            [
             0.7777777777777778,
             "#fb9f3a"
            ],
            [
             0.8888888888888888,
             "#fdca26"
            ],
            [
             1,
             "#f0f921"
            ]
           ],
           "sequentialminus": [
            [
             0,
             "#0d0887"
            ],
            [
             0.1111111111111111,
             "#46039f"
            ],
            [
             0.2222222222222222,
             "#7201a8"
            ],
            [
             0.3333333333333333,
             "#9c179e"
            ],
            [
             0.4444444444444444,
             "#bd3786"
            ],
            [
             0.5555555555555556,
             "#d8576b"
            ],
            [
             0.6666666666666666,
             "#ed7953"
            ],
            [
             0.7777777777777778,
             "#fb9f3a"
            ],
            [
             0.8888888888888888,
             "#fdca26"
            ],
            [
             1,
             "#f0f921"
            ]
           ]
          },
          "colorway": [
           "#636efa",
           "#EF553B",
           "#00cc96",
           "#ab63fa",
           "#FFA15A",
           "#19d3f3",
           "#FF6692",
           "#B6E880",
           "#FF97FF",
           "#FECB52"
          ],
          "font": {
           "color": "#2a3f5f"
          },
          "geo": {
           "bgcolor": "white",
           "lakecolor": "white",
           "landcolor": "#E5ECF6",
           "showlakes": true,
           "showland": true,
           "subunitcolor": "white"
          },
          "hoverlabel": {
           "align": "left"
          },
          "hovermode": "closest",
          "mapbox": {
           "style": "light"
          },
          "paper_bgcolor": "white",
          "plot_bgcolor": "#E5ECF6",
          "polar": {
           "angularaxis": {
            "gridcolor": "white",
            "linecolor": "white",
            "ticks": ""
           },
           "bgcolor": "#E5ECF6",
           "radialaxis": {
            "gridcolor": "white",
            "linecolor": "white",
            "ticks": ""
           }
          },
          "scene": {
           "xaxis": {
            "backgroundcolor": "#E5ECF6",
            "gridcolor": "white",
            "gridwidth": 2,
            "linecolor": "white",
            "showbackground": true,
            "ticks": "",
            "zerolinecolor": "white"
           },
           "yaxis": {
            "backgroundcolor": "#E5ECF6",
            "gridcolor": "white",
            "gridwidth": 2,
            "linecolor": "white",
            "showbackground": true,
            "ticks": "",
            "zerolinecolor": "white"
           },
           "zaxis": {
            "backgroundcolor": "#E5ECF6",
            "gridcolor": "white",
            "gridwidth": 2,
            "linecolor": "white",
            "showbackground": true,
            "ticks": "",
            "zerolinecolor": "white"
           }
          },
          "shapedefaults": {
           "line": {
            "color": "#2a3f5f"
           }
          },
          "ternary": {
           "aaxis": {
            "gridcolor": "white",
            "linecolor": "white",
            "ticks": ""
           },
           "baxis": {
            "gridcolor": "white",
            "linecolor": "white",
            "ticks": ""
           },
           "bgcolor": "#E5ECF6",
           "caxis": {
            "gridcolor": "white",
            "linecolor": "white",
            "ticks": ""
           }
          },
          "title": {
           "x": 0.05
          },
          "xaxis": {
           "automargin": true,
           "gridcolor": "white",
           "linecolor": "white",
           "ticks": "",
           "zerolinecolor": "white",
           "zerolinewidth": 2
          },
          "yaxis": {
           "automargin": true,
           "gridcolor": "white",
           "linecolor": "white",
           "ticks": "",
           "zerolinecolor": "white",
           "zerolinewidth": 2
          }
         }
        },
        "title": {
         "text": "Crashes by operators"
        },
        "xaxis": {
         "title": {
          "text": "Count"
         }
        },
        "yaxis": {
         "autorange": "reversed"
        }
       }
      },
      "text/html": [
       "<div>\n",
       "        \n",
       "        \n",
       "            <div id=\"5c9c9eac-58d1-4ec3-a3a6-ba84589b6797\" class=\"plotly-graph-div\" style=\"height:525px; width:100%;\"></div>\n",
       "            <script type=\"text/javascript\">\n",
       "                require([\"plotly\"], function(Plotly) {\n",
       "                    window.PLOTLYENV=window.PLOTLYENV || {};\n",
       "                    \n",
       "                if (document.getElementById(\"5c9c9eac-58d1-4ec3-a3a6-ba84589b6797\")) {\n",
       "                    Plotly.newPlot(\n",
       "                        '5c9c9eac-58d1-4ec3-a3a6-ba84589b6797',\n",
       "                        [{\"marker\": {\"color\": [0, 1, 2, 3, 4, 5, 6, 7, 8, 9, 10, 11, 12, 13, 14, 15, 16, 17, 18]}, \"orientation\": \"h\", \"text\": [\"24.98 %\", \"23.41 %\", \"7.05 %\", \"6.17 %\", \"4.31 %\", \"4.21 %\", \"4.02 %\", \"3.62 %\", \"3.43 %\", \"3.33 %\", \"3.33 %\", \"3.23 %\", \"3.13 %\", \"2.94 %\", \"2.84 %\"], \"textposition\": \"auto\", \"type\": \"bar\", \"x\": [255, 239, 72, 63, 44, 43, 41, 37, 35, 34, 34, 33, 32, 30, 29], \"y\": [\"AEROFLOT\", \"MILITARY - U.S. AIR FORCE\", \"AIR FRANCE\", \"DEUTSCHE LUFTHANSA\", \"UNITED AIR LINES\", \"CHINA NATIONAL AVIATION CORPORATION\", \"PAN AMERICAN WORLD AIRWAYS\", \"AMERICAN AIRLINES\", \"US AERIAL MAIL SERVICE\", \"KLM ROYAL DUTCH AIRLINES\", \"INDIAN AIRLINES\", \"PHILIPPINE AIR LINES\", \"MILITARY - ROYAL AIR FORCE\", \"PRIVATE\", \"BRITISH OVERSEAS AIRWAYS\"]}],\n",
       "                        {\"font\": {\"size\": 14}, \"template\": {\"data\": {\"bar\": [{\"error_x\": {\"color\": \"#2a3f5f\"}, \"error_y\": {\"color\": \"#2a3f5f\"}, \"marker\": {\"line\": {\"color\": \"#E5ECF6\", \"width\": 0.5}}, \"type\": \"bar\"}], \"barpolar\": [{\"marker\": {\"line\": {\"color\": \"#E5ECF6\", \"width\": 0.5}}, \"type\": \"barpolar\"}], \"carpet\": [{\"aaxis\": {\"endlinecolor\": \"#2a3f5f\", \"gridcolor\": \"white\", \"linecolor\": \"white\", \"minorgridcolor\": \"white\", \"startlinecolor\": \"#2a3f5f\"}, \"baxis\": {\"endlinecolor\": \"#2a3f5f\", \"gridcolor\": \"white\", \"linecolor\": \"white\", \"minorgridcolor\": \"white\", \"startlinecolor\": \"#2a3f5f\"}, \"type\": \"carpet\"}], \"choropleth\": [{\"colorbar\": {\"outlinewidth\": 0, \"ticks\": \"\"}, \"type\": \"choropleth\"}], \"contour\": [{\"colorbar\": {\"outlinewidth\": 0, \"ticks\": \"\"}, \"colorscale\": [[0.0, \"#0d0887\"], [0.1111111111111111, \"#46039f\"], [0.2222222222222222, \"#7201a8\"], [0.3333333333333333, \"#9c179e\"], [0.4444444444444444, \"#bd3786\"], [0.5555555555555556, \"#d8576b\"], [0.6666666666666666, \"#ed7953\"], [0.7777777777777778, \"#fb9f3a\"], [0.8888888888888888, \"#fdca26\"], [1.0, \"#f0f921\"]], \"type\": \"contour\"}], \"contourcarpet\": [{\"colorbar\": {\"outlinewidth\": 0, \"ticks\": \"\"}, \"type\": \"contourcarpet\"}], \"heatmap\": [{\"colorbar\": {\"outlinewidth\": 0, \"ticks\": \"\"}, \"colorscale\": [[0.0, \"#0d0887\"], [0.1111111111111111, \"#46039f\"], [0.2222222222222222, \"#7201a8\"], [0.3333333333333333, \"#9c179e\"], [0.4444444444444444, \"#bd3786\"], [0.5555555555555556, \"#d8576b\"], [0.6666666666666666, \"#ed7953\"], [0.7777777777777778, \"#fb9f3a\"], [0.8888888888888888, \"#fdca26\"], [1.0, \"#f0f921\"]], \"type\": \"heatmap\"}], \"heatmapgl\": [{\"colorbar\": {\"outlinewidth\": 0, \"ticks\": \"\"}, \"colorscale\": [[0.0, \"#0d0887\"], [0.1111111111111111, \"#46039f\"], [0.2222222222222222, \"#7201a8\"], [0.3333333333333333, \"#9c179e\"], [0.4444444444444444, \"#bd3786\"], [0.5555555555555556, \"#d8576b\"], [0.6666666666666666, \"#ed7953\"], [0.7777777777777778, \"#fb9f3a\"], [0.8888888888888888, \"#fdca26\"], [1.0, \"#f0f921\"]], \"type\": \"heatmapgl\"}], \"histogram\": [{\"marker\": {\"colorbar\": {\"outlinewidth\": 0, \"ticks\": \"\"}}, \"type\": \"histogram\"}], \"histogram2d\": [{\"colorbar\": {\"outlinewidth\": 0, \"ticks\": \"\"}, \"colorscale\": [[0.0, \"#0d0887\"], [0.1111111111111111, \"#46039f\"], [0.2222222222222222, \"#7201a8\"], [0.3333333333333333, \"#9c179e\"], [0.4444444444444444, \"#bd3786\"], [0.5555555555555556, \"#d8576b\"], [0.6666666666666666, \"#ed7953\"], [0.7777777777777778, \"#fb9f3a\"], [0.8888888888888888, \"#fdca26\"], [1.0, \"#f0f921\"]], \"type\": \"histogram2d\"}], \"histogram2dcontour\": [{\"colorbar\": {\"outlinewidth\": 0, \"ticks\": \"\"}, \"colorscale\": [[0.0, \"#0d0887\"], [0.1111111111111111, \"#46039f\"], [0.2222222222222222, \"#7201a8\"], [0.3333333333333333, \"#9c179e\"], [0.4444444444444444, \"#bd3786\"], [0.5555555555555556, \"#d8576b\"], [0.6666666666666666, \"#ed7953\"], [0.7777777777777778, \"#fb9f3a\"], [0.8888888888888888, \"#fdca26\"], [1.0, \"#f0f921\"]], \"type\": \"histogram2dcontour\"}], \"mesh3d\": [{\"colorbar\": {\"outlinewidth\": 0, \"ticks\": \"\"}, \"type\": \"mesh3d\"}], \"parcoords\": [{\"line\": {\"colorbar\": {\"outlinewidth\": 0, \"ticks\": \"\"}}, \"type\": \"parcoords\"}], \"scatter\": [{\"marker\": {\"colorbar\": {\"outlinewidth\": 0, \"ticks\": \"\"}}, \"type\": \"scatter\"}], \"scatter3d\": [{\"line\": {\"colorbar\": {\"outlinewidth\": 0, \"ticks\": \"\"}}, \"marker\": {\"colorbar\": {\"outlinewidth\": 0, \"ticks\": \"\"}}, \"type\": \"scatter3d\"}], \"scattercarpet\": [{\"marker\": {\"colorbar\": {\"outlinewidth\": 0, \"ticks\": \"\"}}, \"type\": \"scattercarpet\"}], \"scattergeo\": [{\"marker\": {\"colorbar\": {\"outlinewidth\": 0, \"ticks\": \"\"}}, \"type\": \"scattergeo\"}], \"scattergl\": [{\"marker\": {\"colorbar\": {\"outlinewidth\": 0, \"ticks\": \"\"}}, \"type\": \"scattergl\"}], \"scattermapbox\": [{\"marker\": {\"colorbar\": {\"outlinewidth\": 0, \"ticks\": \"\"}}, \"type\": \"scattermapbox\"}], \"scatterpolar\": [{\"marker\": {\"colorbar\": {\"outlinewidth\": 0, \"ticks\": \"\"}}, \"type\": \"scatterpolar\"}], \"scatterpolargl\": [{\"marker\": {\"colorbar\": {\"outlinewidth\": 0, \"ticks\": \"\"}}, \"type\": \"scatterpolargl\"}], \"scatterternary\": [{\"marker\": {\"colorbar\": {\"outlinewidth\": 0, \"ticks\": \"\"}}, \"type\": \"scatterternary\"}], \"surface\": [{\"colorbar\": {\"outlinewidth\": 0, \"ticks\": \"\"}, \"colorscale\": [[0.0, \"#0d0887\"], [0.1111111111111111, \"#46039f\"], [0.2222222222222222, \"#7201a8\"], [0.3333333333333333, \"#9c179e\"], [0.4444444444444444, \"#bd3786\"], [0.5555555555555556, \"#d8576b\"], [0.6666666666666666, \"#ed7953\"], [0.7777777777777778, \"#fb9f3a\"], [0.8888888888888888, \"#fdca26\"], [1.0, \"#f0f921\"]], \"type\": \"surface\"}], \"table\": [{\"cells\": {\"fill\": {\"color\": \"#EBF0F8\"}, \"line\": {\"color\": \"white\"}}, \"header\": {\"fill\": {\"color\": \"#C8D4E3\"}, \"line\": {\"color\": \"white\"}}, \"type\": \"table\"}]}, \"layout\": {\"annotationdefaults\": {\"arrowcolor\": \"#2a3f5f\", \"arrowhead\": 0, \"arrowwidth\": 1}, \"colorscale\": {\"diverging\": [[0, \"#8e0152\"], [0.1, \"#c51b7d\"], [0.2, \"#de77ae\"], [0.3, \"#f1b6da\"], [0.4, \"#fde0ef\"], [0.5, \"#f7f7f7\"], [0.6, \"#e6f5d0\"], [0.7, \"#b8e186\"], [0.8, \"#7fbc41\"], [0.9, \"#4d9221\"], [1, \"#276419\"]], \"sequential\": [[0.0, \"#0d0887\"], [0.1111111111111111, \"#46039f\"], [0.2222222222222222, \"#7201a8\"], [0.3333333333333333, \"#9c179e\"], [0.4444444444444444, \"#bd3786\"], [0.5555555555555556, \"#d8576b\"], [0.6666666666666666, \"#ed7953\"], [0.7777777777777778, \"#fb9f3a\"], [0.8888888888888888, \"#fdca26\"], [1.0, \"#f0f921\"]], \"sequentialminus\": [[0.0, \"#0d0887\"], [0.1111111111111111, \"#46039f\"], [0.2222222222222222, \"#7201a8\"], [0.3333333333333333, \"#9c179e\"], [0.4444444444444444, \"#bd3786\"], [0.5555555555555556, \"#d8576b\"], [0.6666666666666666, \"#ed7953\"], [0.7777777777777778, \"#fb9f3a\"], [0.8888888888888888, \"#fdca26\"], [1.0, \"#f0f921\"]]}, \"colorway\": [\"#636efa\", \"#EF553B\", \"#00cc96\", \"#ab63fa\", \"#FFA15A\", \"#19d3f3\", \"#FF6692\", \"#B6E880\", \"#FF97FF\", \"#FECB52\"], \"font\": {\"color\": \"#2a3f5f\"}, \"geo\": {\"bgcolor\": \"white\", \"lakecolor\": \"white\", \"landcolor\": \"#E5ECF6\", \"showlakes\": true, \"showland\": true, \"subunitcolor\": \"white\"}, \"hoverlabel\": {\"align\": \"left\"}, \"hovermode\": \"closest\", \"mapbox\": {\"style\": \"light\"}, \"paper_bgcolor\": \"white\", \"plot_bgcolor\": \"#E5ECF6\", \"polar\": {\"angularaxis\": {\"gridcolor\": \"white\", \"linecolor\": \"white\", \"ticks\": \"\"}, \"bgcolor\": \"#E5ECF6\", \"radialaxis\": {\"gridcolor\": \"white\", \"linecolor\": \"white\", \"ticks\": \"\"}}, \"scene\": {\"xaxis\": {\"backgroundcolor\": \"#E5ECF6\", \"gridcolor\": \"white\", \"gridwidth\": 2, \"linecolor\": \"white\", \"showbackground\": true, \"ticks\": \"\", \"zerolinecolor\": \"white\"}, \"yaxis\": {\"backgroundcolor\": \"#E5ECF6\", \"gridcolor\": \"white\", \"gridwidth\": 2, \"linecolor\": \"white\", \"showbackground\": true, \"ticks\": \"\", \"zerolinecolor\": \"white\"}, \"zaxis\": {\"backgroundcolor\": \"#E5ECF6\", \"gridcolor\": \"white\", \"gridwidth\": 2, \"linecolor\": \"white\", \"showbackground\": true, \"ticks\": \"\", \"zerolinecolor\": \"white\"}}, \"shapedefaults\": {\"line\": {\"color\": \"#2a3f5f\"}}, \"ternary\": {\"aaxis\": {\"gridcolor\": \"white\", \"linecolor\": \"white\", \"ticks\": \"\"}, \"baxis\": {\"gridcolor\": \"white\", \"linecolor\": \"white\", \"ticks\": \"\"}, \"bgcolor\": \"#E5ECF6\", \"caxis\": {\"gridcolor\": \"white\", \"linecolor\": \"white\", \"ticks\": \"\"}}, \"title\": {\"x\": 0.05}, \"xaxis\": {\"automargin\": true, \"gridcolor\": \"white\", \"linecolor\": \"white\", \"ticks\": \"\", \"zerolinecolor\": \"white\", \"zerolinewidth\": 2}, \"yaxis\": {\"automargin\": true, \"gridcolor\": \"white\", \"linecolor\": \"white\", \"ticks\": \"\", \"zerolinecolor\": \"white\", \"zerolinewidth\": 2}}}, \"title\": {\"text\": \"Crashes by operators\"}, \"xaxis\": {\"title\": {\"text\": \"Count\"}}, \"yaxis\": {\"autorange\": \"reversed\"}},\n",
       "                        {\"responsive\": true}\n",
       "                    ).then(function(){\n",
       "                            \n",
       "var gd = document.getElementById('5c9c9eac-58d1-4ec3-a3a6-ba84589b6797');\n",
       "var x = new MutationObserver(function (mutations, observer) {{\n",
       "        var display = window.getComputedStyle(gd).display;\n",
       "        if (!display || display === 'none') {{\n",
       "            console.log([gd, 'removed!']);\n",
       "            Plotly.purge(gd);\n",
       "            observer.disconnect();\n",
       "        }}\n",
       "}});\n",
       "\n",
       "// Listen for the removal of the full notebook cells\n",
       "var notebookContainer = gd.closest('#notebook-container');\n",
       "if (notebookContainer) {{\n",
       "    x.observe(notebookContainer, {childList: true});\n",
       "}}\n",
       "\n",
       "// Listen for the clearing of the current output cell\n",
       "var outputEl = gd.closest('.output');\n",
       "if (outputEl) {{\n",
       "    x.observe(outputEl, {childList: true});\n",
       "}}\n",
       "\n",
       "                        })\n",
       "                };\n",
       "                });\n",
       "            </script>\n",
       "        </div>"
      ]
     },
     "metadata": {},
     "output_type": "display_data"
    }
   ],
   "source": [
    "dataset.Operator = dataset.Operator.str.upper()\n",
    "# Mergiare tutti gli operatori che appartengono a USA ARMY.\n",
    "dataset.Operator.loc[(dataset[\"Operator\"] == 'MILITARY - U.S. ARMY AIR FORCES')] = 'MILITARY - U.S. AIR FORCE'\n",
    "dataset.Operator.loc[(dataset[\"Operator\"] == 'MILITARY - U.S. ARMY')] = 'MILITARY - U.S. AIR FORCE'\n",
    "dataset.Operator.loc[(dataset[\"Operator\"] == 'MILITARY - U.S. NAVY')] = 'MILITARY - U.S. AIR FORCE'\n",
    "\n",
    "# Ragruppa gli operatori\n",
    "Total_by_Op = dataset.groupby('Operator')[['Operator']].count()\n",
    "Total_by_Op = Total_by_Op.rename(columns={\"Operator\": \"Count\"})\n",
    "Total_by_Op = Total_by_Op.sort_values(by='Count', ascending=False).head(15)\n",
    "total = Total_by_Op['Count'].sum()\n",
    "\n",
    "Total_by_Op['Percentage'] = round((Total_by_Op['Count'] /total) * 100, 2)\n",
    "Total_by_Op['Percentage'] = Total_by_Op['Percentage'].astype(str) + \" %\"\n",
    "    \n",
    "values = list(range(19))\n",
    "\n",
    "data = [\n",
    "    go.Bar(y=Total_by_Op[\"Count\"].index,\n",
    "           x = Total_by_Op[\"Count\"],\n",
    "           text= Total_by_Op['Percentage'],\n",
    "           textposition='auto',\n",
    "           orientation='h', \n",
    "           marker=dict(color=values))]\n",
    "layout = go.Layout(title=\"Crashes by operators\", \n",
    "                   xaxis=dict(title=\"Count\"),\n",
    "                   yaxis=dict(autorange = \"reversed\"),\n",
    "                   font=dict(size=14))\n",
    "\n",
    "\n",
    "fig = go.Figure(data, layout)\n",
    "py.iplot(fig)"
   ]
  },
  {
   "cell_type": "markdown",
   "metadata": {},
   "source": [
    " #### Aeroflot ha avuto la percentuale più alta di incidenti quasi il 25 %"
   ]
  },
  {
   "cell_type": "code",
   "execution_count": 14,
   "metadata": {},
   "outputs": [
    {
     "data": {
      "application/vnd.plotly.v1+json": {
       "config": {
        "linkText": "Export to plot.ly",
        "plotlyServerURL": "https://plot.ly",
        "showLink": false
       },
       "data": [
        {
         "mode": "lines+markers",
         "type": "scatter",
         "x": [
          1934,
          1936,
          1937,
          1941,
          1942,
          1944,
          1946,
          1947,
          1948,
          1949,
          1950,
          1951,
          1952,
          1953,
          1954,
          1955,
          1957,
          1958,
          1959,
          1960,
          1961,
          1962,
          1963,
          1964,
          1965,
          1966,
          1967,
          1968,
          1969,
          1970,
          1971,
          1972,
          1973,
          1974,
          1975,
          1976,
          1977,
          1978,
          1979,
          1980,
          1981,
          1982,
          1983,
          1984,
          1985,
          1986,
          1987,
          1988,
          1989,
          1990,
          1991,
          1992,
          1995,
          1996,
          2008
         ],
         "y": [
          1,
          1,
          1,
          2,
          2,
          1,
          3,
          4,
          5,
          3,
          1,
          3,
          2,
          5,
          4,
          2,
          3,
          6,
          4,
          8,
          4,
          10,
          8,
          1,
          6,
          8,
          3,
          2,
          10,
          10,
          7,
          5,
          17,
          6,
          8,
          9,
          7,
          3,
          9,
          3,
          4,
          5,
          3,
          6,
          3,
          5,
          4,
          7,
          3,
          5,
          7,
          2,
          2,
          1,
          1
         ]
        }
       ],
       "layout": {
        "font": {
         "size": 14
        },
        "template": {
         "data": {
          "bar": [
           {
            "error_x": {
             "color": "#2a3f5f"
            },
            "error_y": {
             "color": "#2a3f5f"
            },
            "marker": {
             "line": {
              "color": "#E5ECF6",
              "width": 0.5
             }
            },
            "type": "bar"
           }
          ],
          "barpolar": [
           {
            "marker": {
             "line": {
              "color": "#E5ECF6",
              "width": 0.5
             }
            },
            "type": "barpolar"
           }
          ],
          "carpet": [
           {
            "aaxis": {
             "endlinecolor": "#2a3f5f",
             "gridcolor": "white",
             "linecolor": "white",
             "minorgridcolor": "white",
             "startlinecolor": "#2a3f5f"
            },
            "baxis": {
             "endlinecolor": "#2a3f5f",
             "gridcolor": "white",
             "linecolor": "white",
             "minorgridcolor": "white",
             "startlinecolor": "#2a3f5f"
            },
            "type": "carpet"
           }
          ],
          "choropleth": [
           {
            "colorbar": {
             "outlinewidth": 0,
             "ticks": ""
            },
            "type": "choropleth"
           }
          ],
          "contour": [
           {
            "colorbar": {
             "outlinewidth": 0,
             "ticks": ""
            },
            "colorscale": [
             [
              0,
              "#0d0887"
             ],
             [
              0.1111111111111111,
              "#46039f"
             ],
             [
              0.2222222222222222,
              "#7201a8"
             ],
             [
              0.3333333333333333,
              "#9c179e"
             ],
             [
              0.4444444444444444,
              "#bd3786"
             ],
             [
              0.5555555555555556,
              "#d8576b"
             ],
             [
              0.6666666666666666,
              "#ed7953"
             ],
             [
              0.7777777777777778,
              "#fb9f3a"
             ],
             [
              0.8888888888888888,
              "#fdca26"
             ],
             [
              1,
              "#f0f921"
             ]
            ],
            "type": "contour"
           }
          ],
          "contourcarpet": [
           {
            "colorbar": {
             "outlinewidth": 0,
             "ticks": ""
            },
            "type": "contourcarpet"
           }
          ],
          "heatmap": [
           {
            "colorbar": {
             "outlinewidth": 0,
             "ticks": ""
            },
            "colorscale": [
             [
              0,
              "#0d0887"
             ],
             [
              0.1111111111111111,
              "#46039f"
             ],
             [
              0.2222222222222222,
              "#7201a8"
             ],
             [
              0.3333333333333333,
              "#9c179e"
             ],
             [
              0.4444444444444444,
              "#bd3786"
             ],
             [
              0.5555555555555556,
              "#d8576b"
             ],
             [
              0.6666666666666666,
              "#ed7953"
             ],
             [
              0.7777777777777778,
              "#fb9f3a"
             ],
             [
              0.8888888888888888,
              "#fdca26"
             ],
             [
              1,
              "#f0f921"
             ]
            ],
            "type": "heatmap"
           }
          ],
          "heatmapgl": [
           {
            "colorbar": {
             "outlinewidth": 0,
             "ticks": ""
            },
            "colorscale": [
             [
              0,
              "#0d0887"
             ],
             [
              0.1111111111111111,
              "#46039f"
             ],
             [
              0.2222222222222222,
              "#7201a8"
             ],
             [
              0.3333333333333333,
              "#9c179e"
             ],
             [
              0.4444444444444444,
              "#bd3786"
             ],
             [
              0.5555555555555556,
              "#d8576b"
             ],
             [
              0.6666666666666666,
              "#ed7953"
             ],
             [
              0.7777777777777778,
              "#fb9f3a"
             ],
             [
              0.8888888888888888,
              "#fdca26"
             ],
             [
              1,
              "#f0f921"
             ]
            ],
            "type": "heatmapgl"
           }
          ],
          "histogram": [
           {
            "marker": {
             "colorbar": {
              "outlinewidth": 0,
              "ticks": ""
             }
            },
            "type": "histogram"
           }
          ],
          "histogram2d": [
           {
            "colorbar": {
             "outlinewidth": 0,
             "ticks": ""
            },
            "colorscale": [
             [
              0,
              "#0d0887"
             ],
             [
              0.1111111111111111,
              "#46039f"
             ],
             [
              0.2222222222222222,
              "#7201a8"
             ],
             [
              0.3333333333333333,
              "#9c179e"
             ],
             [
              0.4444444444444444,
              "#bd3786"
             ],
             [
              0.5555555555555556,
              "#d8576b"
             ],
             [
              0.6666666666666666,
              "#ed7953"
             ],
             [
              0.7777777777777778,
              "#fb9f3a"
             ],
             [
              0.8888888888888888,
              "#fdca26"
             ],
             [
              1,
              "#f0f921"
             ]
            ],
            "type": "histogram2d"
           }
          ],
          "histogram2dcontour": [
           {
            "colorbar": {
             "outlinewidth": 0,
             "ticks": ""
            },
            "colorscale": [
             [
              0,
              "#0d0887"
             ],
             [
              0.1111111111111111,
              "#46039f"
             ],
             [
              0.2222222222222222,
              "#7201a8"
             ],
             [
              0.3333333333333333,
              "#9c179e"
             ],
             [
              0.4444444444444444,
              "#bd3786"
             ],
             [
              0.5555555555555556,
              "#d8576b"
             ],
             [
              0.6666666666666666,
              "#ed7953"
             ],
             [
              0.7777777777777778,
              "#fb9f3a"
             ],
             [
              0.8888888888888888,
              "#fdca26"
             ],
             [
              1,
              "#f0f921"
             ]
            ],
            "type": "histogram2dcontour"
           }
          ],
          "mesh3d": [
           {
            "colorbar": {
             "outlinewidth": 0,
             "ticks": ""
            },
            "type": "mesh3d"
           }
          ],
          "parcoords": [
           {
            "line": {
             "colorbar": {
              "outlinewidth": 0,
              "ticks": ""
             }
            },
            "type": "parcoords"
           }
          ],
          "scatter": [
           {
            "marker": {
             "colorbar": {
              "outlinewidth": 0,
              "ticks": ""
             }
            },
            "type": "scatter"
           }
          ],
          "scatter3d": [
           {
            "line": {
             "colorbar": {
              "outlinewidth": 0,
              "ticks": ""
             }
            },
            "marker": {
             "colorbar": {
              "outlinewidth": 0,
              "ticks": ""
             }
            },
            "type": "scatter3d"
           }
          ],
          "scattercarpet": [
           {
            "marker": {
             "colorbar": {
              "outlinewidth": 0,
              "ticks": ""
             }
            },
            "type": "scattercarpet"
           }
          ],
          "scattergeo": [
           {
            "marker": {
             "colorbar": {
              "outlinewidth": 0,
              "ticks": ""
             }
            },
            "type": "scattergeo"
           }
          ],
          "scattergl": [
           {
            "marker": {
             "colorbar": {
              "outlinewidth": 0,
              "ticks": ""
             }
            },
            "type": "scattergl"
           }
          ],
          "scattermapbox": [
           {
            "marker": {
             "colorbar": {
              "outlinewidth": 0,
              "ticks": ""
             }
            },
            "type": "scattermapbox"
           }
          ],
          "scatterpolar": [
           {
            "marker": {
             "colorbar": {
              "outlinewidth": 0,
              "ticks": ""
             }
            },
            "type": "scatterpolar"
           }
          ],
          "scatterpolargl": [
           {
            "marker": {
             "colorbar": {
              "outlinewidth": 0,
              "ticks": ""
             }
            },
            "type": "scatterpolargl"
           }
          ],
          "scatterternary": [
           {
            "marker": {
             "colorbar": {
              "outlinewidth": 0,
              "ticks": ""
             }
            },
            "type": "scatterternary"
           }
          ],
          "surface": [
           {
            "colorbar": {
             "outlinewidth": 0,
             "ticks": ""
            },
            "colorscale": [
             [
              0,
              "#0d0887"
             ],
             [
              0.1111111111111111,
              "#46039f"
             ],
             [
              0.2222222222222222,
              "#7201a8"
             ],
             [
              0.3333333333333333,
              "#9c179e"
             ],
             [
              0.4444444444444444,
              "#bd3786"
             ],
             [
              0.5555555555555556,
              "#d8576b"
             ],
             [
              0.6666666666666666,
              "#ed7953"
             ],
             [
              0.7777777777777778,
              "#fb9f3a"
             ],
             [
              0.8888888888888888,
              "#fdca26"
             ],
             [
              1,
              "#f0f921"
             ]
            ],
            "type": "surface"
           }
          ],
          "table": [
           {
            "cells": {
             "fill": {
              "color": "#EBF0F8"
             },
             "line": {
              "color": "white"
             }
            },
            "header": {
             "fill": {
              "color": "#C8D4E3"
             },
             "line": {
              "color": "white"
             }
            },
            "type": "table"
           }
          ]
         },
         "layout": {
          "annotationdefaults": {
           "arrowcolor": "#2a3f5f",
           "arrowhead": 0,
           "arrowwidth": 1
          },
          "colorscale": {
           "diverging": [
            [
             0,
             "#8e0152"
            ],
            [
             0.1,
             "#c51b7d"
            ],
            [
             0.2,
             "#de77ae"
            ],
            [
             0.3,
             "#f1b6da"
            ],
            [
             0.4,
             "#fde0ef"
            ],
            [
             0.5,
             "#f7f7f7"
            ],
            [
             0.6,
             "#e6f5d0"
            ],
            [
             0.7,
             "#b8e186"
            ],
            [
             0.8,
             "#7fbc41"
            ],
            [
             0.9,
             "#4d9221"
            ],
            [
             1,
             "#276419"
            ]
           ],
           "sequential": [
            [
             0,
             "#0d0887"
            ],
            [
             0.1111111111111111,
             "#46039f"
            ],
            [
             0.2222222222222222,
             "#7201a8"
            ],
            [
             0.3333333333333333,
             "#9c179e"
            ],
            [
             0.4444444444444444,
             "#bd3786"
            ],
            [
             0.5555555555555556,
             "#d8576b"
            ],
            [
             0.6666666666666666,
             "#ed7953"
            ],
            [
             0.7777777777777778,
             "#fb9f3a"
            ],
            [
             0.8888888888888888,
             "#fdca26"
            ],
            [
             1,
             "#f0f921"
            ]
           ],
           "sequentialminus": [
            [
             0,
             "#0d0887"
            ],
            [
             0.1111111111111111,
             "#46039f"
            ],
            [
             0.2222222222222222,
             "#7201a8"
            ],
            [
             0.3333333333333333,
             "#9c179e"
            ],
            [
             0.4444444444444444,
             "#bd3786"
            ],
            [
             0.5555555555555556,
             "#d8576b"
            ],
            [
             0.6666666666666666,
             "#ed7953"
            ],
            [
             0.7777777777777778,
             "#fb9f3a"
            ],
            [
             0.8888888888888888,
             "#fdca26"
            ],
            [
             1,
             "#f0f921"
            ]
           ]
          },
          "colorway": [
           "#636efa",
           "#EF553B",
           "#00cc96",
           "#ab63fa",
           "#FFA15A",
           "#19d3f3",
           "#FF6692",
           "#B6E880",
           "#FF97FF",
           "#FECB52"
          ],
          "font": {
           "color": "#2a3f5f"
          },
          "geo": {
           "bgcolor": "white",
           "lakecolor": "white",
           "landcolor": "#E5ECF6",
           "showlakes": true,
           "showland": true,
           "subunitcolor": "white"
          },
          "hoverlabel": {
           "align": "left"
          },
          "hovermode": "closest",
          "mapbox": {
           "style": "light"
          },
          "paper_bgcolor": "white",
          "plot_bgcolor": "#E5ECF6",
          "polar": {
           "angularaxis": {
            "gridcolor": "white",
            "linecolor": "white",
            "ticks": ""
           },
           "bgcolor": "#E5ECF6",
           "radialaxis": {
            "gridcolor": "white",
            "linecolor": "white",
            "ticks": ""
           }
          },
          "scene": {
           "xaxis": {
            "backgroundcolor": "#E5ECF6",
            "gridcolor": "white",
            "gridwidth": 2,
            "linecolor": "white",
            "showbackground": true,
            "ticks": "",
            "zerolinecolor": "white"
           },
           "yaxis": {
            "backgroundcolor": "#E5ECF6",
            "gridcolor": "white",
            "gridwidth": 2,
            "linecolor": "white",
            "showbackground": true,
            "ticks": "",
            "zerolinecolor": "white"
           },
           "zaxis": {
            "backgroundcolor": "#E5ECF6",
            "gridcolor": "white",
            "gridwidth": 2,
            "linecolor": "white",
            "showbackground": true,
            "ticks": "",
            "zerolinecolor": "white"
           }
          },
          "shapedefaults": {
           "line": {
            "color": "#2a3f5f"
           }
          },
          "ternary": {
           "aaxis": {
            "gridcolor": "white",
            "linecolor": "white",
            "ticks": ""
           },
           "baxis": {
            "gridcolor": "white",
            "linecolor": "white",
            "ticks": ""
           },
           "bgcolor": "#E5ECF6",
           "caxis": {
            "gridcolor": "white",
            "linecolor": "white",
            "ticks": ""
           }
          },
          "title": {
           "x": 0.05
          },
          "xaxis": {
           "automargin": true,
           "gridcolor": "white",
           "linecolor": "white",
           "ticks": "",
           "zerolinecolor": "white",
           "zerolinewidth": 2
          },
          "yaxis": {
           "automargin": true,
           "gridcolor": "white",
           "linecolor": "white",
           "ticks": "",
           "zerolinecolor": "white",
           "zerolinewidth": 2
          }
         }
        },
        "title": {
         "text": "Crashes by Year (Operator Aeroflot)"
        },
        "xaxis": {
         "title": {
          "text": "Year"
         }
        },
        "yaxis": {
         "title": {
          "text": "Count"
         }
        }
       }
      },
      "text/html": [
       "<div>\n",
       "        \n",
       "        \n",
       "            <div id=\"cb0f7685-64bd-48b3-bdb5-956804dc85fc\" class=\"plotly-graph-div\" style=\"height:525px; width:100%;\"></div>\n",
       "            <script type=\"text/javascript\">\n",
       "                require([\"plotly\"], function(Plotly) {\n",
       "                    window.PLOTLYENV=window.PLOTLYENV || {};\n",
       "                    \n",
       "                if (document.getElementById(\"cb0f7685-64bd-48b3-bdb5-956804dc85fc\")) {\n",
       "                    Plotly.newPlot(\n",
       "                        'cb0f7685-64bd-48b3-bdb5-956804dc85fc',\n",
       "                        [{\"mode\": \"lines+markers\", \"type\": \"scatter\", \"x\": [1934, 1936, 1937, 1941, 1942, 1944, 1946, 1947, 1948, 1949, 1950, 1951, 1952, 1953, 1954, 1955, 1957, 1958, 1959, 1960, 1961, 1962, 1963, 1964, 1965, 1966, 1967, 1968, 1969, 1970, 1971, 1972, 1973, 1974, 1975, 1976, 1977, 1978, 1979, 1980, 1981, 1982, 1983, 1984, 1985, 1986, 1987, 1988, 1989, 1990, 1991, 1992, 1995, 1996, 2008], \"y\": [1, 1, 1, 2, 2, 1, 3, 4, 5, 3, 1, 3, 2, 5, 4, 2, 3, 6, 4, 8, 4, 10, 8, 1, 6, 8, 3, 2, 10, 10, 7, 5, 17, 6, 8, 9, 7, 3, 9, 3, 4, 5, 3, 6, 3, 5, 4, 7, 3, 5, 7, 2, 2, 1, 1]}],\n",
       "                        {\"font\": {\"size\": 14}, \"template\": {\"data\": {\"bar\": [{\"error_x\": {\"color\": \"#2a3f5f\"}, \"error_y\": {\"color\": \"#2a3f5f\"}, \"marker\": {\"line\": {\"color\": \"#E5ECF6\", \"width\": 0.5}}, \"type\": \"bar\"}], \"barpolar\": [{\"marker\": {\"line\": {\"color\": \"#E5ECF6\", \"width\": 0.5}}, \"type\": \"barpolar\"}], \"carpet\": [{\"aaxis\": {\"endlinecolor\": \"#2a3f5f\", \"gridcolor\": \"white\", \"linecolor\": \"white\", \"minorgridcolor\": \"white\", \"startlinecolor\": \"#2a3f5f\"}, \"baxis\": {\"endlinecolor\": \"#2a3f5f\", \"gridcolor\": \"white\", \"linecolor\": \"white\", \"minorgridcolor\": \"white\", \"startlinecolor\": \"#2a3f5f\"}, \"type\": \"carpet\"}], \"choropleth\": [{\"colorbar\": {\"outlinewidth\": 0, \"ticks\": \"\"}, \"type\": \"choropleth\"}], \"contour\": [{\"colorbar\": {\"outlinewidth\": 0, \"ticks\": \"\"}, \"colorscale\": [[0.0, \"#0d0887\"], [0.1111111111111111, \"#46039f\"], [0.2222222222222222, \"#7201a8\"], [0.3333333333333333, \"#9c179e\"], [0.4444444444444444, \"#bd3786\"], [0.5555555555555556, \"#d8576b\"], [0.6666666666666666, \"#ed7953\"], [0.7777777777777778, \"#fb9f3a\"], [0.8888888888888888, \"#fdca26\"], [1.0, \"#f0f921\"]], \"type\": \"contour\"}], \"contourcarpet\": [{\"colorbar\": {\"outlinewidth\": 0, \"ticks\": \"\"}, \"type\": \"contourcarpet\"}], \"heatmap\": [{\"colorbar\": {\"outlinewidth\": 0, \"ticks\": \"\"}, \"colorscale\": [[0.0, \"#0d0887\"], [0.1111111111111111, \"#46039f\"], [0.2222222222222222, \"#7201a8\"], [0.3333333333333333, \"#9c179e\"], [0.4444444444444444, \"#bd3786\"], [0.5555555555555556, \"#d8576b\"], [0.6666666666666666, \"#ed7953\"], [0.7777777777777778, \"#fb9f3a\"], [0.8888888888888888, \"#fdca26\"], [1.0, \"#f0f921\"]], \"type\": \"heatmap\"}], \"heatmapgl\": [{\"colorbar\": {\"outlinewidth\": 0, \"ticks\": \"\"}, \"colorscale\": [[0.0, \"#0d0887\"], [0.1111111111111111, \"#46039f\"], [0.2222222222222222, \"#7201a8\"], [0.3333333333333333, \"#9c179e\"], [0.4444444444444444, \"#bd3786\"], [0.5555555555555556, \"#d8576b\"], [0.6666666666666666, \"#ed7953\"], [0.7777777777777778, \"#fb9f3a\"], [0.8888888888888888, \"#fdca26\"], [1.0, \"#f0f921\"]], \"type\": \"heatmapgl\"}], \"histogram\": [{\"marker\": {\"colorbar\": {\"outlinewidth\": 0, \"ticks\": \"\"}}, \"type\": \"histogram\"}], \"histogram2d\": [{\"colorbar\": {\"outlinewidth\": 0, \"ticks\": \"\"}, \"colorscale\": [[0.0, \"#0d0887\"], [0.1111111111111111, \"#46039f\"], [0.2222222222222222, \"#7201a8\"], [0.3333333333333333, \"#9c179e\"], [0.4444444444444444, \"#bd3786\"], [0.5555555555555556, \"#d8576b\"], [0.6666666666666666, \"#ed7953\"], [0.7777777777777778, \"#fb9f3a\"], [0.8888888888888888, \"#fdca26\"], [1.0, \"#f0f921\"]], \"type\": \"histogram2d\"}], \"histogram2dcontour\": [{\"colorbar\": {\"outlinewidth\": 0, \"ticks\": \"\"}, \"colorscale\": [[0.0, \"#0d0887\"], [0.1111111111111111, \"#46039f\"], [0.2222222222222222, \"#7201a8\"], [0.3333333333333333, \"#9c179e\"], [0.4444444444444444, \"#bd3786\"], [0.5555555555555556, \"#d8576b\"], [0.6666666666666666, \"#ed7953\"], [0.7777777777777778, \"#fb9f3a\"], [0.8888888888888888, \"#fdca26\"], [1.0, \"#f0f921\"]], \"type\": \"histogram2dcontour\"}], \"mesh3d\": [{\"colorbar\": {\"outlinewidth\": 0, \"ticks\": \"\"}, \"type\": \"mesh3d\"}], \"parcoords\": [{\"line\": {\"colorbar\": {\"outlinewidth\": 0, \"ticks\": \"\"}}, \"type\": \"parcoords\"}], \"scatter\": [{\"marker\": {\"colorbar\": {\"outlinewidth\": 0, \"ticks\": \"\"}}, \"type\": \"scatter\"}], \"scatter3d\": [{\"line\": {\"colorbar\": {\"outlinewidth\": 0, \"ticks\": \"\"}}, \"marker\": {\"colorbar\": {\"outlinewidth\": 0, \"ticks\": \"\"}}, \"type\": \"scatter3d\"}], \"scattercarpet\": [{\"marker\": {\"colorbar\": {\"outlinewidth\": 0, \"ticks\": \"\"}}, \"type\": \"scattercarpet\"}], \"scattergeo\": [{\"marker\": {\"colorbar\": {\"outlinewidth\": 0, \"ticks\": \"\"}}, \"type\": \"scattergeo\"}], \"scattergl\": [{\"marker\": {\"colorbar\": {\"outlinewidth\": 0, \"ticks\": \"\"}}, \"type\": \"scattergl\"}], \"scattermapbox\": [{\"marker\": {\"colorbar\": {\"outlinewidth\": 0, \"ticks\": \"\"}}, \"type\": \"scattermapbox\"}], \"scatterpolar\": [{\"marker\": {\"colorbar\": {\"outlinewidth\": 0, \"ticks\": \"\"}}, \"type\": \"scatterpolar\"}], \"scatterpolargl\": [{\"marker\": {\"colorbar\": {\"outlinewidth\": 0, \"ticks\": \"\"}}, \"type\": \"scatterpolargl\"}], \"scatterternary\": [{\"marker\": {\"colorbar\": {\"outlinewidth\": 0, \"ticks\": \"\"}}, \"type\": \"scatterternary\"}], \"surface\": [{\"colorbar\": {\"outlinewidth\": 0, \"ticks\": \"\"}, \"colorscale\": [[0.0, \"#0d0887\"], [0.1111111111111111, \"#46039f\"], [0.2222222222222222, \"#7201a8\"], [0.3333333333333333, \"#9c179e\"], [0.4444444444444444, \"#bd3786\"], [0.5555555555555556, \"#d8576b\"], [0.6666666666666666, \"#ed7953\"], [0.7777777777777778, \"#fb9f3a\"], [0.8888888888888888, \"#fdca26\"], [1.0, \"#f0f921\"]], \"type\": \"surface\"}], \"table\": [{\"cells\": {\"fill\": {\"color\": \"#EBF0F8\"}, \"line\": {\"color\": \"white\"}}, \"header\": {\"fill\": {\"color\": \"#C8D4E3\"}, \"line\": {\"color\": \"white\"}}, \"type\": \"table\"}]}, \"layout\": {\"annotationdefaults\": {\"arrowcolor\": \"#2a3f5f\", \"arrowhead\": 0, \"arrowwidth\": 1}, \"colorscale\": {\"diverging\": [[0, \"#8e0152\"], [0.1, \"#c51b7d\"], [0.2, \"#de77ae\"], [0.3, \"#f1b6da\"], [0.4, \"#fde0ef\"], [0.5, \"#f7f7f7\"], [0.6, \"#e6f5d0\"], [0.7, \"#b8e186\"], [0.8, \"#7fbc41\"], [0.9, \"#4d9221\"], [1, \"#276419\"]], \"sequential\": [[0.0, \"#0d0887\"], [0.1111111111111111, \"#46039f\"], [0.2222222222222222, \"#7201a8\"], [0.3333333333333333, \"#9c179e\"], [0.4444444444444444, \"#bd3786\"], [0.5555555555555556, \"#d8576b\"], [0.6666666666666666, \"#ed7953\"], [0.7777777777777778, \"#fb9f3a\"], [0.8888888888888888, \"#fdca26\"], [1.0, \"#f0f921\"]], \"sequentialminus\": [[0.0, \"#0d0887\"], [0.1111111111111111, \"#46039f\"], [0.2222222222222222, \"#7201a8\"], [0.3333333333333333, \"#9c179e\"], [0.4444444444444444, \"#bd3786\"], [0.5555555555555556, \"#d8576b\"], [0.6666666666666666, \"#ed7953\"], [0.7777777777777778, \"#fb9f3a\"], [0.8888888888888888, \"#fdca26\"], [1.0, \"#f0f921\"]]}, \"colorway\": [\"#636efa\", \"#EF553B\", \"#00cc96\", \"#ab63fa\", \"#FFA15A\", \"#19d3f3\", \"#FF6692\", \"#B6E880\", \"#FF97FF\", \"#FECB52\"], \"font\": {\"color\": \"#2a3f5f\"}, \"geo\": {\"bgcolor\": \"white\", \"lakecolor\": \"white\", \"landcolor\": \"#E5ECF6\", \"showlakes\": true, \"showland\": true, \"subunitcolor\": \"white\"}, \"hoverlabel\": {\"align\": \"left\"}, \"hovermode\": \"closest\", \"mapbox\": {\"style\": \"light\"}, \"paper_bgcolor\": \"white\", \"plot_bgcolor\": \"#E5ECF6\", \"polar\": {\"angularaxis\": {\"gridcolor\": \"white\", \"linecolor\": \"white\", \"ticks\": \"\"}, \"bgcolor\": \"#E5ECF6\", \"radialaxis\": {\"gridcolor\": \"white\", \"linecolor\": \"white\", \"ticks\": \"\"}}, \"scene\": {\"xaxis\": {\"backgroundcolor\": \"#E5ECF6\", \"gridcolor\": \"white\", \"gridwidth\": 2, \"linecolor\": \"white\", \"showbackground\": true, \"ticks\": \"\", \"zerolinecolor\": \"white\"}, \"yaxis\": {\"backgroundcolor\": \"#E5ECF6\", \"gridcolor\": \"white\", \"gridwidth\": 2, \"linecolor\": \"white\", \"showbackground\": true, \"ticks\": \"\", \"zerolinecolor\": \"white\"}, \"zaxis\": {\"backgroundcolor\": \"#E5ECF6\", \"gridcolor\": \"white\", \"gridwidth\": 2, \"linecolor\": \"white\", \"showbackground\": true, \"ticks\": \"\", \"zerolinecolor\": \"white\"}}, \"shapedefaults\": {\"line\": {\"color\": \"#2a3f5f\"}}, \"ternary\": {\"aaxis\": {\"gridcolor\": \"white\", \"linecolor\": \"white\", \"ticks\": \"\"}, \"baxis\": {\"gridcolor\": \"white\", \"linecolor\": \"white\", \"ticks\": \"\"}, \"bgcolor\": \"#E5ECF6\", \"caxis\": {\"gridcolor\": \"white\", \"linecolor\": \"white\", \"ticks\": \"\"}}, \"title\": {\"x\": 0.05}, \"xaxis\": {\"automargin\": true, \"gridcolor\": \"white\", \"linecolor\": \"white\", \"ticks\": \"\", \"zerolinecolor\": \"white\", \"zerolinewidth\": 2}, \"yaxis\": {\"automargin\": true, \"gridcolor\": \"white\", \"linecolor\": \"white\", \"ticks\": \"\", \"zerolinecolor\": \"white\", \"zerolinewidth\": 2}}}, \"title\": {\"text\": \"Crashes by Year (Operator Aeroflot)\"}, \"xaxis\": {\"title\": {\"text\": \"Year\"}}, \"yaxis\": {\"title\": {\"text\": \"Count\"}}},\n",
       "                        {\"responsive\": true}\n",
       "                    ).then(function(){\n",
       "                            \n",
       "var gd = document.getElementById('cb0f7685-64bd-48b3-bdb5-956804dc85fc');\n",
       "var x = new MutationObserver(function (mutations, observer) {{\n",
       "        var display = window.getComputedStyle(gd).display;\n",
       "        if (!display || display === 'none') {{\n",
       "            console.log([gd, 'removed!']);\n",
       "            Plotly.purge(gd);\n",
       "            observer.disconnect();\n",
       "        }}\n",
       "}});\n",
       "\n",
       "// Listen for the removal of the full notebook cells\n",
       "var notebookContainer = gd.closest('#notebook-container');\n",
       "if (notebookContainer) {{\n",
       "    x.observe(notebookContainer, {childList: true});\n",
       "}}\n",
       "\n",
       "// Listen for the clearing of the current output cell\n",
       "var outputEl = gd.closest('.output');\n",
       "if (outputEl) {{\n",
       "    x.observe(outputEl, {childList: true});\n",
       "}}\n",
       "\n",
       "                        })\n",
       "                };\n",
       "                });\n",
       "            </script>\n",
       "        </div>"
      ]
     },
     "metadata": {},
     "output_type": "display_data"
    }
   ],
   "source": [
    "Aeroflot = dataset[dataset.Operator == 'AEROFLOT']\n",
    "\n",
    "Count_by_Year = Aeroflot.groupby(dataset.Year)[['Date']].count()\n",
    "Count_by_Year = Count_by_Year.rename(columns={\"Date\": \"Count\"})\n",
    "\n",
    "data = [\n",
    "    go.Scatter(x=Count_by_Year.index, y= Count_by_Year[\"Count\"], mode = 'lines+markers')\n",
    "]\n",
    "\n",
    "layout = go.Layout(title=\"Crashes by Year (Operator Aeroflot)\",xaxis=dict(title=\"Year\",),yaxis=dict(title=\"Count\"),font=dict(size=14))\n",
    "fig = go.Figure(data, layout)\n",
    "py.iplot(fig)"
   ]
  },
  {
   "cell_type": "markdown",
   "metadata": {},
   "source": [
    "#### L'anno 1973 è un anno nero nella storia di Aeroflot con 17 incidenti"
   ]
  },
  {
   "cell_type": "markdown",
   "metadata": {},
   "source": [
    "### 4.2 Gli aereoplani che hanno avuto più incidenti nella storia"
   ]
  },
  {
   "cell_type": "code",
   "execution_count": 15,
   "metadata": {},
   "outputs": [
    {
     "data": {
      "application/vnd.plotly.v1+json": {
       "config": {
        "linkText": "Export to plot.ly",
        "plotlyServerURL": "https://plot.ly",
        "showLink": false
       },
       "data": [
        {
         "marker": {
          "color": [
           0,
           1,
           2,
           3,
           4,
           5,
           6,
           7,
           8,
           9,
           10,
           11,
           12,
           13,
           14,
           15,
           16,
           17
          ]
         },
         "orientation": "h",
         "text": [
          333,
          81,
          70,
          64,
          38,
          35,
          34,
          31,
          27,
          27,
          27,
          22,
          20,
          19,
          19
         ],
         "textposition": "auto",
         "type": "bar",
         "x": [
          333,
          81,
          70,
          64,
          38,
          35,
          34,
          31,
          27,
          27,
          27,
          22,
          20,
          19,
          19
         ],
         "y": [
          "Douglas DC-3",
          "de Havilland Canada DHC-6 Twin Otter 300",
          "Douglas C-47A",
          "Douglas C-47",
          "Douglas DC-4",
          "Yakovlev YAK-40",
          "Antonov AN-26",
          "Junkers JU-52/3m",
          "Douglas C-47B",
          "De Havilland DH-4",
          "Douglas DC-6B",
          "Breguet 14",
          "Douglas DC-6",
          "Curtiss C-46A",
          "Antonov AN-24"
         ]
        }
       ],
       "layout": {
        "font": {
         "size": 15
        },
        "template": {
         "data": {
          "bar": [
           {
            "error_x": {
             "color": "#2a3f5f"
            },
            "error_y": {
             "color": "#2a3f5f"
            },
            "marker": {
             "line": {
              "color": "#E5ECF6",
              "width": 0.5
             }
            },
            "type": "bar"
           }
          ],
          "barpolar": [
           {
            "marker": {
             "line": {
              "color": "#E5ECF6",
              "width": 0.5
             }
            },
            "type": "barpolar"
           }
          ],
          "carpet": [
           {
            "aaxis": {
             "endlinecolor": "#2a3f5f",
             "gridcolor": "white",
             "linecolor": "white",
             "minorgridcolor": "white",
             "startlinecolor": "#2a3f5f"
            },
            "baxis": {
             "endlinecolor": "#2a3f5f",
             "gridcolor": "white",
             "linecolor": "white",
             "minorgridcolor": "white",
             "startlinecolor": "#2a3f5f"
            },
            "type": "carpet"
           }
          ],
          "choropleth": [
           {
            "colorbar": {
             "outlinewidth": 0,
             "ticks": ""
            },
            "type": "choropleth"
           }
          ],
          "contour": [
           {
            "colorbar": {
             "outlinewidth": 0,
             "ticks": ""
            },
            "colorscale": [
             [
              0,
              "#0d0887"
             ],
             [
              0.1111111111111111,
              "#46039f"
             ],
             [
              0.2222222222222222,
              "#7201a8"
             ],
             [
              0.3333333333333333,
              "#9c179e"
             ],
             [
              0.4444444444444444,
              "#bd3786"
             ],
             [
              0.5555555555555556,
              "#d8576b"
             ],
             [
              0.6666666666666666,
              "#ed7953"
             ],
             [
              0.7777777777777778,
              "#fb9f3a"
             ],
             [
              0.8888888888888888,
              "#fdca26"
             ],
             [
              1,
              "#f0f921"
             ]
            ],
            "type": "contour"
           }
          ],
          "contourcarpet": [
           {
            "colorbar": {
             "outlinewidth": 0,
             "ticks": ""
            },
            "type": "contourcarpet"
           }
          ],
          "heatmap": [
           {
            "colorbar": {
             "outlinewidth": 0,
             "ticks": ""
            },
            "colorscale": [
             [
              0,
              "#0d0887"
             ],
             [
              0.1111111111111111,
              "#46039f"
             ],
             [
              0.2222222222222222,
              "#7201a8"
             ],
             [
              0.3333333333333333,
              "#9c179e"
             ],
             [
              0.4444444444444444,
              "#bd3786"
             ],
             [
              0.5555555555555556,
              "#d8576b"
             ],
             [
              0.6666666666666666,
              "#ed7953"
             ],
             [
              0.7777777777777778,
              "#fb9f3a"
             ],
             [
              0.8888888888888888,
              "#fdca26"
             ],
             [
              1,
              "#f0f921"
             ]
            ],
            "type": "heatmap"
           }
          ],
          "heatmapgl": [
           {
            "colorbar": {
             "outlinewidth": 0,
             "ticks": ""
            },
            "colorscale": [
             [
              0,
              "#0d0887"
             ],
             [
              0.1111111111111111,
              "#46039f"
             ],
             [
              0.2222222222222222,
              "#7201a8"
             ],
             [
              0.3333333333333333,
              "#9c179e"
             ],
             [
              0.4444444444444444,
              "#bd3786"
             ],
             [
              0.5555555555555556,
              "#d8576b"
             ],
             [
              0.6666666666666666,
              "#ed7953"
             ],
             [
              0.7777777777777778,
              "#fb9f3a"
             ],
             [
              0.8888888888888888,
              "#fdca26"
             ],
             [
              1,
              "#f0f921"
             ]
            ],
            "type": "heatmapgl"
           }
          ],
          "histogram": [
           {
            "marker": {
             "colorbar": {
              "outlinewidth": 0,
              "ticks": ""
             }
            },
            "type": "histogram"
           }
          ],
          "histogram2d": [
           {
            "colorbar": {
             "outlinewidth": 0,
             "ticks": ""
            },
            "colorscale": [
             [
              0,
              "#0d0887"
             ],
             [
              0.1111111111111111,
              "#46039f"
             ],
             [
              0.2222222222222222,
              "#7201a8"
             ],
             [
              0.3333333333333333,
              "#9c179e"
             ],
             [
              0.4444444444444444,
              "#bd3786"
             ],
             [
              0.5555555555555556,
              "#d8576b"
             ],
             [
              0.6666666666666666,
              "#ed7953"
             ],
             [
              0.7777777777777778,
              "#fb9f3a"
             ],
             [
              0.8888888888888888,
              "#fdca26"
             ],
             [
              1,
              "#f0f921"
             ]
            ],
            "type": "histogram2d"
           }
          ],
          "histogram2dcontour": [
           {
            "colorbar": {
             "outlinewidth": 0,
             "ticks": ""
            },
            "colorscale": [
             [
              0,
              "#0d0887"
             ],
             [
              0.1111111111111111,
              "#46039f"
             ],
             [
              0.2222222222222222,
              "#7201a8"
             ],
             [
              0.3333333333333333,
              "#9c179e"
             ],
             [
              0.4444444444444444,
              "#bd3786"
             ],
             [
              0.5555555555555556,
              "#d8576b"
             ],
             [
              0.6666666666666666,
              "#ed7953"
             ],
             [
              0.7777777777777778,
              "#fb9f3a"
             ],
             [
              0.8888888888888888,
              "#fdca26"
             ],
             [
              1,
              "#f0f921"
             ]
            ],
            "type": "histogram2dcontour"
           }
          ],
          "mesh3d": [
           {
            "colorbar": {
             "outlinewidth": 0,
             "ticks": ""
            },
            "type": "mesh3d"
           }
          ],
          "parcoords": [
           {
            "line": {
             "colorbar": {
              "outlinewidth": 0,
              "ticks": ""
             }
            },
            "type": "parcoords"
           }
          ],
          "scatter": [
           {
            "marker": {
             "colorbar": {
              "outlinewidth": 0,
              "ticks": ""
             }
            },
            "type": "scatter"
           }
          ],
          "scatter3d": [
           {
            "line": {
             "colorbar": {
              "outlinewidth": 0,
              "ticks": ""
             }
            },
            "marker": {
             "colorbar": {
              "outlinewidth": 0,
              "ticks": ""
             }
            },
            "type": "scatter3d"
           }
          ],
          "scattercarpet": [
           {
            "marker": {
             "colorbar": {
              "outlinewidth": 0,
              "ticks": ""
             }
            },
            "type": "scattercarpet"
           }
          ],
          "scattergeo": [
           {
            "marker": {
             "colorbar": {
              "outlinewidth": 0,
              "ticks": ""
             }
            },
            "type": "scattergeo"
           }
          ],
          "scattergl": [
           {
            "marker": {
             "colorbar": {
              "outlinewidth": 0,
              "ticks": ""
             }
            },
            "type": "scattergl"
           }
          ],
          "scattermapbox": [
           {
            "marker": {
             "colorbar": {
              "outlinewidth": 0,
              "ticks": ""
             }
            },
            "type": "scattermapbox"
           }
          ],
          "scatterpolar": [
           {
            "marker": {
             "colorbar": {
              "outlinewidth": 0,
              "ticks": ""
             }
            },
            "type": "scatterpolar"
           }
          ],
          "scatterpolargl": [
           {
            "marker": {
             "colorbar": {
              "outlinewidth": 0,
              "ticks": ""
             }
            },
            "type": "scatterpolargl"
           }
          ],
          "scatterternary": [
           {
            "marker": {
             "colorbar": {
              "outlinewidth": 0,
              "ticks": ""
             }
            },
            "type": "scatterternary"
           }
          ],
          "surface": [
           {
            "colorbar": {
             "outlinewidth": 0,
             "ticks": ""
            },
            "colorscale": [
             [
              0,
              "#0d0887"
             ],
             [
              0.1111111111111111,
              "#46039f"
             ],
             [
              0.2222222222222222,
              "#7201a8"
             ],
             [
              0.3333333333333333,
              "#9c179e"
             ],
             [
              0.4444444444444444,
              "#bd3786"
             ],
             [
              0.5555555555555556,
              "#d8576b"
             ],
             [
              0.6666666666666666,
              "#ed7953"
             ],
             [
              0.7777777777777778,
              "#fb9f3a"
             ],
             [
              0.8888888888888888,
              "#fdca26"
             ],
             [
              1,
              "#f0f921"
             ]
            ],
            "type": "surface"
           }
          ],
          "table": [
           {
            "cells": {
             "fill": {
              "color": "#EBF0F8"
             },
             "line": {
              "color": "white"
             }
            },
            "header": {
             "fill": {
              "color": "#C8D4E3"
             },
             "line": {
              "color": "white"
             }
            },
            "type": "table"
           }
          ]
         },
         "layout": {
          "annotationdefaults": {
           "arrowcolor": "#2a3f5f",
           "arrowhead": 0,
           "arrowwidth": 1
          },
          "colorscale": {
           "diverging": [
            [
             0,
             "#8e0152"
            ],
            [
             0.1,
             "#c51b7d"
            ],
            [
             0.2,
             "#de77ae"
            ],
            [
             0.3,
             "#f1b6da"
            ],
            [
             0.4,
             "#fde0ef"
            ],
            [
             0.5,
             "#f7f7f7"
            ],
            [
             0.6,
             "#e6f5d0"
            ],
            [
             0.7,
             "#b8e186"
            ],
            [
             0.8,
             "#7fbc41"
            ],
            [
             0.9,
             "#4d9221"
            ],
            [
             1,
             "#276419"
            ]
           ],
           "sequential": [
            [
             0,
             "#0d0887"
            ],
            [
             0.1111111111111111,
             "#46039f"
            ],
            [
             0.2222222222222222,
             "#7201a8"
            ],
            [
             0.3333333333333333,
             "#9c179e"
            ],
            [
             0.4444444444444444,
             "#bd3786"
            ],
            [
             0.5555555555555556,
             "#d8576b"
            ],
            [
             0.6666666666666666,
             "#ed7953"
            ],
            [
             0.7777777777777778,
             "#fb9f3a"
            ],
            [
             0.8888888888888888,
             "#fdca26"
            ],
            [
             1,
             "#f0f921"
            ]
           ],
           "sequentialminus": [
            [
             0,
             "#0d0887"
            ],
            [
             0.1111111111111111,
             "#46039f"
            ],
            [
             0.2222222222222222,
             "#7201a8"
            ],
            [
             0.3333333333333333,
             "#9c179e"
            ],
            [
             0.4444444444444444,
             "#bd3786"
            ],
            [
             0.5555555555555556,
             "#d8576b"
            ],
            [
             0.6666666666666666,
             "#ed7953"
            ],
            [
             0.7777777777777778,
             "#fb9f3a"
            ],
            [
             0.8888888888888888,
             "#fdca26"
            ],
            [
             1,
             "#f0f921"
            ]
           ]
          },
          "colorway": [
           "#636efa",
           "#EF553B",
           "#00cc96",
           "#ab63fa",
           "#FFA15A",
           "#19d3f3",
           "#FF6692",
           "#B6E880",
           "#FF97FF",
           "#FECB52"
          ],
          "font": {
           "color": "#2a3f5f"
          },
          "geo": {
           "bgcolor": "white",
           "lakecolor": "white",
           "landcolor": "#E5ECF6",
           "showlakes": true,
           "showland": true,
           "subunitcolor": "white"
          },
          "hoverlabel": {
           "align": "left"
          },
          "hovermode": "closest",
          "mapbox": {
           "style": "light"
          },
          "paper_bgcolor": "white",
          "plot_bgcolor": "#E5ECF6",
          "polar": {
           "angularaxis": {
            "gridcolor": "white",
            "linecolor": "white",
            "ticks": ""
           },
           "bgcolor": "#E5ECF6",
           "radialaxis": {
            "gridcolor": "white",
            "linecolor": "white",
            "ticks": ""
           }
          },
          "scene": {
           "xaxis": {
            "backgroundcolor": "#E5ECF6",
            "gridcolor": "white",
            "gridwidth": 2,
            "linecolor": "white",
            "showbackground": true,
            "ticks": "",
            "zerolinecolor": "white"
           },
           "yaxis": {
            "backgroundcolor": "#E5ECF6",
            "gridcolor": "white",
            "gridwidth": 2,
            "linecolor": "white",
            "showbackground": true,
            "ticks": "",
            "zerolinecolor": "white"
           },
           "zaxis": {
            "backgroundcolor": "#E5ECF6",
            "gridcolor": "white",
            "gridwidth": 2,
            "linecolor": "white",
            "showbackground": true,
            "ticks": "",
            "zerolinecolor": "white"
           }
          },
          "shapedefaults": {
           "line": {
            "color": "#2a3f5f"
           }
          },
          "ternary": {
           "aaxis": {
            "gridcolor": "white",
            "linecolor": "white",
            "ticks": ""
           },
           "baxis": {
            "gridcolor": "white",
            "linecolor": "white",
            "ticks": ""
           },
           "bgcolor": "#E5ECF6",
           "caxis": {
            "gridcolor": "white",
            "linecolor": "white",
            "ticks": ""
           }
          },
          "title": {
           "x": 0.05
          },
          "xaxis": {
           "automargin": true,
           "gridcolor": "white",
           "linecolor": "white",
           "ticks": "",
           "zerolinecolor": "white",
           "zerolinewidth": 2
          },
          "yaxis": {
           "automargin": true,
           "gridcolor": "white",
           "linecolor": "white",
           "ticks": "",
           "zerolinecolor": "white",
           "zerolinewidth": 2
          }
         }
        },
        "title": {
         "text": "Crashes by airplanes' type"
        },
        "xaxis": {
         "title": {
          "text": "Count"
         }
        },
        "yaxis": {
         "autorange": "reversed"
        }
       }
      },
      "text/html": [
       "<div>\n",
       "        \n",
       "        \n",
       "            <div id=\"10254230-ad11-4448-955d-a99f4b1686dd\" class=\"plotly-graph-div\" style=\"height:525px; width:100%;\"></div>\n",
       "            <script type=\"text/javascript\">\n",
       "                require([\"plotly\"], function(Plotly) {\n",
       "                    window.PLOTLYENV=window.PLOTLYENV || {};\n",
       "                    \n",
       "                if (document.getElementById(\"10254230-ad11-4448-955d-a99f4b1686dd\")) {\n",
       "                    Plotly.newPlot(\n",
       "                        '10254230-ad11-4448-955d-a99f4b1686dd',\n",
       "                        [{\"marker\": {\"color\": [0, 1, 2, 3, 4, 5, 6, 7, 8, 9, 10, 11, 12, 13, 14, 15, 16, 17]}, \"orientation\": \"h\", \"text\": [333.0, 81.0, 70.0, 64.0, 38.0, 35.0, 34.0, 31.0, 27.0, 27.0, 27.0, 22.0, 20.0, 19.0, 19.0], \"textposition\": \"auto\", \"type\": \"bar\", \"x\": [333, 81, 70, 64, 38, 35, 34, 31, 27, 27, 27, 22, 20, 19, 19], \"y\": [\"Douglas DC-3\", \"de Havilland Canada DHC-6 Twin Otter 300\", \"Douglas C-47A\", \"Douglas C-47\", \"Douglas DC-4\", \"Yakovlev YAK-40\", \"Antonov AN-26\", \"Junkers JU-52/3m\", \"Douglas C-47B\", \"De Havilland DH-4\", \"Douglas DC-6B\", \"Breguet 14\", \"Douglas DC-6\", \"Curtiss C-46A\", \"Antonov AN-24\"]}],\n",
       "                        {\"font\": {\"size\": 15}, \"template\": {\"data\": {\"bar\": [{\"error_x\": {\"color\": \"#2a3f5f\"}, \"error_y\": {\"color\": \"#2a3f5f\"}, \"marker\": {\"line\": {\"color\": \"#E5ECF6\", \"width\": 0.5}}, \"type\": \"bar\"}], \"barpolar\": [{\"marker\": {\"line\": {\"color\": \"#E5ECF6\", \"width\": 0.5}}, \"type\": \"barpolar\"}], \"carpet\": [{\"aaxis\": {\"endlinecolor\": \"#2a3f5f\", \"gridcolor\": \"white\", \"linecolor\": \"white\", \"minorgridcolor\": \"white\", \"startlinecolor\": \"#2a3f5f\"}, \"baxis\": {\"endlinecolor\": \"#2a3f5f\", \"gridcolor\": \"white\", \"linecolor\": \"white\", \"minorgridcolor\": \"white\", \"startlinecolor\": \"#2a3f5f\"}, \"type\": \"carpet\"}], \"choropleth\": [{\"colorbar\": {\"outlinewidth\": 0, \"ticks\": \"\"}, \"type\": \"choropleth\"}], \"contour\": [{\"colorbar\": {\"outlinewidth\": 0, \"ticks\": \"\"}, \"colorscale\": [[0.0, \"#0d0887\"], [0.1111111111111111, \"#46039f\"], [0.2222222222222222, \"#7201a8\"], [0.3333333333333333, \"#9c179e\"], [0.4444444444444444, \"#bd3786\"], [0.5555555555555556, \"#d8576b\"], [0.6666666666666666, \"#ed7953\"], [0.7777777777777778, \"#fb9f3a\"], [0.8888888888888888, \"#fdca26\"], [1.0, \"#f0f921\"]], \"type\": \"contour\"}], \"contourcarpet\": [{\"colorbar\": {\"outlinewidth\": 0, \"ticks\": \"\"}, \"type\": \"contourcarpet\"}], \"heatmap\": [{\"colorbar\": {\"outlinewidth\": 0, \"ticks\": \"\"}, \"colorscale\": [[0.0, \"#0d0887\"], [0.1111111111111111, \"#46039f\"], [0.2222222222222222, \"#7201a8\"], [0.3333333333333333, \"#9c179e\"], [0.4444444444444444, \"#bd3786\"], [0.5555555555555556, \"#d8576b\"], [0.6666666666666666, \"#ed7953\"], [0.7777777777777778, \"#fb9f3a\"], [0.8888888888888888, \"#fdca26\"], [1.0, \"#f0f921\"]], \"type\": \"heatmap\"}], \"heatmapgl\": [{\"colorbar\": {\"outlinewidth\": 0, \"ticks\": \"\"}, \"colorscale\": [[0.0, \"#0d0887\"], [0.1111111111111111, \"#46039f\"], [0.2222222222222222, \"#7201a8\"], [0.3333333333333333, \"#9c179e\"], [0.4444444444444444, \"#bd3786\"], [0.5555555555555556, \"#d8576b\"], [0.6666666666666666, \"#ed7953\"], [0.7777777777777778, \"#fb9f3a\"], [0.8888888888888888, \"#fdca26\"], [1.0, \"#f0f921\"]], \"type\": \"heatmapgl\"}], \"histogram\": [{\"marker\": {\"colorbar\": {\"outlinewidth\": 0, \"ticks\": \"\"}}, \"type\": \"histogram\"}], \"histogram2d\": [{\"colorbar\": {\"outlinewidth\": 0, \"ticks\": \"\"}, \"colorscale\": [[0.0, \"#0d0887\"], [0.1111111111111111, \"#46039f\"], [0.2222222222222222, \"#7201a8\"], [0.3333333333333333, \"#9c179e\"], [0.4444444444444444, \"#bd3786\"], [0.5555555555555556, \"#d8576b\"], [0.6666666666666666, \"#ed7953\"], [0.7777777777777778, \"#fb9f3a\"], [0.8888888888888888, \"#fdca26\"], [1.0, \"#f0f921\"]], \"type\": \"histogram2d\"}], \"histogram2dcontour\": [{\"colorbar\": {\"outlinewidth\": 0, \"ticks\": \"\"}, \"colorscale\": [[0.0, \"#0d0887\"], [0.1111111111111111, \"#46039f\"], [0.2222222222222222, \"#7201a8\"], [0.3333333333333333, \"#9c179e\"], [0.4444444444444444, \"#bd3786\"], [0.5555555555555556, \"#d8576b\"], [0.6666666666666666, \"#ed7953\"], [0.7777777777777778, \"#fb9f3a\"], [0.8888888888888888, \"#fdca26\"], [1.0, \"#f0f921\"]], \"type\": \"histogram2dcontour\"}], \"mesh3d\": [{\"colorbar\": {\"outlinewidth\": 0, \"ticks\": \"\"}, \"type\": \"mesh3d\"}], \"parcoords\": [{\"line\": {\"colorbar\": {\"outlinewidth\": 0, \"ticks\": \"\"}}, \"type\": \"parcoords\"}], \"scatter\": [{\"marker\": {\"colorbar\": {\"outlinewidth\": 0, \"ticks\": \"\"}}, \"type\": \"scatter\"}], \"scatter3d\": [{\"line\": {\"colorbar\": {\"outlinewidth\": 0, \"ticks\": \"\"}}, \"marker\": {\"colorbar\": {\"outlinewidth\": 0, \"ticks\": \"\"}}, \"type\": \"scatter3d\"}], \"scattercarpet\": [{\"marker\": {\"colorbar\": {\"outlinewidth\": 0, \"ticks\": \"\"}}, \"type\": \"scattercarpet\"}], \"scattergeo\": [{\"marker\": {\"colorbar\": {\"outlinewidth\": 0, \"ticks\": \"\"}}, \"type\": \"scattergeo\"}], \"scattergl\": [{\"marker\": {\"colorbar\": {\"outlinewidth\": 0, \"ticks\": \"\"}}, \"type\": \"scattergl\"}], \"scattermapbox\": [{\"marker\": {\"colorbar\": {\"outlinewidth\": 0, \"ticks\": \"\"}}, \"type\": \"scattermapbox\"}], \"scatterpolar\": [{\"marker\": {\"colorbar\": {\"outlinewidth\": 0, \"ticks\": \"\"}}, \"type\": \"scatterpolar\"}], \"scatterpolargl\": [{\"marker\": {\"colorbar\": {\"outlinewidth\": 0, \"ticks\": \"\"}}, \"type\": \"scatterpolargl\"}], \"scatterternary\": [{\"marker\": {\"colorbar\": {\"outlinewidth\": 0, \"ticks\": \"\"}}, \"type\": \"scatterternary\"}], \"surface\": [{\"colorbar\": {\"outlinewidth\": 0, \"ticks\": \"\"}, \"colorscale\": [[0.0, \"#0d0887\"], [0.1111111111111111, \"#46039f\"], [0.2222222222222222, \"#7201a8\"], [0.3333333333333333, \"#9c179e\"], [0.4444444444444444, \"#bd3786\"], [0.5555555555555556, \"#d8576b\"], [0.6666666666666666, \"#ed7953\"], [0.7777777777777778, \"#fb9f3a\"], [0.8888888888888888, \"#fdca26\"], [1.0, \"#f0f921\"]], \"type\": \"surface\"}], \"table\": [{\"cells\": {\"fill\": {\"color\": \"#EBF0F8\"}, \"line\": {\"color\": \"white\"}}, \"header\": {\"fill\": {\"color\": \"#C8D4E3\"}, \"line\": {\"color\": \"white\"}}, \"type\": \"table\"}]}, \"layout\": {\"annotationdefaults\": {\"arrowcolor\": \"#2a3f5f\", \"arrowhead\": 0, \"arrowwidth\": 1}, \"colorscale\": {\"diverging\": [[0, \"#8e0152\"], [0.1, \"#c51b7d\"], [0.2, \"#de77ae\"], [0.3, \"#f1b6da\"], [0.4, \"#fde0ef\"], [0.5, \"#f7f7f7\"], [0.6, \"#e6f5d0\"], [0.7, \"#b8e186\"], [0.8, \"#7fbc41\"], [0.9, \"#4d9221\"], [1, \"#276419\"]], \"sequential\": [[0.0, \"#0d0887\"], [0.1111111111111111, \"#46039f\"], [0.2222222222222222, \"#7201a8\"], [0.3333333333333333, \"#9c179e\"], [0.4444444444444444, \"#bd3786\"], [0.5555555555555556, \"#d8576b\"], [0.6666666666666666, \"#ed7953\"], [0.7777777777777778, \"#fb9f3a\"], [0.8888888888888888, \"#fdca26\"], [1.0, \"#f0f921\"]], \"sequentialminus\": [[0.0, \"#0d0887\"], [0.1111111111111111, \"#46039f\"], [0.2222222222222222, \"#7201a8\"], [0.3333333333333333, \"#9c179e\"], [0.4444444444444444, \"#bd3786\"], [0.5555555555555556, \"#d8576b\"], [0.6666666666666666, \"#ed7953\"], [0.7777777777777778, \"#fb9f3a\"], [0.8888888888888888, \"#fdca26\"], [1.0, \"#f0f921\"]]}, \"colorway\": [\"#636efa\", \"#EF553B\", \"#00cc96\", \"#ab63fa\", \"#FFA15A\", \"#19d3f3\", \"#FF6692\", \"#B6E880\", \"#FF97FF\", \"#FECB52\"], \"font\": {\"color\": \"#2a3f5f\"}, \"geo\": {\"bgcolor\": \"white\", \"lakecolor\": \"white\", \"landcolor\": \"#E5ECF6\", \"showlakes\": true, \"showland\": true, \"subunitcolor\": \"white\"}, \"hoverlabel\": {\"align\": \"left\"}, \"hovermode\": \"closest\", \"mapbox\": {\"style\": \"light\"}, \"paper_bgcolor\": \"white\", \"plot_bgcolor\": \"#E5ECF6\", \"polar\": {\"angularaxis\": {\"gridcolor\": \"white\", \"linecolor\": \"white\", \"ticks\": \"\"}, \"bgcolor\": \"#E5ECF6\", \"radialaxis\": {\"gridcolor\": \"white\", \"linecolor\": \"white\", \"ticks\": \"\"}}, \"scene\": {\"xaxis\": {\"backgroundcolor\": \"#E5ECF6\", \"gridcolor\": \"white\", \"gridwidth\": 2, \"linecolor\": \"white\", \"showbackground\": true, \"ticks\": \"\", \"zerolinecolor\": \"white\"}, \"yaxis\": {\"backgroundcolor\": \"#E5ECF6\", \"gridcolor\": \"white\", \"gridwidth\": 2, \"linecolor\": \"white\", \"showbackground\": true, \"ticks\": \"\", \"zerolinecolor\": \"white\"}, \"zaxis\": {\"backgroundcolor\": \"#E5ECF6\", \"gridcolor\": \"white\", \"gridwidth\": 2, \"linecolor\": \"white\", \"showbackground\": true, \"ticks\": \"\", \"zerolinecolor\": \"white\"}}, \"shapedefaults\": {\"line\": {\"color\": \"#2a3f5f\"}}, \"ternary\": {\"aaxis\": {\"gridcolor\": \"white\", \"linecolor\": \"white\", \"ticks\": \"\"}, \"baxis\": {\"gridcolor\": \"white\", \"linecolor\": \"white\", \"ticks\": \"\"}, \"bgcolor\": \"#E5ECF6\", \"caxis\": {\"gridcolor\": \"white\", \"linecolor\": \"white\", \"ticks\": \"\"}}, \"title\": {\"x\": 0.05}, \"xaxis\": {\"automargin\": true, \"gridcolor\": \"white\", \"linecolor\": \"white\", \"ticks\": \"\", \"zerolinecolor\": \"white\", \"zerolinewidth\": 2}, \"yaxis\": {\"automargin\": true, \"gridcolor\": \"white\", \"linecolor\": \"white\", \"ticks\": \"\", \"zerolinecolor\": \"white\", \"zerolinewidth\": 2}}}, \"title\": {\"text\": \"Crashes by airplanes' type\"}, \"xaxis\": {\"title\": {\"text\": \"Count\"}}, \"yaxis\": {\"autorange\": \"reversed\"}},\n",
       "                        {\"responsive\": true}\n",
       "                    ).then(function(){\n",
       "                            \n",
       "var gd = document.getElementById('10254230-ad11-4448-955d-a99f4b1686dd');\n",
       "var x = new MutationObserver(function (mutations, observer) {{\n",
       "        var display = window.getComputedStyle(gd).display;\n",
       "        if (!display || display === 'none') {{\n",
       "            console.log([gd, 'removed!']);\n",
       "            Plotly.purge(gd);\n",
       "            observer.disconnect();\n",
       "        }}\n",
       "}});\n",
       "\n",
       "// Listen for the removal of the full notebook cells\n",
       "var notebookContainer = gd.closest('#notebook-container');\n",
       "if (notebookContainer) {{\n",
       "    x.observe(notebookContainer, {childList: true});\n",
       "}}\n",
       "\n",
       "// Listen for the clearing of the current output cell\n",
       "var outputEl = gd.closest('.output');\n",
       "if (outputEl) {{\n",
       "    x.observe(outputEl, {childList: true});\n",
       "}}\n",
       "\n",
       "                        })\n",
       "                };\n",
       "                });\n",
       "            </script>\n",
       "        </div>"
      ]
     },
     "metadata": {},
     "output_type": "display_data"
    }
   ],
   "source": [
    "# Il numero maggiore di crashes per tipo di aeroplano\n",
    "\n",
    "Total_by_Type = dataset.groupby('AC Type')[['AC Type']].count()\n",
    "Total_by_Type = Total_by_Type.rename(columns={\"AC Type\": \"Count\"})\n",
    "Total_by_Type = Total_by_Type.sort_values(by='Count', ascending=False).head(15)\n",
    "\n",
    "values = list(range(18))\n",
    "\n",
    "data = [\n",
    "    go.Bar(y=Total_by_Type[\"Count\"].index,\n",
    "           x = Total_by_Type[\"Count\"],\n",
    "           text= Total_by_Type[\"Count\"] ,\n",
    "           textposition='auto',\n",
    "           orientation='h',\n",
    "           marker=dict(color=values))]\n",
    "layout = go.Layout(title=\"Crashes by airplanes' type\", \n",
    "                   xaxis=dict(title=\"Count\"),\n",
    "                   yaxis=dict(autorange = \"reversed\"),\n",
    "                   font=dict(size=15))\n",
    "\n",
    "fig = go.Figure(data, layout)\n",
    "py.iplot(fig)"
   ]
  },
  {
   "cell_type": "markdown",
   "metadata": {},
   "source": [
    "###   Douglas DC_3\n",
    "\n",
    "Notiamo che l'aereo Douglas DC_3 ha avuto la maggior numero di incidenti, questo potrebbe essere dovuto oltre al fatto che questo aereo era uno dei primi aerei per passeggeri (Non era molto sofisticato?) è stato poi trasformato in un aereo da combattimento durante la seconda guerra mondiale.\n",
    "\n",
    "\n",
    "\n",
    "\n",
    "\n",
    "![](https://i.pinimg.com/originals/e4/6a/64/e46a64e541c5a71421692f6cc671a83f.jpg)"
   ]
  },
  {
   "cell_type": "markdown",
   "metadata": {},
   "source": [
    "### 5.1 Analisi delle cause degli incidenti "
   ]
  },
  {
   "cell_type": "code",
   "execution_count": 16,
   "metadata": {},
   "outputs": [
    {
     "name": "stdout",
     "output_type": "stream",
     "text": [
      "\n",
      "The cargo plane stalled nearly vertical and crashed. Shifting cargo.\n",
      "\n",
      "The aircraft tried to return to the airport after an engine fire during takeoff  but the right wing struck trees and it crashed in the Amazon jungle.\n",
      "\n",
      "While on a sightseeing trip, the plane ran out of fuel and crashed. Carelessness and negligence on the part of the pilot for not replenishing his fuel supply before it got dangerously low and poor judgment on his part for attempting to return to the airport when there was open terrain ahead of him. Many passengers did not use their seatbelts nor were they instructed in their use.\n",
      "\n",
      "The right engine caught on fire due to a fuel leak leading to distruction of the plane in the air.\n",
      "\n",
      "The cargo plane entered a steep bank shortly after takeoff and crashed. Complete engine failure/flameout No.1 engine. Powerplant failure for undetermined reasons. Pilot-in-command  failed to obtain/maintain flying speed. Improper emergency procedures\n"
     ]
    }
   ],
   "source": [
    "for s in dataset[\"Summary\"].dropna().sample(5):\n",
    "    print(\"\\n\"+str(s))"
   ]
  },
  {
   "cell_type": "code",
   "execution_count": 17,
   "metadata": {},
   "outputs": [
    {
     "name": "stdout",
     "output_type": "stream",
     "text": [
      "causes not avaiable: 64\n",
      "unindentified causes: 2918\n",
      "poor weather 490\n",
      "engine failure 439\n",
      "stall 322\n",
      "On landing 300\n",
      "pilot error 200\n",
      "shot down 141\n",
      "on fire 139\n",
      "turbulence 115\n",
      "fuel exhaustion 73\n",
      "unknown circumstances 60\n",
      "structure failure 51\n",
      "electrical problem 49\n",
      "terrorism 12\n"
     ]
    },
    {
     "data": {
      "application/vnd.plotly.v1+json": {
       "config": {
        "linkText": "Export to plot.ly",
        "plotlyServerURL": "https://plot.ly",
        "showLink": false
       },
       "data": [
        {
         "marker": {
          "color": [
           0,
           1,
           2,
           3,
           4,
           5,
           6,
           7,
           8,
           9,
           10,
           11,
           12,
           13
          ]
         },
         "orientation": "h",
         "text": [
          "490",
          "439",
          "322",
          "300",
          "200",
          "141",
          "139",
          "115",
          "73",
          "60",
          "51",
          "49",
          "12"
         ],
         "textposition": "auto",
         "type": "bar",
         "x": [
          490,
          439,
          322,
          300,
          200,
          141,
          139,
          115,
          73,
          60,
          51,
          49,
          12
         ],
         "y": [
          "poor weather",
          "engine failure",
          "stall",
          "On landing",
          "pilot error",
          "shot down",
          "on fire",
          "turbulence",
          "fuel exhaustion",
          "unknown circumstances",
          "structure failure",
          "electrical problem",
          "terrorism"
         ]
        }
       ],
       "layout": {
        "font": {
         "size": 16
        },
        "template": {
         "data": {
          "bar": [
           {
            "error_x": {
             "color": "#2a3f5f"
            },
            "error_y": {
             "color": "#2a3f5f"
            },
            "marker": {
             "line": {
              "color": "#E5ECF6",
              "width": 0.5
             }
            },
            "type": "bar"
           }
          ],
          "barpolar": [
           {
            "marker": {
             "line": {
              "color": "#E5ECF6",
              "width": 0.5
             }
            },
            "type": "barpolar"
           }
          ],
          "carpet": [
           {
            "aaxis": {
             "endlinecolor": "#2a3f5f",
             "gridcolor": "white",
             "linecolor": "white",
             "minorgridcolor": "white",
             "startlinecolor": "#2a3f5f"
            },
            "baxis": {
             "endlinecolor": "#2a3f5f",
             "gridcolor": "white",
             "linecolor": "white",
             "minorgridcolor": "white",
             "startlinecolor": "#2a3f5f"
            },
            "type": "carpet"
           }
          ],
          "choropleth": [
           {
            "colorbar": {
             "outlinewidth": 0,
             "ticks": ""
            },
            "type": "choropleth"
           }
          ],
          "contour": [
           {
            "colorbar": {
             "outlinewidth": 0,
             "ticks": ""
            },
            "colorscale": [
             [
              0,
              "#0d0887"
             ],
             [
              0.1111111111111111,
              "#46039f"
             ],
             [
              0.2222222222222222,
              "#7201a8"
             ],
             [
              0.3333333333333333,
              "#9c179e"
             ],
             [
              0.4444444444444444,
              "#bd3786"
             ],
             [
              0.5555555555555556,
              "#d8576b"
             ],
             [
              0.6666666666666666,
              "#ed7953"
             ],
             [
              0.7777777777777778,
              "#fb9f3a"
             ],
             [
              0.8888888888888888,
              "#fdca26"
             ],
             [
              1,
              "#f0f921"
             ]
            ],
            "type": "contour"
           }
          ],
          "contourcarpet": [
           {
            "colorbar": {
             "outlinewidth": 0,
             "ticks": ""
            },
            "type": "contourcarpet"
           }
          ],
          "heatmap": [
           {
            "colorbar": {
             "outlinewidth": 0,
             "ticks": ""
            },
            "colorscale": [
             [
              0,
              "#0d0887"
             ],
             [
              0.1111111111111111,
              "#46039f"
             ],
             [
              0.2222222222222222,
              "#7201a8"
             ],
             [
              0.3333333333333333,
              "#9c179e"
             ],
             [
              0.4444444444444444,
              "#bd3786"
             ],
             [
              0.5555555555555556,
              "#d8576b"
             ],
             [
              0.6666666666666666,
              "#ed7953"
             ],
             [
              0.7777777777777778,
              "#fb9f3a"
             ],
             [
              0.8888888888888888,
              "#fdca26"
             ],
             [
              1,
              "#f0f921"
             ]
            ],
            "type": "heatmap"
           }
          ],
          "heatmapgl": [
           {
            "colorbar": {
             "outlinewidth": 0,
             "ticks": ""
            },
            "colorscale": [
             [
              0,
              "#0d0887"
             ],
             [
              0.1111111111111111,
              "#46039f"
             ],
             [
              0.2222222222222222,
              "#7201a8"
             ],
             [
              0.3333333333333333,
              "#9c179e"
             ],
             [
              0.4444444444444444,
              "#bd3786"
             ],
             [
              0.5555555555555556,
              "#d8576b"
             ],
             [
              0.6666666666666666,
              "#ed7953"
             ],
             [
              0.7777777777777778,
              "#fb9f3a"
             ],
             [
              0.8888888888888888,
              "#fdca26"
             ],
             [
              1,
              "#f0f921"
             ]
            ],
            "type": "heatmapgl"
           }
          ],
          "histogram": [
           {
            "marker": {
             "colorbar": {
              "outlinewidth": 0,
              "ticks": ""
             }
            },
            "type": "histogram"
           }
          ],
          "histogram2d": [
           {
            "colorbar": {
             "outlinewidth": 0,
             "ticks": ""
            },
            "colorscale": [
             [
              0,
              "#0d0887"
             ],
             [
              0.1111111111111111,
              "#46039f"
             ],
             [
              0.2222222222222222,
              "#7201a8"
             ],
             [
              0.3333333333333333,
              "#9c179e"
             ],
             [
              0.4444444444444444,
              "#bd3786"
             ],
             [
              0.5555555555555556,
              "#d8576b"
             ],
             [
              0.6666666666666666,
              "#ed7953"
             ],
             [
              0.7777777777777778,
              "#fb9f3a"
             ],
             [
              0.8888888888888888,
              "#fdca26"
             ],
             [
              1,
              "#f0f921"
             ]
            ],
            "type": "histogram2d"
           }
          ],
          "histogram2dcontour": [
           {
            "colorbar": {
             "outlinewidth": 0,
             "ticks": ""
            },
            "colorscale": [
             [
              0,
              "#0d0887"
             ],
             [
              0.1111111111111111,
              "#46039f"
             ],
             [
              0.2222222222222222,
              "#7201a8"
             ],
             [
              0.3333333333333333,
              "#9c179e"
             ],
             [
              0.4444444444444444,
              "#bd3786"
             ],
             [
              0.5555555555555556,
              "#d8576b"
             ],
             [
              0.6666666666666666,
              "#ed7953"
             ],
             [
              0.7777777777777778,
              "#fb9f3a"
             ],
             [
              0.8888888888888888,
              "#fdca26"
             ],
             [
              1,
              "#f0f921"
             ]
            ],
            "type": "histogram2dcontour"
           }
          ],
          "mesh3d": [
           {
            "colorbar": {
             "outlinewidth": 0,
             "ticks": ""
            },
            "type": "mesh3d"
           }
          ],
          "parcoords": [
           {
            "line": {
             "colorbar": {
              "outlinewidth": 0,
              "ticks": ""
             }
            },
            "type": "parcoords"
           }
          ],
          "scatter": [
           {
            "marker": {
             "colorbar": {
              "outlinewidth": 0,
              "ticks": ""
             }
            },
            "type": "scatter"
           }
          ],
          "scatter3d": [
           {
            "line": {
             "colorbar": {
              "outlinewidth": 0,
              "ticks": ""
             }
            },
            "marker": {
             "colorbar": {
              "outlinewidth": 0,
              "ticks": ""
             }
            },
            "type": "scatter3d"
           }
          ],
          "scattercarpet": [
           {
            "marker": {
             "colorbar": {
              "outlinewidth": 0,
              "ticks": ""
             }
            },
            "type": "scattercarpet"
           }
          ],
          "scattergeo": [
           {
            "marker": {
             "colorbar": {
              "outlinewidth": 0,
              "ticks": ""
             }
            },
            "type": "scattergeo"
           }
          ],
          "scattergl": [
           {
            "marker": {
             "colorbar": {
              "outlinewidth": 0,
              "ticks": ""
             }
            },
            "type": "scattergl"
           }
          ],
          "scattermapbox": [
           {
            "marker": {
             "colorbar": {
              "outlinewidth": 0,
              "ticks": ""
             }
            },
            "type": "scattermapbox"
           }
          ],
          "scatterpolar": [
           {
            "marker": {
             "colorbar": {
              "outlinewidth": 0,
              "ticks": ""
             }
            },
            "type": "scatterpolar"
           }
          ],
          "scatterpolargl": [
           {
            "marker": {
             "colorbar": {
              "outlinewidth": 0,
              "ticks": ""
             }
            },
            "type": "scatterpolargl"
           }
          ],
          "scatterternary": [
           {
            "marker": {
             "colorbar": {
              "outlinewidth": 0,
              "ticks": ""
             }
            },
            "type": "scatterternary"
           }
          ],
          "surface": [
           {
            "colorbar": {
             "outlinewidth": 0,
             "ticks": ""
            },
            "colorscale": [
             [
              0,
              "#0d0887"
             ],
             [
              0.1111111111111111,
              "#46039f"
             ],
             [
              0.2222222222222222,
              "#7201a8"
             ],
             [
              0.3333333333333333,
              "#9c179e"
             ],
             [
              0.4444444444444444,
              "#bd3786"
             ],
             [
              0.5555555555555556,
              "#d8576b"
             ],
             [
              0.6666666666666666,
              "#ed7953"
             ],
             [
              0.7777777777777778,
              "#fb9f3a"
             ],
             [
              0.8888888888888888,
              "#fdca26"
             ],
             [
              1,
              "#f0f921"
             ]
            ],
            "type": "surface"
           }
          ],
          "table": [
           {
            "cells": {
             "fill": {
              "color": "#EBF0F8"
             },
             "line": {
              "color": "white"
             }
            },
            "header": {
             "fill": {
              "color": "#C8D4E3"
             },
             "line": {
              "color": "white"
             }
            },
            "type": "table"
           }
          ]
         },
         "layout": {
          "annotationdefaults": {
           "arrowcolor": "#2a3f5f",
           "arrowhead": 0,
           "arrowwidth": 1
          },
          "colorscale": {
           "diverging": [
            [
             0,
             "#8e0152"
            ],
            [
             0.1,
             "#c51b7d"
            ],
            [
             0.2,
             "#de77ae"
            ],
            [
             0.3,
             "#f1b6da"
            ],
            [
             0.4,
             "#fde0ef"
            ],
            [
             0.5,
             "#f7f7f7"
            ],
            [
             0.6,
             "#e6f5d0"
            ],
            [
             0.7,
             "#b8e186"
            ],
            [
             0.8,
             "#7fbc41"
            ],
            [
             0.9,
             "#4d9221"
            ],
            [
             1,
             "#276419"
            ]
           ],
           "sequential": [
            [
             0,
             "#0d0887"
            ],
            [
             0.1111111111111111,
             "#46039f"
            ],
            [
             0.2222222222222222,
             "#7201a8"
            ],
            [
             0.3333333333333333,
             "#9c179e"
            ],
            [
             0.4444444444444444,
             "#bd3786"
            ],
            [
             0.5555555555555556,
             "#d8576b"
            ],
            [
             0.6666666666666666,
             "#ed7953"
            ],
            [
             0.7777777777777778,
             "#fb9f3a"
            ],
            [
             0.8888888888888888,
             "#fdca26"
            ],
            [
             1,
             "#f0f921"
            ]
           ],
           "sequentialminus": [
            [
             0,
             "#0d0887"
            ],
            [
             0.1111111111111111,
             "#46039f"
            ],
            [
             0.2222222222222222,
             "#7201a8"
            ],
            [
             0.3333333333333333,
             "#9c179e"
            ],
            [
             0.4444444444444444,
             "#bd3786"
            ],
            [
             0.5555555555555556,
             "#d8576b"
            ],
            [
             0.6666666666666666,
             "#ed7953"
            ],
            [
             0.7777777777777778,
             "#fb9f3a"
            ],
            [
             0.8888888888888888,
             "#fdca26"
            ],
            [
             1,
             "#f0f921"
            ]
           ]
          },
          "colorway": [
           "#636efa",
           "#EF553B",
           "#00cc96",
           "#ab63fa",
           "#FFA15A",
           "#19d3f3",
           "#FF6692",
           "#B6E880",
           "#FF97FF",
           "#FECB52"
          ],
          "font": {
           "color": "#2a3f5f"
          },
          "geo": {
           "bgcolor": "white",
           "lakecolor": "white",
           "landcolor": "#E5ECF6",
           "showlakes": true,
           "showland": true,
           "subunitcolor": "white"
          },
          "hoverlabel": {
           "align": "left"
          },
          "hovermode": "closest",
          "mapbox": {
           "style": "light"
          },
          "paper_bgcolor": "white",
          "plot_bgcolor": "#E5ECF6",
          "polar": {
           "angularaxis": {
            "gridcolor": "white",
            "linecolor": "white",
            "ticks": ""
           },
           "bgcolor": "#E5ECF6",
           "radialaxis": {
            "gridcolor": "white",
            "linecolor": "white",
            "ticks": ""
           }
          },
          "scene": {
           "xaxis": {
            "backgroundcolor": "#E5ECF6",
            "gridcolor": "white",
            "gridwidth": 2,
            "linecolor": "white",
            "showbackground": true,
            "ticks": "",
            "zerolinecolor": "white"
           },
           "yaxis": {
            "backgroundcolor": "#E5ECF6",
            "gridcolor": "white",
            "gridwidth": 2,
            "linecolor": "white",
            "showbackground": true,
            "ticks": "",
            "zerolinecolor": "white"
           },
           "zaxis": {
            "backgroundcolor": "#E5ECF6",
            "gridcolor": "white",
            "gridwidth": 2,
            "linecolor": "white",
            "showbackground": true,
            "ticks": "",
            "zerolinecolor": "white"
           }
          },
          "shapedefaults": {
           "line": {
            "color": "#2a3f5f"
           }
          },
          "ternary": {
           "aaxis": {
            "gridcolor": "white",
            "linecolor": "white",
            "ticks": ""
           },
           "baxis": {
            "gridcolor": "white",
            "linecolor": "white",
            "ticks": ""
           },
           "bgcolor": "#E5ECF6",
           "caxis": {
            "gridcolor": "white",
            "linecolor": "white",
            "ticks": ""
           }
          },
          "title": {
           "x": 0.05
          },
          "xaxis": {
           "automargin": true,
           "gridcolor": "white",
           "linecolor": "white",
           "ticks": "",
           "zerolinecolor": "white",
           "zerolinewidth": 2
          },
          "yaxis": {
           "automargin": true,
           "gridcolor": "white",
           "linecolor": "white",
           "ticks": "",
           "zerolinecolor": "white",
           "zerolinewidth": 2
          }
         }
        },
        "title": {
         "text": "Main causes of crashes"
        },
        "xaxis": {
         "title": {
          "text": "Count"
         }
        },
        "yaxis": {
         "autorange": "reversed"
        }
       }
      },
      "text/html": [
       "<div>\n",
       "        \n",
       "        \n",
       "            <div id=\"580e1c45-a777-45e3-8809-4e3707b8fd4c\" class=\"plotly-graph-div\" style=\"height:525px; width:100%;\"></div>\n",
       "            <script type=\"text/javascript\">\n",
       "                require([\"plotly\"], function(Plotly) {\n",
       "                    window.PLOTLYENV=window.PLOTLYENV || {};\n",
       "                    \n",
       "                if (document.getElementById(\"580e1c45-a777-45e3-8809-4e3707b8fd4c\")) {\n",
       "                    Plotly.newPlot(\n",
       "                        '580e1c45-a777-45e3-8809-4e3707b8fd4c',\n",
       "                        [{\"marker\": {\"color\": [0, 1, 2, 3, 4, 5, 6, 7, 8, 9, 10, 11, 12, 13]}, \"orientation\": \"h\", \"text\": [\"490\", \"439\", \"322\", \"300\", \"200\", \"141\", \"139\", \"115\", \"73\", \"60\", \"51\", \"49\", \"12\"], \"textposition\": \"auto\", \"type\": \"bar\", \"x\": [490, 439, 322, 300, 200, 141, 139, 115, 73, 60, 51, 49, 12], \"y\": [\"poor weather\", \"engine failure\", \"stall\", \"On landing\", \"pilot error\", \"shot down\", \"on fire\", \"turbulence\", \"fuel exhaustion\", \"unknown circumstances\", \"structure failure\", \"electrical problem\", \"terrorism\"]}],\n",
       "                        {\"font\": {\"size\": 16}, \"template\": {\"data\": {\"bar\": [{\"error_x\": {\"color\": \"#2a3f5f\"}, \"error_y\": {\"color\": \"#2a3f5f\"}, \"marker\": {\"line\": {\"color\": \"#E5ECF6\", \"width\": 0.5}}, \"type\": \"bar\"}], \"barpolar\": [{\"marker\": {\"line\": {\"color\": \"#E5ECF6\", \"width\": 0.5}}, \"type\": \"barpolar\"}], \"carpet\": [{\"aaxis\": {\"endlinecolor\": \"#2a3f5f\", \"gridcolor\": \"white\", \"linecolor\": \"white\", \"minorgridcolor\": \"white\", \"startlinecolor\": \"#2a3f5f\"}, \"baxis\": {\"endlinecolor\": \"#2a3f5f\", \"gridcolor\": \"white\", \"linecolor\": \"white\", \"minorgridcolor\": \"white\", \"startlinecolor\": \"#2a3f5f\"}, \"type\": \"carpet\"}], \"choropleth\": [{\"colorbar\": {\"outlinewidth\": 0, \"ticks\": \"\"}, \"type\": \"choropleth\"}], \"contour\": [{\"colorbar\": {\"outlinewidth\": 0, \"ticks\": \"\"}, \"colorscale\": [[0.0, \"#0d0887\"], [0.1111111111111111, \"#46039f\"], [0.2222222222222222, \"#7201a8\"], [0.3333333333333333, \"#9c179e\"], [0.4444444444444444, \"#bd3786\"], [0.5555555555555556, \"#d8576b\"], [0.6666666666666666, \"#ed7953\"], [0.7777777777777778, \"#fb9f3a\"], [0.8888888888888888, \"#fdca26\"], [1.0, \"#f0f921\"]], \"type\": \"contour\"}], \"contourcarpet\": [{\"colorbar\": {\"outlinewidth\": 0, \"ticks\": \"\"}, \"type\": \"contourcarpet\"}], \"heatmap\": [{\"colorbar\": {\"outlinewidth\": 0, \"ticks\": \"\"}, \"colorscale\": [[0.0, \"#0d0887\"], [0.1111111111111111, \"#46039f\"], [0.2222222222222222, \"#7201a8\"], [0.3333333333333333, \"#9c179e\"], [0.4444444444444444, \"#bd3786\"], [0.5555555555555556, \"#d8576b\"], [0.6666666666666666, \"#ed7953\"], [0.7777777777777778, \"#fb9f3a\"], [0.8888888888888888, \"#fdca26\"], [1.0, \"#f0f921\"]], \"type\": \"heatmap\"}], \"heatmapgl\": [{\"colorbar\": {\"outlinewidth\": 0, \"ticks\": \"\"}, \"colorscale\": [[0.0, \"#0d0887\"], [0.1111111111111111, \"#46039f\"], [0.2222222222222222, \"#7201a8\"], [0.3333333333333333, \"#9c179e\"], [0.4444444444444444, \"#bd3786\"], [0.5555555555555556, \"#d8576b\"], [0.6666666666666666, \"#ed7953\"], [0.7777777777777778, \"#fb9f3a\"], [0.8888888888888888, \"#fdca26\"], [1.0, \"#f0f921\"]], \"type\": \"heatmapgl\"}], \"histogram\": [{\"marker\": {\"colorbar\": {\"outlinewidth\": 0, \"ticks\": \"\"}}, \"type\": \"histogram\"}], \"histogram2d\": [{\"colorbar\": {\"outlinewidth\": 0, \"ticks\": \"\"}, \"colorscale\": [[0.0, \"#0d0887\"], [0.1111111111111111, \"#46039f\"], [0.2222222222222222, \"#7201a8\"], [0.3333333333333333, \"#9c179e\"], [0.4444444444444444, \"#bd3786\"], [0.5555555555555556, \"#d8576b\"], [0.6666666666666666, \"#ed7953\"], [0.7777777777777778, \"#fb9f3a\"], [0.8888888888888888, \"#fdca26\"], [1.0, \"#f0f921\"]], \"type\": \"histogram2d\"}], \"histogram2dcontour\": [{\"colorbar\": {\"outlinewidth\": 0, \"ticks\": \"\"}, \"colorscale\": [[0.0, \"#0d0887\"], [0.1111111111111111, \"#46039f\"], [0.2222222222222222, \"#7201a8\"], [0.3333333333333333, \"#9c179e\"], [0.4444444444444444, \"#bd3786\"], [0.5555555555555556, \"#d8576b\"], [0.6666666666666666, \"#ed7953\"], [0.7777777777777778, \"#fb9f3a\"], [0.8888888888888888, \"#fdca26\"], [1.0, \"#f0f921\"]], \"type\": \"histogram2dcontour\"}], \"mesh3d\": [{\"colorbar\": {\"outlinewidth\": 0, \"ticks\": \"\"}, \"type\": \"mesh3d\"}], \"parcoords\": [{\"line\": {\"colorbar\": {\"outlinewidth\": 0, \"ticks\": \"\"}}, \"type\": \"parcoords\"}], \"scatter\": [{\"marker\": {\"colorbar\": {\"outlinewidth\": 0, \"ticks\": \"\"}}, \"type\": \"scatter\"}], \"scatter3d\": [{\"line\": {\"colorbar\": {\"outlinewidth\": 0, \"ticks\": \"\"}}, \"marker\": {\"colorbar\": {\"outlinewidth\": 0, \"ticks\": \"\"}}, \"type\": \"scatter3d\"}], \"scattercarpet\": [{\"marker\": {\"colorbar\": {\"outlinewidth\": 0, \"ticks\": \"\"}}, \"type\": \"scattercarpet\"}], \"scattergeo\": [{\"marker\": {\"colorbar\": {\"outlinewidth\": 0, \"ticks\": \"\"}}, \"type\": \"scattergeo\"}], \"scattergl\": [{\"marker\": {\"colorbar\": {\"outlinewidth\": 0, \"ticks\": \"\"}}, \"type\": \"scattergl\"}], \"scattermapbox\": [{\"marker\": {\"colorbar\": {\"outlinewidth\": 0, \"ticks\": \"\"}}, \"type\": \"scattermapbox\"}], \"scatterpolar\": [{\"marker\": {\"colorbar\": {\"outlinewidth\": 0, \"ticks\": \"\"}}, \"type\": \"scatterpolar\"}], \"scatterpolargl\": [{\"marker\": {\"colorbar\": {\"outlinewidth\": 0, \"ticks\": \"\"}}, \"type\": \"scatterpolargl\"}], \"scatterternary\": [{\"marker\": {\"colorbar\": {\"outlinewidth\": 0, \"ticks\": \"\"}}, \"type\": \"scatterternary\"}], \"surface\": [{\"colorbar\": {\"outlinewidth\": 0, \"ticks\": \"\"}, \"colorscale\": [[0.0, \"#0d0887\"], [0.1111111111111111, \"#46039f\"], [0.2222222222222222, \"#7201a8\"], [0.3333333333333333, \"#9c179e\"], [0.4444444444444444, \"#bd3786\"], [0.5555555555555556, \"#d8576b\"], [0.6666666666666666, \"#ed7953\"], [0.7777777777777778, \"#fb9f3a\"], [0.8888888888888888, \"#fdca26\"], [1.0, \"#f0f921\"]], \"type\": \"surface\"}], \"table\": [{\"cells\": {\"fill\": {\"color\": \"#EBF0F8\"}, \"line\": {\"color\": \"white\"}}, \"header\": {\"fill\": {\"color\": \"#C8D4E3\"}, \"line\": {\"color\": \"white\"}}, \"type\": \"table\"}]}, \"layout\": {\"annotationdefaults\": {\"arrowcolor\": \"#2a3f5f\", \"arrowhead\": 0, \"arrowwidth\": 1}, \"colorscale\": {\"diverging\": [[0, \"#8e0152\"], [0.1, \"#c51b7d\"], [0.2, \"#de77ae\"], [0.3, \"#f1b6da\"], [0.4, \"#fde0ef\"], [0.5, \"#f7f7f7\"], [0.6, \"#e6f5d0\"], [0.7, \"#b8e186\"], [0.8, \"#7fbc41\"], [0.9, \"#4d9221\"], [1, \"#276419\"]], \"sequential\": [[0.0, \"#0d0887\"], [0.1111111111111111, \"#46039f\"], [0.2222222222222222, \"#7201a8\"], [0.3333333333333333, \"#9c179e\"], [0.4444444444444444, \"#bd3786\"], [0.5555555555555556, \"#d8576b\"], [0.6666666666666666, \"#ed7953\"], [0.7777777777777778, \"#fb9f3a\"], [0.8888888888888888, \"#fdca26\"], [1.0, \"#f0f921\"]], \"sequentialminus\": [[0.0, \"#0d0887\"], [0.1111111111111111, \"#46039f\"], [0.2222222222222222, \"#7201a8\"], [0.3333333333333333, \"#9c179e\"], [0.4444444444444444, \"#bd3786\"], [0.5555555555555556, \"#d8576b\"], [0.6666666666666666, \"#ed7953\"], [0.7777777777777778, \"#fb9f3a\"], [0.8888888888888888, \"#fdca26\"], [1.0, \"#f0f921\"]]}, \"colorway\": [\"#636efa\", \"#EF553B\", \"#00cc96\", \"#ab63fa\", \"#FFA15A\", \"#19d3f3\", \"#FF6692\", \"#B6E880\", \"#FF97FF\", \"#FECB52\"], \"font\": {\"color\": \"#2a3f5f\"}, \"geo\": {\"bgcolor\": \"white\", \"lakecolor\": \"white\", \"landcolor\": \"#E5ECF6\", \"showlakes\": true, \"showland\": true, \"subunitcolor\": \"white\"}, \"hoverlabel\": {\"align\": \"left\"}, \"hovermode\": \"closest\", \"mapbox\": {\"style\": \"light\"}, \"paper_bgcolor\": \"white\", \"plot_bgcolor\": \"#E5ECF6\", \"polar\": {\"angularaxis\": {\"gridcolor\": \"white\", \"linecolor\": \"white\", \"ticks\": \"\"}, \"bgcolor\": \"#E5ECF6\", \"radialaxis\": {\"gridcolor\": \"white\", \"linecolor\": \"white\", \"ticks\": \"\"}}, \"scene\": {\"xaxis\": {\"backgroundcolor\": \"#E5ECF6\", \"gridcolor\": \"white\", \"gridwidth\": 2, \"linecolor\": \"white\", \"showbackground\": true, \"ticks\": \"\", \"zerolinecolor\": \"white\"}, \"yaxis\": {\"backgroundcolor\": \"#E5ECF6\", \"gridcolor\": \"white\", \"gridwidth\": 2, \"linecolor\": \"white\", \"showbackground\": true, \"ticks\": \"\", \"zerolinecolor\": \"white\"}, \"zaxis\": {\"backgroundcolor\": \"#E5ECF6\", \"gridcolor\": \"white\", \"gridwidth\": 2, \"linecolor\": \"white\", \"showbackground\": true, \"ticks\": \"\", \"zerolinecolor\": \"white\"}}, \"shapedefaults\": {\"line\": {\"color\": \"#2a3f5f\"}}, \"ternary\": {\"aaxis\": {\"gridcolor\": \"white\", \"linecolor\": \"white\", \"ticks\": \"\"}, \"baxis\": {\"gridcolor\": \"white\", \"linecolor\": \"white\", \"ticks\": \"\"}, \"bgcolor\": \"#E5ECF6\", \"caxis\": {\"gridcolor\": \"white\", \"linecolor\": \"white\", \"ticks\": \"\"}}, \"title\": {\"x\": 0.05}, \"xaxis\": {\"automargin\": true, \"gridcolor\": \"white\", \"linecolor\": \"white\", \"ticks\": \"\", \"zerolinecolor\": \"white\", \"zerolinewidth\": 2}, \"yaxis\": {\"automargin\": true, \"gridcolor\": \"white\", \"linecolor\": \"white\", \"ticks\": \"\", \"zerolinecolor\": \"white\", \"zerolinewidth\": 2}}}, \"title\": {\"text\": \"Main causes of crashes\"}, \"xaxis\": {\"title\": {\"text\": \"Count\"}}, \"yaxis\": {\"autorange\": \"reversed\"}},\n",
       "                        {\"responsive\": true}\n",
       "                    ).then(function(){\n",
       "                            \n",
       "var gd = document.getElementById('580e1c45-a777-45e3-8809-4e3707b8fd4c');\n",
       "var x = new MutationObserver(function (mutations, observer) {{\n",
       "        var display = window.getComputedStyle(gd).display;\n",
       "        if (!display || display === 'none') {{\n",
       "            console.log([gd, 'removed!']);\n",
       "            Plotly.purge(gd);\n",
       "            observer.disconnect();\n",
       "        }}\n",
       "}});\n",
       "\n",
       "// Listen for the removal of the full notebook cells\n",
       "var notebookContainer = gd.closest('#notebook-container');\n",
       "if (notebookContainer) {{\n",
       "    x.observe(notebookContainer, {childList: true});\n",
       "}}\n",
       "\n",
       "// Listen for the clearing of the current output cell\n",
       "var outputEl = gd.closest('.output');\n",
       "if (outputEl) {{\n",
       "    x.observe(outputEl, {childList: true});\n",
       "}}\n",
       "\n",
       "                        })\n",
       "                };\n",
       "                });\n",
       "            </script>\n",
       "        </div>"
      ]
     },
     "metadata": {},
     "output_type": "display_data"
    }
   ],
   "source": [
    "import re\n",
    "import operator\n",
    "\n",
    "failures = {\n",
    "    'pilot error': '(pilot|crew) (error|fatigue)',\n",
    "    'engine failure': 'engine.*(fire|fail)',\n",
    "    'structure failure': '(structural fail)|(fuel leak)|(langing gear)',\n",
    "    'electrical problem': 'electrical',\n",
    "    'poor weather': '((poor|bad).*(weather|visibility)|thunderstorm|snow storm)',\n",
    "    'stall': 'stall',\n",
    "    'on fire': '(caught fire)|(caught on fire)',\n",
    "    'turbulence': 'turbulence',\n",
    "    'fuel exhaustion': '(out of fuel)|(fuel.*exhaust)',\n",
    "    'terrorism': 'terrorist|terrorists|terrorism',\n",
    "    'shot down': 'shot down',\n",
    "    'On landing' : 'attempting to land|approach runway',\n",
    "    'unknown circumstances':'unknown circumstances|unknown reasons'\n",
    "}\n",
    "\n",
    "failure_counts = {'other':0}\n",
    "\n",
    "for s in dataset.Summary.dropna():\n",
    "    other = True\n",
    "    for failure, exp in failures.items():\n",
    "        if re.search(exp, s.lower()):\n",
    "            other = False\n",
    "            if failure in failure_counts:\n",
    "                failure_counts[failure] += 1\n",
    "            else:\n",
    "                failure_counts[failure] = 1\n",
    "    if other:\n",
    "        failure_counts['other'] += 1\n",
    "\n",
    "nan_counts = len(dataset.Summary) - len(dataset.Summary.dropna())\n",
    "print('causes not avaiable: %d' % nan_counts)\n",
    "print('unindentified causes: %d' % failure_counts['other'])\n",
    "\n",
    "del failure_counts['other']\n",
    "\n",
    "sortedcauses = sorted(failure_counts.items(), key=operator.itemgetter(1), reverse=True)\n",
    "for k, v in sortedcauses:\n",
    "    print(k, v)\n",
    "x, y = zip(*sortedcauses)\n",
    "\n",
    "values = list(range(14))\n",
    "\n",
    "data = [\n",
    "    go.Bar(y=x,\n",
    "           x =y,\n",
    "           text= y,\n",
    "           textposition='auto',\n",
    "           orientation='h',\n",
    "           marker=dict(color=values))]\n",
    "layout = go.Layout(title=\"Main causes of crashes\", \n",
    "                   xaxis=dict(title=\"Count\"),\n",
    "                   yaxis=dict(autorange = \"reversed\"),\n",
    "                   font=dict(size=16))\n",
    "\n",
    "fig = go.Figure(data, layout)\n",
    "py.iplot(fig)"
   ]
  },
  {
   "cell_type": "markdown",
   "metadata": {},
   "source": [
    "### 5.2 Cluster per scoprire le cause degli incidenti "
   ]
  },
  {
   "cell_type": "code",
   "execution_count": 18,
   "metadata": {
    "scrolled": true
   },
   "outputs": [
    {
     "data": {
      "text/plain": [
       "KMeans(algorithm='auto', copy_x=True, init='k-means++', max_iter=100,\n",
       "       n_clusters=7, n_init=1, n_jobs=None, precompute_distances='auto',\n",
       "       random_state=None, tol=0.0001, verbose=0)"
      ]
     },
     "execution_count": 18,
     "metadata": {},
     "output_type": "execute_result"
    }
   ],
   "source": [
    "from sklearn.feature_extraction.text import TfidfVectorizer\n",
    "from sklearn.cluster import KMeans\n",
    "from sklearn.metrics import adjusted_rand_score\n",
    "\n",
    "# Rimuovere i valori NaN\n",
    "text_data = dataset['Summary'].dropna()\n",
    "text_data = pd.DataFrame(text_data)\n",
    "\n",
    "\n",
    "# Convertire i in una lista e eseguire una \"vectorization\" e rimuovere eventuali \"stop words\" dai dati\n",
    "documents = list(text_data['Summary'])\n",
    "vectorizer = TfidfVectorizer(stop_words='english')\n",
    "X = vectorizer.fit_transform(documents)\n",
    "\n",
    "# KMeans con 7 clusters\n",
    "true_k = 7\n",
    "model = KMeans(n_clusters=true_k, max_iter=100, n_init=1)\n",
    "model.fit(X)"
   ]
  },
  {
   "cell_type": "code",
   "execution_count": 19,
   "metadata": {
    "scrolled": false
   },
   "outputs": [
    {
     "name": "stdout",
     "output_type": "stream",
     "text": [
      "I termini più comuni in ogni cluster:\n",
      "Cluster 0:\n",
      "shot\n",
      "rebels\n",
      "missile\n",
      "forces\n",
      "surface\n",
      "air\n",
      "british\n",
      "aircraft\n",
      "anti\n",
      "japanese\n",
      "\n",
      "\n",
      "Cluster 1:\n",
      "engine\n",
      "takeoff\n",
      "crashed\n",
      "failure\n",
      "shortly\n",
      "taking\n",
      "plane\n",
      "stalled\n",
      "failed\n",
      "aircraft\n",
      "\n",
      "\n",
      "Cluster 2:\n",
      "runway\n",
      "approach\n",
      "attempting\n",
      "crashed\n",
      "land\n",
      "landing\n",
      "plane\n",
      "short\n",
      "aircraft\n",
      "cargo\n",
      "\n",
      "\n",
      "Cluster 3:\n",
      "crashed\n",
      "aircraft\n",
      "plane\n",
      "flight\n",
      "pilot\n",
      "taking\n",
      "control\n",
      "crew\n",
      "failure\n",
      "airport\n",
      "\n",
      "\n",
      "Cluster 4:\n",
      "unknown\n",
      "circumstances\n",
      "crashed\n",
      "reasons\n",
      "cause\n",
      "plane\n",
      "mail\n",
      "sea\n",
      "cargo\n",
      "taking\n",
      "\n",
      "\n",
      "Cluster 5:\n",
      "mountain\n",
      "weather\n",
      "poor\n",
      "conditions\n",
      "crashed\n",
      "struck\n",
      "flew\n",
      "flight\n",
      "plane\n",
      "vfr\n",
      "\n",
      "\n",
      "Cluster 6:\n",
      "en\n",
      "route\n",
      "crashed\n",
      "mountain\n",
      "disappeared\n",
      "cargo\n",
      "plane\n",
      "weather\n",
      "poor\n",
      "aircraft\n",
      "\n",
      "\n"
     ]
    }
   ],
   "source": [
    "# Vediamo i termini più comuni in ogni cluster\n",
    "print ('I termini più comuni in ogni cluster:')\n",
    "order_centroids = model.cluster_centers_.argsort()[:,::-1]\n",
    "terms = vectorizer.get_feature_names()\n",
    "\n",
    "for i in range(true_k):\n",
    "    print('Cluster %d:' % i)\n",
    "    for ind in order_centroids[i, :10]:\n",
    "        print ('%s' % terms[ind]),\n",
    "    print(\"\\n\")"
   ]
  },
  {
   "cell_type": "markdown",
   "metadata": {},
   "source": [
    "### 6.1 Disposizione geografica degli incidenti nel mondo"
   ]
  },
  {
   "cell_type": "code",
   "execution_count": 20,
   "metadata": {},
   "outputs": [],
   "source": [
    "import os\n",
    "os.environ['PROJ_LIB'] = 'C:\\Program Files\\Anaconda3\\Lib\\site-packages\\mpl_toolkits'\n",
    "from mpl_toolkits.basemap import Basemap"
   ]
  },
  {
   "cell_type": "code",
   "execution_count": 21,
   "metadata": {},
   "outputs": [],
   "source": [
    "locs = [(38.883541, -77.0810889), (39.3642834, -74.4229266), (48.4284207, -123.3656444), (56.511018, 3.515625), (50.2074306, 11.2858917), (50.81057, 4.93622), (53.859336, 8.6879057), (42.48419990000001, 26.5035023), (51.627903, 0.418397), (51.696636, -0.175948), (49.9928617, 8.2472526), (54.691745, -1.212926), (51.0543422, 3.7174243), (50.9415388, 6.9565985), (56.511018, 3.515625), (53.25018439999999, 4.9514271), (45.567631, -92.509514), (48.592237, 6.492338999999999), (28.080721, -81.516285), (53.3641829, 13.0532149), (53.44056399999999, 5.6587659), (40.6639916, -74.2107006), (41.49932, -81.6943605), (40.9064, -77.9395179), (54.978252, -1.61778), (39.2720509, -76.73191609999999), (50.134664, -0.357056), (40.78593310000001, -74.7801645), (41.5033572, -85.8307059), (40.735657, -74.1723667), (40.735657, -74.1723667), (40.0583238, -74.4056612), (41.2916728, -92.6493595), (41.49932, -81.6943605), (52.1359729, -0.4666546), (38.9896967, -76.93776), (40.79676670000001, -74.4815438), (41.4108855, -83.46104), (40.5395289, -76.96081029999999), (42.518487, 3.106592), (39.4699075, -0.3762881), (41.8500284, -88.3125738), (41.0802621, -105.5074905), (51.555684, -0.21396), (41.3850639, 2.1734035), (44.8871878, -93.1643869), (43.8013556, -91.23958069999999), (36.140751, -5.353585), (40.8324211, -115.7631232), (-37.9178086, 144.7477259), (40.7339981, -73.59551499999999), (41.49932, -81.6943605), (41.58746439999999, -109.2029043), (37.7749295, -122.4194155), (43.604652, 1.444209), (53.745365, -0.2956928), (48.856614, 2.3522219), (-36.6016558, 145.2195321), (48.856614, 2.3522219), (36.8507689, -76.28587259999999), (49.665342, 1.939705), (39.206062, 115.04908), (53.411758, -2.317364), (51.081397, 1.169456), (36.5270612, -6.2885962), (39.768403, -86.158068), (45.4408474, 12.3155151), (35.1744271, -6.1473964), (34.0181246, -5.0078451), (41.919229, 8.738635), (41.3850639, 2.1734035), (41.1399814, -104.8202462), (41.6414438, -80.15144839999999), (49.70958, 2.17198), (44.4267674, 26.1025384), (41.4645824, -83.9521687), (51.4308255, -1.1444927), (61.52401, 105.318756), (41.4000523, -82.80852039999999), (34.5531284, 18.0480105), (41.1697041, -104.2568991), (40.9658931, -78.6130821), (50.134664, -0.357056), (11.0041072, -74.80698129999999), (37.09024, -95.712891), (43.545815, 3.125343), (41.5822716, -85.8344383), (51.339228, -0.119711), (41.7235174, 44.74518279999999), (38.3459963, -0.4906855), (38.3459963, -0.4906855), (50.125434, 3.691623), (38.3459963, -0.4906855), (42.2605204, 3.2080991), (47.497912, 19.040235), (39.74785079999999, -81.51651269999999), (48.678296, 5.890159), (40.6792982, -80.8880562), (50.725231, 1.613334), (41.5844951, -84.6055076), (52.5348604, 13.1431864), (50.134664, -0.357056), (14.4803708, 121.0390178), (50.95088, 4.30927), (53.681385, 7.008163), (51.1645846, 0.5529482), (40.7127837, -74.0059413), (51.55092, 8.5597678), (50.134664, -0.357056), (31.791702, -7.092619999999999), (42.3265152, -122.8755949), (50.62925, 3.057256), (33.9715904, -6.8498129), (-24.883333, 146.25), (43.0040661, -115.2039579), (41.5822716, -85.8344383), (50.7562528, 10.4819945), (36.7537703, 3.0587927), (50.797725, 8.9219942), (51.27241000000001, 0.190898), (41.8809434, -72.2600655), (40.5529452, -74.422868), (51.37795000000001, 11.857969), (50.57616650000001, 11.8090005), (21.00789, -10.940835), (40.4862157, -74.4518188), (48.5734053, 7.752111299999999), (59.9124514, 26.2623373), (41.4372721, -85.14719339999999), (36.834047, -2.4637136), (40.46366700000001, -3.74922), (46.227638, 2.213749), (42.9056288, -74.5718073), (-34.7871645, -55.38349669999999), (41.1188827, 1.2444909), (46.227638, 2.213749), (36.834047, -2.4637136), (41.0069471, -98.00966199999999), (-22.9068467, -43.1728965), (50.871091, 1.583382), (38.9176041, -77.04766959999999), (40.46366700000001, -3.74922), (44.7442714, -93.1499651), (51.2015995, 7.3590901), (50.1109221, 8.6821267), (38.4166818, -95.85304409999999), (59.9124514, 26.2623373), (51.339228, -0.119711), (52.132633, 5.291265999999999), (48.11703869999999, -122.7604472), (48.678296, 5.890159), (-34.9284989, 138.6007456), (42.8713032, -112.4455344), (49.69082419999999, 11.0048276), (41.9794005, 2.8214264), (41.3670014, -79.92922329999999), (44.933393, 4.89236), (36.140751, -5.353585), (41.4486619, -84.7480123), (41.3873741, -80.86912730000002), (41.4486619, -84.7480123), (33.4764767, -100.8556857), (-14.235004, -51.92528), (-22.9068467, -43.1728965), (52.4465493, 11.4862361), (41.3950489, -82.55517329999999), (35.0456297, -85.3096801), (49.258329, 4.031696), (41.9542632, -72.3023022), (45.2965256, -117.8079872), (39.6249838, 19.9223461), (39.629526, -79.95589679999999), (31.791702, -7.092619999999999), (40.735657, -74.1723667), (33.9294606, -116.977248), (32.715738, -117.1610838), (47.162494, 19.503304), (36.7537703, 3.0587927), (20.01693, -75.8301537), (41.3850639, 2.1734035), (50.919325, 0.9652799999999999), (44.9537029, -93.0899578), (47.6363377, 9.3892445), (39.9611755, -82.99879419999999), (34.4047987, -103.2052272), (42.6886591, 2.8948332), (43.60280789999999, 39.7341543), (49.2925135, 6.8362203), (34.8480597, -114.6141315), (35.2386491, -107.6081575), (25.6577006, 57.7856677), (35.1744271, -6.1473964), (32.61768, -116.1874241), (41.58065420000001, -72.7567636), (44.2447913, 9.7678687), (40.3933956, -82.4857181), (47.5673202, -122.6329356), (20.403852, -97.2878798), (51.247571, -0.067578), (42.0396042, 9.012892599999999), (45.6387281, -122.6614861), (41.4298516, -81.3910999), (34.5531284, 18.0480105), (52.52000659999999, 13.404954), (35.2219971, -101.8312969), (41.1874828, -103.1129824), (-18.8791902, 47.5079055), (33.1958696, -117.3794834), (35.8893874, -5.3213455), (39.114053, -94.6274636), (41.76371109999999, -72.6850932), (51.173613, 0.490709), (40.72815749999999, -74.0776417), (-34.6036844, -58.3815591), (42.3600825, -71.0588801), (55.160428, 14.8668836), (27.9094677, -97.1499898), (14.4803708, 121.0390178), (51.376165, -0.098234), (56.6461641, -103.2517784), (49.42953869999999, 2.0807123), (51.0504088, 13.7372621), (35.1744271, -6.1473964), (54.3150367, -130.3208187), (49.732771, 1.441891), (40.6028144, -86.86723390000002), (-23.9678823, -46.3288865), (34.95, -118.58), (31.230416, 121.473701), (51.0036598, 3.8003144), (45.7423372, -122.1900892), (-39.035173, 177.4180311), (49.968341, -98.62895700000001), (40.46366700000001, -3.74922), (-31.2532183, 146.921099), (38.2719604, -96.53528539999999), (51.165691, 10.451526), (34.1808392, -118.3089661), (-25.274398, 133.775136), (40.91339430000001, -77.7783348), (18.4671203, 94.34110009999999), (41.5878281, -83.4932651), (49.24015720000001, 6.996932699999999), (41.8781136, -87.6297982), (-34.4450316, 147.5360981), (38.5285169, -89.1316944), (42.733883, 25.48583), (39.1031182, -84.5120196), (41.8781136, -87.6297982), (37.8043637, -122.2711137), (44.68198659999999, -63.744311), (-14.235004, -51.92528), (39.9259463, -75.1196199), (-34.11937959999999, 18.9084618), (40.7607793, -111.8910474), (36.651216, 117.12), (46.2395793, -119.1005657), (41.2455927, -89.9248303), (13.7563309, 100.5017651), (36.7537703, 3.0587927), (39.9242266, -83.8088171), (42.13806, -88.78332999999999), (34.8416435, -118.8648189), (25.7616798, -80.1917902), (42.0258779, -85.81555759999999), (38.1557502, -121.6913439), (-22.9674264, -43.7056394), (38.6270025, -90.19940419999999), (34.0039039, -117.0619755), (40.3697905, -80.63396379999999), (34.80207499999999, 38.996815), (41.3931096, -81.5365094), (41.079273, -85.1393513), (45.5230622, -122.6764816), (34.1808392, -118.3089661), (-33.4035551, -70.5688043), (33.8937913, 35.5017767), (48.5216364, 9.0576448), (31.7437272, -105.0927275), (51.3495019, -0.04285129999999999), (-28.6473671, 153.601977), (20.9425179, -17.0362272), (-13.75, -65.316667), (51.335545, 1.419895), (51.165691, 10.451526), (34.7737082, -90.7576112), (35.2219971, -101.8312969), (37.2438888, -108.6216666), (-27.5765485, 152.939753), (36.7537703, 3.0587927), (40.735657, -74.1723667), (33.95260200000001, -84.5499327), (29.79466409999999, -98.7319703), (44.0520691, -123.0867536), (-32.8894587, -68.8458386), (37.6688205, -122.0807964), (51.033331, 2.8658393), (52.2280802, 10.706471), (39.76492229999999, -74.2693297), (38.5668641, 14.5716691), (47.8677574, 12.6384037), (41.84777649999999, 2.3904096), (38.0495789, -77.3466468), (34.9339503, -103.7605204), (46.0569465, 14.5057515), (41.6105937, -87.06419919999999), (47.642833, 6.675242), (45.5230622, -122.6764816), (34.9900503, -106.0491893), (36.651216, 117.12), (49.988371, 36.311532), (41.4361548, -88.7734493), (53.5510846, 9.9936818), (-28.8946769, 31.4627576), (51.0413098, 3.3970513), (47.257618, 3.684328), (44.110898, 5.107716), (40.7607793, -111.8910474), (35.2908448, -2.9472191), (40.0117151, -89.8481652), (4.8087174, -75.690601), (-12.046374, -77.0427934), (27.9661349, 120.5893348), (50.134664, -0.357056), (51.376165, -0.098234), (41.9909235, -74.68404559999999), (-34.5885499, -60.94955400000001), (53.3765873, 13.3133008), (34.1808392, -118.3089661), (34.1083449, -117.2897652), (47.98233159999999, 8.8192095), (-12.579738, -41.7007272), (29.868336, 121.54399), (39.8861052, -94.891913), (-22.3913, 143.0381), (-39.1086169, 145.6689636), (-25.274398, 133.775136), (-23.4421917, 144.2555041), (-34.87544949999999, 150.5298387), (46.320207, -112.1072224), (53.8992685, 13.6468979), (38.9517053, -92.3340724), (20.2218201, -75.9869609), (34.80207499999999, 38.996815), (36.2431964, -84.6715407), (40.44062479999999, -79.9958864), (53.4285438, 14.5528116), (51.165691, 10.451526), (31.132093, 33.8032762), (50.1715288, 8.7189606), (49.42953869999999, 2.0807123), (51.3982179, 8.5749432), (37.6241793, -104.7802645), (39.898646, -92.4810208), (43.0125274, -83.6874562), (55.755826, 37.6173), (42.5027467, -105.0260832), (41.8791979, -87.8431155), (15.1202795, -88.4016041), (6.253040800000001, -75.5645737), (52.3702157, 4.895167900000001), (32.3546679, -89.3985283), (46.4181055, 9.225458699999999), (35.86166, 104.195397), (32.7287472, -94.94243790000002), (42.5027467, -105.0260832), (64.2008413, -149.4936733), (34.1808392, -118.3089661), (-38.2700243, 144.6474729), (41.1399814, -104.8202462), (59.9124514, 26.2623373), (42.7284117, -73.69178509999999), (41.1399814, -104.8202462), (-11.7910581, -38.35625539999999), (14.6572108, -86.21076719999999), (32.7554883, -97.3307658), (43.513006, 4.987968), (47.394144, 0.68484), (51.376165, -0.098234), (50.3180199, 11.933824), (31.2000924, 29.9187387), (34.9381496, -91.0209529), (-19.1056985, -61.700565), (41.919229, 8.738635), (33.2148412, -97.13306829999999), (-14.5994134, -28.6731465), (25.311888, 101.492853), (19.1223754, -98.7667481), (42.8761123, -78.0228829), (39.900076, -79.71643259999999), (10.6549013, -61.50192559999999), (45.070312, 7.686856499999999), (46.818188, 8.227511999999999), (49.205164, 2.583212), (47.5595986, 7.5885761), (-37.877, 145.131), (55.604981, 13.003822), (52.3758916, 9.732010400000002), (61.1749982, 5.2144952), (40.6051035, -73.6279072), (43.490103, 2.376579), (23.634501, -102.552784), (38.6270025, -90.19940419999999), (5.2528033, -76.8259652), (50.6841495, 7.636579199999999), (39.074208, 21.824312), (50.134664, -0.357056), (37.6241793, -104.7802645), (41.7508391, -88.1535352), (23.634501, -102.552784), (50.87848109999999, 10.5115698), (55.755826, 37.6173), (49.45203, 11.07675), (51.5073509, -0.1277583), (45.188529, 5.724524), (33.591215, -7.676711500000001), (51.376165, -0.098234), (40.7607793, -111.8910474), (47.5382565, -116.1193327), (41.322316, -74.8023882), (32.7766642, -96.79698789999999), (32.060255, 118.796877), (34.373361, -118.5400404), (34.373361, -118.5400404), (35.6976541, -0.6337376), (37.7749295, -122.4194155), (-28.3333333, 153), (-33.4192822, 149.5775008), (46.231418, 4.593407), (41.2509919, -75.5393155), (51.165691, 10.451526), (40.014561, -74.3112574), (48.7758459, 9.1829321), (34.193415, -77.8344829), (50.73757, 4.23251), (21.7991419, 31.3713164), (9.350598999999999, -79.901527), (22.6166667, 114.6702778), (29.2108147, -81.0228331), (-33.3017267, -66.3377522), (-27.5765485, 152.939753), (39.074208, 21.824312), (-2.9760735, 104.7754307), (40.7346687, -110.8437819), (49.4874592, 8.466039499999999), (51.21543, 2.928656), (51.376165, -0.098234), (40.6327278, 17.9417616), (43.74980499999999, 1.400246), (14.4803708, 121.0390178), (50.1109221, 8.6821267), (45.6769979, -111.0429339), (-14.33166, -170.711503), (45.8211405, -81.9421524), (32.9028812, -118.4980744), (67.1700511, 32.4229656), (43.296482, 5.36978), (25.6775595, -100.2596935), (49.050966, 2.100645), (37.5368803, -119.6562684), (25.6653262, 78.46093929999999), (-37.633, 144.95), (42.466095, 2.578342), (41.2559961, 13.6068672), (19.3126928, -99.040554), (-36.9686277, 174.7936872), (34.4113854, -118.5400858), (-23.5505199, -46.63330939999999), (41.49932, -81.6943605), (51.165691, 10.451526), (49.230707, -124.8603738), (-6.2555679, 29.5107708), (-31.9791666, -70.1125), (45.7832856, -108.5006904), (40.1208752, 9.012892599999999), (45.943161, 24.96676), (4.710988599999999, -74.072092), (-0.0917016, 34.7679568), (13.444304, 144.793731), (32.2780642, 130.2191303), (47.5316049, 21.6273123), (54.3232927, 10.1227652), (-26.3204885, -48.8255373), (44.4267674, 26.1025384), (40.6353493, 17.8772696), (35.86166, 104.195397), (-17.5226261, 146.0285223), (-33.4192822, 149.5775008), (46.65698709999999, 9.578025700000001), (51.5711476, 8.105754), (-37.831111, 145.36), (51.105097, -2.9262307), (40.6051035, -73.6279072), (52.3076865, 4.767424099999999), (50.4452112, -104.6188944), (-33.4192822, 149.5775008), (33.3128057, 44.3614875), (38.0690894, -122.8069356), (36.52909100000001, 138.9738577), (52.3702157, 4.895167900000001), (-12.4634403, 130.8456418), (48.856614, 2.3522219), (46.4083362, -105.8405582), (-22.9068467, -43.1728965), (-14.4521139, 132.2715145), (34.5531284, 18.0480105), (50.89229049999999, 4.4176727), (5.255906, -75.1538939), (40.9653217, -74.0519917), (35.4675602, -97.5164276), (31.6294723, -7.981084500000001), (-18.665695, 35.529562), (31.6294723, -7.981084500000001), (-2.1709979, -79.9223592), (51.4536672, 3.5709125), (47.6779496, 9.173238399999999), (41.3850639, 2.1734035), (-22.9068467, -43.1728965), (55.6760968, 12.5683371), (31.55460609999999, 74.3571581), (52.3758916, 9.732010400000002), (56.511018, 3.515625), (50.794995, -1.117547), (36.140751, -5.353585), (35.8582865, 14.4868883), (31.5084926, -9.7595041), (-8.670458199999999, 115.2126293), (24.7142573, 58.73736339999999), (56.1113678, -4.6288602), (33.9191799, -118.4164652), (58.595272, 25.013607), (49.276656, -0.258658), (19.75, 107.75), (52.3758916, 9.732010400000002), (-35.2809368, 149.1300092), (46.7712101, 23.6236353), (39.2726017, -77.636657), (36.85882, 119.398525), (52.52000659999999, 13.404954), (40.9180005, -111.8721601), (51.2803993, 14.0373888), (-22.9068467, -43.1728965), (34.5531284, 18.0480105), (41.8781136, -87.6297982), (-30.559482, 22.937506), (47.04650050000001, 21.9189438), (18.7326212, 100.8846633), (37.94094219999999, -93.4010371), (50.296741, -89.058273), (33.7489954, -84.3879824), (63.4305149, 10.3950528), (-32.3134951, 18.350464), (-14.5994134, -28.6731465), (44.4267674, 26.1025384), (38.848848, 135), (55.5806165, -5.2108573), (55.458564, -4.629179000000001), (-23.5505199, -46.63330939999999), (46.227638, 2.213749), (55.424117, -5.605373999999999), (18.4655394, -66.1057355), (46.8737648, -96.76780389999999), (42.7777214, -81.18265269999999), (25.7616798, -80.1917902), (36.1699412, -115.1398296), (1.4748305, 124.8420794), (-0.4948232, 117.1436154), (-10.1771997, 123.6070329), (-10.1771997, 123.6070329), (50.3754565, -4.1426565), (-27.5, 153.133333), (-33.137551, 81.826172), (-17.9614336, 122.235852), (-15.4825, 128.122778), (24.880095, 102.832892), (-13.823056, 131.833333), (40.7607793, -111.8910474), (46.4083362, -105.8405582), (37.4223352, -81.64371969999999), (-28.7264578, 153.5983166), (52.38102, -3.117897), (36.7537703, 3.0587927), (37.1694632, -104.5005407), (50.8551491, 0.5630741), (58.250685, -3.433149), (35.5122222, 3.9916667), (24.880095, 102.832892), (18.0787363, -66.35870560000001), (49.1422983, -55.3440853), (33.8302961, -116.5452921), (60.47202399999999, 8.468945999999999), (40.2621714, -112.0929961), (48.2081743, 16.3738189), (38.7222524, -9.1393366), (5.8, -53.9666667), (-14.5994134, -28.6731465), (39.1501709, -123.2077831), (-15.74447, -73.871483), (48.954408, -54.6103488), (47.6062095, -122.3320708), (38.7222524, -9.1393366), (28.46763, 119.922796), (28.5983159, 83.9310623), (-27.5717321, 153.012126), (-9.4301515, 147.1914623), (49.3215322, 0.0026356), (34.81516330000001, -79.18309099999999), (-21.1446586, 149.1682653), (15.5006544, 32.5598994), (15.5006544, 32.5598994), (36.140751, -5.353585), (53.1938062, -6.1188074), (36.7853194, -86.3533242), (44.936664, 26.0128616), (-19.2589635, 146.8169483), (35.86166, 104.195397), (56.511018, 3.515625), (-22.9068467, -43.1728965), (29.3013479, -94.7976958), (34.7351614, -79.3489317), (22.572646, 88.36389500000001), (35.77895650000001, -87.46695869999999), (48.497109, -68.247412), (60.12816100000001, 18.643501), (32.4609764, -84.9877094), (18.5204303, 73.8567437), (24.880095, 102.832892), (24.880095, 102.832892), (-9.4301515, 147.1914623), (47.549255, 131.6769706), (-22.9779158, 150.2743921), (40.653788, -112.7625703), (44.7891785, 20.4418579), (35.1495343, -90.0489801), (35.86166, 104.195397), (38.5236036, 23.8584737), (-5.0122202, 141.3470159), (64.5011111, -165.4063889), (44.7891785, 20.4418579), (59.22053689999999, 10.9347012), (45.5016889, -73.567256), (35.86166, 104.195397), (22.572646, 88.36389500000001), (49.305666, -1.242834), (49.53207, -1.865804), (49.383333, 0.183333), (24.880095, 102.832892), (25.234479, 110.179954), (-30.0346471, -51.2176584), (-14.5994134, -28.6731465), (54.723977, -4.956053), (-8.5200657, 179.198128), (42.96361, -99.09676259999999), (20.8325254, -75.7284267), (52.321924, 1.5985), (53.753825, -2.868558), (55.495587, -4.6142139), (-23.5505199, -46.63330939999999), (44.7891785, 20.4418579), (-16.45, 145.373333), (64.2008413, -149.4936733), (-7.9661053, -34.8322058), (47.322047, 5.04148), (27.860175, 95.62739510000002), (44.442493, 18.1726501), (-33.8688197, 151.2092955), (59.39139849999999, 8.321121), (47.162494, 19.503304), (53.38999099999999, -3.023009), (36.3274502, -119.6456844), (59.4836751, 8.6269273), (50.87387200000001, 0.00878), (14.45411, -87.0624261), (-0.023559, 37.906193), (55.604981, 13.003822), (27.5584428, 95.2710558), (34.1898566, -118.451357), (-14.5994134, -28.6731465), (50.134664, -0.357056), (27.5584428, 95.2710558), (10.6549013, -61.50192559999999), (34.1808392, -118.3089661), (35.86166, 104.195397), (24.880095, 102.832892), (-9.862794599999999, 124.3310364), (-37.0012974, 144.4937398), (43.1306661, 11.0160694), (53.1586694, 0.2369247), (37.8043637, -122.2711137), (-19.6303019, -43.89830310000001), (33.5731104, -7.589843399999999), (36.8348383, -81.5148368), (-23.849784, 151.2639294), (24.880095, 102.832892), (39.629526, -79.95589679999999), (-31.9505269, 115.8604572), (32.4709519, -100.4059384), (48.1351253, 11.5819806), (52.3555177, -1.1743197), (38.9071923, -77.0368707), (-2.0941169, 146.8760951), (51.113618, -0.732073), (49.69779699999999, 2.788831), (-5.0122202, 141.3470159), (4.915829899999999, -6.1540241), (35.86166, 104.195397), (-28.7773715, 114.6149715), (50.608277, -1.960769), (12.9715987, 77.5945627), (31.9685988, -99.9018131), (-14.5994134, -28.6731465), (-0.0917016, 34.7679568), (34.1954331, -79.7625625), (40.7127837, -74.0059413), (22.1564699, -100.9855409), (14.6160647, -61.0587804), (19.3898592, -99.1352383), (34.1954331, -79.7625625), (-5.0122202, 141.3470159), (43.3439296, -101.0681058), (-6.314992999999999, 143.95555), (35.86166, 104.195397), (28.0394654, -81.9498042), (51.2966867, -0.8693995), (48.117266, -1.6777926), (50.91535, 4.4787175), (39.904211, 116.407395), (-14.5994134, -28.6731465), (23.12911, 113.264385), (20.593684, 78.96288), (-6.4824784, -76.3726891), (35.86166, 104.195397), (48.7986201, 8.4400257), (25.4263309, 83.1179848), (27.8005828, -97.39638099999999), (45.8459562, 12.3184727), (41.648291, 13.866845), (31.8671891, 10.9856254), (-24.791488, -65.4499197), (-5.7465904, 150.7679216), (51.5961189, 0.4489254), (45.936698, -0.9616969999999999), (29.5844524, -81.20786989999999), (45.7832856, -108.5006904), (59.9800595, 10.6653012), (4.3946735, 18.5581899), (40.7127837, -74.0059413), (33.5206608, -86.80248999999999), (43.817072, 125.323544), (43.296482, 5.36978), (41.5083668, -72.9106202), (49.5908749, -114.523843), (48.00611000000001, 0.199556), (41.6893961, -106.4140868), (9.7150631, 122.8986812), (46.23824, -63.13107040000001), (32.6906137, -116.334462), (50.0754452, 14.4140315), (-42.8821377, 147.3271949), (32.060255, 118.796877), (31.230416, 121.473701), (39.4004621, -120.183811), (-33.137551, 81.826172), (35.8854994, 14.373372), (39.63086699999999, 118.180194), (12.2153659, -85.1660825), (20.593684, 78.96288), (30.85067, -86.87483999999999), (37.5407246, -77.4360481), (59.9138688, 10.7522454), (40.6340026, 14.6026805), (7.1453088, 3.3590446), (8.787191199999999, -79.55753419999999), (46.568114, 4.6824329), (43.2951, -0.370797), (42.2042586, -72.6162009), (40.3356483, -75.9268747), (36.651216, 117.12), (-2.9001285, -79.00589649999999), (39.350833, -101.7101722), (30.169012, -85.75287829999999), (16.7753609, 94.7381013), (59.9138688, 10.7522454), (40.014561, -74.3112574), (35.8582865, 14.4868883), (49.44323199999999, 1.099971), (41.5067003, -90.51513419999999), (30.0444196, 31.2357116), (55.341539, 12.405246), (48.936752, 2.425377), (40.8324211, -115.7631232), (-33.4192822, 149.5775008), (64.5011111, -165.4063889), (49.1390842, -102.9914807), (50.8503396, 4.3517103), (48.954408, -54.6103488), (32.8872094, 13.1913383), (35.86166, 104.195397), (22.308047, 113.9184808), (-7.9661053, -34.8322058), (48.5479718, -58.5815353), (4.0022157, 101.0159501), (52.21115700000001, 5.9699231), (41.1399814, -104.8202462), (33.8305244, -4.835315400000001), (41.3113669, -105.5911007), (22.1834038, 72.9419965), (26.820553, 30.802498), (46.029218, 1.418574), (41.49932, -81.6943605), (34.8416435, -118.8648189), (19.492, -97.14999999999999), (52.3702157, 4.895167900000001), (59.8056059, -146.3786899), (9.9280694, -84.0907246), (-34.6266731, -58.5943604), (36.2604623, 59.6167549), (46.4398305, -122.846783), (34.6937378, 135.5021651), (14.0675, 121.4925), (21.4691137, -78.6568942), (-22.9068467, -43.1728965), (32.715738, -117.1610838), (31.230416, 121.473701), (41.70753939999999, -86.8950297), (39.07088, -89.61897839999999), (52.7124708, -8.873067599999999), (-23.5505199, -46.63330939999999), (39.4342818, -75.1212927), (36.067108, 120.382609), (18.1960128, 120.5926679), (51.075215, 1.025608), (36.6612387, -80.9239671), (19.0412967, -98.20619959999999), (6.51669, -74.09996), (29.56301, 106.551556), (51.376165, -0.098234), (22.396428, 114.109497), (55.6760968, 12.5683371), (32.0547771, 118.7686301), (38.7222524, -9.1393366), (38.9237244, -75.5777033), (40.24260719999999, -4.9097818), (39.7392358, -104.990251), (41.2963728, 13.2332657), (4.710988599999999, -74.072092), (29.56301, 106.551556), (0, 0), (6.619519899999999, -75.97225999999999), (40.7379299, 13.9486184), (46.227638, 2.213749), (6.253040800000001, -75.5645737), (7.200796799999999, 79.8736754), (10.4805937, -66.90360629999999), (14.7645042, -17.3660286), (32.4609764, -84.9877094), (49.2827291, -123.1207375), (39.1201705, -75.2479061), (66.1534796, -18.7519095), (35.4430818, 139.3624889), (40.7769271, -73.8739659), (39.6048327, -76.11522889999999), (43.295388, 5.628112), (-34.6462173, -58.42902379999999), (39.1156615, -77.56360149999999), (35.0160783, 40.44654), (0, 0), (28.0836269, -80.60810889999999), (46.131859, 3.425488), (32.427908, 53.688046), (-34.6558611, -58.6167212), (40.29184300000001, 97.04567899999999), (-27.7882061, -64.2739241), (59.8056059, -146.3786899), (40.7127837, -74.0059413), (55.604981, 13.003822), (44.4267674, 26.1025384), (38.3730379, -110.7140391), (26.7505337, 51.6834275), (68.7986342, 16.5414503), (31.7618778, -106.4850217), (35.3737111, -83.22598029999999), (37.6256827, -0.9965839), (37.6283161, -112.1676947), (55.12092939999999, -131.4855123), (37.9463889, 23.8166667), (34.0836708, 74.7972825), (14.5377516, 121.0013794), (35.5280783, -108.7425843), (50.035896, 2.02821), (40.6491886, 14.6117112), (39.5392979, -75.667356), (44.2785962, 28.6177131), (59.54694439999999, -139.7272222), (14.4832373, 121.0213813), (45.5990565, 7.940853499999999), (47.6062095, -122.3320708), (33.0092216, -80.10517089999999), (35.1495343, -90.0489801), (24.880095, 102.832892), (16.7967121, 82.22528989999999), (21.1250077, -101.6859605), (48.856614, 2.3522219), (51.5758719, -0.421236), (32.0835407, -81.09983419999999), (36.5662811, 3.5913939), (18.735693, -70.162651), (38.80331779999999, -76.98972780000001), (41.805699, 123.431472), (36.778261, -119.4179324), (32.3078, -64.7505), (30.3321838, -81.65565099999999), (50.5760021, 9.1929424), (43.5915707, 10.4756991), (49.472447, -1.289561), (7.190708, 125.455341), (39.9611755, -82.99879419999999), (-1.4557549, -48.4901799), (42.6886591, 2.8948332), (51.4700223, -0.4542955), (64.963051, -19.020835), (41.8781136, -87.6297982), (62.21388889999999, -144.1288889), (-14.235004, -51.92528), (5.215209, -73.5946249), (42.230243, 9.119824999999999), (52.52000659999999, 13.404954), (52.7124708, -8.873067599999999), (0, 0), (42.83661, 2.665048), (-27.452382, 29.1506941), (39.9611755, -82.99879419999999), (51.723391, -0.534632), (38.994349, -1.8585424), (54.236107, -4.548056), (40.7970312, -76.41189609999999), (10.6035234, -66.99284399999999), (51.0057936, 4.6320416), (51.5209866, -0.4159848), (0, 0), (-1.4557549, -48.4901799), (22.198745, 113.543873), (48.865149, -64.210583), (-34.6036844, -58.3815591), (36.067108, 120.382609), (-14.5994134, -28.6731465), (24.8614622, 67.0099388), (-41.2990517, 174.1124665), (10.587508, -66.9213628), (44.0553908, -91.6663523), (40.5489742, -76.811915), (-31.508056, 150.68), (63.4305149, 10.3950528), (55.5089021, -4.6109806), (-39.2817207, 175.5685104), (53.544389, -113.4909267), (53.4433284, -1.948907), (58.21138889999999, -136.6483333), (-37.4, 144.583333), (53.4083714, -2.9915726), (30.0452462, 72.3488721), (35.86166, 104.195397), (45.4654219, 9.1859243), (25.0329694, 121.5654177), (4.710988599999999, -74.072092), (36.91307560000001, 21.6963472), (22.3156377, 114.365341), (40.4167754, -3.7037902), (18.4655394, -66.1057355), (41.87194, 12.56738), (47.6062095, -122.3320708), (-23.0011932, -44.3019383), (38.6967833, -76.8477485), (-31.7653989, -52.3375886), (31.206074, 29.881599), (18.3568552, -64.8988454), (40.5815489, -74.0960875), (56.170641, -4.900365), (59.64250000000001, -151.5483333), (40.8256561, -73.69818579999999), (48.3677441, -53.35873609999999), (26.3351, 17.228331), (3.650676, -76.85063699999999), (55.6760968, 12.5683371), (-9.9298454, -76.24326529999999), (52.406822, -1.519693), (22.2833333, 114.2), (-13.53195, -71.96746259999999), (-28.166667, 153.533333), (52.52000659999999, 13.404954), (-40.8755143, 175.0667946), (45.0769607, 7.7680241), (0, 0), (39.074208, 21.824312), (-27.5953778, -48.5480499), (18.4655394, -66.1057355), (41.1171432, 16.8718715), (-33.8558528, 150.9948543), (19.0759837, 72.8776559), (34.2506356, -118.61481), (47.6062095, -122.3320708), (40.1219081, -74.651754), (-28.8815983, -50.36418030000001), (-1.4080136, -48.4445409), (-1.3214443, -78.5788601), (17.0506675, 54.1065864), (4.710988599999999, -74.072092), (53.3503103, -6.2719649), (53.5409298, -2.1113659), (53.6948733, -95.6765487), (-4.4419311, 15.2662931), (49.2768822, -69.9596138), (19.0224223, -98.62790129999999), (-34.6123945, -59.90200669999999), (41.1399814, -104.8202462), (37.780411, -25.4970466), (38.8799697, -77.1067698), (41.0814447, -81.51900529999999), (59.9138688, 10.7522454), (45.5856077, 4.998507), (32.7766642, -96.79698789999999), (-14.235004, -51.92528), (38.1040864, -122.2566367), (36.061089, 103.834304), (20.044002, 110.198293), (24.8538097, 67.775756), (38.9071923, -77.0368707), (18.8504744, -97.1036396), (48.9412151, 2.4970711), (30.375321, 69.34511599999999), (38.994349, -1.8585424), (-17.5790302, -65.5796972), (-18.1442811, 49.3957836), (10.7201501, 122.5621063), (62.399237, -140.371697), (56.511018, 3.515625), (50.0754452, 14.4140315), (44.977753, -93.2650108), (10.8230989, 106.6296638), (51.48158100000001, -3.17909), (39.9333635, 32.8597419), (44.63821, -1.250625), (22.6034621, 88.4476565), (9.322961, -74.570544), (35.4430818, 139.3624889), (-2.0268289, -78.74762079999999), (38.75388, -27.0869431), (33.6890603, -78.8866943), (1.2058837, -77.285787), (40.8598219, -74.0593075), (-14.7935051, -39.0463797), (27.6648274, -81.5157535), (10.886123, -72.85151499999999), (26.0667, 50.5577), (26.0667, 50.5577), (42.1167065, -86.45418939999999), (-31.8738101, 116.7774281), (35.1795543, 129.0756416), (33.5731104, -7.589843399999999), (32.2643375, 75.64211209999999), (-12.46388, 14.16529), (36.204824, 138.252924), (-30.0346471, -51.2176584), (28.033886, 1.659626), (38.24935809999999, -122.0399663), (5.0902778, 101.7663889), (30.43356, 30.2426185), (43.100903, -75.232664), (35.6891975, 51.3889736), (9.1898235, 167.4242972), (45.8150108, 15.981919), (59.4021806, 13.5114977), (32.6453356, 130.958688), (33.5731104, -7.589843399999999), (45.49135, -92.7854919), (51.5073509, -0.1277583), (51.4700223, -0.4542955), (45.8717628, 6.894019399999999), (46.0038232, -112.5347776), (44.775122, 5.839061), (-7.2574719, 112.7520883), (43.0759678, -107.2902839), (-13.53195, -71.96746259999999), (27.514162, 90.433601), (29.6155598, 52.4981131), (46.227638, 2.213749), (4.3946735, 18.5581899), (20.593684, 78.96288), (-23.3044524, -51.1695824), (9.3191109, -70.60329949999999), (16.4023332, 120.5960071), (49.4991381, -119.5937077), (-27.7833574, -64.264167), (-30.1531579, 30.0694123), (6.1, 101.1333333), (39.9525839, -75.1652215), (47.6696057, -117.8777336), (42.0924239, 11.7954132), (23.69781, 120.960515), (64.02910539999999, -21.9684626), (38.7216415, -27.2205771), (9.081999, 8.675277), (6.675199999999999, -74.84211), (42.4999942, -96.40030689999999), (22.267902, 114.2111864), (9.321697000000002, -75.294467), (41.4036007, -95.0138776), (-27.5953778, -48.5480499), (-53.7860374, -67.7002243), (4.710988599999999, -74.072092), (34.4437094, -119.7247661), (38.3498195, -81.6326234), (22.208065, 114.260281), (24.5550593, -81.7799871), (41.079273, -85.1393513), (35.0853336, -106.6055534), (44.837789, -0.57918), (-22.2302991, -50.8950739), (33.4598415, -94.4154787), (-22.9068467, -43.1728965), (6.253040800000001, -75.5645737), (6.428055, -9.429499000000002), (45.3270631, 14.442176), (40.3427932, -105.6836389), (26.6528495, 92.7925592), (-10.9472468, -37.0730823), (52.3555177, -1.1743197), (34.193415, -77.8344829), (35.86166, 104.195397), (57.0530556, -135.33), (16.2639807, -0.0279867), (-17.4139766, -66.1653224), (-43.0988574, 147.7320958), (48.83975700000001, 1.165705), (-23.4336578, -45.0838481), (37.579476, -122.0246772), (-23.5505199, -46.63330939999999), (37.48521520000001, -122.2363548), (39.5341789, 2.8577105), (12.9715987, 77.5945627), (-16.489689, -68.11929359999999), (20.3402389, -102.2083074), (-30.030286, 29.6035495), (41.4036007, -95.0138776), (49.1497222, -124.0511111), (41.9973462, 21.4279956), (16.9181251, -89.8926065), (35.171723, -103.7249662), (45.7124142, 3.0155825), (51.7592485, 19.4559833), (30.0444196, 31.2357116), (22.572646, 88.36389500000001), (47.3768866, 8.541694), (16.8070694, -98.7350079), (39.7392358, -104.990251), (-6.314992999999999, 143.95555), (40.6639916, -74.2107006), (35.6891975, 51.3889736), (42.2525629, -78.80558959999999), (64.8377778, -147.7163889), (33.4483771, -112.0740373), (22.572646, 88.36389500000001), (-14.658228, 49.6452092), (52.1306607, -3.7837117), (53.243025, -131.820879), (40.6639916, -74.2107006), (-5.0487359, 18.7838572), (35.3322177, 139.1505999), (40.6639916, -74.2107006), (37.598557, 13.2907835), (3.8480325, 11.5020752), (21.1458004, 79.0881546), (-18.9146078, -48.2753801), (43.7101728, 7.261953200000001), (10.3156992, 123.8854366), (29.5688411, -97.9647269), (48.8316351, -64.4869016), (50.1109221, 8.6821267), (36.7598084, 3.0626481), (55.755826, 37.6173), (10.3401921, -68.74530639999999), (16.4023332, 120.5960071), (40.7127837, -74.0059413), (36.204824, 138.252924), (23.831457, 91.2867777), (18.4655394, -66.1057355), (33.9791793, -118.032844), (-7.336239, -47.4638414), (28.7040592, 77.10249019999999), (59.2089131, 9.605752599999999), (4.597479, 101.090106), (-23.5505199, -46.63330939999999), (-3.1190275, -60.0217314), (20.5072923, -13.052978), (58.48795200000001, 19.863281), (52.38994, 0.537442), (55.3337678, -1.5844757), (-22.9068467, -43.1728965), (-16.8078452, -49.9198367), (38.0176177, 12.537202), (32.630728, 73.01176650000001), (13.1234679, 32.650351), (51.2868939, -0.7526149999999999), (9.234439499999999, -78.19262499999999), (21.7991419, 31.3713164), (56.49067119999999, -4.2026458), (-14.235004, -51.92528), (37.751853, 128.8760574), (35.1982836, -111.651302), (13.330266, 14.1001326), (47.186469, -122.457878), (37.566535, 126.9779692), (61.2180556, -149.9002778), (45.943568, -108.3423516), (61.2422222, -148.1933333), (47.2528768, -122.4442906), (42.6977082, 23.3218675), (32.3658167, -64.7005543), (47.1301417, -119.2780771), (25.7616798, -80.1917902), (10.4805937, -66.90360629999999), (35.6891975, 51.3889736), (24.4458333, 118.3761111), (54.59728500000001, -5.93012), (47.5301011, -122.0326191), (42.0371544, -111.395956), (37.3110897, 13.5765475), (39.30287939999999, 9.198013399999999), (53.1355091, -57.6604364), (20.690696, 101.9861694), (44.885793, -0.6488149999999999), (30.0444196, 31.2357116), (30.6953657, -88.0398912), (24.8614622, 67.0099388), (41.9242917, -72.6454469), (24.3268117, 92.0126276), (16.0544068, 108.2021667), (48.1364139, -53.61288949999999), (37.5875059, -122.0657543), (-23.5492651, -46.9331962), (-6.2555679, 29.5107708), (18.0178743, -76.8099041), (-19.5354306, 45.46157849999999), (26.1445169, 91.7362365), (47.37565780000001, -121.8684444), (21.0277644, 105.8341598), (37.6909682, -122.3107517), (22.9867569, 87.8549755), (50.9946057, -4.5338098), (28.6139391, 77.2090212), (54.3150367, -130.3208187), (32.5448714, -94.36741839999999), (52.3702157, 4.895167900000001), (-27.3665763, -70.3321587), (37.7799273, -121.9780153), (0, 0), (-23.5505199, -46.63330939999999), (35.7090259, 139.7319925), (0, 0), (30.6324149, -87.03968809999999), (40.9676726, 126.5990916), (39.89846199999999, 32.875086), (25.3223269, 55.5136433), (54.2170944, -9.2158713), (32.715738, -117.1610838), (44.3863, 6.650462999999999), (46.8451007, -122.6562348), (14.22246, -88.549629), (21.0961842, -89.5756987), (42.6525793, -73.7562317), (39.9333635, 32.8597419), (38.2526647, -85.7584557), (50.1109221, 8.6821267), (22.3686613, 103.3119085), (25.6866142, -100.3161126), (40.7127837, -74.0059413), (37.4635519, -122.4285862), (-19.5722805, -65.7550063), (54.8826778, -1.6003726), (40.46366700000001, -3.74922), (21.1458004, 79.0881546), (15.7390247, -88.59554179999999), (16.616667, 145.616667), (47.3768866, 8.541694), (34.80207499999999, 38.996815), (34.352865, 62.20402869999999), (40.345477, 26.6843049), (51.80324419999999, -0.6016020999999999), (42.7781867, 10.1927389), (5.070275, -75.5138166), (33.7700504, -118.1937395), (41.9027835, 12.4963655), (50.0754452, 14.4140315), (39.0997265, -94.5785667), (43.06461470000001, 141.3468074), (61.48691640000001, -150.6544934), (36.0442999, 14.2512221), (28.6139391, 77.2090212), (43.75188319999999, -105.4913345), (44.2555539, 6.925440999999999), (1.3087643, 103.8728273), (-21.1424956, 149.1821469), (38.8317815, -76.611351), (25.6866142, -100.3161126), (36.9914194, 35.3308285), (21.0277644, 105.8341598), (38.803377, 15.2326454), (50.3915811, -105.5348562), (-33.4488897, -70.6692655), (19.6093003, 103.7289167), (-29.4097101, -66.892833), (22.572646, 88.36389500000001), (-40.9142336, 175.0083802), (-14.235004, -51.92528), (46.5546503, 15.6458812), (-23.5505199, -46.63330939999999), (16.0544563, 108.0717219), (51.081397, 1.169456), (-12.9730401, -38.502304), (35.86166, 104.195397), (62.9532043, -155.5959922), (38.7216415, -27.2205771), (14.058324, 108.277199), (15.1105068, 105.8172881), (43.1535728, -93.20103669999999), (56.511018, 3.515625), (44.0805434, -103.2310149), (52.6105253, -9.1051123), (-22.9068467, -43.1728965), (30.0444196, 31.2357116), (44.2049744, 7.5750549), (38.3365032, -75.0849058), (39.325043, -76.6448018), (-36.8908218, 145.164489), (-10.6776695, -76.26127629999999), (44.4686696, -71.18507679999999), (19.8833959, 102.1346874), (48.1485965, 17.1077477), (6.3585216, -63.580611), (40.7127837, -74.0059413), (40.44062479999999, -79.9958864), (55.495587, -4.6142139), (55.755826, 37.6173), (52.28697409999999, 104.3050183), (53.41291, -8.24389), (39.0836712, -84.5085536), (41.6005448, -93.6091064), (-1.32278, -69.578549), (21.1458004, 79.0881546), (4.9757165, 8.3417006), (41.9027835, 12.4963655), (35.0853336, -106.6055534), (-17.8251657, 31.03351), (-14.8619237, -40.8445346), (20.5260029, -104.7892254), (4.211875, -76.318513), (31.4944026, -91.28630539999999), (21.4389123, -158.0000565), (44.504194, -123.551139), (30.42130899999999, -87.2169149), (40.7298207, -73.2103934), (3.9329945, 108.1812242), (35.970029, -78.81590159999999), (-3.4, 39.95), (10.1445691, -64.67768), (53.544389, -113.4909267), (7.369721999999999, 12.354722), (-25.2637399, -57.57592599999999), (21.1250077, -101.6859605), (17.0594169, -96.7216219), (41.8781136, -87.6297982), (41.39810809999999, 23.2066849), (37.7252315, -92.1646722), (51.6754966, 39.2088823), (48.536616, 8.5479869), (-14.235004, -51.92528), (26.8133537, 85.4839604), (20.8765931, 95.8601611), (34.1808392, -118.3089661), (0, 0), (54.15325499999999, -113.125807), (30.7546215, 20.2265469), (0, 0), (62.45966499999999, -114.3821062), (-9.189967, -75.015152), (41.2983055, -106.1416774), (48.2081743, 16.3738189), (40.1672068, -105.1019275), (47.6062095, -122.3320708), (36.1699412, -115.1398296), (24.7853679, 141.319448), (37.4522617, -120.7018349), (-1.4557549, -48.4901799), (32.7343442, -80.2417651), (-23.5505199, -46.63330939999999), (30.3321838, -81.65565099999999), (-42.91, 147.6), (52.568437, -65.8789649), (14.4803708, 121.0390178), (45.764043, 4.835659), (63.74669300000001, -68.5169669), (58.102996, -68.41883899999999), (37.58366890000001, -121.9871217), (35.8216306, 14.4810648), (30.0444196, 31.2357116), (36.2021047, 37.1342603), (32.4924769, 74.5310403), (26.6528495, 92.7925592), (54.9987416, -1.9262191), (18.1140272, 75.03190860000001), (14.9798997, 102.0977693), (40.44062479999999, -79.9958864), (47.6062095, -122.3320708), (60.41602469999999, -150.3734777), (-2.6377762, -56.7295262), (51.5073509, -0.1277583), (27.7172453, 85.3239605), (45.4558019, -75.5047333), (14.6349149, -90.5068824), (40.2203907, -74.0120817), (12.0021794, 8.591956099999999), (36.0544445, -112.1401108), (42.0964314, -83.2918744), (39.9726147, -74.58293309999999), (-33.1231585, -64.3493441), (20.8617622, 96.0520363), (55.204498, -162.7183867), (31.9453666, 35.9283716), (36.7473114, -95.98081789999999), (64.5011111, -165.4063889), (51.6448241, -0.3030097), (0, 0), (23.831457, 91.2867777), (34.5531284, 18.0480105), (51.8771785, 0.1783494), (62.4678828, 11.2384101), (12.1972071, -86.75797870000001), (4.570868, -74.297333), (47.5762223, 8.521980899999999), (48.856614, 2.3522219), (10.4805937, -66.90360629999999), (0.869892, -73.8419063), (49.1579401, -121.9514666), (48.452186, 2.474807), (50.2278016, 11.0222093), (44.0536734, 12.5968588), (26.2361248, 50.0393017), (36.2695388, -95.8547119), (-34.6036844, -58.3815591), (11.5141431, -85.58179109999999), (48.856614, 2.3522219), (34.2586812, -118.288508), (40.7127837, -74.0059413), (37.5586545, 126.7944739), (48.0223129, -123.0060075), (52.674688, 1.225551), (11.19996, -72.64994999999999), (53.4807593, -2.2426305), (10.3156992, 123.8854366), (-17.6869776, -66.5075079), (59.8056059, -146.3786899), (-31.3301424, -54.1004622), (36.7537703, 3.0587927), (-14.235004, -51.92528), (20.9673702, -89.5925857), (29.7977778, 35.3175), (35.4655761, 44.38039209999999), (51.3085798, -0.8554145999999999), (22.4896872, 88.38947689999999), (40.4653704, -3.5951518), (-41.1334722, -71.3102778), (61.156703, -45.4254299), (28.6139391, 77.2090212), (55.755826, 37.6173), (47.7136785, 9.4149697), (39.2387164, -77.27942879999999), (50.7208228, -127.4966666), (30.8077878, 73.4467201), (-1.0381022, 135.9800848), (34.8640316, -116.888098), (46.577985, -71.62476199999999), (55.6760968, 12.5683371), (26.2006043, 92.9375739), (14.6572108, -86.21076719999999), (9.1125961, -70.4022789), (41.6355613, -70.9193397), (-34.9011127, -56.16453139999999), (33.8937913, 35.5017767), (-30.0346471, -51.2176584), (54.7877149, -6.4923145), (40.4167754, -3.7037902), (19.8301251, -90.5349087), (51.454513, -2.58791), (0, 0), (39.5696005, 2.6501603), (52.3555177, -1.1743197), (-43.5320544, 172.6362254), (-36.231159, -61.12060200000001), (56.130366, -106.346771), (8.162410999999999, 123.7741195), (51.90522499999999, 0.19691), (21.4389123, -158.0000565), (-34.6036844, -58.3815591), (-1.4557549, -48.4901799), (-16.489689, -68.11929359999999), (-22.9068467, -43.1728965), (33.9022367, -118.081733), (48.1351253, 11.5819806), (43.941194, 1.9921422), (39.7023111, -31.1080244), (53.598398, -2.554762), (26.2124013, 127.6809317), (31.3306218, 32.0496521), (35.14726, -107.8514466), (27.7172453, 85.3239605), (25.7616798, -80.1917902), (33.2101155, -97.75475519999999), (-0.1806532, -78.4678382), (43.5250265, -84.1227598), (-0.6633333000000001, -78.715), (49.7430385, 10.3490014), (36.1699412, -115.1398296), (28.6139391, 77.2090212), (48.2335629, 2.625239), (33.5731104, -7.589843399999999), (39.3142682, -77.6277679), (28.4594965, 77.0266383), (36.6997294, 3.0576199), (-22.9068467, -43.1728965), (14.5995124, 120.9842195), (20.6596988, -103.3496092), (39.4562099, -77.96388689999999), (-25.4289541, -49.267137), (27.0897099, 75.6935323), (42.1544318, -72.5784089), (23.810332, 90.4125181), (32.0947711, 20.1879106), (36.204824, 138.252924), (-21.0335047, -47.7768767), (53.41291, -8.24389), (41.286106, -70.096328), (52.0515032, 113.4711906), (40.3552211, 43.9915853), (51.5073509, -0.1277583), (13.444304, 144.793731), (-7.2290752, -35.8808337), (38.9071923, -77.0368707), (35.4408005, 139.231161), (45.6669761, 5.5524524), (34.5531284, 18.0480105), (44.0782195, -116.9337711), (11.15, -72.2422222), (-21.2664483, -63.45081070000001), (55.5111372, 47.4975961), (47.1030065, -54.1859324), (41.4495955, 12.6197253), (20.7546215, -75.737149), (42.7376608, 12.9364422), (-16.489689, -68.11929359999999), (-14.5994134, -28.6731465), (40.5852602, -105.084423), (40.46366700000001, -3.74922), (50.764107, -1.771998), (-17.8251657, 31.03351), (-22.9068467, -43.1728965), (15.5, -91.9158333), (36.4625455, -82.19349969999999), (-22.9068467, -43.1728965), (36.5832769, -118.7156531), (-38.0054771, -57.5426106), (8.5698244, -71.1804988), (31.9891204, 35.806491), (40.6327278, 17.9417616), (30.0474332, -99.1403189), (43.1535728, -93.20103669999999), (40.7769271, -73.8739659), (51.1531915, -0.1681955), (-18.489794, -69.5266907), (12.1149926, -86.2361744), (26.366554, 94.91362), (39.8873296, 4.259619499999999), (4.055672299999999, 16.1092127), (24.8332708, 92.7789054), (31.5393701, -82.4623557), (19.3692759, -99.2336948), (38.5012085, 43.3729793), (40.2249037, -1.7435392), (39.6952629, 3.0175712), (38.3498195, -81.6326234), (39.3622348, -76.3692987), (-8.929933, -74.70590589999999), (-38.0054771, -57.5426106), (-9.138228699999999, -78.1835179), (12.865416, -85.207229), (-10.4333333, -77.85), (45.4654219, 9.1859243), (26.2124013, 127.6809317), (20.593684, 78.96288), (24.8614622, 67.0099388), (40.90648729999999, -72.74343309999999), (41.3850639, 2.1734035), (-25.2637399, -57.57592599999999), (32.4487364, -99.73314390000002), (20.5270592, -97.4629119), (14.0722751, -87.19213599999999), (-23.5505199, -46.63330939999999), (44.837789, -0.57918), (52.0630435, -176.0965562), (31.4637866, -96.0580197), (34.9530337, -120.4357191), (37.9838096, 23.7275388), (38.0684692, -78.8894682), (48.492501, -67.743253), (0, 0), (49.839683, 24.029717), (33.8937913, 35.5017767), (41.8781136, -87.6297982), (41.2411897, -77.00107860000001), (10.3910485, -75.4794257), (41.2994958, 69.2400734), (55.34222219999999, -131.6461111), (41.9027835, 12.4963655), (-22.9068467, -43.1728965), (-2.9760735, 104.7754307), (-17.8348334, -60.7504879), (28.375797, 93.24786399999999), (34.0689908, -78.13262540000001), (30.2731389, 19.014857), (37.34389060000001, -77.071268), (39.9333635, 32.8597419), (18.4762228, -77.8938895), (-11.7365444, 130.4312584), (-16.290154, -63.58865299999999), (-22.9068467, -43.1728965), (52.7124708, -8.873067599999999), (49.839683, 24.029717), (8.0542, -76.6872999), (35.7090259, 139.7319925), (37.9485197, -86.7671845), (8.049293, -75.57405), (13.7405282, -84.7811621), (-31.7653989, -52.3375886), (25.0329694, 121.5654177), (48.5479718, -58.5815353), (4.710988599999999, -74.072092), (35.7344538, -81.3444573), (1.574278, 30.23973359999999), (8.9180089, -67.4158925), (13.0234177, 23.8584737), (-35.0805157, -69.5828236), (33.7489954, -84.3879824), (-21.1424956, 149.1821469), (61.1725, -148.2683333), (-22.9068467, -43.1728965), (39.76492229999999, -74.2693297), (26.7505337, 51.6834275), (-0.1806532, -78.4678382), (14.5995124, 120.9842195), (7.673890800000001, 36.8357927), (-1.658501, 29.2204548), (41.8794758, -87.81367), (44.0678288, 12.5695158), (-15.5641036, -68.0188096), (50.4501, 30.5234), (31.2370612, -6.126192500000001), (35.3387352, 25.1442126), (14.7645042, -17.3660286), (-31.3854988, -57.9600793), (13.4762824, 144.7502228), (26.2123124, 127.6791568), (55.755826, 37.6173), (19.091141, -98.881554), (42.7781867, 10.1927389), (42.3517206, -71.0899142), (42.7781867, 10.1927389), (41.2979981, -112.0860538), (61.52401, 105.318756), (46.87871759999999, -113.996586), (41.6639383, -83.55521200000001), (27.5065119, 83.43767489999999), (-0.1806532, -78.4678382), (14.5995124, 120.9842195), (-8.948941999999999, -54.901562), (-34.4429759, -59.44724660000001), (40.6000471, -74.054907), (48.1351253, 11.5819806), (10.3156992, 123.8854366), (14.4803708, 121.0390178), (63.1606218, 21.8418931), (41.436705, -74.032629), (32.7015142, -117.2076961), (-6.7352778, 107.5847222), (37.4391648, -4.1929216), (41.0720465, -71.85728809999999), (-7.2574719, 112.7520883), (50.8503396, 4.3517103), (10.4805937, -66.90360629999999), (-5.7792569, -35.200916), (49.606944, 11.256389), (-34.7635133, -72.0797766), (28.9230155, 9.7678687), (47.2528768, -122.4442906), (1.352083, 103.819836), (38.7222524, -9.1393366), (30.0444196, 31.2357116), (12.0021794, 8.591956099999999), (-34.6036844, -58.3815591), (46.482526, 30.7233095), (39.7392358, -104.990251), (33.5731104, -7.589843399999999), (-36.7749672, -59.8540382), (52.7228375, 174.1123656), (47.497912, 19.040235), (58.8887958, 5.6530475), (18.6591233, 104.6095976), (71.706936, -42.604303), (41.8008642, -87.9370052), (9.1495559, 39.0241756), (10.4625, -84.7033333), (52.7124708, -8.873067599999999), (33.9715904, -6.8498129), (-12.9906407, 28.6498144), (41.8781136, -87.6297982), (39.9333635, 32.8597419), (42.5188823, 2.456656), (26.3351, 17.228331), (49.4469581, -2.6020901), (-8.0578381, -34.8828969), (37.5407246, -77.4360481), (18.220833, -66.590149), (-22.9099384, -47.0626332), (0.3301924, 6.733343), (-33.8688197, 151.2092955), (49.9928617, 8.2472526), (50.58597, 3.80609), (12.1149926, -86.2361744), (39.9333635, 32.8597419), (57.2027778, -153.3038889), (-7.2574719, 112.7520883), (7.196659599999999, 35.4288797), (-15.8358149, -67.5648932), (54.1478418, 25.2991586), (-9.295763599999999, -75.99785899999999), (10.9570221, -63.8699655), (5.2843859, -75.259705), (40.6056632, -73.8713099), (4.0510564, 9.7678687), (-32.5551758, 26.7525915), (37.3927777, 34.63), (41.9027835, 12.4963655), (48.432856, 0.091266), (51.88, -176.6580556), (19.4914108, 132.5509603), (28.033886, 1.659626), (20.01693, -75.8301537), (4.1513822, -73.63769049999999), (6.199999999999999, -77.2), (50.8197675, -1.0879769), (21.916221, 95.955974), (-20.2976178, -40.2957768), (64.18140989999999, -51.694138), (30.0444196, 31.2357116), (-1.2920659, 36.8219462), (48.1909223, 11.8630208), (40.4769606, -93.0032614), (48.732026, 2.407557), (42.6977082, 23.3218675), (16.0144526, -61.7064109), (43.4343234, 39.9339462), (56.01528339999999, 92.8932476), (41.2994958, 69.2400734), (19.2031842, 73.87425), (40.6327278, 17.9417616), (31.55460609999999, 74.3571581), (20.593684, 78.96288), (13.7563309, 100.5017651), (21.3069444, -157.8583333), (43.60280789999999, 39.7341543), (48.813071, 3.083497), (27.7172453, 85.3239605), (-22.9068467, -43.1728965), (7.0617085, -73.8519319), (-9.189967, -75.015152), (48.5027313, 135.0662599), (34.7297616, 135.4561612), (41.0995019, -80.9703684), (49.2257301, 16.5820491), (47.9668398, -117.3316058), (-15.7501897, -67.6744192), (23.0064888, 72.4583605), (-14.5994134, -28.6731465), (50.21329679999999, -66.3757921), (14.5995124, 120.9842195), (37.471274, -5.6418214), (41.9242917, -72.6454469), (55.755826, 37.6173), (16.0544563, 108.0717219), (35.1814464, 136.906398), (39.2673283, -76.7983067), (0.18636, 6.613080999999999), (48.936752, 2.425377), (-23.3901988, -45.66274500000001), (-12.046374, -77.0427934), (40.7127837, -74.0059413), (7.0617085, -73.8519319), (-3.1190275, -60.0217314), (34.1808392, -118.3089661), (52.2296756, 21.0122287), (26.3556897, 127.7678754), (-15.7942287, -47.8821658), (51.9244201, 4.4777325), (42.0396042, 9.012892599999999), (70.1266685, -143.663435), (-23.5505199, -46.63330939999999), (41.115791, -112.4768287), (66.89833329999999, -162.5966666), (39.0997265, -94.5785667), (38.2772663, -76.42295), (39.9333635, 32.8597419), (37.7749295, -122.4194155), (61.6478508, 50.8339029), (25.7616798, -80.1917902), (42.3600825, -71.0588801), (7.190708, 125.455341), (36.0589486, -88.09781509999999), (35.8400188, 50.9390906), (-17.5926979, -69.44418999999999), (41.87194, 12.56738), (36.204824, 138.252924), (41.7188539, 13.6130491), (59.9138688, 10.7522454), (7.369721999999999, 12.354722), (-23.5505199, -46.63330939999999), (30.0724613, 31.27119969999999), (55.12092939999999, -131.4855123), (22.3431343, 73.1910115), (25.045806, 102.710002), (45.943161, 24.96676), (-45.0070278, -72.5102888), (51.2562128, 7.150763599999999), (51.9384783, 8.868637999999999), (-28.2580547, -52.4096248), (43.16103, -77.6109219), (-37.6618199, 175.8514993), (52.28697409999999, 104.3050183), (-22.817412, 47.81803800000001), (20.1045601, 100.5957288), (19.0606917, 72.8362497), (-33.8019444, 19.1344444), (45.764043, 4.835659), (47.4941836, -111.2833449), (33.1030212, 139.8035566), (60.0793208, 31.8926644), (25.7616798, -80.1917902), (47.3214469, 8.156860500000002), (42.6886591, 2.8948332), (31.2745862, 74.8565613), (39.158168, -75.5243682), (43.296482, 5.36978), (40.702677, -73.7889689), (24.088938, 32.8998293), (80.57666669999999, 57.66972219999999), (51.063138, -2.079703), (61.92410999999999, 25.748151), (45.6397183, -73.8439099), (39.9613759, -105.5108312), (39.60677889999999, -75.83327179999999), (33.5450587, 68.4173972), (30.0444196, 31.2357116), (34.0522342, -118.2436849), (-34.0957811, -59.0242302), (34.5400242, -112.4685025), (39.9333635, 32.8597419), (29.6516344, -82.32482619999999), (-22.0227557, -63.6775234), (26.5416093, -78.64554749999999), (42.331427, -83.0457538), (33.4930043, 75.1924755), (8.0106213, 124.297718), (22.7674278, 88.3883455), (46.2630502, -106.6819793), (30.205062, -90.11206960000001), (33.2395578, 131.609272), (47.2692124, 11.4041024), (39.0003616, -119.9525689), (4.710988599999999, -74.072092), (41.8781136, -87.6297982), (42.3600825, -71.0588801), (29.2366172, -89.9872941), (46.4083362, -105.8405582), (36.4093047, -80.20588310000001), (40.82238299999999, 14.4289058), (59.8056059, -146.3786899), (9.562389, 44.0770134), (26.2361248, 50.0393017), (64.61749999999999, -162.2605556), (37.7799273, -121.9780153), (8.6166667, -80.1166667), (-12.046374, -77.0427934), (15.079409, 120.6199895), (7.8002682, 122.5361395), (30.7487884, -99.230611), (42.2292572, -72.7300929), (24.1631651, 120.6746691), (39.5696005, 2.6501603), (36.6915262, -79.8725386), (35.9606384, -83.9207392), (36.0092653, -83.0923775), (39.5296329, -119.8138027), (37.5407246, -77.4360481), (36.1626638, -86.7816016), (61.7697336, -149.9910633), (41.5784425, -70.55864009999999), (-15.5641036, -68.0188096), (50.6909848, 142.9505689), (-22.3596549, -42.573615), (13.8559883, 100.8619689), (5.089545999999999, -76.652079), (37.0012828, -3.2665353), (8.9806034, 38.7577605), (45.7983273, 24.1255826), (34.2055857, -112.3384991), (44.7891785, 20.4418579), (37.0175227, -103.8844083), (36.1699412, -115.1398296), (47.302052, -53.986824), (56.245748, 12.863881), (41.9027835, 12.4963655), (-4.4419311, 15.2662931), (36.0625795, -94.1574263), (-15.5641036, -68.0188096), (16.0544068, 108.2021667), (11.6892241, 122.367428), (-5.900771700000001, -76.1129048), (37.7749295, -122.4194155), (9.9067054, -83.6800512), (42.331427, -83.0457538), (35.4675602, -97.5164276), (64.8377778, -147.7163889), (37.68717609999999, -97.33005299999999), (24.0277202, -104.6531759), (37.974, 22.207), (9.322601599999999, 13.393389), (-33.7833333, -69.9166667), (40.5921928, -73.5086111), (25.7616798, -80.1917902), (36.204824, 138.252924), (40.58290239999999, -74.0738631), (13.6828973, 122.9663018), (55.4476518, 78.3113874), (45.049641, -63.15634900000001), (13.35, -81.3666667), (18.4655394, -66.1057355), (30.375321, 69.34511599999999), (35.7594651, -5.833954299999999), (40.3611643, -83.7596557), (33.5138073, 36.2765279), (50.4647217, -3.5107318), (40.32674069999999, -78.9219698), (47.6062095, -122.3320708), (30.0444196, 31.2357116), (32.4609764, -84.9877094), (33.7455731, -117.8678338), (37.7749295, -122.4194155), (39.0997265, -94.5785667), (51.7520209, -1.2577263), (30.0444196, 31.2357116), (51.581613, -122.237828), (41.2834704, -70.099451), (18.335361, -64.95340089999999), (35.7346813, 140.8266406), (11.4109251, 122.2880726), (9.1011785, -79.4028639), (-15.6014109, -56.0978917), (43.4501005, -87.22201869999999), (50.73427, 5.20969), (22.396428, 114.109497), (60.19681050000001, -150.8891803), (10.4117687, 123.000095), (8.151342099999999, 35.5356866), (-1.6332034, -77.010385), (15.0759838, 108.7125791), (17.1305377, -61.87868529999999), (13.1265044, 108.878915), (25.401949, 68.36578759999999), (7.119349, -73.1227416), (27.0897099, 75.6935323), (21.0277644, 105.8341598), (14.5995124, 120.9842195), (51.5073509, -0.1277583), (0, 0), (41.7645366, -95.0466154), (4.258637, -74.548675), (39.0836712, -84.5085536), (68.9585244, 33.0826598), (40.7607793, -111.8910474), (20.7983626, -156.3319253), (33.8302961, -116.5452921), (40.7607793, -111.8910474), (41.4300937, -73.6801297), (28.4636296, -16.2518467), (13.1057062, 109.295048), (35.189443, -114.0530065), (13.1390621, 123.7437995), (30.2752011, -98.8719843), (-2.9760735, 104.7754307), (10.3910485, -75.4794257), (18.594395, -72.3074326), (46.818188, 8.227511999999999), (14.058324, 108.277199), (42.12922409999999, -80.085059), (53.07929619999999, 8.8016937), (35.553888, 139.8956943), (34.0836708, 74.7972825), (39.48308970000001, -88.37282549999999), (28.7040592, 77.10249019999999), (45.4654219, 9.1859243), (35.7090259, 139.7319925), (35.3605555, 138.7277777), (34.0232056, -119.7657663), (60.8491667, -146.8286111), (37.9838096, 23.7275388), (30.0444196, 31.2357116), (-25.2637399, -57.57592599999999), (37.3662293, -81.1025918), (32.715738, -117.1610838), (20.4170831, 104.04787), (34.1742611, -97.14362539999999), (-12.2369022, -75.7455074), (11.5346745, 108.0954351), (48.3681223, -124.6249602), (26.2124013, 127.6809317), (41.15726859999999, -85.4883127), (45.5016889, -73.567256), (30.35047509999999, -89.15281759999999), (33.2737256, -85.83607409999999), (12.879721, 121.774017), (-36.8484597, 174.7633315), (-36.9402778, -71.7236111), (39.9193885, -105.7848893), (30.375321, 69.34511599999999), (41.5644798, -87.5125412), (-17.5149607, -65.89471069999999), (40.0608352, -95.60192939999999), (45.7983273, 24.1255826), (16.8531086, -99.8236533), (61.2180556, -149.9002778), (39.9617305, -82.4912676), (16.0544068, 108.2021667), (-42.0037422, -65.07406619999999), (58.3019444, -134.4197222), (46.0569465, 14.5057515), (36.6454669, -96.292242), (28.4689946, -16.4459876), (-22.3913, 143.0381), (4.710988599999999, -74.072092), (45.3488431, -121.9656525), (16.0487665, 108.1858582), (29.6993748, -91.20676999999999), (41.9842123, -86.10862279999999), (33.6444926, -85.5842385), (42.5078592, -73.5065006), (41.6820897, -69.95976639999999), (33.8391574, 132.7655752), (52.529864, 13.052954), (35.108493, -77.04411429999999), (12.7854969, 45.0186548), (48.1485965, 17.1077477), (10.8230989, 106.6296638), (-22.7418249, -46.8952876), (55.755826, 37.6173), (4.710988599999999, -74.072092), (16.014238, 108.2031859), (10.84378, -75.1142325), (40.3270572, -74.0373528), (19.7070942, -155.0884869), (36.1471544, 140.3725168), (-14.5994134, -28.6731465), (50.1109221, 8.6821267), (36.2021047, 37.1342603), (35.0853336, -106.6055534), (13.2656035, 108.600492), (19.4326077, -99.133208), (47.3768866, 8.541694), (41.0997803, -80.6495194), (1.4748305, 124.8420794), (14.0722751, -87.19213599999999), (10.2990463, 123.9638531), (6.2907432, -10.7605239), (40.2364486, -83.3671432), (24.8614622, 67.0099388), (40.1083912, -83.7524298), (14.058324, 108.277199), (42.224867, -121.7816704), (46.056231, 12.2818089), (-33.0291582, 27.8545867), (57.79000000000001, -152.4072222), (33.5162315, -90.1795281), (29.95106579999999, -90.0715323), (34.426288, -117.5725628), (-12.046374, -77.0427934), (38.0405837, -84.5037164), (37.566535, 126.9779692), (22.7888209, 5.5258107), (35.3042606, 50.5006231), (35.1855659, 33.38227639999999), (41.2834704, -70.099451), (5.7160848, -72.93112889999999), (8.1306038, 125.1276536), (34.3333333, 129.3333333), (40.7674987, -73.833079), (37.5001287, -80.11088149999999), (-23.6131175, -70.3814761), (66.665374, -61.35852399999999), (45.4215296, -75.69719309999999), (42.5188823, 2.456656), (53.39331019999999, -2.1266325), (10.8230989, 106.6296638), (21.2854067, 39.2375507), (53.3498053, -6.2603097), (24.1426408, -110.3127531), (-4.0944897, -63.1446104), (16.0487665, 108.1858582), (53.3498053, -6.2603097), (10.8230989, 106.6296638), (41.67951860000001, -77.0638567), (34.7540524, -77.4302414), (18.3093394, 42.7662325), (22.3246084, 114.1990482), (10.6407389, 122.9689565), (-18.8791902, 47.5079055), (35.3187279, -82.4609528), (19.8833959, 102.1346874), (19.8833959, 102.1346874), (36.0544445, -112.1401108), (60.47202399999999, 8.468945999999999), (11.3848277, 107.8665322), (48.954408, -54.6103488), (36.72805830000001, -108.2186856), (18.2608098, 105.7175138), (18.3214856, -65.2916451), (36.4349631, 28.2174829), (33.5372433, -92.8193216), (14.058324, 108.277199), (-25.4289541, -49.267137), (34.502587, -84.9510542), (51.049478, -0.723391), (22.396428, 114.109497), (39.1031182, -84.5120196), (59.007735, 61.9316226), (39.0661472, -84.70318879999999), (58.3019444, -134.4197222), (36.708006, -119.5559652), (13.7829673, 109.2196634), (19.5271549, 102.8960712), (-9.189967, -75.015152), (43.0730517, -89.4012302), (22.2033221, -159.4977455), (34.2509071, -105.5966686), (52.3555177, -1.1743197), (39.7392358, -104.990251), (18.787747, 98.99312839999999), (10.7883447, 106.6955799), (56.5046678, 21.010806), (29.95106579999999, -90.0715323), (32.715738, -117.1610838), (65.1719444, -152.0788889), (16.7943472, 106.963409), (40.5071344, -117.1439942), (30.7066802, 31.2447709), (34.1665616, 132.2188479), (48.4157509, -101.3386723), (-12.14, 44.25), (10.289879, 103.98402), (49.2827291, -123.1207375), (8.8855027, 80.2767327), (25.0790108, 121.3881378), (39.9541166, -112.1202235), (20.333333, 101.516667), (56.17376609999999, 101.6038976), (16.0144526, -61.7064109), (11.9383716, 108.4591345), (11.3209094, 122.5372741), (-20.882057, 55.450675), (41.8020956, -71.4218425), (38.6270025, -90.19940419999999), (52.3389979, -6.458228), (38.6270025, -90.19940419999999), (55.755826, 37.6173), (10.289879, 103.98402), (51.4700223, -0.4542955), (-45.5712254, -72.068265), (34.5261465, -83.9843953), (19.4326077, -99.133208), (52.3555177, -1.1743197), (13.3743393, 108.3989809), (-22.5608807, 17.0657549), (55.755826, 37.6173), (34.39888380000001, -119.5184564), (30.283333, 72.466667), (31.8940478, -96.71471269999999), (26.3351, 17.228331), (15.4394771, 107.7932671), (45.552789, -84.7839364), (33.8894598, -118.1597911), (19.0759837, 72.8776559), (32.2176855, -82.4134614), (22.572646, 88.36389500000001), (43.318334, -1.9812313), (46.9641127, 142.7347556), (14.058324, 108.277199), (38.1114322, -91.7604389), (51.5073509, -0.1277583), (26.1224386, -80.13731740000001), (26.2361248, 50.0393017), (6.5243793, 3.3792057), (-8.2116007, -35.5677787), (-35.675147, -71.542969), (-8.0578381, -34.8828969), (41.4963134, -71.3711656), (45.4654219, 9.1859243), (43.0389025, -87.9064736), (48.53252149999999, 11.4977392), (38.3498195, -81.6326234), (33.8958492, -118.2200712), (31.2652893, 32.3018661), (9.7333906, -63.1914317), (48.52427040000001, -122.9131636), (60.0691756, 6.546234999999999), (42.50479259999999, 27.4626361), (40.7674987, -73.833079), (43.542493, 7.121620999999999), (19.279619, 166.6499348), (4.815554, 7.0498442), (60.55444439999999, -151.2583333), (14.058324, 108.277199), (14.058324, 108.277199), (36.1699412, -115.1398296), (8.9680637, -83.52330359999999), (40.3339589, -79.29975730000001), (50.0754452, 14.4140315), (38.423734, 27.142826), (-8.1642601, -70.35293109999999), (12.6661944, 108.0382475), (43.7022451, -72.2895526), (71.29055559999999, -156.7886111), (37.7749295, -122.4194155), (33.7455731, -117.8678338), (16.5722464, 104.7705509), (56.3527778, -133.6211111), (59.7872222, -154.1061111), (18.335361, -64.95340089999999), (47.006054, -112.0691697), (10.4805937, -66.90360629999999), (41.9564953, -78.649163), (70.2556453, -148.3384293), (61.2536352, -149.8112528), (31.8667427, -116.5963713), (41.8781136, -87.6297982), (-20.3106621, 118.5878223), (23.7369164, -99.14111539999999), (24.9739053, 121.7183349), (61.0680556, -151.1369444), (51.1719242, -0.1646064), (41.9564953, -78.649163), (15.870032, 100.992541), (34.0522342, -118.2436849), (16.4498, 107.5623501), (34.0522342, -118.2436849), (23.69781, 120.960515), (48.118146, -123.4307413), (12.879721, 121.774017), (36.6060444, -118.0628654), (22.9997281, 120.2270277), (18.4655394, -66.1057355), (-14.5994134, -28.6731465), (23.69781, 120.960515), (63.88277780000001, -152.3122222), (10.6544509, -71.7147951), (39.114053, -94.6274636), (24.088938, 32.8998293), (29.95106579999999, -90.0715323), (25.0519283, -77.4013403), (49.6680859, 19.5821187), (16.7943472, 106.963409), (50.21329679999999, -66.3757921), (41.7669671, 129.723402), (-4.4419311, 15.2662931), (55.4763889, -133.1483333), (22.845641, 89.5403279), (4.9015794, -1.7830973), (14.9798997, 102.0977693), (-29.4333305, -63.40000149999999), (-33.1231585, -64.3493441), (11.4696902, 106.6527099), (39.86618259999999, -74.8390162), (22.9664576, 97.7525352), (38.1113006, 15.6472914), (25.9662105, -100.2908632), (43.4065012, -124.2242803), (52.1998038, -175.5593421), (46.2395793, -119.1005657), (27.1766701, 78.00807449999999), (33.7948364, -83.713229), (27.4367653, 85.0025539), (71.29055559999999, -156.7886111), (40.7127837, -74.0059413), (65.565744, -167.9505442), (21.9708333, -159.715), (39.3642834, -74.4229266), (34.8370347, 5.751047499999999), (36.0544445, -112.1401108), (5.7808097, 6.8592236), (43.0895577, -79.0849436), (19.1109553, 102.9219684), (-1.2782708, -80.4243066), (55.755826, 37.6173), (41.7033177, -93.05735330000002), (15.1105068, 105.8172881), (15.870032, 100.992541), (4.508399, -73.349853), (39.5858806, -85.8635919), (14.6254827, 121.1244847), (-23.3044524, -51.1695824), (50.03312260000001, -125.2733354), (15.8800584, 108.3380469), (19.4326077, -99.133208), (-16.489689, -68.11929359999999), (5.7808097, 6.8592236), (19.75, 107.75), (39.7392358, -104.990251), (48.4758208, -81.3304953), (56.2497222, -134.6444444), (69.751221, 61.66369599999999), (43.4889579, -73.6065042), (6.601838, 3.3514863), (10.4805937, -66.90360629999999), (71.964027, 102.440613), (37.8071796, 23.9763412), (45.18533619999999, -68.6166937), (32.715738, -117.1610838), (12.2387911, 109.1967488), (19.8833959, 102.1346874), (64.7194444, -158.1030556), (59.32932349999999, 18.0685808), (38.1670027, 23.3389501), (36.2028267, -119.0933292), (-9.189967, -75.015152), (42.2011538, -85.5800022), (20.5270592, -97.4629119), (28.7040592, 77.10249019999999), (67.66251299999999, 134.65435), (41.49932, -81.6943605), (68.9585244, 33.0826598), (-27.4692131, -58.8306349), (46.50732989999999, 23.0041257), (54.1478418, 25.2991586), (41.0748454, -72.94605659999999), (4.570868, -74.297333), (48.44063999999999, 0.54682), (18.4860575, -69.93121169999999), (40.6639916, -74.2107006), (-0.228021, 15.827659), (47.3768866, 8.541694), (46.4907973, 9.8355079), (-8.268177999999999, -35.966695), (16.0544068, 108.2021667), (42.09868669999999, -75.91797380000001), (36.9902621, -112.9757702), (33.5731104, -7.589843399999999), (55.00835259999999, 82.9357327), (38.5631744, -76.0788292), (19.85627, 102.495496), (14.5995124, 120.9842195), (45.954499, 13.014009), (-5.0122202, 141.3470159), (17.700143, -64.862723), (34.931404, -117.943543), (2.0469343, 45.3181623), (8.228020899999999, 124.2452422), (45.552789, -84.7839364), (54.1478418, 25.2991586), (9.2169531, -83.33618799999999), (14.0722751, -87.19213599999999), (33.8920468, -84.29881259999999), (32.8872094, 13.1913383), (11.5528816, 122.740723), (-10.4882805, -77.7498574), (62.9532043, -155.5959922), (41.8232432, 2.4900943), (43.653226, -79.3831843), (-14.5994134, -28.6731465), (33.4920276, -105.3838716), (35.7090259, 139.7319925), (43.2951, -0.370797), (36.1699412, -115.1398296), (33.7293882, 73.0931461), (-13.53195, -71.96746259999999), (25.0329694, 121.5654177), (20.8800565, 106.5377839), (24.8332708, 92.7789054), (51.545198, 3.6906292), (48.464717, 35.046183), (59.852122, 30.325527), (40.7127837, -74.0059413), (18.2269224, -66.3911686), (49.5129678, -115.7694002), (56.26392, 9.501785), (16.0544068, 108.2021667), (68.442055, 73.585419), (39.6960983, -105.7258386), (25.0329694, 121.5654177), (40.8728411, -78.72419599999999), (-26.2258734, 28.1707794), (39.7589478, -84.1916069), (39.6620397, -75.5668166), (16.2376869, -61.5340424), (38.4192496, -82.44515400000002), (14.058324, 108.277199), (61.2180556, -149.9002778), (12.2387911, 109.1967488), (11.9008657, 109.140438), (23.810332, 90.4125181), (28.7040592, 77.10249019999999), (44.1598013, 28.6348138), (30.375321, 69.34511599999999), (18.335361, -64.95340089999999), (30.375321, 69.34511599999999), (36.7537703, 3.0587927), (60.0793208, 31.8926644), (32.687778, 13.173889), (40.5187154, -74.4120953), (47.3768866, 8.541694), (44.735269, 4.599038999999999), (-10.6736449, -77.8173047), (61.25595029999999, 73.38454709999999), (38.2070148, 128.5918488), (8.5698244, -71.1804988)]"
   ]
  },
  {
   "cell_type": "code",
   "execution_count": 22,
   "metadata": {},
   "outputs": [],
   "source": [
    "lng_list, lat_list = [], []\n",
    "lat_list = []\n",
    "for lat, lng in locs:\n",
    "    lat_list.append(lat)\n",
    "    lng_list.append(lng)"
   ]
  },
  {
   "cell_type": "code",
   "execution_count": 23,
   "metadata": {},
   "outputs": [
    {
     "data": {
      "image/png": "[encoded data removed]",
      "text/plain": [
       "<Figure size 1440x720 with 1 Axes>"
      ]
     },
     "metadata": {},
     "output_type": "display_data"
    }
   ],
   "source": [
    "base_map = Basemap(projection='merc', llcrnrlat=-60, urcrnrlat=65, llcrnrlon=-180, urcrnrlon=180)\n",
    "\n",
    "plt.figure(figsize=(20, 10))\n",
    "    \n",
    "base_map.fillcontinents(color='#404040', lake_color='#000000')\n",
    "base_map.drawmapboundary(fill_color='#000000')\n",
    "base_map.drawcountries(linewidth=0.3, color=\"w\")\n",
    "\n",
    "mxy = base_map(lng_list, lat_list)\n",
    "base_map.scatter(mxy[0], mxy[1], s=3, c=\"#1292db\", lw=0, alpha=1, zorder=5)\n",
    "\n",
    "plt.title(\"Approximate locations of plane crashes\")\n",
    "plt.show()"
   ]
  },
  {
   "cell_type": "code",
   "execution_count": 24,
   "metadata": {},
   "outputs": [
    {
     "data": {
      "application/vnd.plotly.v1+json": {
       "config": {
        "plotlyServerURL": "https://plot.ly"
       },
       "data": [
        {
         "lat": [
          38.883541,
          39.3642834,
          48.4284207,
          56.511018,
          50.2074306,
          50.81057,
          53.859336,
          42.48419990000001,
          51.627903,
          51.696636,
          49.9928617,
          54.691745,
          51.0543422,
          50.9415388,
          56.511018,
          53.25018439999999,
          45.567631,
          48.592237,
          28.080721,
          53.3641829,
          53.44056399999999,
          40.6639916,
          41.49932,
          40.9064,
          54.978252,
          39.2720509,
          50.134664,
          40.78593310000001,
          41.5033572,
          40.735657,
          40.735657,
          40.0583238,
          41.2916728,
          41.49932,
          52.1359729,
          38.9896967,
          40.79676670000001,
          41.4108855,
          40.5395289,
          42.518487,
          39.4699075,
          41.8500284,
          41.0802621,
          51.555684,
          41.3850639,
          44.8871878,
          43.8013556,
          36.140751,
          40.8324211,
          -37.9178086,
          40.7339981,
          41.49932,
          41.58746439999999,
          37.7749295,
          43.604652,
          53.745365,
          48.856614,
          -36.6016558,
          48.856614,
          36.8507689,
          49.665342,
          39.206062,
          53.411758,
          51.081397,
          36.5270612,
          39.768403,
          45.4408474,
          35.1744271,
          34.0181246,
          41.919229,
          41.3850639,
          41.1399814,
          41.6414438,
          49.70958,
          44.4267674,
          41.4645824,
          51.4308255,
          61.52401,
          41.4000523,
          34.5531284,
          41.1697041,
          40.9658931,
          50.134664,
          11.0041072,
          37.09024,
          43.545815,
          41.5822716,
          51.339228,
          41.7235174,
          38.3459963,
          38.3459963,
          50.125434,
          38.3459963,
          42.2605204,
          47.497912,
          39.74785079999999,
          48.678296,
          40.6792982,
          50.725231,
          41.5844951,
          52.5348604,
          50.134664,
          14.4803708,
          50.95088,
          53.681385,
          51.1645846,
          40.7127837,
          51.55092,
          50.134664,
          31.791702,
          42.3265152,
          50.62925,
          33.9715904,
          -24.883333,
          43.0040661,
          41.5822716,
          50.7562528,
          36.7537703,
          50.797725,
          51.27241000000001,
          41.8809434,
          40.5529452,
          51.37795000000001,
          50.57616650000001,
          21.00789,
          40.4862157,
          48.5734053,
          59.9124514,
          41.4372721,
          36.834047,
          40.46366700000001,
          46.227638,
          42.9056288,
          -34.7871645,
          41.1188827,
          46.227638,
          36.834047,
          41.0069471,
          -22.9068467,
          50.871091,
          38.9176041,
          40.46366700000001,
          44.7442714,
          51.2015995,
          50.1109221,
          38.4166818,
          59.9124514,
          51.339228,
          52.132633,
          48.11703869999999,
          48.678296,
          -34.9284989,
          42.8713032,
          49.69082419999999,
          41.9794005,
          41.3670014,
          44.933393,
          36.140751,
          41.4486619,
          41.3873741,
          41.4486619,
          33.4764767,
          -14.235004,
          -22.9068467,
          52.4465493,
          41.3950489,
          35.0456297,
          49.258329,
          41.9542632,
          45.2965256,
          39.6249838,
          39.629526,
          31.791702,
          40.735657,
          33.9294606,
          32.715738,
          47.162494,
          36.7537703,
          20.01693,
          41.3850639,
          50.919325,
          44.9537029,
          47.6363377,
          39.9611755,
          34.4047987,
          42.6886591,
          43.60280789999999,
          49.2925135,
          34.8480597,
          35.2386491,
          25.6577006,
          35.1744271,
          32.61768,
          41.58065420000001,
          44.2447913,
          40.3933956,
          47.5673202,
          20.403852,
          51.247571,
          42.0396042,
          45.6387281,
          41.4298516,
          34.5531284,
          52.52000659999999,
          35.2219971,
          41.1874828,
          -18.8791902,
          33.1958696,
          35.8893874,
          39.114053,
          41.76371109999999,
          51.173613,
          40.72815749999999,
          -34.6036844,
          42.3600825,
          55.160428,
          27.9094677,
          14.4803708,
          51.376165,
          56.6461641,
          49.42953869999999,
          51.0504088,
          35.1744271,
          54.3150367,
          49.732771,
          40.6028144,
          -23.9678823,
          34.95,
          31.230416,
          51.0036598,
          45.7423372,
          -39.035173,
          49.968341,
          40.46366700000001,
          -31.2532183,
          38.2719604,
          51.165691,
          34.1808392,
          -25.274398,
          40.91339430000001,
          18.4671203,
          41.5878281,
          49.24015720000001,
          41.8781136,
          -34.4450316,
          38.5285169,
          42.733883,
          39.1031182,
          41.8781136,
          37.8043637,
          44.68198659999999,
          -14.235004,
          39.9259463,
          -34.11937959999999,
          40.7607793,
          36.651216,
          46.2395793,
          41.2455927,
          13.7563309,
          36.7537703,
          39.9242266,
          42.13806,
          34.8416435,
          25.7616798,
          42.0258779,
          38.1557502,
          -22.9674264,
          38.6270025,
          34.0039039,
          40.3697905,
          34.80207499999999,
          41.3931096,
          41.079273,
          45.5230622,
          34.1808392,
          -33.4035551,
          33.8937913,
          48.5216364,
          31.7437272,
          51.3495019,
          -28.6473671,
          20.9425179,
          -13.75,
          51.335545,
          51.165691,
          34.7737082,
          35.2219971,
          37.2438888,
          -27.5765485,
          36.7537703,
          40.735657,
          33.95260200000001,
          29.79466409999999,
          44.0520691,
          -32.8894587,
          37.6688205,
          51.033331,
          52.2280802,
          39.76492229999999,
          38.5668641,
          47.8677574,
          41.84777649999999,
          38.0495789,
          34.9339503,
          46.0569465,
          41.6105937,
          47.642833,
          45.5230622,
          34.9900503,
          36.651216,
          49.988371,
          41.4361548,
          53.5510846,
          -28.8946769,
          51.0413098,
          47.257618,
          44.110898,
          40.7607793,
          35.2908448,
          40.0117151,
          4.8087174,
          -12.046374,
          27.9661349,
          50.134664,
          51.376165,
          41.9909235,
          -34.5885499,
          53.3765873,
          34.1808392,
          34.1083449,
          47.98233159999999,
          -12.579738,
          29.868336,
          39.8861052,
          -22.3913,
          -39.1086169,
          -25.274398,
          -23.4421917,
          -34.87544949999999,
          46.320207,
          53.8992685,
          38.9517053,
          20.2218201,
          34.80207499999999,
          36.2431964,
          40.44062479999999,
          53.4285438,
          51.165691,
          31.132093,
          50.1715288,
          49.42953869999999,
          51.3982179,
          37.6241793,
          39.898646,
          43.0125274,
          55.755826,
          42.5027467,
          41.8791979,
          15.1202795,
          6.253040800000001,
          52.3702157,
          32.3546679,
          46.4181055,
          35.86166,
          32.7287472,
          42.5027467,
          64.2008413,
          34.1808392,
          -38.2700243,
          41.1399814,
          59.9124514,
          42.7284117,
          41.1399814,
          -11.7910581,
          14.6572108,
          32.7554883,
          43.513006,
          47.394144,
          51.376165,
          50.3180199,
          31.2000924,
          34.9381496,
          -19.1056985,
          41.919229,
          33.2148412,
          -14.5994134,
          25.311888,
          19.1223754,
          42.8761123,
          39.900076,
          10.6549013,
          45.070312,
          46.818188,
          49.205164,
          47.5595986,
          -37.877,
          55.604981,
          52.3758916,
          61.1749982,
          40.6051035,
          43.490103,
          23.634501,
          38.6270025,
          5.2528033,
          50.6841495,
          39.074208,
          50.134664,
          37.6241793,
          41.7508391,
          23.634501,
          50.87848109999999,
          55.755826,
          49.45203,
          51.5073509,
          45.188529,
          33.591215,
          51.376165,
          40.7607793,
          47.5382565,
          41.322316,
          32.7766642,
          32.060255,
          34.373361,
          34.373361,
          35.6976541,
          37.7749295,
          -28.3333333,
          -33.4192822,
          46.231418,
          41.2509919,
          51.165691,
          40.014561,
          48.7758459,
          34.193415,
          50.73757,
          21.7991419,
          9.350598999999999,
          22.6166667,
          29.2108147,
          -33.3017267,
          -27.5765485,
          39.074208,
          -2.9760735,
          40.7346687,
          49.4874592,
          51.21543,
          51.376165,
          40.6327278,
          43.74980499999999,
          14.4803708,
          50.1109221,
          45.6769979,
          -14.33166,
          45.8211405,
          32.9028812,
          67.1700511,
          43.296482,
          25.6775595,
          49.050966,
          37.5368803,
          25.6653262,
          -37.633,
          42.466095,
          41.2559961,
          19.3126928,
          -36.9686277,
          34.4113854,
          -23.5505199,
          41.49932,
          51.165691,
          49.230707,
          -6.2555679,
          -31.9791666,
          45.7832856,
          40.1208752,
          45.943161,
          4.710988599999999,
          -0.0917016,
          13.444304,
          32.2780642,
          47.5316049,
          54.3232927,
          -26.3204885,
          44.4267674,
          40.6353493,
          35.86166,
          -17.5226261,
          -33.4192822,
          46.65698709999999,
          51.5711476,
          -37.831111,
          51.105097,
          40.6051035,
          52.3076865,
          50.4452112,
          -33.4192822,
          33.3128057,
          38.0690894,
          36.52909100000001,
          52.3702157,
          -12.4634403,
          48.856614,
          46.4083362,
          -22.9068467,
          -14.4521139,
          34.5531284,
          50.89229049999999,
          5.255906,
          40.9653217,
          35.4675602,
          31.6294723,
          -18.665695,
          31.6294723,
          -2.1709979,
          51.4536672,
          47.6779496,
          41.3850639,
          -22.9068467,
          55.6760968,
          31.55460609999999,
          52.3758916,
          56.511018,
          50.794995,
          36.140751,
          35.8582865,
          31.5084926,
          -8.670458199999999,
          24.7142573,
          56.1113678,
          33.9191799,
          58.595272,
          49.276656,
          19.75,
          52.3758916,
          -35.2809368,
          46.7712101,
          39.2726017,
          36.85882,
          52.52000659999999,
          40.9180005,
          51.2803993,
          -22.9068467,
          34.5531284,
          41.8781136,
          -30.559482,
          47.04650050000001,
          18.7326212,
          37.94094219999999,
          50.296741,
          33.7489954,
          63.4305149,
          -32.3134951,
          -14.5994134,
          44.4267674,
          38.848848,
          55.5806165,
          55.458564,
          -23.5505199,
          46.227638,
          55.424117,
          18.4655394,
          46.8737648,
          42.7777214,
          25.7616798,
          36.1699412,
          1.4748305,
          -0.4948232,
          -10.1771997,
          -10.1771997,
          50.3754565,
          -27.5,
          -33.137551,
          -17.9614336,
          -15.4825,
          24.880095,
          -13.823056,
          40.7607793,
          46.4083362,
          37.4223352,
          -28.7264578,
          52.38102,
          36.7537703,
          37.1694632,
          50.8551491,
          58.250685,
          35.5122222,
          24.880095,
          18.0787363,
          49.1422983,
          33.8302961,
          60.47202399999999,
          40.2621714,
          48.2081743,
          38.7222524,
          5.8,
          -14.5994134,
          39.1501709,
          -15.74447,
          48.954408,
          47.6062095,
          38.7222524,
          28.46763,
          28.5983159,
          -27.5717321,
          -9.4301515,
          49.3215322,
          34.81516330000001,
          -21.1446586,
          15.5006544,
          15.5006544,
          36.140751,
          53.1938062,
          36.7853194,
          44.936664,
          -19.2589635,
          35.86166,
          56.511018,
          -22.9068467,
          29.3013479,
          34.7351614,
          22.572646,
          35.77895650000001,
          48.497109,
          60.12816100000001,
          32.4609764,
          18.5204303,
          24.880095,
          24.880095,
          -9.4301515,
          47.549255,
          -22.9779158,
          40.653788,
          44.7891785,
          35.1495343,
          35.86166,
          38.5236036,
          -5.0122202,
          64.5011111,
          44.7891785,
          59.22053689999999,
          45.5016889,
          35.86166,
          22.572646,
          49.305666,
          49.53207,
          49.383333,
          24.880095,
          25.234479,
          -30.0346471,
          -14.5994134,
          54.723977,
          -8.5200657,
          42.96361,
          20.8325254,
          52.321924,
          53.753825,
          55.495587,
          -23.5505199,
          44.7891785,
          -16.45,
          64.2008413,
          -7.9661053,
          47.322047,
          27.860175,
          44.442493,
          -33.8688197,
          59.39139849999999,
          47.162494,
          53.38999099999999,
          36.3274502,
          59.4836751,
          50.87387200000001,
          14.45411,
          -0.023559,
          55.604981,
          27.5584428,
          34.1898566,
          -14.5994134,
          50.134664,
          27.5584428,
          10.6549013,
          34.1808392,
          35.86166,
          24.880095,
          -9.862794599999999,
          -37.0012974,
          43.1306661,
          53.1586694,
          37.8043637,
          -19.6303019,
          33.5731104,
          36.8348383,
          -23.849784,
          24.880095,
          39.629526,
          -31.9505269,
          32.4709519,
          48.1351253,
          52.3555177,
          38.9071923,
          -2.0941169,
          51.113618,
          49.69779699999999,
          -5.0122202,
          4.915829899999999,
          35.86166,
          -28.7773715,
          50.608277,
          12.9715987,
          31.9685988,
          -14.5994134,
          -0.0917016,
          34.1954331,
          40.7127837,
          22.1564699,
          14.6160647,
          19.3898592,
          34.1954331,
          -5.0122202,
          43.3439296,
          -6.314992999999999,
          35.86166,
          28.0394654,
          51.2966867,
          48.117266,
          50.91535,
          39.904211,
          -14.5994134,
          23.12911,
          20.593684,
          -6.4824784,
          35.86166,
          48.7986201,
          25.4263309,
          27.8005828,
          45.8459562,
          41.648291,
          31.8671891,
          -24.791488,
          -5.7465904,
          51.5961189,
          45.936698,
          29.5844524,
          45.7832856,
          59.9800595,
          4.3946735,
          40.7127837,
          33.5206608,
          43.817072,
          43.296482,
          41.5083668,
          49.5908749,
          48.00611000000001,
          41.6893961,
          9.7150631,
          46.23824,
          32.6906137,
          50.0754452,
          -42.8821377,
          32.060255,
          31.230416,
          39.4004621,
          -33.137551,
          35.8854994,
          39.63086699999999,
          12.2153659,
          20.593684,
          30.85067,
          37.5407246,
          59.9138688,
          40.6340026,
          7.1453088,
          8.787191199999999,
          46.568114,
          43.2951,
          42.2042586,
          40.3356483,
          36.651216,
          -2.9001285,
          39.350833,
          30.169012,
          16.7753609,
          59.9138688,
          40.014561,
          35.8582865,
          49.44323199999999,
          41.5067003,
          30.0444196,
          55.341539,
          48.936752,
          40.8324211,
          -33.4192822,
          64.5011111,
          49.1390842,
          50.8503396,
          48.954408,
          32.8872094,
          35.86166,
          22.308047,
          -7.9661053,
          48.5479718,
          4.0022157,
          52.21115700000001,
          41.1399814,
          33.8305244,
          41.3113669,
          22.1834038,
          26.820553,
          46.029218,
          41.49932,
          34.8416435,
          19.492,
          52.3702157,
          59.8056059,
          9.9280694,
          -34.6266731,
          36.2604623,
          46.4398305,
          34.6937378,
          14.0675,
          21.4691137,
          -22.9068467,
          32.715738,
          31.230416,
          41.70753939999999,
          39.07088,
          52.7124708,
          -23.5505199,
          39.4342818,
          36.067108,
          18.1960128,
          51.075215,
          36.6612387,
          19.0412967,
          6.51669,
          29.56301,
          51.376165,
          22.396428,
          55.6760968,
          32.0547771,
          38.7222524,
          38.9237244,
          40.24260719999999,
          39.7392358,
          41.2963728,
          4.710988599999999,
          29.56301,
          0,
          6.619519899999999,
          40.7379299,
          46.227638,
          6.253040800000001,
          7.200796799999999,
          10.4805937,
          14.7645042,
          32.4609764,
          49.2827291,
          39.1201705,
          66.1534796,
          35.4430818,
          40.7769271,
          39.6048327,
          43.295388,
          -34.6462173,
          39.1156615,
          35.0160783,
          0,
          28.0836269,
          46.131859,
          32.427908,
          -34.6558611,
          40.29184300000001,
          -27.7882061,
          59.8056059,
          40.7127837,
          55.604981,
          44.4267674,
          38.3730379,
          26.7505337,
          68.7986342,
          31.7618778,
          35.3737111,
          37.6256827,
          37.6283161,
          55.12092939999999,
          37.9463889,
          34.0836708,
          14.5377516,
          35.5280783,
          50.035896,
          40.6491886,
          39.5392979,
          44.2785962,
          59.54694439999999,
          14.4832373,
          45.5990565,
          47.6062095,
          33.0092216,
          35.1495343,
          24.880095,
          16.7967121,
          21.1250077,
          48.856614,
          51.5758719,
          32.0835407,
          36.5662811,
          18.735693,
          38.80331779999999,
          41.805699,
          36.778261,
          32.3078,
          30.3321838,
          50.5760021,
          43.5915707,
          49.472447,
          7.190708,
          39.9611755,
          -1.4557549,
          42.6886591,
          51.4700223,
          64.963051,
          41.8781136,
          62.21388889999999,
          -14.235004,
          5.215209,
          42.230243,
          52.52000659999999,
          52.7124708,
          0,
          42.83661,
          -27.452382,
          39.9611755,
          51.723391,
          38.994349,
          54.236107,
          40.7970312,
          10.6035234,
          51.0057936,
          51.5209866,
          0,
          -1.4557549,
          22.198745,
          48.865149,
          -34.6036844,
          36.067108,
          -14.5994134,
          24.8614622,
          -41.2990517,
          10.587508,
          44.0553908,
          40.5489742,
          -31.508056,
          63.4305149,
          55.5089021,
          -39.2817207,
          53.544389,
          53.4433284,
          58.21138889999999,
          -37.4,
          53.4083714,
          30.0452462,
          35.86166,
          45.4654219,
          25.0329694,
          4.710988599999999,
          36.91307560000001,
          22.3156377,
          40.4167754,
          18.4655394,
          41.87194,
          47.6062095,
          -23.0011932,
          38.6967833,
          -31.7653989,
          31.206074,
          18.3568552,
          40.5815489,
          56.170641,
          59.64250000000001,
          40.8256561,
          48.3677441,
          26.3351,
          3.650676,
          55.6760968,
          -9.9298454,
          52.406822,
          22.2833333,
          -13.53195,
          -28.166667,
          52.52000659999999,
          -40.8755143,
          45.0769607,
          0,
          39.074208,
          -27.5953778,
          18.4655394,
          41.1171432,
          -33.8558528,
          19.0759837,
          34.2506356,
          47.6062095,
          40.1219081,
          -28.8815983,
          -1.4080136,
          -1.3214443,
          17.0506675,
          4.710988599999999,
          53.3503103,
          53.5409298,
          53.6948733,
          -4.4419311,
          49.2768822,
          19.0224223,
          -34.6123945,
          41.1399814,
          37.780411,
          38.8799697,
          41.0814447,
          59.9138688,
          45.5856077,
          32.7766642,
          -14.235004,
          38.1040864,
          36.061089,
          20.044002,
          24.8538097,
          38.9071923,
          18.8504744,
          48.9412151,
          30.375321,
          38.994349,
          -17.5790302,
          -18.1442811,
          10.7201501,
          62.399237,
          56.511018,
          50.0754452,
          44.977753,
          10.8230989,
          51.48158100000001,
          39.9333635,
          44.63821,
          22.6034621,
          9.322961,
          35.4430818,
          -2.0268289,
          38.75388,
          33.6890603,
          1.2058837,
          40.8598219,
          -14.7935051,
          27.6648274,
          10.886123,
          26.0667,
          26.0667,
          42.1167065,
          -31.8738101,
          35.1795543,
          33.5731104,
          32.2643375,
          -12.46388,
          36.204824,
          -30.0346471,
          28.033886,
          38.24935809999999,
          5.0902778,
          30.43356,
          43.100903,
          35.6891975,
          9.1898235,
          45.8150108,
          59.4021806,
          32.6453356,
          33.5731104,
          45.49135,
          51.5073509,
          51.4700223,
          45.8717628,
          46.0038232,
          44.775122,
          -7.2574719,
          43.0759678,
          -13.53195,
          27.514162,
          29.6155598,
          46.227638,
          4.3946735,
          20.593684,
          -23.3044524,
          9.3191109,
          16.4023332,
          49.4991381,
          -27.7833574,
          -30.1531579,
          6.1,
          39.9525839,
          47.6696057,
          42.0924239,
          23.69781,
          64.02910539999999,
          38.7216415,
          9.081999,
          6.675199999999999,
          42.4999942,
          22.267902,
          9.321697000000002,
          41.4036007,
          -27.5953778,
          -53.7860374,
          4.710988599999999,
          34.4437094,
          38.3498195,
          22.208065,
          24.5550593,
          41.079273,
          35.0853336,
          44.837789,
          -22.2302991,
          33.4598415,
          -22.9068467,
          6.253040800000001,
          6.428055,
          45.3270631,
          40.3427932,
          26.6528495,
          -10.9472468,
          52.3555177,
          34.193415,
          35.86166,
          57.0530556,
          16.2639807,
          -17.4139766,
          -43.0988574,
          48.83975700000001,
          -23.4336578,
          37.579476,
          -23.5505199,
          37.48521520000001,
          39.5341789,
          12.9715987,
          -16.489689,
          20.3402389,
          -30.030286,
          41.4036007,
          49.1497222,
          41.9973462,
          16.9181251,
          35.171723,
          45.7124142,
          51.7592485,
          30.0444196,
          22.572646,
          47.3768866,
          16.8070694,
          39.7392358,
          -6.314992999999999,
          40.6639916,
          35.6891975,
          42.2525629,
          64.8377778,
          33.4483771,
          22.572646,
          -14.658228,
          52.1306607,
          53.243025,
          40.6639916,
          -5.0487359,
          35.3322177,
          40.6639916,
          37.598557,
          3.8480325,
          21.1458004,
          -18.9146078,
          43.7101728,
          10.3156992,
          29.5688411,
          48.8316351,
          50.1109221,
          36.7598084,
          55.755826,
          10.3401921,
          16.4023332,
          40.7127837,
          36.204824,
          23.831457,
          18.4655394,
          33.9791793,
          -7.336239,
          28.7040592,
          59.2089131,
          4.597479,
          -23.5505199,
          -3.1190275,
          20.5072923,
          58.48795200000001,
          52.38994,
          55.3337678,
          -22.9068467,
          -16.8078452,
          38.0176177,
          32.630728,
          13.1234679,
          51.2868939,
          9.234439499999999,
          21.7991419,
          56.49067119999999,
          -14.235004,
          37.751853,
          35.1982836,
          13.330266,
          47.186469,
          37.566535,
          61.2180556,
          45.943568,
          61.2422222,
          47.2528768,
          42.6977082,
          32.3658167,
          47.1301417,
          25.7616798,
          10.4805937,
          35.6891975,
          24.4458333,
          54.59728500000001,
          47.5301011,
          42.0371544,
          37.3110897,
          39.30287939999999,
          53.1355091,
          20.690696,
          44.885793,
          30.0444196,
          30.6953657,
          24.8614622,
          41.9242917,
          24.3268117,
          16.0544068,
          48.1364139,
          37.5875059,
          -23.5492651,
          -6.2555679,
          18.0178743,
          -19.5354306,
          26.1445169,
          47.37565780000001,
          21.0277644,
          37.6909682,
          22.9867569,
          50.9946057,
          28.6139391,
          54.3150367,
          32.5448714,
          52.3702157,
          -27.3665763,
          37.7799273,
          0,
          -23.5505199,
          35.7090259,
          0,
          30.6324149,
          40.9676726,
          39.89846199999999,
          25.3223269,
          54.2170944,
          32.715738,
          44.3863,
          46.8451007,
          14.22246,
          21.0961842,
          42.6525793,
          39.9333635,
          38.2526647,
          50.1109221,
          22.3686613,
          25.6866142,
          40.7127837,
          37.4635519,
          -19.5722805,
          54.8826778,
          40.46366700000001,
          21.1458004,
          15.7390247,
          16.616667,
          47.3768866,
          34.80207499999999,
          34.352865,
          40.345477,
          51.80324419999999,
          42.7781867,
          5.070275,
          33.7700504,
          41.9027835,
          50.0754452,
          39.0997265,
          43.06461470000001,
          61.48691640000001,
          36.0442999,
          28.6139391,
          43.75188319999999,
          44.2555539,
          1.3087643,
          -21.1424956,
          38.8317815,
          25.6866142,
          36.9914194,
          21.0277644,
          38.803377,
          50.3915811,
          -33.4488897,
          19.6093003,
          -29.4097101,
          22.572646,
          -40.9142336,
          -14.235004,
          46.5546503,
          -23.5505199,
          16.0544563,
          51.081397,
          -12.9730401,
          35.86166,
          62.9532043,
          38.7216415,
          14.058324,
          15.1105068,
          43.1535728,
          56.511018,
          44.0805434,
          52.6105253,
          -22.9068467,
          30.0444196,
          44.2049744,
          38.3365032,
          39.325043,
          -36.8908218,
          -10.6776695,
          44.4686696,
          19.8833959,
          48.1485965,
          6.3585216,
          40.7127837,
          40.44062479999999,
          55.495587,
          55.755826,
          52.28697409999999,
          53.41291,
          39.0836712,
          41.6005448,
          -1.32278,
          21.1458004,
          4.9757165,
          41.9027835,
          35.0853336,
          -17.8251657,
          -14.8619237,
          20.5260029,
          4.211875,
          31.4944026,
          21.4389123,
          44.504194,
          30.42130899999999,
          40.7298207,
          3.9329945,
          35.970029,
          -3.4,
          10.1445691,
          53.544389,
          7.369721999999999,
          -25.2637399,
          21.1250077,
          17.0594169,
          41.8781136,
          41.39810809999999,
          37.7252315,
          51.6754966,
          48.536616,
          -14.235004,
          26.8133537,
          20.8765931,
          34.1808392,
          0,
          54.15325499999999,
          30.7546215,
          0,
          62.45966499999999,
          -9.189967,
          41.2983055,
          48.2081743,
          40.1672068,
          47.6062095,
          36.1699412,
          24.7853679,
          37.4522617,
          -1.4557549,
          32.7343442,
          -23.5505199,
          30.3321838,
          -42.91,
          52.568437,
          14.4803708,
          45.764043,
          63.74669300000001,
          58.102996,
          37.58366890000001,
          35.8216306,
          30.0444196,
          36.2021047,
          32.4924769,
          26.6528495,
          54.9987416,
          18.1140272,
          14.9798997,
          40.44062479999999,
          47.6062095,
          60.41602469999999,
          -2.6377762,
          51.5073509,
          27.7172453,
          45.4558019,
          14.6349149,
          40.2203907,
          12.0021794,
          36.0544445,
          42.0964314,
          39.9726147,
          -33.1231585,
          20.8617622,
          55.204498,
          31.9453666,
          36.7473114,
          64.5011111,
          51.6448241,
          0,
          23.831457,
          34.5531284,
          51.8771785,
          62.4678828,
          12.1972071,
          4.570868,
          47.5762223,
          48.856614,
          10.4805937,
          0.869892,
          49.1579401,
          48.452186,
          50.2278016,
          44.0536734,
          26.2361248,
          36.2695388,
          -34.6036844,
          11.5141431,
          48.856614,
          34.2586812,
          40.7127837,
          37.5586545,
          48.0223129,
          52.674688,
          11.19996,
          53.4807593,
          10.3156992,
          -17.6869776,
          59.8056059,
          -31.3301424,
          36.7537703,
          -14.235004,
          20.9673702,
          29.7977778,
          35.4655761,
          51.3085798,
          22.4896872,
          40.4653704,
          -41.1334722,
          61.156703,
          28.6139391,
          55.755826,
          47.7136785,
          39.2387164,
          50.7208228,
          30.8077878,
          -1.0381022,
          34.8640316,
          46.577985,
          55.6760968,
          26.2006043,
          14.6572108,
          9.1125961,
          41.6355613,
          -34.9011127,
          33.8937913,
          -30.0346471,
          54.7877149,
          40.4167754,
          19.8301251,
          51.454513,
          0,
          39.5696005,
          52.3555177,
          -43.5320544,
          -36.231159,
          56.130366,
          8.162410999999999,
          51.90522499999999,
          21.4389123,
          -34.6036844,
          -1.4557549,
          -16.489689,
          -22.9068467,
          33.9022367,
          48.1351253,
          43.941194,
          39.7023111,
          53.598398,
          26.2124013,
          31.3306218,
          35.14726,
          27.7172453,
          25.7616798,
          33.2101155,
          -0.1806532,
          43.5250265,
          -0.6633333000000001,
          49.7430385,
          36.1699412,
          28.6139391,
          48.2335629,
          33.5731104,
          39.3142682,
          28.4594965,
          36.6997294,
          -22.9068467,
          14.5995124,
          20.6596988,
          39.4562099,
          -25.4289541,
          27.0897099,
          42.1544318,
          23.810332,
          32.0947711,
          36.204824,
          -21.0335047,
          53.41291,
          41.286106,
          52.0515032,
          40.3552211,
          51.5073509,
          13.444304,
          -7.2290752,
          38.9071923,
          35.4408005,
          45.6669761,
          34.5531284,
          44.0782195,
          11.15,
          -21.2664483,
          55.5111372,
          47.1030065,
          41.4495955,
          20.7546215,
          42.7376608,
          -16.489689,
          -14.5994134,
          40.5852602,
          40.46366700000001,
          50.764107,
          -17.8251657,
          -22.9068467,
          15.5,
          36.4625455,
          -22.9068467,
          36.5832769,
          -38.0054771,
          8.5698244,
          31.9891204,
          40.6327278,
          30.0474332,
          43.1535728,
          40.7769271,
          51.1531915,
          -18.489794,
          12.1149926,
          26.366554,
          39.8873296,
          4.055672299999999,
          24.8332708,
          31.5393701,
          19.3692759,
          38.5012085,
          40.2249037,
          39.6952629,
          38.3498195,
          39.3622348,
          -8.929933,
          -38.0054771,
          -9.138228699999999,
          12.865416,
          -10.4333333,
          45.4654219,
          26.2124013,
          20.593684,
          24.8614622,
          40.90648729999999,
          41.3850639,
          -25.2637399,
          32.4487364,
          20.5270592,
          14.0722751,
          -23.5505199,
          44.837789,
          52.0630435,
          31.4637866,
          34.9530337,
          37.9838096,
          38.0684692,
          48.492501,
          0,
          49.839683,
          33.8937913,
          41.8781136,
          41.2411897,
          10.3910485,
          41.2994958,
          55.34222219999999,
          41.9027835,
          -22.9068467,
          -2.9760735,
          -17.8348334,
          28.375797,
          34.0689908,
          30.2731389,
          37.34389060000001,
          39.9333635,
          18.4762228,
          -11.7365444,
          -16.290154,
          -22.9068467,
          52.7124708,
          49.839683,
          8.0542,
          35.7090259,
          37.9485197,
          8.049293,
          13.7405282,
          -31.7653989,
          25.0329694,
          48.5479718,
          4.710988599999999,
          35.7344538,
          1.574278,
          8.9180089,
          13.0234177,
          -35.0805157,
          33.7489954,
          -21.1424956,
          61.1725,
          -22.9068467,
          39.76492229999999,
          26.7505337,
          -0.1806532,
          14.5995124,
          7.673890800000001,
          -1.658501,
          41.8794758,
          44.0678288,
          -15.5641036,
          50.4501,
          31.2370612,
          35.3387352,
          14.7645042,
          -31.3854988,
          13.4762824,
          26.2123124,
          55.755826,
          19.091141,
          42.7781867,
          42.3517206,
          42.7781867,
          41.2979981,
          61.52401,
          46.87871759999999,
          41.6639383,
          27.5065119,
          -0.1806532,
          14.5995124,
          -8.948941999999999,
          -34.4429759,
          40.6000471,
          48.1351253,
          10.3156992,
          14.4803708,
          63.1606218,
          41.436705,
          32.7015142,
          -6.7352778,
          37.4391648,
          41.0720465,
          -7.2574719,
          50.8503396,
          10.4805937,
          -5.7792569,
          49.606944,
          -34.7635133,
          28.9230155,
          47.2528768,
          1.352083,
          38.7222524,
          30.0444196,
          12.0021794,
          -34.6036844,
          46.482526,
          39.7392358,
          33.5731104,
          -36.7749672,
          52.7228375,
          47.497912,
          58.8887958,
          18.6591233,
          71.706936,
          41.8008642,
          9.1495559,
          10.4625,
          52.7124708,
          33.9715904,
          -12.9906407,
          41.8781136,
          39.9333635,
          42.5188823,
          26.3351,
          49.4469581,
          -8.0578381,
          37.5407246,
          18.220833,
          -22.9099384,
          0.3301924,
          -33.8688197,
          49.9928617,
          50.58597,
          12.1149926,
          39.9333635,
          57.2027778,
          -7.2574719,
          7.196659599999999,
          -15.8358149,
          54.1478418,
          -9.295763599999999,
          10.9570221,
          5.2843859,
          40.6056632,
          4.0510564,
          -32.5551758,
          37.3927777,
          41.9027835,
          48.432856,
          51.88,
          19.4914108,
          28.033886,
          20.01693,
          4.1513822,
          6.199999999999999,
          50.8197675,
          21.916221,
          -20.2976178,
          64.18140989999999,
          30.0444196,
          -1.2920659,
          48.1909223,
          40.4769606,
          48.732026,
          42.6977082,
          16.0144526,
          43.4343234,
          56.01528339999999,
          41.2994958,
          19.2031842,
          40.6327278,
          31.55460609999999,
          20.593684,
          13.7563309,
          21.3069444,
          43.60280789999999,
          48.813071,
          27.7172453,
          -22.9068467,
          7.0617085,
          -9.189967,
          48.5027313,
          34.7297616,
          41.0995019,
          49.2257301,
          47.9668398,
          -15.7501897,
          23.0064888,
          -14.5994134,
          50.21329679999999,
          14.5995124,
          37.471274,
          41.9242917,
          55.755826,
          16.0544563,
          35.1814464,
          39.2673283,
          0.18636,
          48.936752,
          -23.3901988,
          -12.046374,
          40.7127837,
          7.0617085,
          -3.1190275,
          34.1808392,
          52.2296756,
          26.3556897,
          -15.7942287,
          51.9244201,
          42.0396042,
          70.1266685,
          -23.5505199,
          41.115791,
          66.89833329999999,
          39.0997265,
          38.2772663,
          39.9333635,
          37.7749295,
          61.6478508,
          25.7616798,
          42.3600825,
          7.190708,
          36.0589486,
          35.8400188,
          -17.5926979,
          41.87194,
          36.204824,
          41.7188539,
          59.9138688,
          7.369721999999999,
          -23.5505199,
          30.0724613,
          55.12092939999999,
          22.3431343,
          25.045806,
          45.943161,
          -45.0070278,
          51.2562128,
          51.9384783,
          -28.2580547,
          43.16103,
          -37.6618199,
          52.28697409999999,
          -22.817412,
          20.1045601,
          19.0606917,
          -33.8019444,
          45.764043,
          47.4941836,
          33.1030212,
          60.0793208,
          25.7616798,
          47.3214469,
          42.6886591,
          31.2745862,
          39.158168,
          43.296482,
          40.702677,
          24.088938,
          80.57666669999999,
          51.063138,
          61.92410999999999,
          45.6397183,
          39.9613759,
          39.60677889999999,
          33.5450587,
          30.0444196,
          34.0522342,
          -34.0957811,
          34.5400242,
          39.9333635,
          29.6516344,
          -22.0227557,
          26.5416093,
          42.331427,
          33.4930043,
          8.0106213,
          22.7674278,
          46.2630502,
          30.205062,
          33.2395578,
          47.2692124,
          39.0003616,
          4.710988599999999,
          41.8781136,
          42.3600825,
          29.2366172,
          46.4083362,
          36.4093047,
          40.82238299999999,
          59.8056059,
          9.562389,
          26.2361248,
          64.61749999999999,
          37.7799273,
          8.6166667,
          -12.046374,
          15.079409,
          7.8002682,
          30.7487884,
          42.2292572,
          24.1631651,
          39.5696005,
          36.6915262,
          35.9606384,
          36.0092653,
          39.5296329,
          37.5407246,
          36.1626638,
          61.7697336,
          41.5784425,
          -15.5641036,
          50.6909848,
          -22.3596549,
          13.8559883,
          5.089545999999999,
          37.0012828,
          8.9806034,
          45.7983273,
          34.2055857,
          44.7891785,
          37.0175227,
          36.1699412,
          47.302052,
          56.245748,
          41.9027835,
          -4.4419311,
          36.0625795,
          -15.5641036,
          16.0544068,
          11.6892241,
          -5.900771700000001,
          37.7749295,
          9.9067054,
          42.331427,
          35.4675602,
          64.8377778,
          37.68717609999999,
          24.0277202,
          37.974,
          9.322601599999999,
          -33.7833333,
          40.5921928,
          25.7616798,
          36.204824,
          40.58290239999999,
          13.6828973,
          55.4476518,
          45.049641,
          13.35,
          18.4655394,
          30.375321,
          35.7594651,
          40.3611643,
          33.5138073,
          50.4647217,
          40.32674069999999,
          47.6062095,
          30.0444196,
          32.4609764,
          33.7455731,
          37.7749295,
          39.0997265,
          51.7520209,
          30.0444196,
          51.581613,
          41.2834704,
          18.335361,
          35.7346813,
          11.4109251,
          9.1011785,
          -15.6014109,
          43.4501005,
          50.73427,
          22.396428,
          60.19681050000001,
          10.4117687,
          8.151342099999999,
          -1.6332034,
          15.0759838,
          17.1305377,
          13.1265044,
          25.401949,
          7.119349,
          27.0897099,
          21.0277644,
          14.5995124,
          51.5073509,
          0,
          41.7645366,
          4.258637,
          39.0836712,
          68.9585244,
          40.7607793,
          20.7983626,
          33.8302961,
          40.7607793,
          41.4300937,
          28.4636296,
          13.1057062,
          35.189443,
          13.1390621,
          30.2752011,
          -2.9760735,
          10.3910485,
          18.594395,
          46.818188,
          14.058324,
          42.12922409999999,
          53.07929619999999,
          35.553888,
          34.0836708,
          39.48308970000001,
          28.7040592,
          45.4654219,
          35.7090259,
          35.3605555,
          34.0232056,
          60.8491667,
          37.9838096,
          30.0444196,
          -25.2637399,
          37.3662293,
          32.715738,
          20.4170831,
          34.1742611,
          -12.2369022,
          11.5346745,
          48.3681223,
          26.2124013,
          41.15726859999999,
          45.5016889,
          30.35047509999999,
          33.2737256,
          12.879721,
          -36.8484597,
          -36.9402778,
          39.9193885,
          30.375321,
          41.5644798,
          -17.5149607,
          40.0608352,
          45.7983273,
          16.8531086,
          61.2180556,
          39.9617305,
          16.0544068,
          -42.0037422,
          58.3019444,
          46.0569465,
          36.6454669,
          28.4689946,
          -22.3913,
          4.710988599999999,
          45.3488431,
          16.0487665,
          29.6993748,
          41.9842123,
          33.6444926,
          42.5078592,
          41.6820897,
          33.8391574,
          52.529864,
          35.108493,
          12.7854969,
          48.1485965,
          10.8230989,
          -22.7418249,
          55.755826,
          4.710988599999999,
          16.014238,
          10.84378,
          40.3270572,
          19.7070942,
          36.1471544,
          -14.5994134,
          50.1109221,
          36.2021047,
          35.0853336,
          13.2656035,
          19.4326077,
          47.3768866,
          41.0997803,
          1.4748305,
          14.0722751,
          10.2990463,
          6.2907432,
          40.2364486,
          24.8614622,
          40.1083912,
          14.058324,
          42.224867,
          46.056231,
          -33.0291582,
          57.79000000000001,
          33.5162315,
          29.95106579999999,
          34.426288,
          -12.046374,
          38.0405837,
          37.566535,
          22.7888209,
          35.3042606,
          35.1855659,
          41.2834704,
          5.7160848,
          8.1306038,
          34.3333333,
          40.7674987,
          37.5001287,
          -23.6131175,
          66.665374,
          45.4215296,
          42.5188823,
          53.39331019999999,
          10.8230989,
          21.2854067,
          53.3498053,
          24.1426408,
          -4.0944897,
          16.0487665,
          53.3498053,
          10.8230989,
          41.67951860000001,
          34.7540524,
          18.3093394,
          22.3246084,
          10.6407389,
          -18.8791902,
          35.3187279,
          19.8833959,
          19.8833959,
          36.0544445,
          60.47202399999999,
          11.3848277,
          48.954408,
          36.72805830000001,
          18.2608098,
          18.3214856,
          36.4349631,
          33.5372433,
          14.058324,
          -25.4289541,
          34.502587,
          51.049478,
          22.396428,
          39.1031182,
          59.007735,
          39.0661472,
          58.3019444,
          36.708006,
          13.7829673,
          19.5271549,
          -9.189967,
          43.0730517,
          22.2033221,
          34.2509071,
          52.3555177,
          39.7392358,
          18.787747,
          10.7883447,
          56.5046678,
          29.95106579999999,
          32.715738,
          65.1719444,
          16.7943472,
          40.5071344,
          30.7066802,
          34.1665616,
          48.4157509,
          -12.14,
          10.289879,
          49.2827291,
          8.8855027,
          25.0790108,
          39.9541166,
          20.333333,
          56.17376609999999,
          16.0144526,
          11.9383716,
          11.3209094,
          -20.882057,
          41.8020956,
          38.6270025,
          52.3389979,
          38.6270025,
          55.755826,
          10.289879,
          51.4700223,
          -45.5712254,
          34.5261465,
          19.4326077,
          52.3555177,
          13.3743393,
          -22.5608807,
          55.755826,
          34.39888380000001,
          30.283333,
          31.8940478,
          26.3351,
          15.4394771,
          45.552789,
          33.8894598,
          19.0759837,
          32.2176855,
          22.572646,
          43.318334,
          46.9641127,
          14.058324,
          38.1114322,
          51.5073509,
          26.1224386,
          26.2361248,
          6.5243793,
          -8.2116007,
          -35.675147,
          -8.0578381,
          41.4963134,
          45.4654219,
          43.0389025,
          48.53252149999999,
          38.3498195,
          33.8958492,
          31.2652893,
          9.7333906,
          48.52427040000001,
          60.0691756,
          42.50479259999999,
          40.7674987,
          43.542493,
          19.279619,
          4.815554,
          60.55444439999999,
          14.058324,
          14.058324,
          36.1699412,
          8.9680637,
          40.3339589,
          50.0754452,
          38.423734,
          -8.1642601,
          12.6661944,
          43.7022451,
          71.29055559999999,
          37.7749295,
          33.7455731,
          16.5722464,
          56.3527778,
          59.7872222,
          18.335361,
          47.006054,
          10.4805937,
          41.9564953,
          70.2556453,
          61.2536352,
          31.8667427,
          41.8781136,
          -20.3106621,
          23.7369164,
          24.9739053,
          61.0680556,
          51.1719242,
          41.9564953,
          15.870032,
          34.0522342,
          16.4498,
          34.0522342,
          23.69781,
          48.118146,
          12.879721,
          36.6060444,
          22.9997281,
          18.4655394,
          -14.5994134,
          23.69781,
          63.88277780000001,
          10.6544509,
          39.114053,
          24.088938,
          29.95106579999999,
          25.0519283,
          49.6680859,
          16.7943472,
          50.21329679999999,
          41.7669671,
          -4.4419311,
          55.4763889,
          22.845641,
          4.9015794,
          14.9798997,
          -29.4333305,
          -33.1231585,
          11.4696902,
          39.86618259999999,
          22.9664576,
          38.1113006,
          25.9662105,
          43.4065012,
          52.1998038,
          46.2395793,
          27.1766701,
          33.7948364,
          27.4367653,
          71.29055559999999,
          40.7127837,
          65.565744,
          21.9708333,
          39.3642834,
          34.8370347,
          36.0544445,
          5.7808097,
          43.0895577,
          19.1109553,
          -1.2782708,
          55.755826,
          41.7033177,
          15.1105068,
          15.870032,
          4.508399,
          39.5858806,
          14.6254827,
          -23.3044524,
          50.03312260000001,
          15.8800584,
          19.4326077,
          -16.489689,
          5.7808097,
          19.75,
          39.7392358,
          48.4758208,
          56.2497222,
          69.751221,
          43.4889579,
          6.601838,
          10.4805937,
          71.964027,
          37.8071796,
          45.18533619999999,
          32.715738,
          12.2387911,
          19.8833959,
          64.7194444,
          59.32932349999999,
          38.1670027,
          36.2028267,
          -9.189967,
          42.2011538,
          20.5270592,
          28.7040592,
          67.66251299999999,
          41.49932,
          68.9585244,
          -27.4692131,
          46.50732989999999,
          54.1478418,
          41.0748454,
          4.570868,
          48.44063999999999,
          18.4860575,
          40.6639916,
          -0.228021,
          47.3768866,
          46.4907973,
          -8.268177999999999,
          16.0544068,
          42.09868669999999,
          36.9902621,
          33.5731104,
          55.00835259999999,
          38.5631744,
          19.85627,
          14.5995124,
          45.954499,
          -5.0122202,
          17.700143,
          34.931404,
          2.0469343,
          8.228020899999999,
          45.552789,
          54.1478418,
          9.2169531,
          14.0722751,
          33.8920468,
          32.8872094,
          11.5528816,
          -10.4882805,
          62.9532043,
          41.8232432,
          43.653226,
          -14.5994134,
          33.4920276,
          35.7090259,
          43.2951,
          36.1699412,
          33.7293882,
          -13.53195,
          25.0329694,
          20.8800565,
          24.8332708,
          51.545198,
          48.464717,
          59.852122,
          40.7127837,
          18.2269224,
          49.5129678,
          56.26392,
          16.0544068,
          68.442055,
          39.6960983,
          25.0329694,
          40.8728411,
          -26.2258734,
          39.7589478,
          39.6620397,
          16.2376869,
          38.4192496,
          14.058324,
          61.2180556,
          12.2387911,
          11.9008657,
          23.810332,
          28.7040592,
          44.1598013,
          30.375321,
          18.335361,
          30.375321,
          36.7537703,
          60.0793208,
          32.687778,
          40.5187154,
          47.3768866,
          44.735269,
          -10.6736449,
          61.25595029999999,
          38.2070148,
          8.5698244
         ],
         "lon": [
          -77.0810889,
          -74.4229266,
          -123.3656444,
          3.515625,
          11.2858917,
          4.93622,
          8.6879057,
          26.5035023,
          0.418397,
          -0.175948,
          8.2472526,
          -1.212926,
          3.7174243,
          6.9565985,
          3.515625,
          4.9514271,
          -92.509514,
          6.492338999999999,
          -81.516285,
          13.0532149,
          5.6587659,
          -74.2107006,
          -81.6943605,
          -77.9395179,
          -1.61778,
          -76.73191609999999,
          -0.357056,
          -74.7801645,
          -85.8307059,
          -74.1723667,
          -74.1723667,
          -74.4056612,
          -92.6493595,
          -81.6943605,
          -0.4666546,
          -76.93776,
          -74.4815438,
          -83.46104,
          -76.96081029999999,
          3.106592,
          -0.3762881,
          -88.3125738,
          -105.5074905,
          -0.21396,
          2.1734035,
          -93.1643869,
          -91.23958069999999,
          -5.353585,
          -115.7631232,
          144.7477259,
          -73.59551499999999,
          -81.6943605,
          -109.2029043,
          -122.4194155,
          1.444209,
          -0.2956928,
          2.3522219,
          145.2195321,
          2.3522219,
          -76.28587259999999,
          1.939705,
          115.04908,
          -2.317364,
          1.169456,
          -6.2885962,
          -86.158068,
          12.3155151,
          -6.1473964,
          -5.0078451,
          8.738635,
          2.1734035,
          -104.8202462,
          -80.15144839999999,
          2.17198,
          26.1025384,
          -83.9521687,
          -1.1444927,
          105.318756,
          -82.80852039999999,
          18.0480105,
          -104.2568991,
          -78.6130821,
          -0.357056,
          -74.80698129999999,
          -95.712891,
          3.125343,
          -85.8344383,
          -0.119711,
          44.74518279999999,
          -0.4906855,
          -0.4906855,
          3.691623,
          -0.4906855,
          3.2080991,
          19.040235,
          -81.51651269999999,
          5.890159,
          -80.8880562,
          1.613334,
          -84.6055076,
          13.1431864,
          -0.357056,
          121.0390178,
          4.30927,
          7.008163,
          0.5529482,
          -74.0059413,
          8.5597678,
          -0.357056,
          -7.092619999999999,
          -122.8755949,
          3.057256,
          -6.8498129,
          146.25,
          -115.2039579,
          -85.8344383,
          10.4819945,
          3.0587927,
          8.9219942,
          0.190898,
          -72.2600655,
          -74.422868,
          11.857969,
          11.8090005,
          -10.940835,
          -74.4518188,
          7.752111299999999,
          26.2623373,
          -85.14719339999999,
          -2.4637136,
          -3.74922,
          2.213749,
          -74.5718073,
          -55.38349669999999,
          1.2444909,
          2.213749,
          -2.4637136,
          -98.00966199999999,
          -43.1728965,
          1.583382,
          -77.04766959999999,
          -3.74922,
          -93.1499651,
          7.3590901,
          8.6821267,
          -95.85304409999999,
          26.2623373,
          -0.119711,
          5.291265999999999,
          -122.7604472,
          5.890159,
          138.6007456,
          -112.4455344,
          11.0048276,
          2.8214264,
          -79.92922329999999,
          4.89236,
          -5.353585,
          -84.7480123,
          -80.86912730000002,
          -84.7480123,
          -100.8556857,
          -51.92528,
          -43.1728965,
          11.4862361,
          -82.55517329999999,
          -85.3096801,
          4.031696,
          -72.3023022,
          -117.8079872,
          19.9223461,
          -79.95589679999999,
          -7.092619999999999,
          -74.1723667,
          -116.977248,
          -117.1610838,
          19.503304,
          3.0587927,
          -75.8301537,
          2.1734035,
          0.9652799999999999,
          -93.0899578,
          9.3892445,
          -82.99879419999999,
          -103.2052272,
          2.8948332,
          39.7341543,
          6.8362203,
          -114.6141315,
          -107.6081575,
          57.7856677,
          -6.1473964,
          -116.1874241,
          -72.7567636,
          9.7678687,
          -82.4857181,
          -122.6329356,
          -97.2878798,
          -0.067578,
          9.012892599999999,
          -122.6614861,
          -81.3910999,
          18.0480105,
          13.404954,
          -101.8312969,
          -103.1129824,
          47.5079055,
          -117.3794834,
          -5.3213455,
          -94.6274636,
          -72.6850932,
          0.490709,
          -74.0776417,
          -58.3815591,
          -71.0588801,
          14.8668836,
          -97.1499898,
          121.0390178,
          -0.098234,
          -103.2517784,
          2.0807123,
          13.7372621,
          -6.1473964,
          -130.3208187,
          1.441891,
          -86.86723390000002,
          -46.3288865,
          -118.58,
          121.473701,
          3.8003144,
          -122.1900892,
          177.4180311,
          -98.62895700000001,
          -3.74922,
          146.921099,
          -96.53528539999999,
          10.451526,
          -118.3089661,
          133.775136,
          -77.7783348,
          94.34110009999999,
          -83.4932651,
          6.996932699999999,
          -87.6297982,
          147.5360981,
          -89.1316944,
          25.48583,
          -84.5120196,
          -87.6297982,
          -122.2711137,
          -63.744311,
          -51.92528,
          -75.1196199,
          18.9084618,
          -111.8910474,
          117.12,
          -119.1005657,
          -89.9248303,
          100.5017651,
          3.0587927,
          -83.8088171,
          -88.78332999999999,
          -118.8648189,
          -80.1917902,
          -85.81555759999999,
          -121.6913439,
          -43.7056394,
          -90.19940419999999,
          -117.0619755,
          -80.63396379999999,
          38.996815,
          -81.5365094,
          -85.1393513,
          -122.6764816,
          -118.3089661,
          -70.5688043,
          35.5017767,
          9.0576448,
          -105.0927275,
          -0.04285129999999999,
          153.601977,
          -17.0362272,
          -65.316667,
          1.419895,
          10.451526,
          -90.7576112,
          -101.8312969,
          -108.6216666,
          152.939753,
          3.0587927,
          -74.1723667,
          -84.5499327,
          -98.7319703,
          -123.0867536,
          -68.8458386,
          -122.0807964,
          2.8658393,
          10.706471,
          -74.2693297,
          14.5716691,
          12.6384037,
          2.3904096,
          -77.3466468,
          -103.7605204,
          14.5057515,
          -87.06419919999999,
          6.675242,
          -122.6764816,
          -106.0491893,
          117.12,
          36.311532,
          -88.7734493,
          9.9936818,
          31.4627576,
          3.3970513,
          3.684328,
          5.107716,
          -111.8910474,
          -2.9472191,
          -89.8481652,
          -75.690601,
          -77.0427934,
          120.5893348,
          -0.357056,
          -0.098234,
          -74.68404559999999,
          -60.94955400000001,
          13.3133008,
          -118.3089661,
          -117.2897652,
          8.8192095,
          -41.7007272,
          121.54399,
          -94.891913,
          143.0381,
          145.6689636,
          133.775136,
          144.2555041,
          150.5298387,
          -112.1072224,
          13.6468979,
          -92.3340724,
          -75.9869609,
          38.996815,
          -84.6715407,
          -79.9958864,
          14.5528116,
          10.451526,
          33.8032762,
          8.7189606,
          2.0807123,
          8.5749432,
          -104.7802645,
          -92.4810208,
          -83.6874562,
          37.6173,
          -105.0260832,
          -87.8431155,
          -88.4016041,
          -75.5645737,
          4.895167900000001,
          -89.3985283,
          9.225458699999999,
          104.195397,
          -94.94243790000002,
          -105.0260832,
          -149.4936733,
          -118.3089661,
          144.6474729,
          -104.8202462,
          26.2623373,
          -73.69178509999999,
          -104.8202462,
          -38.35625539999999,
          -86.21076719999999,
          -97.3307658,
          4.987968,
          0.68484,
          -0.098234,
          11.933824,
          29.9187387,
          -91.0209529,
          -61.700565,
          8.738635,
          -97.13306829999999,
          -28.6731465,
          101.492853,
          -98.7667481,
          -78.0228829,
          -79.71643259999999,
          -61.50192559999999,
          7.686856499999999,
          8.227511999999999,
          2.583212,
          7.5885761,
          145.131,
          13.003822,
          9.732010400000002,
          5.2144952,
          -73.6279072,
          2.376579,
          -102.552784,
          -90.19940419999999,
          -76.8259652,
          7.636579199999999,
          21.824312,
          -0.357056,
          -104.7802645,
          -88.1535352,
          -102.552784,
          10.5115698,
          37.6173,
          11.07675,
          -0.1277583,
          5.724524,
          -7.676711500000001,
          -0.098234,
          -111.8910474,
          -116.1193327,
          -74.8023882,
          -96.79698789999999,
          118.796877,
          -118.5400404,
          -118.5400404,
          -0.6337376,
          -122.4194155,
          153,
          149.5775008,
          4.593407,
          -75.5393155,
          10.451526,
          -74.3112574,
          9.1829321,
          -77.8344829,
          4.23251,
          31.3713164,
          -79.901527,
          114.6702778,
          -81.0228331,
          -66.3377522,
          152.939753,
          21.824312,
          104.7754307,
          -110.8437819,
          8.466039499999999,
          2.928656,
          -0.098234,
          17.9417616,
          1.400246,
          121.0390178,
          8.6821267,
          -111.0429339,
          -170.711503,
          -81.9421524,
          -118.4980744,
          32.4229656,
          5.36978,
          -100.2596935,
          2.100645,
          -119.6562684,
          78.46093929999999,
          144.95,
          2.578342,
          13.6068672,
          -99.040554,
          174.7936872,
          -118.5400858,
          -46.63330939999999,
          -81.6943605,
          10.451526,
          -124.8603738,
          29.5107708,
          -70.1125,
          -108.5006904,
          9.012892599999999,
          24.96676,
          -74.072092,
          34.7679568,
          144.793731,
          130.2191303,
          21.6273123,
          10.1227652,
          -48.8255373,
          26.1025384,
          17.8772696,
          104.195397,
          146.0285223,
          149.5775008,
          9.578025700000001,
          8.105754,
          145.36,
          -2.9262307,
          -73.6279072,
          4.767424099999999,
          -104.6188944,
          149.5775008,
          44.3614875,
          -122.8069356,
          138.9738577,
          4.895167900000001,
          130.8456418,
          2.3522219,
          -105.8405582,
          -43.1728965,
          132.2715145,
          18.0480105,
          4.4176727,
          -75.1538939,
          -74.0519917,
          -97.5164276,
          -7.981084500000001,
          35.529562,
          -7.981084500000001,
          -79.9223592,
          3.5709125,
          9.173238399999999,
          2.1734035,
          -43.1728965,
          12.5683371,
          74.3571581,
          9.732010400000002,
          3.515625,
          -1.117547,
          -5.353585,
          14.4868883,
          -9.7595041,
          115.2126293,
          58.73736339999999,
          -4.6288602,
          -118.4164652,
          25.013607,
          -0.258658,
          107.75,
          9.732010400000002,
          149.1300092,
          23.6236353,
          -77.636657,
          119.398525,
          13.404954,
          -111.8721601,
          14.0373888,
          -43.1728965,
          18.0480105,
          -87.6297982,
          22.937506,
          21.9189438,
          100.8846633,
          -93.4010371,
          -89.058273,
          -84.3879824,
          10.3950528,
          18.350464,
          -28.6731465,
          26.1025384,
          135,
          -5.2108573,
          -4.629179000000001,
          -46.63330939999999,
          2.213749,
          -5.605373999999999,
          -66.1057355,
          -96.76780389999999,
          -81.18265269999999,
          -80.1917902,
          -115.1398296,
          124.8420794,
          117.1436154,
          123.6070329,
          123.6070329,
          -4.1426565,
          153.133333,
          81.826172,
          122.235852,
          128.122778,
          102.832892,
          131.833333,
          -111.8910474,
          -105.8405582,
          -81.64371969999999,
          153.5983166,
          -3.117897,
          3.0587927,
          -104.5005407,
          0.5630741,
          -3.433149,
          3.9916667,
          102.832892,
          -66.35870560000001,
          -55.3440853,
          -116.5452921,
          8.468945999999999,
          -112.0929961,
          16.3738189,
          -9.1393366,
          -53.9666667,
          -28.6731465,
          -123.2077831,
          -73.871483,
          -54.6103488,
          -122.3320708,
          -9.1393366,
          119.922796,
          83.9310623,
          153.012126,
          147.1914623,
          0.0026356,
          -79.18309099999999,
          149.1682653,
          32.5598994,
          32.5598994,
          -5.353585,
          -6.1188074,
          -86.3533242,
          26.0128616,
          146.8169483,
          104.195397,
          3.515625,
          -43.1728965,
          -94.7976958,
          -79.3489317,
          88.36389500000001,
          -87.46695869999999,
          -68.247412,
          18.643501,
          -84.9877094,
          73.8567437,
          102.832892,
          102.832892,
          147.1914623,
          131.6769706,
          150.2743921,
          -112.7625703,
          20.4418579,
          -90.0489801,
          104.195397,
          23.8584737,
          141.3470159,
          -165.4063889,
          20.4418579,
          10.9347012,
          -73.567256,
          104.195397,
          88.36389500000001,
          -1.242834,
          -1.865804,
          0.183333,
          102.832892,
          110.179954,
          -51.2176584,
          -28.6731465,
          -4.956053,
          179.198128,
          -99.09676259999999,
          -75.7284267,
          1.5985,
          -2.868558,
          -4.6142139,
          -46.63330939999999,
          20.4418579,
          145.373333,
          -149.4936733,
          -34.8322058,
          5.04148,
          95.62739510000002,
          18.1726501,
          151.2092955,
          8.321121,
          19.503304,
          -3.023009,
          -119.6456844,
          8.6269273,
          0.00878,
          -87.0624261,
          37.906193,
          13.003822,
          95.2710558,
          -118.451357,
          -28.6731465,
          -0.357056,
          95.2710558,
          -61.50192559999999,
          -118.3089661,
          104.195397,
          102.832892,
          124.3310364,
          144.4937398,
          11.0160694,
          0.2369247,
          -122.2711137,
          -43.89830310000001,
          -7.589843399999999,
          -81.5148368,
          151.2639294,
          102.832892,
          -79.95589679999999,
          115.8604572,
          -100.4059384,
          11.5819806,
          -1.1743197,
          -77.0368707,
          146.8760951,
          -0.732073,
          2.788831,
          141.3470159,
          -6.1540241,
          104.195397,
          114.6149715,
          -1.960769,
          77.5945627,
          -99.9018131,
          -28.6731465,
          34.7679568,
          -79.7625625,
          -74.0059413,
          -100.9855409,
          -61.0587804,
          -99.1352383,
          -79.7625625,
          141.3470159,
          -101.0681058,
          143.95555,
          104.195397,
          -81.9498042,
          -0.8693995,
          -1.6777926,
          4.4787175,
          116.407395,
          -28.6731465,
          113.264385,
          78.96288,
          -76.3726891,
          104.195397,
          8.4400257,
          83.1179848,
          -97.39638099999999,
          12.3184727,
          13.866845,
          10.9856254,
          -65.4499197,
          150.7679216,
          0.4489254,
          -0.9616969999999999,
          -81.20786989999999,
          -108.5006904,
          10.6653012,
          18.5581899,
          -74.0059413,
          -86.80248999999999,
          125.323544,
          5.36978,
          -72.9106202,
          -114.523843,
          0.199556,
          -106.4140868,
          122.8986812,
          -63.13107040000001,
          -116.334462,
          14.4140315,
          147.3271949,
          118.796877,
          121.473701,
          -120.183811,
          81.826172,
          14.373372,
          118.180194,
          -85.1660825,
          78.96288,
          -86.87483999999999,
          -77.4360481,
          10.7522454,
          14.6026805,
          3.3590446,
          -79.55753419999999,
          4.6824329,
          -0.370797,
          -72.6162009,
          -75.9268747,
          117.12,
          -79.00589649999999,
          -101.7101722,
          -85.75287829999999,
          94.7381013,
          10.7522454,
          -74.3112574,
          14.4868883,
          1.099971,
          -90.51513419999999,
          31.2357116,
          12.405246,
          2.425377,
          -115.7631232,
          149.5775008,
          -165.4063889,
          -102.9914807,
          4.3517103,
          -54.6103488,
          13.1913383,
          104.195397,
          113.9184808,
          -34.8322058,
          -58.5815353,
          101.0159501,
          5.9699231,
          -104.8202462,
          -4.835315400000001,
          -105.5911007,
          72.9419965,
          30.802498,
          1.418574,
          -81.6943605,
          -118.8648189,
          -97.14999999999999,
          4.895167900000001,
          -146.3786899,
          -84.0907246,
          -58.5943604,
          59.6167549,
          -122.846783,
          135.5021651,
          121.4925,
          -78.6568942,
          -43.1728965,
          -117.1610838,
          121.473701,
          -86.8950297,
          -89.61897839999999,
          -8.873067599999999,
          -46.63330939999999,
          -75.1212927,
          120.382609,
          120.5926679,
          1.025608,
          -80.9239671,
          -98.20619959999999,
          -74.09996,
          106.551556,
          -0.098234,
          114.109497,
          12.5683371,
          118.7686301,
          -9.1393366,
          -75.5777033,
          -4.9097818,
          -104.990251,
          13.2332657,
          -74.072092,
          106.551556,
          0,
          -75.97225999999999,
          13.9486184,
          2.213749,
          -75.5645737,
          79.8736754,
          -66.90360629999999,
          -17.3660286,
          -84.9877094,
          -123.1207375,
          -75.2479061,
          -18.7519095,
          139.3624889,
          -73.8739659,
          -76.11522889999999,
          5.628112,
          -58.42902379999999,
          -77.56360149999999,
          40.44654,
          0,
          -80.60810889999999,
          3.425488,
          53.688046,
          -58.6167212,
          97.04567899999999,
          -64.2739241,
          -146.3786899,
          -74.0059413,
          13.003822,
          26.1025384,
          -110.7140391,
          51.6834275,
          16.5414503,
          -106.4850217,
          -83.22598029999999,
          -0.9965839,
          -112.1676947,
          -131.4855123,
          23.8166667,
          74.7972825,
          121.0013794,
          -108.7425843,
          2.02821,
          14.6117112,
          -75.667356,
          28.6177131,
          -139.7272222,
          121.0213813,
          7.940853499999999,
          -122.3320708,
          -80.10517089999999,
          -90.0489801,
          102.832892,
          82.22528989999999,
          -101.6859605,
          2.3522219,
          -0.421236,
          -81.09983419999999,
          3.5913939,
          -70.162651,
          -76.98972780000001,
          123.431472,
          -119.4179324,
          -64.7505,
          -81.65565099999999,
          9.1929424,
          10.4756991,
          -1.289561,
          125.455341,
          -82.99879419999999,
          -48.4901799,
          2.8948332,
          -0.4542955,
          -19.020835,
          -87.6297982,
          -144.1288889,
          -51.92528,
          -73.5946249,
          9.119824999999999,
          13.404954,
          -8.873067599999999,
          0,
          2.665048,
          29.1506941,
          -82.99879419999999,
          -0.534632,
          -1.8585424,
          -4.548056,
          -76.41189609999999,
          -66.99284399999999,
          4.6320416,
          -0.4159848,
          0,
          -48.4901799,
          113.543873,
          -64.210583,
          -58.3815591,
          120.382609,
          -28.6731465,
          67.0099388,
          174.1124665,
          -66.9213628,
          -91.6663523,
          -76.811915,
          150.68,
          10.3950528,
          -4.6109806,
          175.5685104,
          -113.4909267,
          -1.948907,
          -136.6483333,
          144.583333,
          -2.9915726,
          72.3488721,
          104.195397,
          9.1859243,
          121.5654177,
          -74.072092,
          21.6963472,
          114.365341,
          -3.7037902,
          -66.1057355,
          12.56738,
          -122.3320708,
          -44.3019383,
          -76.8477485,
          -52.3375886,
          29.881599,
          -64.8988454,
          -74.0960875,
          -4.900365,
          -151.5483333,
          -73.69818579999999,
          -53.35873609999999,
          17.228331,
          -76.85063699999999,
          12.5683371,
          -76.24326529999999,
          -1.519693,
          114.2,
          -71.96746259999999,
          153.533333,
          13.404954,
          175.0667946,
          7.7680241,
          0,
          21.824312,
          -48.5480499,
          -66.1057355,
          16.8718715,
          150.9948543,
          72.8776559,
          -118.61481,
          -122.3320708,
          -74.651754,
          -50.36418030000001,
          -48.4445409,
          -78.5788601,
          54.1065864,
          -74.072092,
          -6.2719649,
          -2.1113659,
          -95.6765487,
          15.2662931,
          -69.9596138,
          -98.62790129999999,
          -59.90200669999999,
          -104.8202462,
          -25.4970466,
          -77.1067698,
          -81.51900529999999,
          10.7522454,
          4.998507,
          -96.79698789999999,
          -51.92528,
          -122.2566367,
          103.834304,
          110.198293,
          67.775756,
          -77.0368707,
          -97.1036396,
          2.4970711,
          69.34511599999999,
          -1.8585424,
          -65.5796972,
          49.3957836,
          122.5621063,
          -140.371697,
          3.515625,
          14.4140315,
          -93.2650108,
          106.6296638,
          -3.17909,
          32.8597419,
          -1.250625,
          88.4476565,
          -74.570544,
          139.3624889,
          -78.74762079999999,
          -27.0869431,
          -78.8866943,
          -77.285787,
          -74.0593075,
          -39.0463797,
          -81.5157535,
          -72.85151499999999,
          50.5577,
          50.5577,
          -86.45418939999999,
          116.7774281,
          129.0756416,
          -7.589843399999999,
          75.64211209999999,
          14.16529,
          138.252924,
          -51.2176584,
          1.659626,
          -122.0399663,
          101.7663889,
          30.2426185,
          -75.232664,
          51.3889736,
          167.4242972,
          15.981919,
          13.5114977,
          130.958688,
          -7.589843399999999,
          -92.7854919,
          -0.1277583,
          -0.4542955,
          6.894019399999999,
          -112.5347776,
          5.839061,
          112.7520883,
          -107.2902839,
          -71.96746259999999,
          90.433601,
          52.4981131,
          2.213749,
          18.5581899,
          78.96288,
          -51.1695824,
          -70.60329949999999,
          120.5960071,
          -119.5937077,
          -64.264167,
          30.0694123,
          101.1333333,
          -75.1652215,
          -117.8777336,
          11.7954132,
          120.960515,
          -21.9684626,
          -27.2205771,
          8.675277,
          -74.84211,
          -96.40030689999999,
          114.2111864,
          -75.294467,
          -95.0138776,
          -48.5480499,
          -67.7002243,
          -74.072092,
          -119.7247661,
          -81.6326234,
          114.260281,
          -81.7799871,
          -85.1393513,
          -106.6055534,
          -0.57918,
          -50.8950739,
          -94.4154787,
          -43.1728965,
          -75.5645737,
          -9.429499000000002,
          14.442176,
          -105.6836389,
          92.7925592,
          -37.0730823,
          -1.1743197,
          -77.8344829,
          104.195397,
          -135.33,
          -0.0279867,
          -66.1653224,
          147.7320958,
          1.165705,
          -45.0838481,
          -122.0246772,
          -46.63330939999999,
          -122.2363548,
          2.8577105,
          77.5945627,
          -68.11929359999999,
          -102.2083074,
          29.6035495,
          -95.0138776,
          -124.0511111,
          21.4279956,
          -89.8926065,
          -103.7249662,
          3.0155825,
          19.4559833,
          31.2357116,
          88.36389500000001,
          8.541694,
          -98.7350079,
          -104.990251,
          143.95555,
          -74.2107006,
          51.3889736,
          -78.80558959999999,
          -147.7163889,
          -112.0740373,
          88.36389500000001,
          49.6452092,
          -3.7837117,
          -131.820879,
          -74.2107006,
          18.7838572,
          139.1505999,
          -74.2107006,
          13.2907835,
          11.5020752,
          79.0881546,
          -48.2753801,
          7.261953200000001,
          123.8854366,
          -97.9647269,
          -64.4869016,
          8.6821267,
          3.0626481,
          37.6173,
          -68.74530639999999,
          120.5960071,
          -74.0059413,
          138.252924,
          91.2867777,
          -66.1057355,
          -118.032844,
          -47.4638414,
          77.10249019999999,
          9.605752599999999,
          101.090106,
          -46.63330939999999,
          -60.0217314,
          -13.052978,
          19.863281,
          0.537442,
          -1.5844757,
          -43.1728965,
          -49.9198367,
          12.537202,
          73.01176650000001,
          32.650351,
          -0.7526149999999999,
          -78.19262499999999,
          31.3713164,
          -4.2026458,
          -51.92528,
          128.8760574,
          -111.651302,
          14.1001326,
          -122.457878,
          126.9779692,
          -149.9002778,
          -108.3423516,
          -148.1933333,
          -122.4442906,
          23.3218675,
          -64.7005543,
          -119.2780771,
          -80.1917902,
          -66.90360629999999,
          51.3889736,
          118.3761111,
          -5.93012,
          -122.0326191,
          -111.395956,
          13.5765475,
          9.198013399999999,
          -57.6604364,
          101.9861694,
          -0.6488149999999999,
          31.2357116,
          -88.0398912,
          67.0099388,
          -72.6454469,
          92.0126276,
          108.2021667,
          -53.61288949999999,
          -122.0657543,
          -46.9331962,
          29.5107708,
          -76.8099041,
          45.46157849999999,
          91.7362365,
          -121.8684444,
          105.8341598,
          -122.3107517,
          87.8549755,
          -4.5338098,
          77.2090212,
          -130.3208187,
          -94.36741839999999,
          4.895167900000001,
          -70.3321587,
          -121.9780153,
          0,
          -46.63330939999999,
          139.7319925,
          0,
          -87.03968809999999,
          126.5990916,
          32.875086,
          55.5136433,
          -9.2158713,
          -117.1610838,
          6.650462999999999,
          -122.6562348,
          -88.549629,
          -89.5756987,
          -73.7562317,
          32.8597419,
          -85.7584557,
          8.6821267,
          103.3119085,
          -100.3161126,
          -74.0059413,
          -122.4285862,
          -65.7550063,
          -1.6003726,
          -3.74922,
          79.0881546,
          -88.59554179999999,
          145.616667,
          8.541694,
          38.996815,
          62.20402869999999,
          26.6843049,
          -0.6016020999999999,
          10.1927389,
          -75.5138166,
          -118.1937395,
          12.4963655,
          14.4140315,
          -94.5785667,
          141.3468074,
          -150.6544934,
          14.2512221,
          77.2090212,
          -105.4913345,
          6.925440999999999,
          103.8728273,
          149.1821469,
          -76.611351,
          -100.3161126,
          35.3308285,
          105.8341598,
          15.2326454,
          -105.5348562,
          -70.6692655,
          103.7289167,
          -66.892833,
          88.36389500000001,
          175.0083802,
          -51.92528,
          15.6458812,
          -46.63330939999999,
          108.0717219,
          1.169456,
          -38.502304,
          104.195397,
          -155.5959922,
          -27.2205771,
          108.277199,
          105.8172881,
          -93.20103669999999,
          3.515625,
          -103.2310149,
          -9.1051123,
          -43.1728965,
          31.2357116,
          7.5750549,
          -75.0849058,
          -76.6448018,
          145.164489,
          -76.26127629999999,
          -71.18507679999999,
          102.1346874,
          17.1077477,
          -63.580611,
          -74.0059413,
          -79.9958864,
          -4.6142139,
          37.6173,
          104.3050183,
          -8.24389,
          -84.5085536,
          -93.6091064,
          -69.578549,
          79.0881546,
          8.3417006,
          12.4963655,
          -106.6055534,
          31.03351,
          -40.8445346,
          -104.7892254,
          -76.318513,
          -91.28630539999999,
          -158.0000565,
          -123.551139,
          -87.2169149,
          -73.2103934,
          108.1812242,
          -78.81590159999999,
          39.95,
          -64.67768,
          -113.4909267,
          12.354722,
          -57.57592599999999,
          -101.6859605,
          -96.7216219,
          -87.6297982,
          23.2066849,
          -92.1646722,
          39.2088823,
          8.5479869,
          -51.92528,
          85.4839604,
          95.8601611,
          -118.3089661,
          0,
          -113.125807,
          20.2265469,
          0,
          -114.3821062,
          -75.015152,
          -106.1416774,
          16.3738189,
          -105.1019275,
          -122.3320708,
          -115.1398296,
          141.319448,
          -120.7018349,
          -48.4901799,
          -80.2417651,
          -46.63330939999999,
          -81.65565099999999,
          147.6,
          -65.8789649,
          121.0390178,
          4.835659,
          -68.5169669,
          -68.41883899999999,
          -121.9871217,
          14.4810648,
          31.2357116,
          37.1342603,
          74.5310403,
          92.7925592,
          -1.9262191,
          75.03190860000001,
          102.0977693,
          -79.9958864,
          -122.3320708,
          -150.3734777,
          -56.7295262,
          -0.1277583,
          85.3239605,
          -75.5047333,
          -90.5068824,
          -74.0120817,
          8.591956099999999,
          -112.1401108,
          -83.2918744,
          -74.58293309999999,
          -64.3493441,
          96.0520363,
          -162.7183867,
          35.9283716,
          -95.98081789999999,
          -165.4063889,
          -0.3030097,
          0,
          91.2867777,
          18.0480105,
          0.1783494,
          11.2384101,
          -86.75797870000001,
          -74.297333,
          8.521980899999999,
          2.3522219,
          -66.90360629999999,
          -73.8419063,
          -121.9514666,
          2.474807,
          11.0222093,
          12.5968588,
          50.0393017,
          -95.8547119,
          -58.3815591,
          -85.58179109999999,
          2.3522219,
          -118.288508,
          -74.0059413,
          126.7944739,
          -123.0060075,
          1.225551,
          -72.64994999999999,
          -2.2426305,
          123.8854366,
          -66.5075079,
          -146.3786899,
          -54.1004622,
          3.0587927,
          -51.92528,
          -89.5925857,
          35.3175,
          44.38039209999999,
          -0.8554145999999999,
          88.38947689999999,
          -3.5951518,
          -71.3102778,
          -45.4254299,
          77.2090212,
          37.6173,
          9.4149697,
          -77.27942879999999,
          -127.4966666,
          73.4467201,
          135.9800848,
          -116.888098,
          -71.62476199999999,
          12.5683371,
          92.9375739,
          -86.21076719999999,
          -70.4022789,
          -70.9193397,
          -56.16453139999999,
          35.5017767,
          -51.2176584,
          -6.4923145,
          -3.7037902,
          -90.5349087,
          -2.58791,
          0,
          2.6501603,
          -1.1743197,
          172.6362254,
          -61.12060200000001,
          -106.346771,
          123.7741195,
          0.19691,
          -158.0000565,
          -58.3815591,
          -48.4901799,
          -68.11929359999999,
          -43.1728965,
          -118.081733,
          11.5819806,
          1.9921422,
          -31.1080244,
          -2.554762,
          127.6809317,
          32.0496521,
          -107.8514466,
          85.3239605,
          -80.1917902,
          -97.75475519999999,
          -78.4678382,
          -84.1227598,
          -78.715,
          10.3490014,
          -115.1398296,
          77.2090212,
          2.625239,
          -7.589843399999999,
          -77.6277679,
          77.0266383,
          3.0576199,
          -43.1728965,
          120.9842195,
          -103.3496092,
          -77.96388689999999,
          -49.267137,
          75.6935323,
          -72.5784089,
          90.4125181,
          20.1879106,
          138.252924,
          -47.7768767,
          -8.24389,
          -70.096328,
          113.4711906,
          43.9915853,
          -0.1277583,
          144.793731,
          -35.8808337,
          -77.0368707,
          139.231161,
          5.5524524,
          18.0480105,
          -116.9337711,
          -72.2422222,
          -63.45081070000001,
          47.4975961,
          -54.1859324,
          12.6197253,
          -75.737149,
          12.9364422,
          -68.11929359999999,
          -28.6731465,
          -105.084423,
          -3.74922,
          -1.771998,
          31.03351,
          -43.1728965,
          -91.9158333,
          -82.19349969999999,
          -43.1728965,
          -118.7156531,
          -57.5426106,
          -71.1804988,
          35.806491,
          17.9417616,
          -99.1403189,
          -93.20103669999999,
          -73.8739659,
          -0.1681955,
          -69.5266907,
          -86.2361744,
          94.91362,
          4.259619499999999,
          16.1092127,
          92.7789054,
          -82.4623557,
          -99.2336948,
          43.3729793,
          -1.7435392,
          3.0175712,
          -81.6326234,
          -76.3692987,
          -74.70590589999999,
          -57.5426106,
          -78.1835179,
          -85.207229,
          -77.85,
          9.1859243,
          127.6809317,
          78.96288,
          67.0099388,
          -72.74343309999999,
          2.1734035,
          -57.57592599999999,
          -99.73314390000002,
          -97.4629119,
          -87.19213599999999,
          -46.63330939999999,
          -0.57918,
          -176.0965562,
          -96.0580197,
          -120.4357191,
          23.7275388,
          -78.8894682,
          -67.743253,
          0,
          24.029717,
          35.5017767,
          -87.6297982,
          -77.00107860000001,
          -75.4794257,
          69.2400734,
          -131.6461111,
          12.4963655,
          -43.1728965,
          104.7754307,
          -60.7504879,
          93.24786399999999,
          -78.13262540000001,
          19.014857,
          -77.071268,
          32.8597419,
          -77.8938895,
          130.4312584,
          -63.58865299999999,
          -43.1728965,
          -8.873067599999999,
          24.029717,
          -76.6872999,
          139.7319925,
          -86.7671845,
          -75.57405,
          -84.7811621,
          -52.3375886,
          121.5654177,
          -58.5815353,
          -74.072092,
          -81.3444573,
          30.23973359999999,
          -67.4158925,
          23.8584737,
          -69.5828236,
          -84.3879824,
          149.1821469,
          -148.2683333,
          -43.1728965,
          -74.2693297,
          51.6834275,
          -78.4678382,
          120.9842195,
          36.8357927,
          29.2204548,
          -87.81367,
          12.5695158,
          -68.0188096,
          30.5234,
          -6.126192500000001,
          25.1442126,
          -17.3660286,
          -57.9600793,
          144.7502228,
          127.6791568,
          37.6173,
          -98.881554,
          10.1927389,
          -71.0899142,
          10.1927389,
          -112.0860538,
          105.318756,
          -113.996586,
          -83.55521200000001,
          83.43767489999999,
          -78.4678382,
          120.9842195,
          -54.901562,
          -59.44724660000001,
          -74.054907,
          11.5819806,
          123.8854366,
          121.0390178,
          21.8418931,
          -74.032629,
          -117.2076961,
          107.5847222,
          -4.1929216,
          -71.85728809999999,
          112.7520883,
          4.3517103,
          -66.90360629999999,
          -35.200916,
          11.256389,
          -72.0797766,
          9.7678687,
          -122.4442906,
          103.819836,
          -9.1393366,
          31.2357116,
          8.591956099999999,
          -58.3815591,
          30.7233095,
          -104.990251,
          -7.589843399999999,
          -59.8540382,
          174.1123656,
          19.040235,
          5.6530475,
          104.6095976,
          -42.604303,
          -87.9370052,
          39.0241756,
          -84.7033333,
          -8.873067599999999,
          -6.8498129,
          28.6498144,
          -87.6297982,
          32.8597419,
          2.456656,
          17.228331,
          -2.6020901,
          -34.8828969,
          -77.4360481,
          -66.590149,
          -47.0626332,
          6.733343,
          151.2092955,
          8.2472526,
          3.80609,
          -86.2361744,
          32.8597419,
          -153.3038889,
          112.7520883,
          35.4288797,
          -67.5648932,
          25.2991586,
          -75.99785899999999,
          -63.8699655,
          -75.259705,
          -73.8713099,
          9.7678687,
          26.7525915,
          34.63,
          12.4963655,
          0.091266,
          -176.6580556,
          132.5509603,
          1.659626,
          -75.8301537,
          -73.63769049999999,
          -77.2,
          -1.0879769,
          95.955974,
          -40.2957768,
          -51.694138,
          31.2357116,
          36.8219462,
          11.8630208,
          -93.0032614,
          2.407557,
          23.3218675,
          -61.7064109,
          39.9339462,
          92.8932476,
          69.2400734,
          73.87425,
          17.9417616,
          74.3571581,
          78.96288,
          100.5017651,
          -157.8583333,
          39.7341543,
          3.083497,
          85.3239605,
          -43.1728965,
          -73.8519319,
          -75.015152,
          135.0662599,
          135.4561612,
          -80.9703684,
          16.5820491,
          -117.3316058,
          -67.6744192,
          72.4583605,
          -28.6731465,
          -66.3757921,
          120.9842195,
          -5.6418214,
          -72.6454469,
          37.6173,
          108.0717219,
          136.906398,
          -76.7983067,
          6.613080999999999,
          2.425377,
          -45.66274500000001,
          -77.0427934,
          -74.0059413,
          -73.8519319,
          -60.0217314,
          -118.3089661,
          21.0122287,
          127.7678754,
          -47.8821658,
          4.4777325,
          9.012892599999999,
          -143.663435,
          -46.63330939999999,
          -112.4768287,
          -162.5966666,
          -94.5785667,
          -76.42295,
          32.8597419,
          -122.4194155,
          50.8339029,
          -80.1917902,
          -71.0588801,
          125.455341,
          -88.09781509999999,
          50.9390906,
          -69.44418999999999,
          12.56738,
          138.252924,
          13.6130491,
          10.7522454,
          12.354722,
          -46.63330939999999,
          31.27119969999999,
          -131.4855123,
          73.1910115,
          102.710002,
          24.96676,
          -72.5102888,
          7.150763599999999,
          8.868637999999999,
          -52.4096248,
          -77.6109219,
          175.8514993,
          104.3050183,
          47.81803800000001,
          100.5957288,
          72.8362497,
          19.1344444,
          4.835659,
          -111.2833449,
          139.8035566,
          31.8926644,
          -80.1917902,
          8.156860500000002,
          2.8948332,
          74.8565613,
          -75.5243682,
          5.36978,
          -73.7889689,
          32.8998293,
          57.66972219999999,
          -2.079703,
          25.748151,
          -73.8439099,
          -105.5108312,
          -75.83327179999999,
          68.4173972,
          31.2357116,
          -118.2436849,
          -59.0242302,
          -112.4685025,
          32.8597419,
          -82.32482619999999,
          -63.6775234,
          -78.64554749999999,
          -83.0457538,
          75.1924755,
          124.297718,
          88.3883455,
          -106.6819793,
          -90.11206960000001,
          131.609272,
          11.4041024,
          -119.9525689,
          -74.072092,
          -87.6297982,
          -71.0588801,
          -89.9872941,
          -105.8405582,
          -80.20588310000001,
          14.4289058,
          -146.3786899,
          44.0770134,
          50.0393017,
          -162.2605556,
          -121.9780153,
          -80.1166667,
          -77.0427934,
          120.6199895,
          122.5361395,
          -99.230611,
          -72.7300929,
          120.6746691,
          2.6501603,
          -79.8725386,
          -83.9207392,
          -83.0923775,
          -119.8138027,
          -77.4360481,
          -86.7816016,
          -149.9910633,
          -70.55864009999999,
          -68.0188096,
          142.9505689,
          -42.573615,
          100.8619689,
          -76.652079,
          -3.2665353,
          38.7577605,
          24.1255826,
          -112.3384991,
          20.4418579,
          -103.8844083,
          -115.1398296,
          -53.986824,
          12.863881,
          12.4963655,
          15.2662931,
          -94.1574263,
          -68.0188096,
          108.2021667,
          122.367428,
          -76.1129048,
          -122.4194155,
          -83.6800512,
          -83.0457538,
          -97.5164276,
          -147.7163889,
          -97.33005299999999,
          -104.6531759,
          22.207,
          13.393389,
          -69.9166667,
          -73.5086111,
          -80.1917902,
          138.252924,
          -74.0738631,
          122.9663018,
          78.3113874,
          -63.15634900000001,
          -81.3666667,
          -66.1057355,
          69.34511599999999,
          -5.833954299999999,
          -83.7596557,
          36.2765279,
          -3.5107318,
          -78.9219698,
          -122.3320708,
          31.2357116,
          -84.9877094,
          -117.8678338,
          -122.4194155,
          -94.5785667,
          -1.2577263,
          31.2357116,
          -122.237828,
          -70.099451,
          -64.95340089999999,
          140.8266406,
          122.2880726,
          -79.4028639,
          -56.0978917,
          -87.22201869999999,
          5.20969,
          114.109497,
          -150.8891803,
          123.000095,
          35.5356866,
          -77.010385,
          108.7125791,
          -61.87868529999999,
          108.878915,
          68.36578759999999,
          -73.1227416,
          75.6935323,
          105.8341598,
          120.9842195,
          -0.1277583,
          0,
          -95.0466154,
          -74.548675,
          -84.5085536,
          33.0826598,
          -111.8910474,
          -156.3319253,
          -116.5452921,
          -111.8910474,
          -73.6801297,
          -16.2518467,
          109.295048,
          -114.0530065,
          123.7437995,
          -98.8719843,
          104.7754307,
          -75.4794257,
          -72.3074326,
          8.227511999999999,
          108.277199,
          -80.085059,
          8.8016937,
          139.8956943,
          74.7972825,
          -88.37282549999999,
          77.10249019999999,
          9.1859243,
          139.7319925,
          138.7277777,
          -119.7657663,
          -146.8286111,
          23.7275388,
          31.2357116,
          -57.57592599999999,
          -81.1025918,
          -117.1610838,
          104.04787,
          -97.14362539999999,
          -75.7455074,
          108.0954351,
          -124.6249602,
          127.6809317,
          -85.4883127,
          -73.567256,
          -89.15281759999999,
          -85.83607409999999,
          121.774017,
          174.7633315,
          -71.7236111,
          -105.7848893,
          69.34511599999999,
          -87.5125412,
          -65.89471069999999,
          -95.60192939999999,
          24.1255826,
          -99.8236533,
          -149.9002778,
          -82.4912676,
          108.2021667,
          -65.07406619999999,
          -134.4197222,
          14.5057515,
          -96.292242,
          -16.4459876,
          143.0381,
          -74.072092,
          -121.9656525,
          108.1858582,
          -91.20676999999999,
          -86.10862279999999,
          -85.5842385,
          -73.5065006,
          -69.95976639999999,
          132.7655752,
          13.052954,
          -77.04411429999999,
          45.0186548,
          17.1077477,
          106.6296638,
          -46.8952876,
          37.6173,
          -74.072092,
          108.2031859,
          -75.1142325,
          -74.0373528,
          -155.0884869,
          140.3725168,
          -28.6731465,
          8.6821267,
          37.1342603,
          -106.6055534,
          108.600492,
          -99.133208,
          8.541694,
          -80.6495194,
          124.8420794,
          -87.19213599999999,
          123.9638531,
          -10.7605239,
          -83.3671432,
          67.0099388,
          -83.7524298,
          108.277199,
          -121.7816704,
          12.2818089,
          27.8545867,
          -152.4072222,
          -90.1795281,
          -90.0715323,
          -117.5725628,
          -77.0427934,
          -84.5037164,
          126.9779692,
          5.5258107,
          50.5006231,
          33.38227639999999,
          -70.099451,
          -72.93112889999999,
          125.1276536,
          129.3333333,
          -73.833079,
          -80.11088149999999,
          -70.3814761,
          -61.35852399999999,
          -75.69719309999999,
          2.456656,
          -2.1266325,
          106.6296638,
          39.2375507,
          -6.2603097,
          -110.3127531,
          -63.1446104,
          108.1858582,
          -6.2603097,
          106.6296638,
          -77.0638567,
          -77.4302414,
          42.7662325,
          114.1990482,
          122.9689565,
          47.5079055,
          -82.4609528,
          102.1346874,
          102.1346874,
          -112.1401108,
          8.468945999999999,
          107.8665322,
          -54.6103488,
          -108.2186856,
          105.7175138,
          -65.2916451,
          28.2174829,
          -92.8193216,
          108.277199,
          -49.267137,
          -84.9510542,
          -0.723391,
          114.109497,
          -84.5120196,
          61.9316226,
          -84.70318879999999,
          -134.4197222,
          -119.5559652,
          109.2196634,
          102.8960712,
          -75.015152,
          -89.4012302,
          -159.4977455,
          -105.5966686,
          -1.1743197,
          -104.990251,
          98.99312839999999,
          106.6955799,
          21.010806,
          -90.0715323,
          -117.1610838,
          -152.0788889,
          106.963409,
          -117.1439942,
          31.2447709,
          132.2188479,
          -101.3386723,
          44.25,
          103.98402,
          -123.1207375,
          80.2767327,
          121.3881378,
          -112.1202235,
          101.516667,
          101.6038976,
          -61.7064109,
          108.4591345,
          122.5372741,
          55.450675,
          -71.4218425,
          -90.19940419999999,
          -6.458228,
          -90.19940419999999,
          37.6173,
          103.98402,
          -0.4542955,
          -72.068265,
          -83.9843953,
          -99.133208,
          -1.1743197,
          108.3989809,
          17.0657549,
          37.6173,
          -119.5184564,
          72.466667,
          -96.71471269999999,
          17.228331,
          107.7932671,
          -84.7839364,
          -118.1597911,
          72.8776559,
          -82.4134614,
          88.36389500000001,
          -1.9812313,
          142.7347556,
          108.277199,
          -91.7604389,
          -0.1277583,
          -80.13731740000001,
          50.0393017,
          3.3792057,
          -35.5677787,
          -71.542969,
          -34.8828969,
          -71.3711656,
          9.1859243,
          -87.9064736,
          11.4977392,
          -81.6326234,
          -118.2200712,
          32.3018661,
          -63.1914317,
          -122.9131636,
          6.546234999999999,
          27.4626361,
          -73.833079,
          7.121620999999999,
          166.6499348,
          7.0498442,
          -151.2583333,
          108.277199,
          108.277199,
          -115.1398296,
          -83.52330359999999,
          -79.29975730000001,
          14.4140315,
          27.142826,
          -70.35293109999999,
          108.0382475,
          -72.2895526,
          -156.7886111,
          -122.4194155,
          -117.8678338,
          104.7705509,
          -133.6211111,
          -154.1061111,
          -64.95340089999999,
          -112.0691697,
          -66.90360629999999,
          -78.649163,
          -148.3384293,
          -149.8112528,
          -116.5963713,
          -87.6297982,
          118.5878223,
          -99.14111539999999,
          121.7183349,
          -151.1369444,
          -0.1646064,
          -78.649163,
          100.992541,
          -118.2436849,
          107.5623501,
          -118.2436849,
          120.960515,
          -123.4307413,
          121.774017,
          -118.0628654,
          120.2270277,
          -66.1057355,
          -28.6731465,
          120.960515,
          -152.3122222,
          -71.7147951,
          -94.6274636,
          32.8998293,
          -90.0715323,
          -77.4013403,
          19.5821187,
          106.963409,
          -66.3757921,
          129.723402,
          15.2662931,
          -133.1483333,
          89.5403279,
          -1.7830973,
          102.0977693,
          -63.40000149999999,
          -64.3493441,
          106.6527099,
          -74.8390162,
          97.7525352,
          15.6472914,
          -100.2908632,
          -124.2242803,
          -175.5593421,
          -119.1005657,
          78.00807449999999,
          -83.713229,
          85.0025539,
          -156.7886111,
          -74.0059413,
          -167.9505442,
          -159.715,
          -74.4229266,
          5.751047499999999,
          -112.1401108,
          6.8592236,
          -79.0849436,
          102.9219684,
          -80.4243066,
          37.6173,
          -93.05735330000002,
          105.8172881,
          100.992541,
          -73.349853,
          -85.8635919,
          121.1244847,
          -51.1695824,
          -125.2733354,
          108.3380469,
          -99.133208,
          -68.11929359999999,
          6.8592236,
          107.75,
          -104.990251,
          -81.3304953,
          -134.6444444,
          61.66369599999999,
          -73.6065042,
          3.3514863,
          -66.90360629999999,
          102.440613,
          23.9763412,
          -68.6166937,
          -117.1610838,
          109.1967488,
          102.1346874,
          -158.1030556,
          18.0685808,
          23.3389501,
          -119.0933292,
          -75.015152,
          -85.5800022,
          -97.4629119,
          77.10249019999999,
          134.65435,
          -81.6943605,
          33.0826598,
          -58.8306349,
          23.0041257,
          25.2991586,
          -72.94605659999999,
          -74.297333,
          0.54682,
          -69.93121169999999,
          -74.2107006,
          15.827659,
          8.541694,
          9.8355079,
          -35.966695,
          108.2021667,
          -75.91797380000001,
          -112.9757702,
          -7.589843399999999,
          82.9357327,
          -76.0788292,
          102.495496,
          120.9842195,
          13.014009,
          141.3470159,
          -64.862723,
          -117.943543,
          45.3181623,
          124.2452422,
          -84.7839364,
          25.2991586,
          -83.33618799999999,
          -87.19213599999999,
          -84.29881259999999,
          13.1913383,
          122.740723,
          -77.7498574,
          -155.5959922,
          2.4900943,
          -79.3831843,
          -28.6731465,
          -105.3838716,
          139.7319925,
          -0.370797,
          -115.1398296,
          73.0931461,
          -71.96746259999999,
          121.5654177,
          106.5377839,
          92.7789054,
          3.6906292,
          35.046183,
          30.325527,
          -74.0059413,
          -66.3911686,
          -115.7694002,
          9.501785,
          108.2021667,
          73.585419,
          -105.7258386,
          121.5654177,
          -78.72419599999999,
          28.1707794,
          -84.1916069,
          -75.5668166,
          -61.5340424,
          -82.44515400000002,
          108.277199,
          -149.9002778,
          109.1967488,
          109.140438,
          90.4125181,
          77.10249019999999,
          28.6348138,
          69.34511599999999,
          -64.95340089999999,
          69.34511599999999,
          3.0587927,
          31.8926644,
          13.173889,
          -74.4120953,
          8.541694,
          4.599038999999999,
          -77.8173047,
          73.38454709999999,
          128.5918488,
          -71.1804988
         ],
         "mode": "markers",
         "text": "",
         "type": "scattergeo"
        }
       ],
       "layout": {
        "geo": {
         "scope": "world"
        },
        "template": {
         "data": {
          "bar": [
           {
            "error_x": {
             "color": "#2a3f5f"
            },
            "error_y": {
             "color": "#2a3f5f"
            },
            "marker": {
             "line": {
              "color": "#E5ECF6",
              "width": 0.5
             }
            },
            "type": "bar"
           }
          ],
          "barpolar": [
           {
            "marker": {
             "line": {
              "color": "#E5ECF6",
              "width": 0.5
             }
            },
            "type": "barpolar"
           }
          ],
          "carpet": [
           {
            "aaxis": {
             "endlinecolor": "#2a3f5f",
             "gridcolor": "white",
             "linecolor": "white",
             "minorgridcolor": "white",
             "startlinecolor": "#2a3f5f"
            },
            "baxis": {
             "endlinecolor": "#2a3f5f",
             "gridcolor": "white",
             "linecolor": "white",
             "minorgridcolor": "white",
             "startlinecolor": "#2a3f5f"
            },
            "type": "carpet"
           }
          ],
          "choropleth": [
           {
            "colorbar": {
             "outlinewidth": 0,
             "ticks": ""
            },
            "type": "choropleth"
           }
          ],
          "contour": [
           {
            "colorbar": {
             "outlinewidth": 0,
             "ticks": ""
            },
            "colorscale": [
             [
              0,
              "#0d0887"
             ],
             [
              0.1111111111111111,
              "#46039f"
             ],
             [
              0.2222222222222222,
              "#7201a8"
             ],
             [
              0.3333333333333333,
              "#9c179e"
             ],
             [
              0.4444444444444444,
              "#bd3786"
             ],
             [
              0.5555555555555556,
              "#d8576b"
             ],
             [
              0.6666666666666666,
              "#ed7953"
             ],
             [
              0.7777777777777778,
              "#fb9f3a"
             ],
             [
              0.8888888888888888,
              "#fdca26"
             ],
             [
              1,
              "#f0f921"
             ]
            ],
            "type": "contour"
           }
          ],
          "contourcarpet": [
           {
            "colorbar": {
             "outlinewidth": 0,
             "ticks": ""
            },
            "type": "contourcarpet"
           }
          ],
          "heatmap": [
           {
            "colorbar": {
             "outlinewidth": 0,
             "ticks": ""
            },
            "colorscale": [
             [
              0,
              "#0d0887"
             ],
             [
              0.1111111111111111,
              "#46039f"
             ],
             [
              0.2222222222222222,
              "#7201a8"
             ],
             [
              0.3333333333333333,
              "#9c179e"
             ],
             [
              0.4444444444444444,
              "#bd3786"
             ],
             [
              0.5555555555555556,
              "#d8576b"
             ],
             [
              0.6666666666666666,
              "#ed7953"
             ],
             [
              0.7777777777777778,
              "#fb9f3a"
             ],
             [
              0.8888888888888888,
              "#fdca26"
             ],
             [
              1,
              "#f0f921"
             ]
            ],
            "type": "heatmap"
           }
          ],
          "heatmapgl": [
           {
            "colorbar": {
             "outlinewidth": 0,
             "ticks": ""
            },
            "colorscale": [
             [
              0,
              "#0d0887"
             ],
             [
              0.1111111111111111,
              "#46039f"
             ],
             [
              0.2222222222222222,
              "#7201a8"
             ],
             [
              0.3333333333333333,
              "#9c179e"
             ],
             [
              0.4444444444444444,
              "#bd3786"
             ],
             [
              0.5555555555555556,
              "#d8576b"
             ],
             [
              0.6666666666666666,
              "#ed7953"
             ],
             [
              0.7777777777777778,
              "#fb9f3a"
             ],
             [
              0.8888888888888888,
              "#fdca26"
             ],
             [
              1,
              "#f0f921"
             ]
            ],
            "type": "heatmapgl"
           }
          ],
          "histogram": [
           {
            "marker": {
             "colorbar": {
              "outlinewidth": 0,
              "ticks": ""
             }
            },
            "type": "histogram"
           }
          ],
          "histogram2d": [
           {
            "colorbar": {
             "outlinewidth": 0,
             "ticks": ""
            },
            "colorscale": [
             [
              0,
              "#0d0887"
             ],
             [
              0.1111111111111111,
              "#46039f"
             ],
             [
              0.2222222222222222,
              "#7201a8"
             ],
             [
              0.3333333333333333,
              "#9c179e"
             ],
             [
              0.4444444444444444,
              "#bd3786"
             ],
             [
              0.5555555555555556,
              "#d8576b"
             ],
             [
              0.6666666666666666,
              "#ed7953"
             ],
             [
              0.7777777777777778,
              "#fb9f3a"
             ],
             [
              0.8888888888888888,
              "#fdca26"
             ],
             [
              1,
              "#f0f921"
             ]
            ],
            "type": "histogram2d"
           }
          ],
          "histogram2dcontour": [
           {
            "colorbar": {
             "outlinewidth": 0,
             "ticks": ""
            },
            "colorscale": [
             [
              0,
              "#0d0887"
             ],
             [
              0.1111111111111111,
              "#46039f"
             ],
             [
              0.2222222222222222,
              "#7201a8"
             ],
             [
              0.3333333333333333,
              "#9c179e"
             ],
             [
              0.4444444444444444,
              "#bd3786"
             ],
             [
              0.5555555555555556,
              "#d8576b"
             ],
             [
              0.6666666666666666,
              "#ed7953"
             ],
             [
              0.7777777777777778,
              "#fb9f3a"
             ],
             [
              0.8888888888888888,
              "#fdca26"
             ],
             [
              1,
              "#f0f921"
             ]
            ],
            "type": "histogram2dcontour"
           }
          ],
          "mesh3d": [
           {
            "colorbar": {
             "outlinewidth": 0,
             "ticks": ""
            },
            "type": "mesh3d"
           }
          ],
          "parcoords": [
           {
            "line": {
             "colorbar": {
              "outlinewidth": 0,
              "ticks": ""
             }
            },
            "type": "parcoords"
           }
          ],
          "scatter": [
           {
            "marker": {
             "colorbar": {
              "outlinewidth": 0,
              "ticks": ""
             }
            },
            "type": "scatter"
           }
          ],
          "scatter3d": [
           {
            "line": {
             "colorbar": {
              "outlinewidth": 0,
              "ticks": ""
             }
            },
            "marker": {
             "colorbar": {
              "outlinewidth": 0,
              "ticks": ""
             }
            },
            "type": "scatter3d"
           }
          ],
          "scattercarpet": [
           {
            "marker": {
             "colorbar": {
              "outlinewidth": 0,
              "ticks": ""
             }
            },
            "type": "scattercarpet"
           }
          ],
          "scattergeo": [
           {
            "marker": {
             "colorbar": {
              "outlinewidth": 0,
              "ticks": ""
             }
            },
            "type": "scattergeo"
           }
          ],
          "scattergl": [
           {
            "marker": {
             "colorbar": {
              "outlinewidth": 0,
              "ticks": ""
             }
            },
            "type": "scattergl"
           }
          ],
          "scattermapbox": [
           {
            "marker": {
             "colorbar": {
              "outlinewidth": 0,
              "ticks": ""
             }
            },
            "type": "scattermapbox"
           }
          ],
          "scatterpolar": [
           {
            "marker": {
             "colorbar": {
              "outlinewidth": 0,
              "ticks": ""
             }
            },
            "type": "scatterpolar"
           }
          ],
          "scatterpolargl": [
           {
            "marker": {
             "colorbar": {
              "outlinewidth": 0,
              "ticks": ""
             }
            },
            "type": "scatterpolargl"
           }
          ],
          "scatterternary": [
           {
            "marker": {
             "colorbar": {
              "outlinewidth": 0,
              "ticks": ""
             }
            },
            "type": "scatterternary"
           }
          ],
          "surface": [
           {
            "colorbar": {
             "outlinewidth": 0,
             "ticks": ""
            },
            "colorscale": [
             [
              0,
              "#0d0887"
             ],
             [
              0.1111111111111111,
              "#46039f"
             ],
             [
              0.2222222222222222,
              "#7201a8"
             ],
             [
              0.3333333333333333,
              "#9c179e"
             ],
             [
              0.4444444444444444,
              "#bd3786"
             ],
             [
              0.5555555555555556,
              "#d8576b"
             ],
             [
              0.6666666666666666,
              "#ed7953"
             ],
             [
              0.7777777777777778,
              "#fb9f3a"
             ],
             [
              0.8888888888888888,
              "#fdca26"
             ],
             [
              1,
              "#f0f921"
             ]
            ],
            "type": "surface"
           }
          ],
          "table": [
           {
            "cells": {
             "fill": {
              "color": "#EBF0F8"
             },
             "line": {
              "color": "white"
             }
            },
            "header": {
             "fill": {
              "color": "#C8D4E3"
             },
             "line": {
              "color": "white"
             }
            },
            "type": "table"
           }
          ]
         },
         "layout": {
          "annotationdefaults": {
           "arrowcolor": "#2a3f5f",
           "arrowhead": 0,
           "arrowwidth": 1
          },
          "colorscale": {
           "diverging": [
            [
             0,
             "#8e0152"
            ],
            [
             0.1,
             "#c51b7d"
            ],
            [
             0.2,
             "#de77ae"
            ],
            [
             0.3,
             "#f1b6da"
            ],
            [
             0.4,
             "#fde0ef"
            ],
            [
             0.5,
             "#f7f7f7"
            ],
            [
             0.6,
             "#e6f5d0"
            ],
            [
             0.7,
             "#b8e186"
            ],
            [
             0.8,
             "#7fbc41"
            ],
            [
             0.9,
             "#4d9221"
            ],
            [
             1,
             "#276419"
            ]
           ],
           "sequential": [
            [
             0,
             "#0d0887"
            ],
            [
             0.1111111111111111,
             "#46039f"
            ],
            [
             0.2222222222222222,
             "#7201a8"
            ],
            [
             0.3333333333333333,
             "#9c179e"
            ],
            [
             0.4444444444444444,
             "#bd3786"
            ],
            [
             0.5555555555555556,
             "#d8576b"
            ],
            [
             0.6666666666666666,
             "#ed7953"
            ],
            [
             0.7777777777777778,
             "#fb9f3a"
            ],
            [
             0.8888888888888888,
             "#fdca26"
            ],
            [
             1,
             "#f0f921"
            ]
           ],
           "sequentialminus": [
            [
             0,
             "#0d0887"
            ],
            [
             0.1111111111111111,
             "#46039f"
            ],
            [
             0.2222222222222222,
             "#7201a8"
            ],
            [
             0.3333333333333333,
             "#9c179e"
            ],
            [
             0.4444444444444444,
             "#bd3786"
            ],
            [
             0.5555555555555556,
             "#d8576b"
            ],
            [
             0.6666666666666666,
             "#ed7953"
            ],
            [
             0.7777777777777778,
             "#fb9f3a"
            ],
            [
             0.8888888888888888,
             "#fdca26"
            ],
            [
             1,
             "#f0f921"
            ]
           ]
          },
          "colorway": [
           "#636efa",
           "#EF553B",
           "#00cc96",
           "#ab63fa",
           "#FFA15A",
           "#19d3f3",
           "#FF6692",
           "#B6E880",
           "#FF97FF",
           "#FECB52"
          ],
          "font": {
           "color": "#2a3f5f"
          },
          "geo": {
           "bgcolor": "white",
           "lakecolor": "white",
           "landcolor": "#E5ECF6",
           "showlakes": true,
           "showland": true,
           "subunitcolor": "white"
          },
          "hoverlabel": {
           "align": "left"
          },
          "hovermode": "closest",
          "mapbox": {
           "style": "light"
          },
          "paper_bgcolor": "white",
          "plot_bgcolor": "#E5ECF6",
          "polar": {
           "angularaxis": {
            "gridcolor": "white",
            "linecolor": "white",
            "ticks": ""
           },
           "bgcolor": "#E5ECF6",
           "radialaxis": {
            "gridcolor": "white",
            "linecolor": "white",
            "ticks": ""
           }
          },
          "scene": {
           "xaxis": {
            "backgroundcolor": "#E5ECF6",
            "gridcolor": "white",
            "gridwidth": 2,
            "linecolor": "white",
            "showbackground": true,
            "ticks": "",
            "zerolinecolor": "white"
           },
           "yaxis": {
            "backgroundcolor": "#E5ECF6",
            "gridcolor": "white",
            "gridwidth": 2,
            "linecolor": "white",
            "showbackground": true,
            "ticks": "",
            "zerolinecolor": "white"
           },
           "zaxis": {
            "backgroundcolor": "#E5ECF6",
            "gridcolor": "white",
            "gridwidth": 2,
            "linecolor": "white",
            "showbackground": true,
            "ticks": "",
            "zerolinecolor": "white"
           }
          },
          "shapedefaults": {
           "line": {
            "color": "#2a3f5f"
           }
          },
          "ternary": {
           "aaxis": {
            "gridcolor": "white",
            "linecolor": "white",
            "ticks": ""
           },
           "baxis": {
            "gridcolor": "white",
            "linecolor": "white",
            "ticks": ""
           },
           "bgcolor": "#E5ECF6",
           "caxis": {
            "gridcolor": "white",
            "linecolor": "white",
            "ticks": ""
           }
          },
          "title": {
           "x": 0.05
          },
          "xaxis": {
           "automargin": true,
           "gridcolor": "white",
           "linecolor": "white",
           "ticks": "",
           "zerolinecolor": "white",
           "zerolinewidth": 2
          },
          "yaxis": {
           "automargin": true,
           "gridcolor": "white",
           "linecolor": "white",
           "ticks": "",
           "zerolinecolor": "white",
           "zerolinewidth": 2
          }
         }
        },
        "title": {
         "text": "Approximate locations of plane crashes"
        }
       }
      },
      "text/html": [
       "<div>\n",
       "        \n",
       "        \n",
       "            <div id=\"e220975e-2320-4453-ba1b-511ffdf92505\" class=\"plotly-graph-div\" style=\"height:525px; width:100%;\"></div>\n",
       "            <script type=\"text/javascript\">\n",
       "                require([\"plotly\"], function(Plotly) {\n",
       "                    window.PLOTLYENV=window.PLOTLYENV || {};\n",
       "                    \n",
       "                if (document.getElementById(\"e220975e-2320-4453-ba1b-511ffdf92505\")) {\n",
       "                    Plotly.newPlot(\n",
       "                        'e220975e-2320-4453-ba1b-511ffdf92505',\n",
       "                        [{\"lat\": [38.883541, 39.3642834, 48.4284207, 56.511018, 50.2074306, 50.81057, 53.859336, 42.48419990000001, 51.627903, 51.696636, 49.9928617, 54.691745, 51.0543422, 50.9415388, 56.511018, 53.25018439999999, 45.567631, 48.592237, 28.080721, 53.3641829, 53.44056399999999, 40.6639916, 41.49932, 40.9064, 54.978252, 39.2720509, 50.134664, 40.78593310000001, 41.5033572, 40.735657, 40.735657, 40.0583238, 41.2916728, 41.49932, 52.1359729, 38.9896967, 40.79676670000001, 41.4108855, 40.5395289, 42.518487, 39.4699075, 41.8500284, 41.0802621, 51.555684, 41.3850639, 44.8871878, 43.8013556, 36.140751, 40.8324211, -37.9178086, 40.7339981, 41.49932, 41.58746439999999, 37.7749295, 43.604652, 53.745365, 48.856614, -36.6016558, 48.856614, 36.8507689, 49.665342, 39.206062, 53.411758, 51.081397, 36.5270612, 39.768403, 45.4408474, 35.1744271, 34.0181246, 41.919229, 41.3850639, 41.1399814, 41.6414438, 49.70958, 44.4267674, 41.4645824, 51.4308255, 61.52401, 41.4000523, 34.5531284, 41.1697041, 40.9658931, 50.134664, 11.0041072, 37.09024, 43.545815, 41.5822716, 51.339228, 41.7235174, 38.3459963, 38.3459963, 50.125434, 38.3459963, 42.2605204, 47.497912, 39.74785079999999, 48.678296, 40.6792982, 50.725231, 41.5844951, 52.5348604, 50.134664, 14.4803708, 50.95088, 53.681385, 51.1645846, 40.7127837, 51.55092, 50.134664, 31.791702, 42.3265152, 50.62925, 33.9715904, -24.883333, 43.0040661, 41.5822716, 50.7562528, 36.7537703, 50.797725, 51.27241000000001, 41.8809434, 40.5529452, 51.37795000000001, 50.57616650000001, 21.00789, 40.4862157, 48.5734053, 59.9124514, 41.4372721, 36.834047, 40.46366700000001, 46.227638, 42.9056288, -34.7871645, 41.1188827, 46.227638, 36.834047, 41.0069471, -22.9068467, 50.871091, 38.9176041, 40.46366700000001, 44.7442714, 51.2015995, 50.1109221, 38.4166818, 59.9124514, 51.339228, 52.132633, 48.11703869999999, 48.678296, -34.9284989, 42.8713032, 49.69082419999999, 41.9794005, 41.3670014, 44.933393, 36.140751, 41.4486619, 41.3873741, 41.4486619, 33.4764767, -14.235004, -22.9068467, 52.4465493, 41.3950489, 35.0456297, 49.258329, 41.9542632, 45.2965256, 39.6249838, 39.629526, 31.791702, 40.735657, 33.9294606, 32.715738, 47.162494, 36.7537703, 20.01693, 41.3850639, 50.919325, 44.9537029, 47.6363377, 39.9611755, 34.4047987, 42.6886591, 43.60280789999999, 49.2925135, 34.8480597, 35.2386491, 25.6577006, 35.1744271, 32.61768, 41.58065420000001, 44.2447913, 40.3933956, 47.5673202, 20.403852, 51.247571, 42.0396042, 45.6387281, 41.4298516, 34.5531284, 52.52000659999999, 35.2219971, 41.1874828, -18.8791902, 33.1958696, 35.8893874, 39.114053, 41.76371109999999, 51.173613, 40.72815749999999, -34.6036844, 42.3600825, 55.160428, 27.9094677, 14.4803708, 51.376165, 56.6461641, 49.42953869999999, 51.0504088, 35.1744271, 54.3150367, 49.732771, 40.6028144, -23.9678823, 34.95, 31.230416, 51.0036598, 45.7423372, -39.035173, 49.968341, 40.46366700000001, -31.2532183, 38.2719604, 51.165691, 34.1808392, -25.274398, 40.91339430000001, 18.4671203, 41.5878281, 49.24015720000001, 41.8781136, -34.4450316, 38.5285169, 42.733883, 39.1031182, 41.8781136, 37.8043637, 44.68198659999999, -14.235004, 39.9259463, -34.11937959999999, 40.7607793, 36.651216, 46.2395793, 41.2455927, 13.7563309, 36.7537703, 39.9242266, 42.13806, 34.8416435, 25.7616798, 42.0258779, 38.1557502, -22.9674264, 38.6270025, 34.0039039, 40.3697905, 34.80207499999999, 41.3931096, 41.079273, 45.5230622, 34.1808392, -33.4035551, 33.8937913, 48.5216364, 31.7437272, 51.3495019, -28.6473671, 20.9425179, -13.75, 51.335545, 51.165691, 34.7737082, 35.2219971, 37.2438888, -27.5765485, 36.7537703, 40.735657, 33.95260200000001, 29.79466409999999, 44.0520691, -32.8894587, 37.6688205, 51.033331, 52.2280802, 39.76492229999999, 38.5668641, 47.8677574, 41.84777649999999, 38.0495789, 34.9339503, 46.0569465, 41.6105937, 47.642833, 45.5230622, 34.9900503, 36.651216, 49.988371, 41.4361548, 53.5510846, -28.8946769, 51.0413098, 47.257618, 44.110898, 40.7607793, 35.2908448, 40.0117151, 4.8087174, -12.046374, 27.9661349, 50.134664, 51.376165, 41.9909235, -34.5885499, 53.3765873, 34.1808392, 34.1083449, 47.98233159999999, -12.579738, 29.868336, 39.8861052, -22.3913, -39.1086169, -25.274398, -23.4421917, -34.87544949999999, 46.320207, 53.8992685, 38.9517053, 20.2218201, 34.80207499999999, 36.2431964, 40.44062479999999, 53.4285438, 51.165691, 31.132093, 50.1715288, 49.42953869999999, 51.3982179, 37.6241793, 39.898646, 43.0125274, 55.755826, 42.5027467, 41.8791979, 15.1202795, 6.253040800000001, 52.3702157, 32.3546679, 46.4181055, 35.86166, 32.7287472, 42.5027467, 64.2008413, 34.1808392, -38.2700243, 41.1399814, 59.9124514, 42.7284117, 41.1399814, -11.7910581, 14.6572108, 32.7554883, 43.513006, 47.394144, 51.376165, 50.3180199, 31.2000924, 34.9381496, -19.1056985, 41.919229, 33.2148412, -14.5994134, 25.311888, 19.1223754, 42.8761123, 39.900076, 10.6549013, 45.070312, 46.818188, 49.205164, 47.5595986, -37.877, 55.604981, 52.3758916, 61.1749982, 40.6051035, 43.490103, 23.634501, 38.6270025, 5.2528033, 50.6841495, 39.074208, 50.134664, 37.6241793, 41.7508391, 23.634501, 50.87848109999999, 55.755826, 49.45203, 51.5073509, 45.188529, 33.591215, 51.376165, 40.7607793, 47.5382565, 41.322316, 32.7766642, 32.060255, 34.373361, 34.373361, 35.6976541, 37.7749295, -28.3333333, -33.4192822, 46.231418, 41.2509919, 51.165691, 40.014561, 48.7758459, 34.193415, 50.73757, 21.7991419, 9.350598999999999, 22.6166667, 29.2108147, -33.3017267, -27.5765485, 39.074208, -2.9760735, 40.7346687, 49.4874592, 51.21543, 51.376165, 40.6327278, 43.74980499999999, 14.4803708, 50.1109221, 45.6769979, -14.33166, 45.8211405, 32.9028812, 67.1700511, 43.296482, 25.6775595, 49.050966, 37.5368803, 25.6653262, -37.633, 42.466095, 41.2559961, 19.3126928, -36.9686277, 34.4113854, -23.5505199, 41.49932, 51.165691, 49.230707, -6.2555679, -31.9791666, 45.7832856, 40.1208752, 45.943161, 4.710988599999999, -0.0917016, 13.444304, 32.2780642, 47.5316049, 54.3232927, -26.3204885, 44.4267674, 40.6353493, 35.86166, -17.5226261, -33.4192822, 46.65698709999999, 51.5711476, -37.831111, 51.105097, 40.6051035, 52.3076865, 50.4452112, -33.4192822, 33.3128057, 38.0690894, 36.52909100000001, 52.3702157, -12.4634403, 48.856614, 46.4083362, -22.9068467, -14.4521139, 34.5531284, 50.89229049999999, 5.255906, 40.9653217, 35.4675602, 31.6294723, -18.665695, 31.6294723, -2.1709979, 51.4536672, 47.6779496, 41.3850639, -22.9068467, 55.6760968, 31.55460609999999, 52.3758916, 56.511018, 50.794995, 36.140751, 35.8582865, 31.5084926, -8.670458199999999, 24.7142573, 56.1113678, 33.9191799, 58.595272, 49.276656, 19.75, 52.3758916, -35.2809368, 46.7712101, 39.2726017, 36.85882, 52.52000659999999, 40.9180005, 51.2803993, -22.9068467, 34.5531284, 41.8781136, -30.559482, 47.04650050000001, 18.7326212, 37.94094219999999, 50.296741, 33.7489954, 63.4305149, -32.3134951, -14.5994134, 44.4267674, 38.848848, 55.5806165, 55.458564, -23.5505199, 46.227638, 55.424117, 18.4655394, 46.8737648, 42.7777214, 25.7616798, 36.1699412, 1.4748305, -0.4948232, -10.1771997, -10.1771997, 50.3754565, -27.5, -33.137551, -17.9614336, -15.4825, 24.880095, -13.823056, 40.7607793, 46.4083362, 37.4223352, -28.7264578, 52.38102, 36.7537703, 37.1694632, 50.8551491, 58.250685, 35.5122222, 24.880095, 18.0787363, 49.1422983, 33.8302961, 60.47202399999999, 40.2621714, 48.2081743, 38.7222524, 5.8, -14.5994134, 39.1501709, -15.74447, 48.954408, 47.6062095, 38.7222524, 28.46763, 28.5983159, -27.5717321, -9.4301515, 49.3215322, 34.81516330000001, -21.1446586, 15.5006544, 15.5006544, 36.140751, 53.1938062, 36.7853194, 44.936664, -19.2589635, 35.86166, 56.511018, -22.9068467, 29.3013479, 34.7351614, 22.572646, 35.77895650000001, 48.497109, 60.12816100000001, 32.4609764, 18.5204303, 24.880095, 24.880095, -9.4301515, 47.549255, -22.9779158, 40.653788, 44.7891785, 35.1495343, 35.86166, 38.5236036, -5.0122202, 64.5011111, 44.7891785, 59.22053689999999, 45.5016889, 35.86166, 22.572646, 49.305666, 49.53207, 49.383333, 24.880095, 25.234479, -30.0346471, -14.5994134, 54.723977, -8.5200657, 42.96361, 20.8325254, 52.321924, 53.753825, 55.495587, -23.5505199, 44.7891785, -16.45, 64.2008413, -7.9661053, 47.322047, 27.860175, 44.442493, -33.8688197, 59.39139849999999, 47.162494, 53.38999099999999, 36.3274502, 59.4836751, 50.87387200000001, 14.45411, -0.023559, 55.604981, 27.5584428, 34.1898566, -14.5994134, 50.134664, 27.5584428, 10.6549013, 34.1808392, 35.86166, 24.880095, -9.862794599999999, -37.0012974, 43.1306661, 53.1586694, 37.8043637, -19.6303019, 33.5731104, 36.8348383, -23.849784, 24.880095, 39.629526, -31.9505269, 32.4709519, 48.1351253, 52.3555177, 38.9071923, -2.0941169, 51.113618, 49.69779699999999, -5.0122202, 4.915829899999999, 35.86166, -28.7773715, 50.608277, 12.9715987, 31.9685988, -14.5994134, -0.0917016, 34.1954331, 40.7127837, 22.1564699, 14.6160647, 19.3898592, 34.1954331, -5.0122202, 43.3439296, -6.314992999999999, 35.86166, 28.0394654, 51.2966867, 48.117266, 50.91535, 39.904211, -14.5994134, 23.12911, 20.593684, -6.4824784, 35.86166, 48.7986201, 25.4263309, 27.8005828, 45.8459562, 41.648291, 31.8671891, -24.791488, -5.7465904, 51.5961189, 45.936698, 29.5844524, 45.7832856, 59.9800595, 4.3946735, 40.7127837, 33.5206608, 43.817072, 43.296482, 41.5083668, 49.5908749, 48.00611000000001, 41.6893961, 9.7150631, 46.23824, 32.6906137, 50.0754452, -42.8821377, 32.060255, 31.230416, 39.4004621, -33.137551, 35.8854994, 39.63086699999999, 12.2153659, 20.593684, 30.85067, 37.5407246, 59.9138688, 40.6340026, 7.1453088, 8.787191199999999, 46.568114, 43.2951, 42.2042586, 40.3356483, 36.651216, -2.9001285, 39.350833, 30.169012, 16.7753609, 59.9138688, 40.014561, 35.8582865, 49.44323199999999, 41.5067003, 30.0444196, 55.341539, 48.936752, 40.8324211, -33.4192822, 64.5011111, 49.1390842, 50.8503396, 48.954408, 32.8872094, 35.86166, 22.308047, -7.9661053, 48.5479718, 4.0022157, 52.21115700000001, 41.1399814, 33.8305244, 41.3113669, 22.1834038, 26.820553, 46.029218, 41.49932, 34.8416435, 19.492, 52.3702157, 59.8056059, 9.9280694, -34.6266731, 36.2604623, 46.4398305, 34.6937378, 14.0675, 21.4691137, -22.9068467, 32.715738, 31.230416, 41.70753939999999, 39.07088, 52.7124708, -23.5505199, 39.4342818, 36.067108, 18.1960128, 51.075215, 36.6612387, 19.0412967, 6.51669, 29.56301, 51.376165, 22.396428, 55.6760968, 32.0547771, 38.7222524, 38.9237244, 40.24260719999999, 39.7392358, 41.2963728, 4.710988599999999, 29.56301, 0, 6.619519899999999, 40.7379299, 46.227638, 6.253040800000001, 7.200796799999999, 10.4805937, 14.7645042, 32.4609764, 49.2827291, 39.1201705, 66.1534796, 35.4430818, 40.7769271, 39.6048327, 43.295388, -34.6462173, 39.1156615, 35.0160783, 0, 28.0836269, 46.131859, 32.427908, -34.6558611, 40.29184300000001, -27.7882061, 59.8056059, 40.7127837, 55.604981, 44.4267674, 38.3730379, 26.7505337, 68.7986342, 31.7618778, 35.3737111, 37.6256827, 37.6283161, 55.12092939999999, 37.9463889, 34.0836708, 14.5377516, 35.5280783, 50.035896, 40.6491886, 39.5392979, 44.2785962, 59.54694439999999, 14.4832373, 45.5990565, 47.6062095, 33.0092216, 35.1495343, 24.880095, 16.7967121, 21.1250077, 48.856614, 51.5758719, 32.0835407, 36.5662811, 18.735693, 38.80331779999999, 41.805699, 36.778261, 32.3078, 30.3321838, 50.5760021, 43.5915707, 49.472447, 7.190708, 39.9611755, -1.4557549, 42.6886591, 51.4700223, 64.963051, 41.8781136, 62.21388889999999, -14.235004, 5.215209, 42.230243, 52.52000659999999, 52.7124708, 0, 42.83661, -27.452382, 39.9611755, 51.723391, 38.994349, 54.236107, 40.7970312, 10.6035234, 51.0057936, 51.5209866, 0, -1.4557549, 22.198745, 48.865149, -34.6036844, 36.067108, -14.5994134, 24.8614622, -41.2990517, 10.587508, 44.0553908, 40.5489742, -31.508056, 63.4305149, 55.5089021, -39.2817207, 53.544389, 53.4433284, 58.21138889999999, -37.4, 53.4083714, 30.0452462, 35.86166, 45.4654219, 25.0329694, 4.710988599999999, 36.91307560000001, 22.3156377, 40.4167754, 18.4655394, 41.87194, 47.6062095, -23.0011932, 38.6967833, -31.7653989, 31.206074, 18.3568552, 40.5815489, 56.170641, 59.64250000000001, 40.8256561, 48.3677441, 26.3351, 3.650676, 55.6760968, -9.9298454, 52.406822, 22.2833333, -13.53195, -28.166667, 52.52000659999999, -40.8755143, 45.0769607, 0, 39.074208, -27.5953778, 18.4655394, 41.1171432, -33.8558528, 19.0759837, 34.2506356, 47.6062095, 40.1219081, -28.8815983, -1.4080136, -1.3214443, 17.0506675, 4.710988599999999, 53.3503103, 53.5409298, 53.6948733, -4.4419311, 49.2768822, 19.0224223, -34.6123945, 41.1399814, 37.780411, 38.8799697, 41.0814447, 59.9138688, 45.5856077, 32.7766642, -14.235004, 38.1040864, 36.061089, 20.044002, 24.8538097, 38.9071923, 18.8504744, 48.9412151, 30.375321, 38.994349, -17.5790302, -18.1442811, 10.7201501, 62.399237, 56.511018, 50.0754452, 44.977753, 10.8230989, 51.48158100000001, 39.9333635, 44.63821, 22.6034621, 9.322961, 35.4430818, -2.0268289, 38.75388, 33.6890603, 1.2058837, 40.8598219, -14.7935051, 27.6648274, 10.886123, 26.0667, 26.0667, 42.1167065, -31.8738101, 35.1795543, 33.5731104, 32.2643375, -12.46388, 36.204824, -30.0346471, 28.033886, 38.24935809999999, 5.0902778, 30.43356, 43.100903, 35.6891975, 9.1898235, 45.8150108, 59.4021806, 32.6453356, 33.5731104, 45.49135, 51.5073509, 51.4700223, 45.8717628, 46.0038232, 44.775122, -7.2574719, 43.0759678, -13.53195, 27.514162, 29.6155598, 46.227638, 4.3946735, 20.593684, -23.3044524, 9.3191109, 16.4023332, 49.4991381, -27.7833574, -30.1531579, 6.1, 39.9525839, 47.6696057, 42.0924239, 23.69781, 64.02910539999999, 38.7216415, 9.081999, 6.675199999999999, 42.4999942, 22.267902, 9.321697000000002, 41.4036007, -27.5953778, -53.7860374, 4.710988599999999, 34.4437094, 38.3498195, 22.208065, 24.5550593, 41.079273, 35.0853336, 44.837789, -22.2302991, 33.4598415, -22.9068467, 6.253040800000001, 6.428055, 45.3270631, 40.3427932, 26.6528495, -10.9472468, 52.3555177, 34.193415, 35.86166, 57.0530556, 16.2639807, -17.4139766, -43.0988574, 48.83975700000001, -23.4336578, 37.579476, -23.5505199, 37.48521520000001, 39.5341789, 12.9715987, -16.489689, 20.3402389, -30.030286, 41.4036007, 49.1497222, 41.9973462, 16.9181251, 35.171723, 45.7124142, 51.7592485, 30.0444196, 22.572646, 47.3768866, 16.8070694, 39.7392358, -6.314992999999999, 40.6639916, 35.6891975, 42.2525629, 64.8377778, 33.4483771, 22.572646, -14.658228, 52.1306607, 53.243025, 40.6639916, -5.0487359, 35.3322177, 40.6639916, 37.598557, 3.8480325, 21.1458004, -18.9146078, 43.7101728, 10.3156992, 29.5688411, 48.8316351, 50.1109221, 36.7598084, 55.755826, 10.3401921, 16.4023332, 40.7127837, 36.204824, 23.831457, 18.4655394, 33.9791793, -7.336239, 28.7040592, 59.2089131, 4.597479, -23.5505199, -3.1190275, 20.5072923, 58.48795200000001, 52.38994, 55.3337678, -22.9068467, -16.8078452, 38.0176177, 32.630728, 13.1234679, 51.2868939, 9.234439499999999, 21.7991419, 56.49067119999999, -14.235004, 37.751853, 35.1982836, 13.330266, 47.186469, 37.566535, 61.2180556, 45.943568, 61.2422222, 47.2528768, 42.6977082, 32.3658167, 47.1301417, 25.7616798, 10.4805937, 35.6891975, 24.4458333, 54.59728500000001, 47.5301011, 42.0371544, 37.3110897, 39.30287939999999, 53.1355091, 20.690696, 44.885793, 30.0444196, 30.6953657, 24.8614622, 41.9242917, 24.3268117, 16.0544068, 48.1364139, 37.5875059, -23.5492651, -6.2555679, 18.0178743, -19.5354306, 26.1445169, 47.37565780000001, 21.0277644, 37.6909682, 22.9867569, 50.9946057, 28.6139391, 54.3150367, 32.5448714, 52.3702157, -27.3665763, 37.7799273, 0, -23.5505199, 35.7090259, 0, 30.6324149, 40.9676726, 39.89846199999999, 25.3223269, 54.2170944, 32.715738, 44.3863, 46.8451007, 14.22246, 21.0961842, 42.6525793, 39.9333635, 38.2526647, 50.1109221, 22.3686613, 25.6866142, 40.7127837, 37.4635519, -19.5722805, 54.8826778, 40.46366700000001, 21.1458004, 15.7390247, 16.616667, 47.3768866, 34.80207499999999, 34.352865, 40.345477, 51.80324419999999, 42.7781867, 5.070275, 33.7700504, 41.9027835, 50.0754452, 39.0997265, 43.06461470000001, 61.48691640000001, 36.0442999, 28.6139391, 43.75188319999999, 44.2555539, 1.3087643, -21.1424956, 38.8317815, 25.6866142, 36.9914194, 21.0277644, 38.803377, 50.3915811, -33.4488897, 19.6093003, -29.4097101, 22.572646, -40.9142336, -14.235004, 46.5546503, -23.5505199, 16.0544563, 51.081397, -12.9730401, 35.86166, 62.9532043, 38.7216415, 14.058324, 15.1105068, 43.1535728, 56.511018, 44.0805434, 52.6105253, -22.9068467, 30.0444196, 44.2049744, 38.3365032, 39.325043, -36.8908218, -10.6776695, 44.4686696, 19.8833959, 48.1485965, 6.3585216, 40.7127837, 40.44062479999999, 55.495587, 55.755826, 52.28697409999999, 53.41291, 39.0836712, 41.6005448, -1.32278, 21.1458004, 4.9757165, 41.9027835, 35.0853336, -17.8251657, -14.8619237, 20.5260029, 4.211875, 31.4944026, 21.4389123, 44.504194, 30.42130899999999, 40.7298207, 3.9329945, 35.970029, -3.4, 10.1445691, 53.544389, 7.369721999999999, -25.2637399, 21.1250077, 17.0594169, 41.8781136, 41.39810809999999, 37.7252315, 51.6754966, 48.536616, -14.235004, 26.8133537, 20.8765931, 34.1808392, 0, 54.15325499999999, 30.7546215, 0, 62.45966499999999, -9.189967, 41.2983055, 48.2081743, 40.1672068, 47.6062095, 36.1699412, 24.7853679, 37.4522617, -1.4557549, 32.7343442, -23.5505199, 30.3321838, -42.91, 52.568437, 14.4803708, 45.764043, 63.74669300000001, 58.102996, 37.58366890000001, 35.8216306, 30.0444196, 36.2021047, 32.4924769, 26.6528495, 54.9987416, 18.1140272, 14.9798997, 40.44062479999999, 47.6062095, 60.41602469999999, -2.6377762, 51.5073509, 27.7172453, 45.4558019, 14.6349149, 40.2203907, 12.0021794, 36.0544445, 42.0964314, 39.9726147, -33.1231585, 20.8617622, 55.204498, 31.9453666, 36.7473114, 64.5011111, 51.6448241, 0, 23.831457, 34.5531284, 51.8771785, 62.4678828, 12.1972071, 4.570868, 47.5762223, 48.856614, 10.4805937, 0.869892, 49.1579401, 48.452186, 50.2278016, 44.0536734, 26.2361248, 36.2695388, -34.6036844, 11.5141431, 48.856614, 34.2586812, 40.7127837, 37.5586545, 48.0223129, 52.674688, 11.19996, 53.4807593, 10.3156992, -17.6869776, 59.8056059, -31.3301424, 36.7537703, -14.235004, 20.9673702, 29.7977778, 35.4655761, 51.3085798, 22.4896872, 40.4653704, -41.1334722, 61.156703, 28.6139391, 55.755826, 47.7136785, 39.2387164, 50.7208228, 30.8077878, -1.0381022, 34.8640316, 46.577985, 55.6760968, 26.2006043, 14.6572108, 9.1125961, 41.6355613, -34.9011127, 33.8937913, -30.0346471, 54.7877149, 40.4167754, 19.8301251, 51.454513, 0, 39.5696005, 52.3555177, -43.5320544, -36.231159, 56.130366, 8.162410999999999, 51.90522499999999, 21.4389123, -34.6036844, -1.4557549, -16.489689, -22.9068467, 33.9022367, 48.1351253, 43.941194, 39.7023111, 53.598398, 26.2124013, 31.3306218, 35.14726, 27.7172453, 25.7616798, 33.2101155, -0.1806532, 43.5250265, -0.6633333000000001, 49.7430385, 36.1699412, 28.6139391, 48.2335629, 33.5731104, 39.3142682, 28.4594965, 36.6997294, -22.9068467, 14.5995124, 20.6596988, 39.4562099, -25.4289541, 27.0897099, 42.1544318, 23.810332, 32.0947711, 36.204824, -21.0335047, 53.41291, 41.286106, 52.0515032, 40.3552211, 51.5073509, 13.444304, -7.2290752, 38.9071923, 35.4408005, 45.6669761, 34.5531284, 44.0782195, 11.15, -21.2664483, 55.5111372, 47.1030065, 41.4495955, 20.7546215, 42.7376608, -16.489689, -14.5994134, 40.5852602, 40.46366700000001, 50.764107, -17.8251657, -22.9068467, 15.5, 36.4625455, -22.9068467, 36.5832769, -38.0054771, 8.5698244, 31.9891204, 40.6327278, 30.0474332, 43.1535728, 40.7769271, 51.1531915, -18.489794, 12.1149926, 26.366554, 39.8873296, 4.055672299999999, 24.8332708, 31.5393701, 19.3692759, 38.5012085, 40.2249037, 39.6952629, 38.3498195, 39.3622348, -8.929933, -38.0054771, -9.138228699999999, 12.865416, -10.4333333, 45.4654219, 26.2124013, 20.593684, 24.8614622, 40.90648729999999, 41.3850639, -25.2637399, 32.4487364, 20.5270592, 14.0722751, -23.5505199, 44.837789, 52.0630435, 31.4637866, 34.9530337, 37.9838096, 38.0684692, 48.492501, 0, 49.839683, 33.8937913, 41.8781136, 41.2411897, 10.3910485, 41.2994958, 55.34222219999999, 41.9027835, -22.9068467, -2.9760735, -17.8348334, 28.375797, 34.0689908, 30.2731389, 37.34389060000001, 39.9333635, 18.4762228, -11.7365444, -16.290154, -22.9068467, 52.7124708, 49.839683, 8.0542, 35.7090259, 37.9485197, 8.049293, 13.7405282, -31.7653989, 25.0329694, 48.5479718, 4.710988599999999, 35.7344538, 1.574278, 8.9180089, 13.0234177, -35.0805157, 33.7489954, -21.1424956, 61.1725, -22.9068467, 39.76492229999999, 26.7505337, -0.1806532, 14.5995124, 7.673890800000001, -1.658501, 41.8794758, 44.0678288, -15.5641036, 50.4501, 31.2370612, 35.3387352, 14.7645042, -31.3854988, 13.4762824, 26.2123124, 55.755826, 19.091141, 42.7781867, 42.3517206, 42.7781867, 41.2979981, 61.52401, 46.87871759999999, 41.6639383, 27.5065119, -0.1806532, 14.5995124, -8.948941999999999, -34.4429759, 40.6000471, 48.1351253, 10.3156992, 14.4803708, 63.1606218, 41.436705, 32.7015142, -6.7352778, 37.4391648, 41.0720465, -7.2574719, 50.8503396, 10.4805937, -5.7792569, 49.606944, -34.7635133, 28.9230155, 47.2528768, 1.352083, 38.7222524, 30.0444196, 12.0021794, -34.6036844, 46.482526, 39.7392358, 33.5731104, -36.7749672, 52.7228375, 47.497912, 58.8887958, 18.6591233, 71.706936, 41.8008642, 9.1495559, 10.4625, 52.7124708, 33.9715904, -12.9906407, 41.8781136, 39.9333635, 42.5188823, 26.3351, 49.4469581, -8.0578381, 37.5407246, 18.220833, -22.9099384, 0.3301924, -33.8688197, 49.9928617, 50.58597, 12.1149926, 39.9333635, 57.2027778, -7.2574719, 7.196659599999999, -15.8358149, 54.1478418, -9.295763599999999, 10.9570221, 5.2843859, 40.6056632, 4.0510564, -32.5551758, 37.3927777, 41.9027835, 48.432856, 51.88, 19.4914108, 28.033886, 20.01693, 4.1513822, 6.199999999999999, 50.8197675, 21.916221, -20.2976178, 64.18140989999999, 30.0444196, -1.2920659, 48.1909223, 40.4769606, 48.732026, 42.6977082, 16.0144526, 43.4343234, 56.01528339999999, 41.2994958, 19.2031842, 40.6327278, 31.55460609999999, 20.593684, 13.7563309, 21.3069444, 43.60280789999999, 48.813071, 27.7172453, -22.9068467, 7.0617085, -9.189967, 48.5027313, 34.7297616, 41.0995019, 49.2257301, 47.9668398, -15.7501897, 23.0064888, -14.5994134, 50.21329679999999, 14.5995124, 37.471274, 41.9242917, 55.755826, 16.0544563, 35.1814464, 39.2673283, 0.18636, 48.936752, -23.3901988, -12.046374, 40.7127837, 7.0617085, -3.1190275, 34.1808392, 52.2296756, 26.3556897, -15.7942287, 51.9244201, 42.0396042, 70.1266685, -23.5505199, 41.115791, 66.89833329999999, 39.0997265, 38.2772663, 39.9333635, 37.7749295, 61.6478508, 25.7616798, 42.3600825, 7.190708, 36.0589486, 35.8400188, -17.5926979, 41.87194, 36.204824, 41.7188539, 59.9138688, 7.369721999999999, -23.5505199, 30.0724613, 55.12092939999999, 22.3431343, 25.045806, 45.943161, -45.0070278, 51.2562128, 51.9384783, -28.2580547, 43.16103, -37.6618199, 52.28697409999999, -22.817412, 20.1045601, 19.0606917, -33.8019444, 45.764043, 47.4941836, 33.1030212, 60.0793208, 25.7616798, 47.3214469, 42.6886591, 31.2745862, 39.158168, 43.296482, 40.702677, 24.088938, 80.57666669999999, 51.063138, 61.92410999999999, 45.6397183, 39.9613759, 39.60677889999999, 33.5450587, 30.0444196, 34.0522342, -34.0957811, 34.5400242, 39.9333635, 29.6516344, -22.0227557, 26.5416093, 42.331427, 33.4930043, 8.0106213, 22.7674278, 46.2630502, 30.205062, 33.2395578, 47.2692124, 39.0003616, 4.710988599999999, 41.8781136, 42.3600825, 29.2366172, 46.4083362, 36.4093047, 40.82238299999999, 59.8056059, 9.562389, 26.2361248, 64.61749999999999, 37.7799273, 8.6166667, -12.046374, 15.079409, 7.8002682, 30.7487884, 42.2292572, 24.1631651, 39.5696005, 36.6915262, 35.9606384, 36.0092653, 39.5296329, 37.5407246, 36.1626638, 61.7697336, 41.5784425, -15.5641036, 50.6909848, -22.3596549, 13.8559883, 5.089545999999999, 37.0012828, 8.9806034, 45.7983273, 34.2055857, 44.7891785, 37.0175227, 36.1699412, 47.302052, 56.245748, 41.9027835, -4.4419311, 36.0625795, -15.5641036, 16.0544068, 11.6892241, -5.900771700000001, 37.7749295, 9.9067054, 42.331427, 35.4675602, 64.8377778, 37.68717609999999, 24.0277202, 37.974, 9.322601599999999, -33.7833333, 40.5921928, 25.7616798, 36.204824, 40.58290239999999, 13.6828973, 55.4476518, 45.049641, 13.35, 18.4655394, 30.375321, 35.7594651, 40.3611643, 33.5138073, 50.4647217, 40.32674069999999, 47.6062095, 30.0444196, 32.4609764, 33.7455731, 37.7749295, 39.0997265, 51.7520209, 30.0444196, 51.581613, 41.2834704, 18.335361, 35.7346813, 11.4109251, 9.1011785, -15.6014109, 43.4501005, 50.73427, 22.396428, 60.19681050000001, 10.4117687, 8.151342099999999, -1.6332034, 15.0759838, 17.1305377, 13.1265044, 25.401949, 7.119349, 27.0897099, 21.0277644, 14.5995124, 51.5073509, 0, 41.7645366, 4.258637, 39.0836712, 68.9585244, 40.7607793, 20.7983626, 33.8302961, 40.7607793, 41.4300937, 28.4636296, 13.1057062, 35.189443, 13.1390621, 30.2752011, -2.9760735, 10.3910485, 18.594395, 46.818188, 14.058324, 42.12922409999999, 53.07929619999999, 35.553888, 34.0836708, 39.48308970000001, 28.7040592, 45.4654219, 35.7090259, 35.3605555, 34.0232056, 60.8491667, 37.9838096, 30.0444196, -25.2637399, 37.3662293, 32.715738, 20.4170831, 34.1742611, -12.2369022, 11.5346745, 48.3681223, 26.2124013, 41.15726859999999, 45.5016889, 30.35047509999999, 33.2737256, 12.879721, -36.8484597, -36.9402778, 39.9193885, 30.375321, 41.5644798, -17.5149607, 40.0608352, 45.7983273, 16.8531086, 61.2180556, 39.9617305, 16.0544068, -42.0037422, 58.3019444, 46.0569465, 36.6454669, 28.4689946, -22.3913, 4.710988599999999, 45.3488431, 16.0487665, 29.6993748, 41.9842123, 33.6444926, 42.5078592, 41.6820897, 33.8391574, 52.529864, 35.108493, 12.7854969, 48.1485965, 10.8230989, -22.7418249, 55.755826, 4.710988599999999, 16.014238, 10.84378, 40.3270572, 19.7070942, 36.1471544, -14.5994134, 50.1109221, 36.2021047, 35.0853336, 13.2656035, 19.4326077, 47.3768866, 41.0997803, 1.4748305, 14.0722751, 10.2990463, 6.2907432, 40.2364486, 24.8614622, 40.1083912, 14.058324, 42.224867, 46.056231, -33.0291582, 57.79000000000001, 33.5162315, 29.95106579999999, 34.426288, -12.046374, 38.0405837, 37.566535, 22.7888209, 35.3042606, 35.1855659, 41.2834704, 5.7160848, 8.1306038, 34.3333333, 40.7674987, 37.5001287, -23.6131175, 66.665374, 45.4215296, 42.5188823, 53.39331019999999, 10.8230989, 21.2854067, 53.3498053, 24.1426408, -4.0944897, 16.0487665, 53.3498053, 10.8230989, 41.67951860000001, 34.7540524, 18.3093394, 22.3246084, 10.6407389, -18.8791902, 35.3187279, 19.8833959, 19.8833959, 36.0544445, 60.47202399999999, 11.3848277, 48.954408, 36.72805830000001, 18.2608098, 18.3214856, 36.4349631, 33.5372433, 14.058324, -25.4289541, 34.502587, 51.049478, 22.396428, 39.1031182, 59.007735, 39.0661472, 58.3019444, 36.708006, 13.7829673, 19.5271549, -9.189967, 43.0730517, 22.2033221, 34.2509071, 52.3555177, 39.7392358, 18.787747, 10.7883447, 56.5046678, 29.95106579999999, 32.715738, 65.1719444, 16.7943472, 40.5071344, 30.7066802, 34.1665616, 48.4157509, -12.14, 10.289879, 49.2827291, 8.8855027, 25.0790108, 39.9541166, 20.333333, 56.17376609999999, 16.0144526, 11.9383716, 11.3209094, -20.882057, 41.8020956, 38.6270025, 52.3389979, 38.6270025, 55.755826, 10.289879, 51.4700223, -45.5712254, 34.5261465, 19.4326077, 52.3555177, 13.3743393, -22.5608807, 55.755826, 34.39888380000001, 30.283333, 31.8940478, 26.3351, 15.4394771, 45.552789, 33.8894598, 19.0759837, 32.2176855, 22.572646, 43.318334, 46.9641127, 14.058324, 38.1114322, 51.5073509, 26.1224386, 26.2361248, 6.5243793, -8.2116007, -35.675147, -8.0578381, 41.4963134, 45.4654219, 43.0389025, 48.53252149999999, 38.3498195, 33.8958492, 31.2652893, 9.7333906, 48.52427040000001, 60.0691756, 42.50479259999999, 40.7674987, 43.542493, 19.279619, 4.815554, 60.55444439999999, 14.058324, 14.058324, 36.1699412, 8.9680637, 40.3339589, 50.0754452, 38.423734, -8.1642601, 12.6661944, 43.7022451, 71.29055559999999, 37.7749295, 33.7455731, 16.5722464, 56.3527778, 59.7872222, 18.335361, 47.006054, 10.4805937, 41.9564953, 70.2556453, 61.2536352, 31.8667427, 41.8781136, -20.3106621, 23.7369164, 24.9739053, 61.0680556, 51.1719242, 41.9564953, 15.870032, 34.0522342, 16.4498, 34.0522342, 23.69781, 48.118146, 12.879721, 36.6060444, 22.9997281, 18.4655394, -14.5994134, 23.69781, 63.88277780000001, 10.6544509, 39.114053, 24.088938, 29.95106579999999, 25.0519283, 49.6680859, 16.7943472, 50.21329679999999, 41.7669671, -4.4419311, 55.4763889, 22.845641, 4.9015794, 14.9798997, -29.4333305, -33.1231585, 11.4696902, 39.86618259999999, 22.9664576, 38.1113006, 25.9662105, 43.4065012, 52.1998038, 46.2395793, 27.1766701, 33.7948364, 27.4367653, 71.29055559999999, 40.7127837, 65.565744, 21.9708333, 39.3642834, 34.8370347, 36.0544445, 5.7808097, 43.0895577, 19.1109553, -1.2782708, 55.755826, 41.7033177, 15.1105068, 15.870032, 4.508399, 39.5858806, 14.6254827, -23.3044524, 50.03312260000001, 15.8800584, 19.4326077, -16.489689, 5.7808097, 19.75, 39.7392358, 48.4758208, 56.2497222, 69.751221, 43.4889579, 6.601838, 10.4805937, 71.964027, 37.8071796, 45.18533619999999, 32.715738, 12.2387911, 19.8833959, 64.7194444, 59.32932349999999, 38.1670027, 36.2028267, -9.189967, 42.2011538, 20.5270592, 28.7040592, 67.66251299999999, 41.49932, 68.9585244, -27.4692131, 46.50732989999999, 54.1478418, 41.0748454, 4.570868, 48.44063999999999, 18.4860575, 40.6639916, -0.228021, 47.3768866, 46.4907973, -8.268177999999999, 16.0544068, 42.09868669999999, 36.9902621, 33.5731104, 55.00835259999999, 38.5631744, 19.85627, 14.5995124, 45.954499, -5.0122202, 17.700143, 34.931404, 2.0469343, 8.228020899999999, 45.552789, 54.1478418, 9.2169531, 14.0722751, 33.8920468, 32.8872094, 11.5528816, -10.4882805, 62.9532043, 41.8232432, 43.653226, -14.5994134, 33.4920276, 35.7090259, 43.2951, 36.1699412, 33.7293882, -13.53195, 25.0329694, 20.8800565, 24.8332708, 51.545198, 48.464717, 59.852122, 40.7127837, 18.2269224, 49.5129678, 56.26392, 16.0544068, 68.442055, 39.6960983, 25.0329694, 40.8728411, -26.2258734, 39.7589478, 39.6620397, 16.2376869, 38.4192496, 14.058324, 61.2180556, 12.2387911, 11.9008657, 23.810332, 28.7040592, 44.1598013, 30.375321, 18.335361, 30.375321, 36.7537703, 60.0793208, 32.687778, 40.5187154, 47.3768866, 44.735269, -10.6736449, 61.25595029999999, 38.2070148, 8.5698244], \"lon\": [-77.0810889, -74.4229266, -123.3656444, 3.515625, 11.2858917, 4.93622, 8.6879057, 26.5035023, 0.418397, -0.175948, 8.2472526, -1.212926, 3.7174243, 6.9565985, 3.515625, 4.9514271, -92.509514, 6.492338999999999, -81.516285, 13.0532149, 5.6587659, -74.2107006, -81.6943605, -77.9395179, -1.61778, -76.73191609999999, -0.357056, -74.7801645, -85.8307059, -74.1723667, -74.1723667, -74.4056612, -92.6493595, -81.6943605, -0.4666546, -76.93776, -74.4815438, -83.46104, -76.96081029999999, 3.106592, -0.3762881, -88.3125738, -105.5074905, -0.21396, 2.1734035, -93.1643869, -91.23958069999999, -5.353585, -115.7631232, 144.7477259, -73.59551499999999, -81.6943605, -109.2029043, -122.4194155, 1.444209, -0.2956928, 2.3522219, 145.2195321, 2.3522219, -76.28587259999999, 1.939705, 115.04908, -2.317364, 1.169456, -6.2885962, -86.158068, 12.3155151, -6.1473964, -5.0078451, 8.738635, 2.1734035, -104.8202462, -80.15144839999999, 2.17198, 26.1025384, -83.9521687, -1.1444927, 105.318756, -82.80852039999999, 18.0480105, -104.2568991, -78.6130821, -0.357056, -74.80698129999999, -95.712891, 3.125343, -85.8344383, -0.119711, 44.74518279999999, -0.4906855, -0.4906855, 3.691623, -0.4906855, 3.2080991, 19.040235, -81.51651269999999, 5.890159, -80.8880562, 1.613334, -84.6055076, 13.1431864, -0.357056, 121.0390178, 4.30927, 7.008163, 0.5529482, -74.0059413, 8.5597678, -0.357056, -7.092619999999999, -122.8755949, 3.057256, -6.8498129, 146.25, -115.2039579, -85.8344383, 10.4819945, 3.0587927, 8.9219942, 0.190898, -72.2600655, -74.422868, 11.857969, 11.8090005, -10.940835, -74.4518188, 7.752111299999999, 26.2623373, -85.14719339999999, -2.4637136, -3.74922, 2.213749, -74.5718073, -55.38349669999999, 1.2444909, 2.213749, -2.4637136, -98.00966199999999, -43.1728965, 1.583382, -77.04766959999999, -3.74922, -93.1499651, 7.3590901, 8.6821267, -95.85304409999999, 26.2623373, -0.119711, 5.291265999999999, -122.7604472, 5.890159, 138.6007456, -112.4455344, 11.0048276, 2.8214264, -79.92922329999999, 4.89236, -5.353585, -84.7480123, -80.86912730000002, -84.7480123, -100.8556857, -51.92528, -43.1728965, 11.4862361, -82.55517329999999, -85.3096801, 4.031696, -72.3023022, -117.8079872, 19.9223461, -79.95589679999999, -7.092619999999999, -74.1723667, -116.977248, -117.1610838, 19.503304, 3.0587927, -75.8301537, 2.1734035, 0.9652799999999999, -93.0899578, 9.3892445, -82.99879419999999, -103.2052272, 2.8948332, 39.7341543, 6.8362203, -114.6141315, -107.6081575, 57.7856677, -6.1473964, -116.1874241, -72.7567636, 9.7678687, -82.4857181, -122.6329356, -97.2878798, -0.067578, 9.012892599999999, -122.6614861, -81.3910999, 18.0480105, 13.404954, -101.8312969, -103.1129824, 47.5079055, -117.3794834, -5.3213455, -94.6274636, -72.6850932, 0.490709, -74.0776417, -58.3815591, -71.0588801, 14.8668836, -97.1499898, 121.0390178, -0.098234, -103.2517784, 2.0807123, 13.7372621, -6.1473964, -130.3208187, 1.441891, -86.86723390000002, -46.3288865, -118.58, 121.473701, 3.8003144, -122.1900892, 177.4180311, -98.62895700000001, -3.74922, 146.921099, -96.53528539999999, 10.451526, -118.3089661, 133.775136, -77.7783348, 94.34110009999999, -83.4932651, 6.996932699999999, -87.6297982, 147.5360981, -89.1316944, 25.48583, -84.5120196, -87.6297982, -122.2711137, -63.744311, -51.92528, -75.1196199, 18.9084618, -111.8910474, 117.12, -119.1005657, -89.9248303, 100.5017651, 3.0587927, -83.8088171, -88.78332999999999, -118.8648189, -80.1917902, -85.81555759999999, -121.6913439, -43.7056394, -90.19940419999999, -117.0619755, -80.63396379999999, 38.996815, -81.5365094, -85.1393513, -122.6764816, -118.3089661, -70.5688043, 35.5017767, 9.0576448, -105.0927275, -0.04285129999999999, 153.601977, -17.0362272, -65.316667, 1.419895, 10.451526, -90.7576112, -101.8312969, -108.6216666, 152.939753, 3.0587927, -74.1723667, -84.5499327, -98.7319703, -123.0867536, -68.8458386, -122.0807964, 2.8658393, 10.706471, -74.2693297, 14.5716691, 12.6384037, 2.3904096, -77.3466468, -103.7605204, 14.5057515, -87.06419919999999, 6.675242, -122.6764816, -106.0491893, 117.12, 36.311532, -88.7734493, 9.9936818, 31.4627576, 3.3970513, 3.684328, 5.107716, -111.8910474, -2.9472191, -89.8481652, -75.690601, -77.0427934, 120.5893348, -0.357056, -0.098234, -74.68404559999999, -60.94955400000001, 13.3133008, -118.3089661, -117.2897652, 8.8192095, -41.7007272, 121.54399, -94.891913, 143.0381, 145.6689636, 133.775136, 144.2555041, 150.5298387, -112.1072224, 13.6468979, -92.3340724, -75.9869609, 38.996815, -84.6715407, -79.9958864, 14.5528116, 10.451526, 33.8032762, 8.7189606, 2.0807123, 8.5749432, -104.7802645, -92.4810208, -83.6874562, 37.6173, -105.0260832, -87.8431155, -88.4016041, -75.5645737, 4.895167900000001, -89.3985283, 9.225458699999999, 104.195397, -94.94243790000002, -105.0260832, -149.4936733, -118.3089661, 144.6474729, -104.8202462, 26.2623373, -73.69178509999999, -104.8202462, -38.35625539999999, -86.21076719999999, -97.3307658, 4.987968, 0.68484, -0.098234, 11.933824, 29.9187387, -91.0209529, -61.700565, 8.738635, -97.13306829999999, -28.6731465, 101.492853, -98.7667481, -78.0228829, -79.71643259999999, -61.50192559999999, 7.686856499999999, 8.227511999999999, 2.583212, 7.5885761, 145.131, 13.003822, 9.732010400000002, 5.2144952, -73.6279072, 2.376579, -102.552784, -90.19940419999999, -76.8259652, 7.636579199999999, 21.824312, -0.357056, -104.7802645, -88.1535352, -102.552784, 10.5115698, 37.6173, 11.07675, -0.1277583, 5.724524, -7.676711500000001, -0.098234, -111.8910474, -116.1193327, -74.8023882, -96.79698789999999, 118.796877, -118.5400404, -118.5400404, -0.6337376, -122.4194155, 153, 149.5775008, 4.593407, -75.5393155, 10.451526, -74.3112574, 9.1829321, -77.8344829, 4.23251, 31.3713164, -79.901527, 114.6702778, -81.0228331, -66.3377522, 152.939753, 21.824312, 104.7754307, -110.8437819, 8.466039499999999, 2.928656, -0.098234, 17.9417616, 1.400246, 121.0390178, 8.6821267, -111.0429339, -170.711503, -81.9421524, -118.4980744, 32.4229656, 5.36978, -100.2596935, 2.100645, -119.6562684, 78.46093929999999, 144.95, 2.578342, 13.6068672, -99.040554, 174.7936872, -118.5400858, -46.63330939999999, -81.6943605, 10.451526, -124.8603738, 29.5107708, -70.1125, -108.5006904, 9.012892599999999, 24.96676, -74.072092, 34.7679568, 144.793731, 130.2191303, 21.6273123, 10.1227652, -48.8255373, 26.1025384, 17.8772696, 104.195397, 146.0285223, 149.5775008, 9.578025700000001, 8.105754, 145.36, -2.9262307, -73.6279072, 4.767424099999999, -104.6188944, 149.5775008, 44.3614875, -122.8069356, 138.9738577, 4.895167900000001, 130.8456418, 2.3522219, -105.8405582, -43.1728965, 132.2715145, 18.0480105, 4.4176727, -75.1538939, -74.0519917, -97.5164276, -7.981084500000001, 35.529562, -7.981084500000001, -79.9223592, 3.5709125, 9.173238399999999, 2.1734035, -43.1728965, 12.5683371, 74.3571581, 9.732010400000002, 3.515625, -1.117547, -5.353585, 14.4868883, -9.7595041, 115.2126293, 58.73736339999999, -4.6288602, -118.4164652, 25.013607, -0.258658, 107.75, 9.732010400000002, 149.1300092, 23.6236353, -77.636657, 119.398525, 13.404954, -111.8721601, 14.0373888, -43.1728965, 18.0480105, -87.6297982, 22.937506, 21.9189438, 100.8846633, -93.4010371, -89.058273, -84.3879824, 10.3950528, 18.350464, -28.6731465, 26.1025384, 135, -5.2108573, -4.629179000000001, -46.63330939999999, 2.213749, -5.605373999999999, -66.1057355, -96.76780389999999, -81.18265269999999, -80.1917902, -115.1398296, 124.8420794, 117.1436154, 123.6070329, 123.6070329, -4.1426565, 153.133333, 81.826172, 122.235852, 128.122778, 102.832892, 131.833333, -111.8910474, -105.8405582, -81.64371969999999, 153.5983166, -3.117897, 3.0587927, -104.5005407, 0.5630741, -3.433149, 3.9916667, 102.832892, -66.35870560000001, -55.3440853, -116.5452921, 8.468945999999999, -112.0929961, 16.3738189, -9.1393366, -53.9666667, -28.6731465, -123.2077831, -73.871483, -54.6103488, -122.3320708, -9.1393366, 119.922796, 83.9310623, 153.012126, 147.1914623, 0.0026356, -79.18309099999999, 149.1682653, 32.5598994, 32.5598994, -5.353585, -6.1188074, -86.3533242, 26.0128616, 146.8169483, 104.195397, 3.515625, -43.1728965, -94.7976958, -79.3489317, 88.36389500000001, -87.46695869999999, -68.247412, 18.643501, -84.9877094, 73.8567437, 102.832892, 102.832892, 147.1914623, 131.6769706, 150.2743921, -112.7625703, 20.4418579, -90.0489801, 104.195397, 23.8584737, 141.3470159, -165.4063889, 20.4418579, 10.9347012, -73.567256, 104.195397, 88.36389500000001, -1.242834, -1.865804, 0.183333, 102.832892, 110.179954, -51.2176584, -28.6731465, -4.956053, 179.198128, -99.09676259999999, -75.7284267, 1.5985, -2.868558, -4.6142139, -46.63330939999999, 20.4418579, 145.373333, -149.4936733, -34.8322058, 5.04148, 95.62739510000002, 18.1726501, 151.2092955, 8.321121, 19.503304, -3.023009, -119.6456844, 8.6269273, 0.00878, -87.0624261, 37.906193, 13.003822, 95.2710558, -118.451357, -28.6731465, -0.357056, 95.2710558, -61.50192559999999, -118.3089661, 104.195397, 102.832892, 124.3310364, 144.4937398, 11.0160694, 0.2369247, -122.2711137, -43.89830310000001, -7.589843399999999, -81.5148368, 151.2639294, 102.832892, -79.95589679999999, 115.8604572, -100.4059384, 11.5819806, -1.1743197, -77.0368707, 146.8760951, -0.732073, 2.788831, 141.3470159, -6.1540241, 104.195397, 114.6149715, -1.960769, 77.5945627, -99.9018131, -28.6731465, 34.7679568, -79.7625625, -74.0059413, -100.9855409, -61.0587804, -99.1352383, -79.7625625, 141.3470159, -101.0681058, 143.95555, 104.195397, -81.9498042, -0.8693995, -1.6777926, 4.4787175, 116.407395, -28.6731465, 113.264385, 78.96288, -76.3726891, 104.195397, 8.4400257, 83.1179848, -97.39638099999999, 12.3184727, 13.866845, 10.9856254, -65.4499197, 150.7679216, 0.4489254, -0.9616969999999999, -81.20786989999999, -108.5006904, 10.6653012, 18.5581899, -74.0059413, -86.80248999999999, 125.323544, 5.36978, -72.9106202, -114.523843, 0.199556, -106.4140868, 122.8986812, -63.13107040000001, -116.334462, 14.4140315, 147.3271949, 118.796877, 121.473701, -120.183811, 81.826172, 14.373372, 118.180194, -85.1660825, 78.96288, -86.87483999999999, -77.4360481, 10.7522454, 14.6026805, 3.3590446, -79.55753419999999, 4.6824329, -0.370797, -72.6162009, -75.9268747, 117.12, -79.00589649999999, -101.7101722, -85.75287829999999, 94.7381013, 10.7522454, -74.3112574, 14.4868883, 1.099971, -90.51513419999999, 31.2357116, 12.405246, 2.425377, -115.7631232, 149.5775008, -165.4063889, -102.9914807, 4.3517103, -54.6103488, 13.1913383, 104.195397, 113.9184808, -34.8322058, -58.5815353, 101.0159501, 5.9699231, -104.8202462, -4.835315400000001, -105.5911007, 72.9419965, 30.802498, 1.418574, -81.6943605, -118.8648189, -97.14999999999999, 4.895167900000001, -146.3786899, -84.0907246, -58.5943604, 59.6167549, -122.846783, 135.5021651, 121.4925, -78.6568942, -43.1728965, -117.1610838, 121.473701, -86.8950297, -89.61897839999999, -8.873067599999999, -46.63330939999999, -75.1212927, 120.382609, 120.5926679, 1.025608, -80.9239671, -98.20619959999999, -74.09996, 106.551556, -0.098234, 114.109497, 12.5683371, 118.7686301, -9.1393366, -75.5777033, -4.9097818, -104.990251, 13.2332657, -74.072092, 106.551556, 0, -75.97225999999999, 13.9486184, 2.213749, -75.5645737, 79.8736754, -66.90360629999999, -17.3660286, -84.9877094, -123.1207375, -75.2479061, -18.7519095, 139.3624889, -73.8739659, -76.11522889999999, 5.628112, -58.42902379999999, -77.56360149999999, 40.44654, 0, -80.60810889999999, 3.425488, 53.688046, -58.6167212, 97.04567899999999, -64.2739241, -146.3786899, -74.0059413, 13.003822, 26.1025384, -110.7140391, 51.6834275, 16.5414503, -106.4850217, -83.22598029999999, -0.9965839, -112.1676947, -131.4855123, 23.8166667, 74.7972825, 121.0013794, -108.7425843, 2.02821, 14.6117112, -75.667356, 28.6177131, -139.7272222, 121.0213813, 7.940853499999999, -122.3320708, -80.10517089999999, -90.0489801, 102.832892, 82.22528989999999, -101.6859605, 2.3522219, -0.421236, -81.09983419999999, 3.5913939, -70.162651, -76.98972780000001, 123.431472, -119.4179324, -64.7505, -81.65565099999999, 9.1929424, 10.4756991, -1.289561, 125.455341, -82.99879419999999, -48.4901799, 2.8948332, -0.4542955, -19.020835, -87.6297982, -144.1288889, -51.92528, -73.5946249, 9.119824999999999, 13.404954, -8.873067599999999, 0, 2.665048, 29.1506941, -82.99879419999999, -0.534632, -1.8585424, -4.548056, -76.41189609999999, -66.99284399999999, 4.6320416, -0.4159848, 0, -48.4901799, 113.543873, -64.210583, -58.3815591, 120.382609, -28.6731465, 67.0099388, 174.1124665, -66.9213628, -91.6663523, -76.811915, 150.68, 10.3950528, -4.6109806, 175.5685104, -113.4909267, -1.948907, -136.6483333, 144.583333, -2.9915726, 72.3488721, 104.195397, 9.1859243, 121.5654177, -74.072092, 21.6963472, 114.365341, -3.7037902, -66.1057355, 12.56738, -122.3320708, -44.3019383, -76.8477485, -52.3375886, 29.881599, -64.8988454, -74.0960875, -4.900365, -151.5483333, -73.69818579999999, -53.35873609999999, 17.228331, -76.85063699999999, 12.5683371, -76.24326529999999, -1.519693, 114.2, -71.96746259999999, 153.533333, 13.404954, 175.0667946, 7.7680241, 0, 21.824312, -48.5480499, -66.1057355, 16.8718715, 150.9948543, 72.8776559, -118.61481, -122.3320708, -74.651754, -50.36418030000001, -48.4445409, -78.5788601, 54.1065864, -74.072092, -6.2719649, -2.1113659, -95.6765487, 15.2662931, -69.9596138, -98.62790129999999, -59.90200669999999, -104.8202462, -25.4970466, -77.1067698, -81.51900529999999, 10.7522454, 4.998507, -96.79698789999999, -51.92528, -122.2566367, 103.834304, 110.198293, 67.775756, -77.0368707, -97.1036396, 2.4970711, 69.34511599999999, -1.8585424, -65.5796972, 49.3957836, 122.5621063, -140.371697, 3.515625, 14.4140315, -93.2650108, 106.6296638, -3.17909, 32.8597419, -1.250625, 88.4476565, -74.570544, 139.3624889, -78.74762079999999, -27.0869431, -78.8866943, -77.285787, -74.0593075, -39.0463797, -81.5157535, -72.85151499999999, 50.5577, 50.5577, -86.45418939999999, 116.7774281, 129.0756416, -7.589843399999999, 75.64211209999999, 14.16529, 138.252924, -51.2176584, 1.659626, -122.0399663, 101.7663889, 30.2426185, -75.232664, 51.3889736, 167.4242972, 15.981919, 13.5114977, 130.958688, -7.589843399999999, -92.7854919, -0.1277583, -0.4542955, 6.894019399999999, -112.5347776, 5.839061, 112.7520883, -107.2902839, -71.96746259999999, 90.433601, 52.4981131, 2.213749, 18.5581899, 78.96288, -51.1695824, -70.60329949999999, 120.5960071, -119.5937077, -64.264167, 30.0694123, 101.1333333, -75.1652215, -117.8777336, 11.7954132, 120.960515, -21.9684626, -27.2205771, 8.675277, -74.84211, -96.40030689999999, 114.2111864, -75.294467, -95.0138776, -48.5480499, -67.7002243, -74.072092, -119.7247661, -81.6326234, 114.260281, -81.7799871, -85.1393513, -106.6055534, -0.57918, -50.8950739, -94.4154787, -43.1728965, -75.5645737, -9.429499000000002, 14.442176, -105.6836389, 92.7925592, -37.0730823, -1.1743197, -77.8344829, 104.195397, -135.33, -0.0279867, -66.1653224, 147.7320958, 1.165705, -45.0838481, -122.0246772, -46.63330939999999, -122.2363548, 2.8577105, 77.5945627, -68.11929359999999, -102.2083074, 29.6035495, -95.0138776, -124.0511111, 21.4279956, -89.8926065, -103.7249662, 3.0155825, 19.4559833, 31.2357116, 88.36389500000001, 8.541694, -98.7350079, -104.990251, 143.95555, -74.2107006, 51.3889736, -78.80558959999999, -147.7163889, -112.0740373, 88.36389500000001, 49.6452092, -3.7837117, -131.820879, -74.2107006, 18.7838572, 139.1505999, -74.2107006, 13.2907835, 11.5020752, 79.0881546, -48.2753801, 7.261953200000001, 123.8854366, -97.9647269, -64.4869016, 8.6821267, 3.0626481, 37.6173, -68.74530639999999, 120.5960071, -74.0059413, 138.252924, 91.2867777, -66.1057355, -118.032844, -47.4638414, 77.10249019999999, 9.605752599999999, 101.090106, -46.63330939999999, -60.0217314, -13.052978, 19.863281, 0.537442, -1.5844757, -43.1728965, -49.9198367, 12.537202, 73.01176650000001, 32.650351, -0.7526149999999999, -78.19262499999999, 31.3713164, -4.2026458, -51.92528, 128.8760574, -111.651302, 14.1001326, -122.457878, 126.9779692, -149.9002778, -108.3423516, -148.1933333, -122.4442906, 23.3218675, -64.7005543, -119.2780771, -80.1917902, -66.90360629999999, 51.3889736, 118.3761111, -5.93012, -122.0326191, -111.395956, 13.5765475, 9.198013399999999, -57.6604364, 101.9861694, -0.6488149999999999, 31.2357116, -88.0398912, 67.0099388, -72.6454469, 92.0126276, 108.2021667, -53.61288949999999, -122.0657543, -46.9331962, 29.5107708, -76.8099041, 45.46157849999999, 91.7362365, -121.8684444, 105.8341598, -122.3107517, 87.8549755, -4.5338098, 77.2090212, -130.3208187, -94.36741839999999, 4.895167900000001, -70.3321587, -121.9780153, 0, -46.63330939999999, 139.7319925, 0, -87.03968809999999, 126.5990916, 32.875086, 55.5136433, -9.2158713, -117.1610838, 6.650462999999999, -122.6562348, -88.549629, -89.5756987, -73.7562317, 32.8597419, -85.7584557, 8.6821267, 103.3119085, -100.3161126, -74.0059413, -122.4285862, -65.7550063, -1.6003726, -3.74922, 79.0881546, -88.59554179999999, 145.616667, 8.541694, 38.996815, 62.20402869999999, 26.6843049, -0.6016020999999999, 10.1927389, -75.5138166, -118.1937395, 12.4963655, 14.4140315, -94.5785667, 141.3468074, -150.6544934, 14.2512221, 77.2090212, -105.4913345, 6.925440999999999, 103.8728273, 149.1821469, -76.611351, -100.3161126, 35.3308285, 105.8341598, 15.2326454, -105.5348562, -70.6692655, 103.7289167, -66.892833, 88.36389500000001, 175.0083802, -51.92528, 15.6458812, -46.63330939999999, 108.0717219, 1.169456, -38.502304, 104.195397, -155.5959922, -27.2205771, 108.277199, 105.8172881, -93.20103669999999, 3.515625, -103.2310149, -9.1051123, -43.1728965, 31.2357116, 7.5750549, -75.0849058, -76.6448018, 145.164489, -76.26127629999999, -71.18507679999999, 102.1346874, 17.1077477, -63.580611, -74.0059413, -79.9958864, -4.6142139, 37.6173, 104.3050183, -8.24389, -84.5085536, -93.6091064, -69.578549, 79.0881546, 8.3417006, 12.4963655, -106.6055534, 31.03351, -40.8445346, -104.7892254, -76.318513, -91.28630539999999, -158.0000565, -123.551139, -87.2169149, -73.2103934, 108.1812242, -78.81590159999999, 39.95, -64.67768, -113.4909267, 12.354722, -57.57592599999999, -101.6859605, -96.7216219, -87.6297982, 23.2066849, -92.1646722, 39.2088823, 8.5479869, -51.92528, 85.4839604, 95.8601611, -118.3089661, 0, -113.125807, 20.2265469, 0, -114.3821062, -75.015152, -106.1416774, 16.3738189, -105.1019275, -122.3320708, -115.1398296, 141.319448, -120.7018349, -48.4901799, -80.2417651, -46.63330939999999, -81.65565099999999, 147.6, -65.8789649, 121.0390178, 4.835659, -68.5169669, -68.41883899999999, -121.9871217, 14.4810648, 31.2357116, 37.1342603, 74.5310403, 92.7925592, -1.9262191, 75.03190860000001, 102.0977693, -79.9958864, -122.3320708, -150.3734777, -56.7295262, -0.1277583, 85.3239605, -75.5047333, -90.5068824, -74.0120817, 8.591956099999999, -112.1401108, -83.2918744, -74.58293309999999, -64.3493441, 96.0520363, -162.7183867, 35.9283716, -95.98081789999999, -165.4063889, -0.3030097, 0, 91.2867777, 18.0480105, 0.1783494, 11.2384101, -86.75797870000001, -74.297333, 8.521980899999999, 2.3522219, -66.90360629999999, -73.8419063, -121.9514666, 2.474807, 11.0222093, 12.5968588, 50.0393017, -95.8547119, -58.3815591, -85.58179109999999, 2.3522219, -118.288508, -74.0059413, 126.7944739, -123.0060075, 1.225551, -72.64994999999999, -2.2426305, 123.8854366, -66.5075079, -146.3786899, -54.1004622, 3.0587927, -51.92528, -89.5925857, 35.3175, 44.38039209999999, -0.8554145999999999, 88.38947689999999, -3.5951518, -71.3102778, -45.4254299, 77.2090212, 37.6173, 9.4149697, -77.27942879999999, -127.4966666, 73.4467201, 135.9800848, -116.888098, -71.62476199999999, 12.5683371, 92.9375739, -86.21076719999999, -70.4022789, -70.9193397, -56.16453139999999, 35.5017767, -51.2176584, -6.4923145, -3.7037902, -90.5349087, -2.58791, 0, 2.6501603, -1.1743197, 172.6362254, -61.12060200000001, -106.346771, 123.7741195, 0.19691, -158.0000565, -58.3815591, -48.4901799, -68.11929359999999, -43.1728965, -118.081733, 11.5819806, 1.9921422, -31.1080244, -2.554762, 127.6809317, 32.0496521, -107.8514466, 85.3239605, -80.1917902, -97.75475519999999, -78.4678382, -84.1227598, -78.715, 10.3490014, -115.1398296, 77.2090212, 2.625239, -7.589843399999999, -77.6277679, 77.0266383, 3.0576199, -43.1728965, 120.9842195, -103.3496092, -77.96388689999999, -49.267137, 75.6935323, -72.5784089, 90.4125181, 20.1879106, 138.252924, -47.7768767, -8.24389, -70.096328, 113.4711906, 43.9915853, -0.1277583, 144.793731, -35.8808337, -77.0368707, 139.231161, 5.5524524, 18.0480105, -116.9337711, -72.2422222, -63.45081070000001, 47.4975961, -54.1859324, 12.6197253, -75.737149, 12.9364422, -68.11929359999999, -28.6731465, -105.084423, -3.74922, -1.771998, 31.03351, -43.1728965, -91.9158333, -82.19349969999999, -43.1728965, -118.7156531, -57.5426106, -71.1804988, 35.806491, 17.9417616, -99.1403189, -93.20103669999999, -73.8739659, -0.1681955, -69.5266907, -86.2361744, 94.91362, 4.259619499999999, 16.1092127, 92.7789054, -82.4623557, -99.2336948, 43.3729793, -1.7435392, 3.0175712, -81.6326234, -76.3692987, -74.70590589999999, -57.5426106, -78.1835179, -85.207229, -77.85, 9.1859243, 127.6809317, 78.96288, 67.0099388, -72.74343309999999, 2.1734035, -57.57592599999999, -99.73314390000002, -97.4629119, -87.19213599999999, -46.63330939999999, -0.57918, -176.0965562, -96.0580197, -120.4357191, 23.7275388, -78.8894682, -67.743253, 0, 24.029717, 35.5017767, -87.6297982, -77.00107860000001, -75.4794257, 69.2400734, -131.6461111, 12.4963655, -43.1728965, 104.7754307, -60.7504879, 93.24786399999999, -78.13262540000001, 19.014857, -77.071268, 32.8597419, -77.8938895, 130.4312584, -63.58865299999999, -43.1728965, -8.873067599999999, 24.029717, -76.6872999, 139.7319925, -86.7671845, -75.57405, -84.7811621, -52.3375886, 121.5654177, -58.5815353, -74.072092, -81.3444573, 30.23973359999999, -67.4158925, 23.8584737, -69.5828236, -84.3879824, 149.1821469, -148.2683333, -43.1728965, -74.2693297, 51.6834275, -78.4678382, 120.9842195, 36.8357927, 29.2204548, -87.81367, 12.5695158, -68.0188096, 30.5234, -6.126192500000001, 25.1442126, -17.3660286, -57.9600793, 144.7502228, 127.6791568, 37.6173, -98.881554, 10.1927389, -71.0899142, 10.1927389, -112.0860538, 105.318756, -113.996586, -83.55521200000001, 83.43767489999999, -78.4678382, 120.9842195, -54.901562, -59.44724660000001, -74.054907, 11.5819806, 123.8854366, 121.0390178, 21.8418931, -74.032629, -117.2076961, 107.5847222, -4.1929216, -71.85728809999999, 112.7520883, 4.3517103, -66.90360629999999, -35.200916, 11.256389, -72.0797766, 9.7678687, -122.4442906, 103.819836, -9.1393366, 31.2357116, 8.591956099999999, -58.3815591, 30.7233095, -104.990251, -7.589843399999999, -59.8540382, 174.1123656, 19.040235, 5.6530475, 104.6095976, -42.604303, -87.9370052, 39.0241756, -84.7033333, -8.873067599999999, -6.8498129, 28.6498144, -87.6297982, 32.8597419, 2.456656, 17.228331, -2.6020901, -34.8828969, -77.4360481, -66.590149, -47.0626332, 6.733343, 151.2092955, 8.2472526, 3.80609, -86.2361744, 32.8597419, -153.3038889, 112.7520883, 35.4288797, -67.5648932, 25.2991586, -75.99785899999999, -63.8699655, -75.259705, -73.8713099, 9.7678687, 26.7525915, 34.63, 12.4963655, 0.091266, -176.6580556, 132.5509603, 1.659626, -75.8301537, -73.63769049999999, -77.2, -1.0879769, 95.955974, -40.2957768, -51.694138, 31.2357116, 36.8219462, 11.8630208, -93.0032614, 2.407557, 23.3218675, -61.7064109, 39.9339462, 92.8932476, 69.2400734, 73.87425, 17.9417616, 74.3571581, 78.96288, 100.5017651, -157.8583333, 39.7341543, 3.083497, 85.3239605, -43.1728965, -73.8519319, -75.015152, 135.0662599, 135.4561612, -80.9703684, 16.5820491, -117.3316058, -67.6744192, 72.4583605, -28.6731465, -66.3757921, 120.9842195, -5.6418214, -72.6454469, 37.6173, 108.0717219, 136.906398, -76.7983067, 6.613080999999999, 2.425377, -45.66274500000001, -77.0427934, -74.0059413, -73.8519319, -60.0217314, -118.3089661, 21.0122287, 127.7678754, -47.8821658, 4.4777325, 9.012892599999999, -143.663435, -46.63330939999999, -112.4768287, -162.5966666, -94.5785667, -76.42295, 32.8597419, -122.4194155, 50.8339029, -80.1917902, -71.0588801, 125.455341, -88.09781509999999, 50.9390906, -69.44418999999999, 12.56738, 138.252924, 13.6130491, 10.7522454, 12.354722, -46.63330939999999, 31.27119969999999, -131.4855123, 73.1910115, 102.710002, 24.96676, -72.5102888, 7.150763599999999, 8.868637999999999, -52.4096248, -77.6109219, 175.8514993, 104.3050183, 47.81803800000001, 100.5957288, 72.8362497, 19.1344444, 4.835659, -111.2833449, 139.8035566, 31.8926644, -80.1917902, 8.156860500000002, 2.8948332, 74.8565613, -75.5243682, 5.36978, -73.7889689, 32.8998293, 57.66972219999999, -2.079703, 25.748151, -73.8439099, -105.5108312, -75.83327179999999, 68.4173972, 31.2357116, -118.2436849, -59.0242302, -112.4685025, 32.8597419, -82.32482619999999, -63.6775234, -78.64554749999999, -83.0457538, 75.1924755, 124.297718, 88.3883455, -106.6819793, -90.11206960000001, 131.609272, 11.4041024, -119.9525689, -74.072092, -87.6297982, -71.0588801, -89.9872941, -105.8405582, -80.20588310000001, 14.4289058, -146.3786899, 44.0770134, 50.0393017, -162.2605556, -121.9780153, -80.1166667, -77.0427934, 120.6199895, 122.5361395, -99.230611, -72.7300929, 120.6746691, 2.6501603, -79.8725386, -83.9207392, -83.0923775, -119.8138027, -77.4360481, -86.7816016, -149.9910633, -70.55864009999999, -68.0188096, 142.9505689, -42.573615, 100.8619689, -76.652079, -3.2665353, 38.7577605, 24.1255826, -112.3384991, 20.4418579, -103.8844083, -115.1398296, -53.986824, 12.863881, 12.4963655, 15.2662931, -94.1574263, -68.0188096, 108.2021667, 122.367428, -76.1129048, -122.4194155, -83.6800512, -83.0457538, -97.5164276, -147.7163889, -97.33005299999999, -104.6531759, 22.207, 13.393389, -69.9166667, -73.5086111, -80.1917902, 138.252924, -74.0738631, 122.9663018, 78.3113874, -63.15634900000001, -81.3666667, -66.1057355, 69.34511599999999, -5.833954299999999, -83.7596557, 36.2765279, -3.5107318, -78.9219698, -122.3320708, 31.2357116, -84.9877094, -117.8678338, -122.4194155, -94.5785667, -1.2577263, 31.2357116, -122.237828, -70.099451, -64.95340089999999, 140.8266406, 122.2880726, -79.4028639, -56.0978917, -87.22201869999999, 5.20969, 114.109497, -150.8891803, 123.000095, 35.5356866, -77.010385, 108.7125791, -61.87868529999999, 108.878915, 68.36578759999999, -73.1227416, 75.6935323, 105.8341598, 120.9842195, -0.1277583, 0, -95.0466154, -74.548675, -84.5085536, 33.0826598, -111.8910474, -156.3319253, -116.5452921, -111.8910474, -73.6801297, -16.2518467, 109.295048, -114.0530065, 123.7437995, -98.8719843, 104.7754307, -75.4794257, -72.3074326, 8.227511999999999, 108.277199, -80.085059, 8.8016937, 139.8956943, 74.7972825, -88.37282549999999, 77.10249019999999, 9.1859243, 139.7319925, 138.7277777, -119.7657663, -146.8286111, 23.7275388, 31.2357116, -57.57592599999999, -81.1025918, -117.1610838, 104.04787, -97.14362539999999, -75.7455074, 108.0954351, -124.6249602, 127.6809317, -85.4883127, -73.567256, -89.15281759999999, -85.83607409999999, 121.774017, 174.7633315, -71.7236111, -105.7848893, 69.34511599999999, -87.5125412, -65.89471069999999, -95.60192939999999, 24.1255826, -99.8236533, -149.9002778, -82.4912676, 108.2021667, -65.07406619999999, -134.4197222, 14.5057515, -96.292242, -16.4459876, 143.0381, -74.072092, -121.9656525, 108.1858582, -91.20676999999999, -86.10862279999999, -85.5842385, -73.5065006, -69.95976639999999, 132.7655752, 13.052954, -77.04411429999999, 45.0186548, 17.1077477, 106.6296638, -46.8952876, 37.6173, -74.072092, 108.2031859, -75.1142325, -74.0373528, -155.0884869, 140.3725168, -28.6731465, 8.6821267, 37.1342603, -106.6055534, 108.600492, -99.133208, 8.541694, -80.6495194, 124.8420794, -87.19213599999999, 123.9638531, -10.7605239, -83.3671432, 67.0099388, -83.7524298, 108.277199, -121.7816704, 12.2818089, 27.8545867, -152.4072222, -90.1795281, -90.0715323, -117.5725628, -77.0427934, -84.5037164, 126.9779692, 5.5258107, 50.5006231, 33.38227639999999, -70.099451, -72.93112889999999, 125.1276536, 129.3333333, -73.833079, -80.11088149999999, -70.3814761, -61.35852399999999, -75.69719309999999, 2.456656, -2.1266325, 106.6296638, 39.2375507, -6.2603097, -110.3127531, -63.1446104, 108.1858582, -6.2603097, 106.6296638, -77.0638567, -77.4302414, 42.7662325, 114.1990482, 122.9689565, 47.5079055, -82.4609528, 102.1346874, 102.1346874, -112.1401108, 8.468945999999999, 107.8665322, -54.6103488, -108.2186856, 105.7175138, -65.2916451, 28.2174829, -92.8193216, 108.277199, -49.267137, -84.9510542, -0.723391, 114.109497, -84.5120196, 61.9316226, -84.70318879999999, -134.4197222, -119.5559652, 109.2196634, 102.8960712, -75.015152, -89.4012302, -159.4977455, -105.5966686, -1.1743197, -104.990251, 98.99312839999999, 106.6955799, 21.010806, -90.0715323, -117.1610838, -152.0788889, 106.963409, -117.1439942, 31.2447709, 132.2188479, -101.3386723, 44.25, 103.98402, -123.1207375, 80.2767327, 121.3881378, -112.1202235, 101.516667, 101.6038976, -61.7064109, 108.4591345, 122.5372741, 55.450675, -71.4218425, -90.19940419999999, -6.458228, -90.19940419999999, 37.6173, 103.98402, -0.4542955, -72.068265, -83.9843953, -99.133208, -1.1743197, 108.3989809, 17.0657549, 37.6173, -119.5184564, 72.466667, -96.71471269999999, 17.228331, 107.7932671, -84.7839364, -118.1597911, 72.8776559, -82.4134614, 88.36389500000001, -1.9812313, 142.7347556, 108.277199, -91.7604389, -0.1277583, -80.13731740000001, 50.0393017, 3.3792057, -35.5677787, -71.542969, -34.8828969, -71.3711656, 9.1859243, -87.9064736, 11.4977392, -81.6326234, -118.2200712, 32.3018661, -63.1914317, -122.9131636, 6.546234999999999, 27.4626361, -73.833079, 7.121620999999999, 166.6499348, 7.0498442, -151.2583333, 108.277199, 108.277199, -115.1398296, -83.52330359999999, -79.29975730000001, 14.4140315, 27.142826, -70.35293109999999, 108.0382475, -72.2895526, -156.7886111, -122.4194155, -117.8678338, 104.7705509, -133.6211111, -154.1061111, -64.95340089999999, -112.0691697, -66.90360629999999, -78.649163, -148.3384293, -149.8112528, -116.5963713, -87.6297982, 118.5878223, -99.14111539999999, 121.7183349, -151.1369444, -0.1646064, -78.649163, 100.992541, -118.2436849, 107.5623501, -118.2436849, 120.960515, -123.4307413, 121.774017, -118.0628654, 120.2270277, -66.1057355, -28.6731465, 120.960515, -152.3122222, -71.7147951, -94.6274636, 32.8998293, -90.0715323, -77.4013403, 19.5821187, 106.963409, -66.3757921, 129.723402, 15.2662931, -133.1483333, 89.5403279, -1.7830973, 102.0977693, -63.40000149999999, -64.3493441, 106.6527099, -74.8390162, 97.7525352, 15.6472914, -100.2908632, -124.2242803, -175.5593421, -119.1005657, 78.00807449999999, -83.713229, 85.0025539, -156.7886111, -74.0059413, -167.9505442, -159.715, -74.4229266, 5.751047499999999, -112.1401108, 6.8592236, -79.0849436, 102.9219684, -80.4243066, 37.6173, -93.05735330000002, 105.8172881, 100.992541, -73.349853, -85.8635919, 121.1244847, -51.1695824, -125.2733354, 108.3380469, -99.133208, -68.11929359999999, 6.8592236, 107.75, -104.990251, -81.3304953, -134.6444444, 61.66369599999999, -73.6065042, 3.3514863, -66.90360629999999, 102.440613, 23.9763412, -68.6166937, -117.1610838, 109.1967488, 102.1346874, -158.1030556, 18.0685808, 23.3389501, -119.0933292, -75.015152, -85.5800022, -97.4629119, 77.10249019999999, 134.65435, -81.6943605, 33.0826598, -58.8306349, 23.0041257, 25.2991586, -72.94605659999999, -74.297333, 0.54682, -69.93121169999999, -74.2107006, 15.827659, 8.541694, 9.8355079, -35.966695, 108.2021667, -75.91797380000001, -112.9757702, -7.589843399999999, 82.9357327, -76.0788292, 102.495496, 120.9842195, 13.014009, 141.3470159, -64.862723, -117.943543, 45.3181623, 124.2452422, -84.7839364, 25.2991586, -83.33618799999999, -87.19213599999999, -84.29881259999999, 13.1913383, 122.740723, -77.7498574, -155.5959922, 2.4900943, -79.3831843, -28.6731465, -105.3838716, 139.7319925, -0.370797, -115.1398296, 73.0931461, -71.96746259999999, 121.5654177, 106.5377839, 92.7789054, 3.6906292, 35.046183, 30.325527, -74.0059413, -66.3911686, -115.7694002, 9.501785, 108.2021667, 73.585419, -105.7258386, 121.5654177, -78.72419599999999, 28.1707794, -84.1916069, -75.5668166, -61.5340424, -82.44515400000002, 108.277199, -149.9002778, 109.1967488, 109.140438, 90.4125181, 77.10249019999999, 28.6348138, 69.34511599999999, -64.95340089999999, 69.34511599999999, 3.0587927, 31.8926644, 13.173889, -74.4120953, 8.541694, 4.599038999999999, -77.8173047, 73.38454709999999, 128.5918488, -71.1804988], \"mode\": \"markers\", \"text\": \"\", \"type\": \"scattergeo\"}],\n",
       "                        {\"geo\": {\"scope\": \"world\"}, \"template\": {\"data\": {\"bar\": [{\"error_x\": {\"color\": \"#2a3f5f\"}, \"error_y\": {\"color\": \"#2a3f5f\"}, \"marker\": {\"line\": {\"color\": \"#E5ECF6\", \"width\": 0.5}}, \"type\": \"bar\"}], \"barpolar\": [{\"marker\": {\"line\": {\"color\": \"#E5ECF6\", \"width\": 0.5}}, \"type\": \"barpolar\"}], \"carpet\": [{\"aaxis\": {\"endlinecolor\": \"#2a3f5f\", \"gridcolor\": \"white\", \"linecolor\": \"white\", \"minorgridcolor\": \"white\", \"startlinecolor\": \"#2a3f5f\"}, \"baxis\": {\"endlinecolor\": \"#2a3f5f\", \"gridcolor\": \"white\", \"linecolor\": \"white\", \"minorgridcolor\": \"white\", \"startlinecolor\": \"#2a3f5f\"}, \"type\": \"carpet\"}], \"choropleth\": [{\"colorbar\": {\"outlinewidth\": 0, \"ticks\": \"\"}, \"type\": \"choropleth\"}], \"contour\": [{\"colorbar\": {\"outlinewidth\": 0, \"ticks\": \"\"}, \"colorscale\": [[0.0, \"#0d0887\"], [0.1111111111111111, \"#46039f\"], [0.2222222222222222, \"#7201a8\"], [0.3333333333333333, \"#9c179e\"], [0.4444444444444444, \"#bd3786\"], [0.5555555555555556, \"#d8576b\"], [0.6666666666666666, \"#ed7953\"], [0.7777777777777778, \"#fb9f3a\"], [0.8888888888888888, \"#fdca26\"], [1.0, \"#f0f921\"]], \"type\": \"contour\"}], \"contourcarpet\": [{\"colorbar\": {\"outlinewidth\": 0, \"ticks\": \"\"}, \"type\": \"contourcarpet\"}], \"heatmap\": [{\"colorbar\": {\"outlinewidth\": 0, \"ticks\": \"\"}, \"colorscale\": [[0.0, \"#0d0887\"], [0.1111111111111111, \"#46039f\"], [0.2222222222222222, \"#7201a8\"], [0.3333333333333333, \"#9c179e\"], [0.4444444444444444, \"#bd3786\"], [0.5555555555555556, \"#d8576b\"], [0.6666666666666666, \"#ed7953\"], [0.7777777777777778, \"#fb9f3a\"], [0.8888888888888888, \"#fdca26\"], [1.0, \"#f0f921\"]], \"type\": \"heatmap\"}], \"heatmapgl\": [{\"colorbar\": {\"outlinewidth\": 0, \"ticks\": \"\"}, \"colorscale\": [[0.0, \"#0d0887\"], [0.1111111111111111, \"#46039f\"], [0.2222222222222222, \"#7201a8\"], [0.3333333333333333, \"#9c179e\"], [0.4444444444444444, \"#bd3786\"], [0.5555555555555556, \"#d8576b\"], [0.6666666666666666, \"#ed7953\"], [0.7777777777777778, \"#fb9f3a\"], [0.8888888888888888, \"#fdca26\"], [1.0, \"#f0f921\"]], \"type\": \"heatmapgl\"}], \"histogram\": [{\"marker\": {\"colorbar\": {\"outlinewidth\": 0, \"ticks\": \"\"}}, \"type\": \"histogram\"}], \"histogram2d\": [{\"colorbar\": {\"outlinewidth\": 0, \"ticks\": \"\"}, \"colorscale\": [[0.0, \"#0d0887\"], [0.1111111111111111, \"#46039f\"], [0.2222222222222222, \"#7201a8\"], [0.3333333333333333, \"#9c179e\"], [0.4444444444444444, \"#bd3786\"], [0.5555555555555556, \"#d8576b\"], [0.6666666666666666, \"#ed7953\"], [0.7777777777777778, \"#fb9f3a\"], [0.8888888888888888, \"#fdca26\"], [1.0, \"#f0f921\"]], \"type\": \"histogram2d\"}], \"histogram2dcontour\": [{\"colorbar\": {\"outlinewidth\": 0, \"ticks\": \"\"}, \"colorscale\": [[0.0, \"#0d0887\"], [0.1111111111111111, \"#46039f\"], [0.2222222222222222, \"#7201a8\"], [0.3333333333333333, \"#9c179e\"], [0.4444444444444444, \"#bd3786\"], [0.5555555555555556, \"#d8576b\"], [0.6666666666666666, \"#ed7953\"], [0.7777777777777778, \"#fb9f3a\"], [0.8888888888888888, \"#fdca26\"], [1.0, \"#f0f921\"]], \"type\": \"histogram2dcontour\"}], \"mesh3d\": [{\"colorbar\": {\"outlinewidth\": 0, \"ticks\": \"\"}, \"type\": \"mesh3d\"}], \"parcoords\": [{\"line\": {\"colorbar\": {\"outlinewidth\": 0, \"ticks\": \"\"}}, \"type\": \"parcoords\"}], \"scatter\": [{\"marker\": {\"colorbar\": {\"outlinewidth\": 0, \"ticks\": \"\"}}, \"type\": \"scatter\"}], \"scatter3d\": [{\"line\": {\"colorbar\": {\"outlinewidth\": 0, \"ticks\": \"\"}}, \"marker\": {\"colorbar\": {\"outlinewidth\": 0, \"ticks\": \"\"}}, \"type\": \"scatter3d\"}], \"scattercarpet\": [{\"marker\": {\"colorbar\": {\"outlinewidth\": 0, \"ticks\": \"\"}}, \"type\": \"scattercarpet\"}], \"scattergeo\": [{\"marker\": {\"colorbar\": {\"outlinewidth\": 0, \"ticks\": \"\"}}, \"type\": \"scattergeo\"}], \"scattergl\": [{\"marker\": {\"colorbar\": {\"outlinewidth\": 0, \"ticks\": \"\"}}, \"type\": \"scattergl\"}], \"scattermapbox\": [{\"marker\": {\"colorbar\": {\"outlinewidth\": 0, \"ticks\": \"\"}}, \"type\": \"scattermapbox\"}], \"scatterpolar\": [{\"marker\": {\"colorbar\": {\"outlinewidth\": 0, \"ticks\": \"\"}}, \"type\": \"scatterpolar\"}], \"scatterpolargl\": [{\"marker\": {\"colorbar\": {\"outlinewidth\": 0, \"ticks\": \"\"}}, \"type\": \"scatterpolargl\"}], \"scatterternary\": [{\"marker\": {\"colorbar\": {\"outlinewidth\": 0, \"ticks\": \"\"}}, \"type\": \"scatterternary\"}], \"surface\": [{\"colorbar\": {\"outlinewidth\": 0, \"ticks\": \"\"}, \"colorscale\": [[0.0, \"#0d0887\"], [0.1111111111111111, \"#46039f\"], [0.2222222222222222, \"#7201a8\"], [0.3333333333333333, \"#9c179e\"], [0.4444444444444444, \"#bd3786\"], [0.5555555555555556, \"#d8576b\"], [0.6666666666666666, \"#ed7953\"], [0.7777777777777778, \"#fb9f3a\"], [0.8888888888888888, \"#fdca26\"], [1.0, \"#f0f921\"]], \"type\": \"surface\"}], \"table\": [{\"cells\": {\"fill\": {\"color\": \"#EBF0F8\"}, \"line\": {\"color\": \"white\"}}, \"header\": {\"fill\": {\"color\": \"#C8D4E3\"}, \"line\": {\"color\": \"white\"}}, \"type\": \"table\"}]}, \"layout\": {\"annotationdefaults\": {\"arrowcolor\": \"#2a3f5f\", \"arrowhead\": 0, \"arrowwidth\": 1}, \"colorscale\": {\"diverging\": [[0, \"#8e0152\"], [0.1, \"#c51b7d\"], [0.2, \"#de77ae\"], [0.3, \"#f1b6da\"], [0.4, \"#fde0ef\"], [0.5, \"#f7f7f7\"], [0.6, \"#e6f5d0\"], [0.7, \"#b8e186\"], [0.8, \"#7fbc41\"], [0.9, \"#4d9221\"], [1, \"#276419\"]], \"sequential\": [[0.0, \"#0d0887\"], [0.1111111111111111, \"#46039f\"], [0.2222222222222222, \"#7201a8\"], [0.3333333333333333, \"#9c179e\"], [0.4444444444444444, \"#bd3786\"], [0.5555555555555556, \"#d8576b\"], [0.6666666666666666, \"#ed7953\"], [0.7777777777777778, \"#fb9f3a\"], [0.8888888888888888, \"#fdca26\"], [1.0, \"#f0f921\"]], \"sequentialminus\": [[0.0, \"#0d0887\"], [0.1111111111111111, \"#46039f\"], [0.2222222222222222, \"#7201a8\"], [0.3333333333333333, \"#9c179e\"], [0.4444444444444444, \"#bd3786\"], [0.5555555555555556, \"#d8576b\"], [0.6666666666666666, \"#ed7953\"], [0.7777777777777778, \"#fb9f3a\"], [0.8888888888888888, \"#fdca26\"], [1.0, \"#f0f921\"]]}, \"colorway\": [\"#636efa\", \"#EF553B\", \"#00cc96\", \"#ab63fa\", \"#FFA15A\", \"#19d3f3\", \"#FF6692\", \"#B6E880\", \"#FF97FF\", \"#FECB52\"], \"font\": {\"color\": \"#2a3f5f\"}, \"geo\": {\"bgcolor\": \"white\", \"lakecolor\": \"white\", \"landcolor\": \"#E5ECF6\", \"showlakes\": true, \"showland\": true, \"subunitcolor\": \"white\"}, \"hoverlabel\": {\"align\": \"left\"}, \"hovermode\": \"closest\", \"mapbox\": {\"style\": \"light\"}, \"paper_bgcolor\": \"white\", \"plot_bgcolor\": \"#E5ECF6\", \"polar\": {\"angularaxis\": {\"gridcolor\": \"white\", \"linecolor\": \"white\", \"ticks\": \"\"}, \"bgcolor\": \"#E5ECF6\", \"radialaxis\": {\"gridcolor\": \"white\", \"linecolor\": \"white\", \"ticks\": \"\"}}, \"scene\": {\"xaxis\": {\"backgroundcolor\": \"#E5ECF6\", \"gridcolor\": \"white\", \"gridwidth\": 2, \"linecolor\": \"white\", \"showbackground\": true, \"ticks\": \"\", \"zerolinecolor\": \"white\"}, \"yaxis\": {\"backgroundcolor\": \"#E5ECF6\", \"gridcolor\": \"white\", \"gridwidth\": 2, \"linecolor\": \"white\", \"showbackground\": true, \"ticks\": \"\", \"zerolinecolor\": \"white\"}, \"zaxis\": {\"backgroundcolor\": \"#E5ECF6\", \"gridcolor\": \"white\", \"gridwidth\": 2, \"linecolor\": \"white\", \"showbackground\": true, \"ticks\": \"\", \"zerolinecolor\": \"white\"}}, \"shapedefaults\": {\"line\": {\"color\": \"#2a3f5f\"}}, \"ternary\": {\"aaxis\": {\"gridcolor\": \"white\", \"linecolor\": \"white\", \"ticks\": \"\"}, \"baxis\": {\"gridcolor\": \"white\", \"linecolor\": \"white\", \"ticks\": \"\"}, \"bgcolor\": \"#E5ECF6\", \"caxis\": {\"gridcolor\": \"white\", \"linecolor\": \"white\", \"ticks\": \"\"}}, \"title\": {\"x\": 0.05}, \"xaxis\": {\"automargin\": true, \"gridcolor\": \"white\", \"linecolor\": \"white\", \"ticks\": \"\", \"zerolinecolor\": \"white\", \"zerolinewidth\": 2}, \"yaxis\": {\"automargin\": true, \"gridcolor\": \"white\", \"linecolor\": \"white\", \"ticks\": \"\", \"zerolinecolor\": \"white\", \"zerolinewidth\": 2}}}, \"title\": {\"text\": \"Approximate locations of plane crashes\"}},\n",
       "                        {\"responsive\": true}\n",
       "                    ).then(function(){\n",
       "                            \n",
       "var gd = document.getElementById('e220975e-2320-4453-ba1b-511ffdf92505');\n",
       "var x = new MutationObserver(function (mutations, observer) {{\n",
       "        var display = window.getComputedStyle(gd).display;\n",
       "        if (!display || display === 'none') {{\n",
       "            console.log([gd, 'removed!']);\n",
       "            Plotly.purge(gd);\n",
       "            observer.disconnect();\n",
       "        }}\n",
       "}});\n",
       "\n",
       "// Listen for the removal of the full notebook cells\n",
       "var notebookContainer = gd.closest('#notebook-container');\n",
       "if (notebookContainer) {{\n",
       "    x.observe(notebookContainer, {childList: true});\n",
       "}}\n",
       "\n",
       "// Listen for the clearing of the current output cell\n",
       "var outputEl = gd.closest('.output');\n",
       "if (outputEl) {{\n",
       "    x.observe(outputEl, {childList: true});\n",
       "}}\n",
       "\n",
       "                        })\n",
       "                };\n",
       "                });\n",
       "            </script>\n",
       "        </div>"
      ]
     },
     "metadata": {},
     "output_type": "display_data"
    }
   ],
   "source": [
    "fig = go.Figure(data=go.Scattergeo(\n",
    "        lon = lng_list,\n",
    "        lat = lat_list,\n",
    "        text = \"\",\n",
    "        mode = 'markers'\n",
    "    \n",
    "        ))\n",
    "\n",
    "fig.update_layout(\n",
    "        title = 'Approximate locations of plane crashes',\n",
    "        geo_scope='world',\n",
    "    )\n",
    "fig.show()"
   ]
  },
  {
   "cell_type": "markdown",
   "metadata": {},
   "source": [
    "### 7.1 Analizziamo le rotte con il totale numero di vittime più alto"
   ]
  },
  {
   "cell_type": "code",
   "execution_count": 25,
   "metadata": {},
   "outputs": [
    {
     "data": {
      "text/html": [
       "<div>\n",
       "<style scoped>\n",
       "    .dataframe tbody tr th:only-of-type {\n",
       "        vertical-align: middle;\n",
       "    }\n",
       "\n",
       "    .dataframe tbody tr th {\n",
       "        vertical-align: top;\n",
       "    }\n",
       "\n",
       "    .dataframe thead th {\n",
       "        text-align: right;\n",
       "    }\n",
       "</style>\n",
       "<table border=\"1\" class=\"dataframe\">\n",
       "  <thead>\n",
       "    <tr style=\"text-align: right;\">\n",
       "      <th></th>\n",
       "      <th>Route</th>\n",
       "      <th>Total Fatalities</th>\n",
       "      <th>% of Total Fatalities</th>\n",
       "    </tr>\n",
       "  </thead>\n",
       "  <tbody>\n",
       "    <tr>\n",
       "      <th>3548</th>\n",
       "      <td>Training</td>\n",
       "      <td>736.0</td>\n",
       "      <td>0.006644</td>\n",
       "    </tr>\n",
       "    <tr>\n",
       "      <th>3468</th>\n",
       "      <td>Tenerife - Las Palmas / Tenerife - Las Palmas</td>\n",
       "      <td>583.0</td>\n",
       "      <td>0.005263</td>\n",
       "    </tr>\n",
       "    <tr>\n",
       "      <th>3520</th>\n",
       "      <td>Tokyo - Osaka</td>\n",
       "      <td>557.0</td>\n",
       "      <td>0.005028</td>\n",
       "    </tr>\n",
       "    <tr>\n",
       "      <th>2684</th>\n",
       "      <td>Paris - London</td>\n",
       "      <td>387.0</td>\n",
       "      <td>0.003494</td>\n",
       "    </tr>\n",
       "    <tr>\n",
       "      <th>2437</th>\n",
       "      <td>New Delhi - Dhahran / Chimkent - New Delhi</td>\n",
       "      <td>349.0</td>\n",
       "      <td>0.003151</td>\n",
       "    </tr>\n",
       "    <tr>\n",
       "      <th>2312</th>\n",
       "      <td>Montreal - London</td>\n",
       "      <td>329.0</td>\n",
       "      <td>0.002970</td>\n",
       "    </tr>\n",
       "    <tr>\n",
       "      <th>2956</th>\n",
       "      <td>Riyadh - Jeddah</td>\n",
       "      <td>301.0</td>\n",
       "      <td>0.002717</td>\n",
       "    </tr>\n",
       "  </tbody>\n",
       "</table>\n",
       "</div>"
      ],
      "text/plain": [
       "                                              Route  Total Fatalities  \\\n",
       "3548                                       Training             736.0   \n",
       "3468  Tenerife - Las Palmas / Tenerife - Las Palmas             583.0   \n",
       "3520                                  Tokyo - Osaka             557.0   \n",
       "2684                                 Paris - London             387.0   \n",
       "2437     New Delhi - Dhahran / Chimkent - New Delhi             349.0   \n",
       "2312                              Montreal - London             329.0   \n",
       "2956                                Riyadh - Jeddah             301.0   \n",
       "\n",
       "      % of Total Fatalities  \n",
       "3548               0.006644  \n",
       "3468               0.005263  \n",
       "3520               0.005028  \n",
       "2684               0.003494  \n",
       "2437               0.003151  \n",
       "2312               0.002970  \n",
       "2956               0.002717  "
      ]
     },
     "execution_count": 25,
     "metadata": {},
     "output_type": "execute_result"
    }
   ],
   "source": [
    "route= dataset.groupby('Route').agg({'Fatalities':['sum',lambda x:x.sum() / dataset['Fatalities'].sum()]})\n",
    "route.columns=route.columns.map(''.join)\n",
    "route.reset_index(inplace=True)\n",
    "route.rename(columns={'Fatalitiessum':'Total Fatalities','Fatalities<lambda>':'% of Total Fatalities'}, inplace=True)\n",
    "\n",
    "route.sort_values(by='Total Fatalities', ascending=False).head(7)"
   ]
  },
  {
   "cell_type": "markdown",
   "metadata": {},
   "source": [
    "### 7.2 Analizziamo i luoghi più pericolosi per volare"
   ]
  },
  {
   "cell_type": "code",
   "execution_count": 26,
   "metadata": {},
   "outputs": [
    {
     "data": {
      "text/html": [
       "<div>\n",
       "<style scoped>\n",
       "    .dataframe tbody tr th:only-of-type {\n",
       "        vertical-align: middle;\n",
       "    }\n",
       "\n",
       "    .dataframe tbody tr th {\n",
       "        vertical-align: top;\n",
       "    }\n",
       "\n",
       "    .dataframe thead th {\n",
       "        text-align: right;\n",
       "    }\n",
       "</style>\n",
       "<table border=\"1\" class=\"dataframe\">\n",
       "  <thead>\n",
       "    <tr style=\"text-align: right;\">\n",
       "      <th></th>\n",
       "      <th>Crashes in this location</th>\n",
       "    </tr>\n",
       "  </thead>\n",
       "  <tbody>\n",
       "    <tr>\n",
       "      <th>Moscow, Russia</th>\n",
       "      <td>17</td>\n",
       "    </tr>\n",
       "    <tr>\n",
       "      <th>New York, New York</th>\n",
       "      <td>14</td>\n",
       "    </tr>\n",
       "    <tr>\n",
       "      <th>Manila, Philippines</th>\n",
       "      <td>14</td>\n",
       "    </tr>\n",
       "    <tr>\n",
       "      <th>Cairo, Egypt</th>\n",
       "      <td>13</td>\n",
       "    </tr>\n",
       "    <tr>\n",
       "      <th>Sao Paulo, Brazil</th>\n",
       "      <td>13</td>\n",
       "    </tr>\n",
       "    <tr>\n",
       "      <th>Rio de Janeiro, Brazil</th>\n",
       "      <td>12</td>\n",
       "    </tr>\n",
       "    <tr>\n",
       "      <th>Bogota, Colombia</th>\n",
       "      <td>12</td>\n",
       "    </tr>\n",
       "    <tr>\n",
       "      <th>Chicago, Illinois</th>\n",
       "      <td>11</td>\n",
       "    </tr>\n",
       "    <tr>\n",
       "      <th>Near Moscow, Russia</th>\n",
       "      <td>11</td>\n",
       "    </tr>\n",
       "    <tr>\n",
       "      <th>Tehran, Iran</th>\n",
       "      <td>10</td>\n",
       "    </tr>\n",
       "  </tbody>\n",
       "</table>\n",
       "</div>"
      ],
      "text/plain": [
       "                        Crashes in this location\n",
       "Moscow, Russia                                17\n",
       "New York, New York                            14\n",
       "Manila, Philippines                           14\n",
       "Cairo, Egypt                                  13\n",
       "Sao Paulo, Brazil                             13\n",
       "Rio de Janeiro, Brazil                        12\n",
       "Bogota, Colombia                              12\n",
       "Chicago, Illinois                             11\n",
       "Near Moscow, Russia                           11\n",
       "Tehran, Iran                                  10"
      ]
     },
     "execution_count": 26,
     "metadata": {},
     "output_type": "execute_result"
    }
   ],
   "source": [
    "from collections import Counter\n",
    "loc_list = Counter(dataset['Location'].dropna()).most_common(10)\n",
    "locs = []\n",
    "crashes = []\n",
    "for loc in loc_list:\n",
    "    locs.append(loc[0])\n",
    "    crashes.append(loc[1])\n",
    "pd.DataFrame({'Crashes in this location' : crashes}, index=locs)"
   ]
  },
  {
   "cell_type": "markdown",
   "metadata": {},
   "source": [
    "## Conclusioni\n",
    "\n",
    "* Non volare con Aeroflot, c'è più probabilità che tu muoia.\n",
    "\n",
    "* Non salire a bordo di un Douglas DC-3, questo aereo ha la più alta percentuale di incidenti\n",
    "\n",
    "* Meglio se non vai a Mosca, New York, Manila e Cairo, sono i luoghi con il maggior numero di incidenti aerei.\n",
    "\n",
    "* Oggi è molto più sicuro prendere il volo rispetto al passato, gli anni 1945 e 1989 sono stati i peggiori nella storia dell'avviazione civile e militare.\n"
   ]
  }
 ],
 "metadata": {
  "kernelspec": {
   "display_name": "Python 3",
   "language": "python",
   "name": "python3"
  },
  "language_info": {
   "codemirror_mode": {
    "name": "ipython",
    "version": 3
   },
   "file_extension": ".py",
   "mimetype": "text/x-python",
   "name": "python",
   "nbconvert_exporter": "python",
   "pygments_lexer": "ipython3",
   "version": "3.7.3"
  }
 },
 "nbformat": 4,
 "nbformat_minor": 2
}
